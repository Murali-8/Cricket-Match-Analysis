{
 "cells": [
  {
   "cell_type": "markdown",
   "metadata": {},
   "source": [
    "## Cricket match Analysis"
   ]
  },
  {
   "cell_type": "markdown",
   "metadata": {},
   "source": [
    "### DATA EXTRACTION AND PROCESSING"
   ]
  },
  {
   "cell_type": "markdown",
   "metadata": {},
   "source": [
    "### * Extracting the data from the json files and converting it into a data frame "
   ]
  },
  {
   "cell_type": "code",
   "execution_count": 2,
   "metadata": {},
   "outputs": [],
   "source": [
    "import os\n",
    "import pandas as pd\n",
    "import json\n",
    "import mysql.connector\n"
   ]
  },
  {
   "cell_type": "markdown",
   "metadata": {},
   "source": [
    "## IPL Data Frame"
   ]
  },
  {
   "cell_type": "code",
   "execution_count": 2,
   "metadata": {},
   "outputs": [
    {
     "data": {
      "application/vnd.microsoft.datawrangler.viewer.v0+json": {
       "columns": [
        {
         "name": "index",
         "rawType": "int64",
         "type": "integer"
        },
        {
         "name": "match_date",
         "rawType": "object",
         "type": "string"
        },
        {
         "name": "city",
         "rawType": "object",
         "type": "unknown"
        },
        {
         "name": "venue",
         "rawType": "object",
         "type": "string"
        },
        {
         "name": "match_type",
         "rawType": "object",
         "type": "string"
        },
        {
         "name": "match_number",
         "rawType": "object",
         "type": "unknown"
        },
        {
         "name": "winner",
         "rawType": "object",
         "type": "unknown"
        },
        {
         "name": "player_of_match",
         "rawType": "object",
         "type": "unknown"
        },
        {
         "name": "team1",
         "rawType": "object",
         "type": "string"
        },
        {
         "name": "team2",
         "rawType": "object",
         "type": "string"
        },
        {
         "name": "batting_team",
         "rawType": "object",
         "type": "string"
        },
        {
         "name": "overs",
         "rawType": "int64",
         "type": "integer"
        },
        {
         "name": "batter",
         "rawType": "object",
         "type": "string"
        },
        {
         "name": "bowler",
         "rawType": "object",
         "type": "string"
        },
        {
         "name": "non_striker",
         "rawType": "object",
         "type": "string"
        },
        {
         "name": "runs_batter",
         "rawType": "int64",
         "type": "integer"
        },
        {
         "name": "runs_extras",
         "rawType": "int64",
         "type": "integer"
        },
        {
         "name": "runs_total",
         "rawType": "int64",
         "type": "integer"
        },
        {
         "name": "wicket_type",
         "rawType": "object",
         "type": "unknown"
        },
        {
         "name": "player_out",
         "rawType": "object",
         "type": "unknown"
        },
        {
         "name": "fielder",
         "rawType": "object",
         "type": "unknown"
        }
       ],
       "conversionMethod": "pd.DataFrame",
       "ref": "89b46cad-d376-46ad-b895-eb4cef175ea5",
       "rows": [
        [
         "0",
         "2024-04-09",
         "Mohali",
         "Maharaja Yadavindra Singh International Cricket Stadium, Mullanpur",
         "Indian Premier League T20",
         "23",
         "Sunrisers Hyderabad",
         "Nithish Kumar Reddy",
         "Sunrisers Hyderabad",
         "Punjab Kings",
         "Sunrisers Hyderabad",
         "0",
         "TM Head",
         "K Rabada",
         "Abhishek Sharma",
         "0",
         "0",
         "0",
         null,
         null,
         null
        ],
        [
         "1",
         "2024-04-09",
         "Mohali",
         "Maharaja Yadavindra Singh International Cricket Stadium, Mullanpur",
         "Indian Premier League T20",
         "23",
         "Sunrisers Hyderabad",
         "Nithish Kumar Reddy",
         "Sunrisers Hyderabad",
         "Punjab Kings",
         "Sunrisers Hyderabad",
         "0",
         "TM Head",
         "K Rabada",
         "Abhishek Sharma",
         "0",
         "0",
         "0",
         null,
         null,
         null
        ],
        [
         "2",
         "2024-04-09",
         "Mohali",
         "Maharaja Yadavindra Singh International Cricket Stadium, Mullanpur",
         "Indian Premier League T20",
         "23",
         "Sunrisers Hyderabad",
         "Nithish Kumar Reddy",
         "Sunrisers Hyderabad",
         "Punjab Kings",
         "Sunrisers Hyderabad",
         "0",
         "TM Head",
         "K Rabada",
         "Abhishek Sharma",
         "4",
         "0",
         "4",
         null,
         null,
         null
        ],
        [
         "3",
         "2024-04-09",
         "Mohali",
         "Maharaja Yadavindra Singh International Cricket Stadium, Mullanpur",
         "Indian Premier League T20",
         "23",
         "Sunrisers Hyderabad",
         "Nithish Kumar Reddy",
         "Sunrisers Hyderabad",
         "Punjab Kings",
         "Sunrisers Hyderabad",
         "0",
         "TM Head",
         "K Rabada",
         "Abhishek Sharma",
         "0",
         "0",
         "0",
         null,
         null,
         null
        ],
        [
         "4",
         "2024-04-09",
         "Mohali",
         "Maharaja Yadavindra Singh International Cricket Stadium, Mullanpur",
         "Indian Premier League T20",
         "23",
         "Sunrisers Hyderabad",
         "Nithish Kumar Reddy",
         "Sunrisers Hyderabad",
         "Punjab Kings",
         "Sunrisers Hyderabad",
         "0",
         "TM Head",
         "K Rabada",
         "Abhishek Sharma",
         "0",
         "0",
         "0",
         null,
         null,
         null
        ],
        [
         "5",
         "2024-04-09",
         "Mohali",
         "Maharaja Yadavindra Singh International Cricket Stadium, Mullanpur",
         "Indian Premier League T20",
         "23",
         "Sunrisers Hyderabad",
         "Nithish Kumar Reddy",
         "Sunrisers Hyderabad",
         "Punjab Kings",
         "Sunrisers Hyderabad",
         "0",
         "TM Head",
         "K Rabada",
         "Abhishek Sharma",
         "0",
         "0",
         "0",
         null,
         null,
         null
        ],
        [
         "6",
         "2024-04-09",
         "Mohali",
         "Maharaja Yadavindra Singh International Cricket Stadium, Mullanpur",
         "Indian Premier League T20",
         "23",
         "Sunrisers Hyderabad",
         "Nithish Kumar Reddy",
         "Sunrisers Hyderabad",
         "Punjab Kings",
         "Sunrisers Hyderabad",
         "1",
         "Abhishek Sharma",
         "Arshdeep Singh",
         "TM Head",
         "1",
         "0",
         "1",
         null,
         null,
         null
        ],
        [
         "7",
         "2024-04-09",
         "Mohali",
         "Maharaja Yadavindra Singh International Cricket Stadium, Mullanpur",
         "Indian Premier League T20",
         "23",
         "Sunrisers Hyderabad",
         "Nithish Kumar Reddy",
         "Sunrisers Hyderabad",
         "Punjab Kings",
         "Sunrisers Hyderabad",
         "1",
         "TM Head",
         "Arshdeep Singh",
         "Abhishek Sharma",
         "0",
         "0",
         "0",
         null,
         null,
         null
        ],
        [
         "8",
         "2024-04-09",
         "Mohali",
         "Maharaja Yadavindra Singh International Cricket Stadium, Mullanpur",
         "Indian Premier League T20",
         "23",
         "Sunrisers Hyderabad",
         "Nithish Kumar Reddy",
         "Sunrisers Hyderabad",
         "Punjab Kings",
         "Sunrisers Hyderabad",
         "1",
         "TM Head",
         "Arshdeep Singh",
         "Abhishek Sharma",
         "1",
         "0",
         "1",
         null,
         null,
         null
        ],
        [
         "9",
         "2024-04-09",
         "Mohali",
         "Maharaja Yadavindra Singh International Cricket Stadium, Mullanpur",
         "Indian Premier League T20",
         "23",
         "Sunrisers Hyderabad",
         "Nithish Kumar Reddy",
         "Sunrisers Hyderabad",
         "Punjab Kings",
         "Sunrisers Hyderabad",
         "1",
         "Abhishek Sharma",
         "Arshdeep Singh",
         "TM Head",
         "0",
         "0",
         "0",
         null,
         null,
         null
        ],
        [
         "10",
         "2024-04-09",
         "Mohali",
         "Maharaja Yadavindra Singh International Cricket Stadium, Mullanpur",
         "Indian Premier League T20",
         "23",
         "Sunrisers Hyderabad",
         "Nithish Kumar Reddy",
         "Sunrisers Hyderabad",
         "Punjab Kings",
         "Sunrisers Hyderabad",
         "1",
         "Abhishek Sharma",
         "Arshdeep Singh",
         "TM Head",
         "4",
         "0",
         "4",
         null,
         null,
         null
        ],
        [
         "11",
         "2024-04-09",
         "Mohali",
         "Maharaja Yadavindra Singh International Cricket Stadium, Mullanpur",
         "Indian Premier League T20",
         "23",
         "Sunrisers Hyderabad",
         "Nithish Kumar Reddy",
         "Sunrisers Hyderabad",
         "Punjab Kings",
         "Sunrisers Hyderabad",
         "1",
         "Abhishek Sharma",
         "Arshdeep Singh",
         "TM Head",
         "0",
         "0",
         "0",
         null,
         null,
         null
        ],
        [
         "12",
         "2024-04-09",
         "Mohali",
         "Maharaja Yadavindra Singh International Cricket Stadium, Mullanpur",
         "Indian Premier League T20",
         "23",
         "Sunrisers Hyderabad",
         "Nithish Kumar Reddy",
         "Sunrisers Hyderabad",
         "Punjab Kings",
         "Sunrisers Hyderabad",
         "2",
         "TM Head",
         "K Rabada",
         "Abhishek Sharma",
         "4",
         "0",
         "4",
         null,
         null,
         null
        ],
        [
         "13",
         "2024-04-09",
         "Mohali",
         "Maharaja Yadavindra Singh International Cricket Stadium, Mullanpur",
         "Indian Premier League T20",
         "23",
         "Sunrisers Hyderabad",
         "Nithish Kumar Reddy",
         "Sunrisers Hyderabad",
         "Punjab Kings",
         "Sunrisers Hyderabad",
         "2",
         "TM Head",
         "K Rabada",
         "Abhishek Sharma",
         "4",
         "0",
         "4",
         null,
         null,
         null
        ],
        [
         "14",
         "2024-04-09",
         "Mohali",
         "Maharaja Yadavindra Singh International Cricket Stadium, Mullanpur",
         "Indian Premier League T20",
         "23",
         "Sunrisers Hyderabad",
         "Nithish Kumar Reddy",
         "Sunrisers Hyderabad",
         "Punjab Kings",
         "Sunrisers Hyderabad",
         "2",
         "TM Head",
         "K Rabada",
         "Abhishek Sharma",
         "4",
         "0",
         "4",
         null,
         null,
         null
        ],
        [
         "15",
         "2024-04-09",
         "Mohali",
         "Maharaja Yadavindra Singh International Cricket Stadium, Mullanpur",
         "Indian Premier League T20",
         "23",
         "Sunrisers Hyderabad",
         "Nithish Kumar Reddy",
         "Sunrisers Hyderabad",
         "Punjab Kings",
         "Sunrisers Hyderabad",
         "2",
         "TM Head",
         "K Rabada",
         "Abhishek Sharma",
         "0",
         "0",
         "0",
         null,
         null,
         null
        ],
        [
         "16",
         "2024-04-09",
         "Mohali",
         "Maharaja Yadavindra Singh International Cricket Stadium, Mullanpur",
         "Indian Premier League T20",
         "23",
         "Sunrisers Hyderabad",
         "Nithish Kumar Reddy",
         "Sunrisers Hyderabad",
         "Punjab Kings",
         "Sunrisers Hyderabad",
         "2",
         "TM Head",
         "K Rabada",
         "Abhishek Sharma",
         "2",
         "0",
         "2",
         null,
         null,
         null
        ],
        [
         "17",
         "2024-04-09",
         "Mohali",
         "Maharaja Yadavindra Singh International Cricket Stadium, Mullanpur",
         "Indian Premier League T20",
         "23",
         "Sunrisers Hyderabad",
         "Nithish Kumar Reddy",
         "Sunrisers Hyderabad",
         "Punjab Kings",
         "Sunrisers Hyderabad",
         "2",
         "TM Head",
         "K Rabada",
         "Abhishek Sharma",
         "2",
         "0",
         "2",
         null,
         null,
         null
        ],
        [
         "18",
         "2024-04-09",
         "Mohali",
         "Maharaja Yadavindra Singh International Cricket Stadium, Mullanpur",
         "Indian Premier League T20",
         "23",
         "Sunrisers Hyderabad",
         "Nithish Kumar Reddy",
         "Sunrisers Hyderabad",
         "Punjab Kings",
         "Sunrisers Hyderabad",
         "3",
         "Abhishek Sharma",
         "Arshdeep Singh",
         "TM Head",
         "1",
         "0",
         "1",
         null,
         null,
         null
        ],
        [
         "19",
         "2024-04-09",
         "Mohali",
         "Maharaja Yadavindra Singh International Cricket Stadium, Mullanpur",
         "Indian Premier League T20",
         "23",
         "Sunrisers Hyderabad",
         "Nithish Kumar Reddy",
         "Sunrisers Hyderabad",
         "Punjab Kings",
         "Sunrisers Hyderabad",
         "3",
         "TM Head",
         "Arshdeep Singh",
         "Abhishek Sharma",
         "0",
         "0",
         "0",
         "caught",
         "TM Head",
         "S Dhawan"
        ],
        [
         "20",
         "2024-04-09",
         "Mohali",
         "Maharaja Yadavindra Singh International Cricket Stadium, Mullanpur",
         "Indian Premier League T20",
         "23",
         "Sunrisers Hyderabad",
         "Nithish Kumar Reddy",
         "Sunrisers Hyderabad",
         "Punjab Kings",
         "Sunrisers Hyderabad",
         "3",
         "AK Markram",
         "Arshdeep Singh",
         "Abhishek Sharma",
         "0",
         "0",
         "0",
         null,
         null,
         null
        ],
        [
         "21",
         "2024-04-09",
         "Mohali",
         "Maharaja Yadavindra Singh International Cricket Stadium, Mullanpur",
         "Indian Premier League T20",
         "23",
         "Sunrisers Hyderabad",
         "Nithish Kumar Reddy",
         "Sunrisers Hyderabad",
         "Punjab Kings",
         "Sunrisers Hyderabad",
         "3",
         "AK Markram",
         "Arshdeep Singh",
         "Abhishek Sharma",
         "0",
         "0",
         "0",
         "caught",
         "AK Markram",
         "JM Sharma"
        ],
        [
         "22",
         "2024-04-09",
         "Mohali",
         "Maharaja Yadavindra Singh International Cricket Stadium, Mullanpur",
         "Indian Premier League T20",
         "23",
         "Sunrisers Hyderabad",
         "Nithish Kumar Reddy",
         "Sunrisers Hyderabad",
         "Punjab Kings",
         "Sunrisers Hyderabad",
         "3",
         "Nithish Kumar Reddy",
         "Arshdeep Singh",
         "Abhishek Sharma",
         "0",
         "0",
         "0",
         null,
         null,
         null
        ],
        [
         "23",
         "2024-04-09",
         "Mohali",
         "Maharaja Yadavindra Singh International Cricket Stadium, Mullanpur",
         "Indian Premier League T20",
         "23",
         "Sunrisers Hyderabad",
         "Nithish Kumar Reddy",
         "Sunrisers Hyderabad",
         "Punjab Kings",
         "Sunrisers Hyderabad",
         "3",
         "Nithish Kumar Reddy",
         "Arshdeep Singh",
         "Abhishek Sharma",
         "0",
         "1",
         "1",
         null,
         null,
         null
        ],
        [
         "24",
         "2024-04-09",
         "Mohali",
         "Maharaja Yadavindra Singh International Cricket Stadium, Mullanpur",
         "Indian Premier League T20",
         "23",
         "Sunrisers Hyderabad",
         "Nithish Kumar Reddy",
         "Sunrisers Hyderabad",
         "Punjab Kings",
         "Sunrisers Hyderabad",
         "3",
         "Nithish Kumar Reddy",
         "Arshdeep Singh",
         "Abhishek Sharma",
         "0",
         "0",
         "0",
         null,
         null,
         null
        ],
        [
         "25",
         "2024-04-09",
         "Mohali",
         "Maharaja Yadavindra Singh International Cricket Stadium, Mullanpur",
         "Indian Premier League T20",
         "23",
         "Sunrisers Hyderabad",
         "Nithish Kumar Reddy",
         "Sunrisers Hyderabad",
         "Punjab Kings",
         "Sunrisers Hyderabad",
         "4",
         "Abhishek Sharma",
         "SM Curran",
         "Nithish Kumar Reddy",
         "0",
         "0",
         "0",
         null,
         null,
         null
        ],
        [
         "26",
         "2024-04-09",
         "Mohali",
         "Maharaja Yadavindra Singh International Cricket Stadium, Mullanpur",
         "Indian Premier League T20",
         "23",
         "Sunrisers Hyderabad",
         "Nithish Kumar Reddy",
         "Sunrisers Hyderabad",
         "Punjab Kings",
         "Sunrisers Hyderabad",
         "4",
         "Abhishek Sharma",
         "SM Curran",
         "Nithish Kumar Reddy",
         "0",
         "0",
         "0",
         null,
         null,
         null
        ],
        [
         "27",
         "2024-04-09",
         "Mohali",
         "Maharaja Yadavindra Singh International Cricket Stadium, Mullanpur",
         "Indian Premier League T20",
         "23",
         "Sunrisers Hyderabad",
         "Nithish Kumar Reddy",
         "Sunrisers Hyderabad",
         "Punjab Kings",
         "Sunrisers Hyderabad",
         "4",
         "Abhishek Sharma",
         "SM Curran",
         "Nithish Kumar Reddy",
         "0",
         "1",
         "1",
         null,
         null,
         null
        ],
        [
         "28",
         "2024-04-09",
         "Mohali",
         "Maharaja Yadavindra Singh International Cricket Stadium, Mullanpur",
         "Indian Premier League T20",
         "23",
         "Sunrisers Hyderabad",
         "Nithish Kumar Reddy",
         "Sunrisers Hyderabad",
         "Punjab Kings",
         "Sunrisers Hyderabad",
         "4",
         "Abhishek Sharma",
         "SM Curran",
         "Nithish Kumar Reddy",
         "0",
         "0",
         "0",
         null,
         null,
         null
        ],
        [
         "29",
         "2024-04-09",
         "Mohali",
         "Maharaja Yadavindra Singh International Cricket Stadium, Mullanpur",
         "Indian Premier League T20",
         "23",
         "Sunrisers Hyderabad",
         "Nithish Kumar Reddy",
         "Sunrisers Hyderabad",
         "Punjab Kings",
         "Sunrisers Hyderabad",
         "4",
         "Abhishek Sharma",
         "SM Curran",
         "Nithish Kumar Reddy",
         "6",
         "0",
         "6",
         null,
         null,
         null
        ],
        [
         "30",
         "2024-04-09",
         "Mohali",
         "Maharaja Yadavindra Singh International Cricket Stadium, Mullanpur",
         "Indian Premier League T20",
         "23",
         "Sunrisers Hyderabad",
         "Nithish Kumar Reddy",
         "Sunrisers Hyderabad",
         "Punjab Kings",
         "Sunrisers Hyderabad",
         "4",
         "Abhishek Sharma",
         "SM Curran",
         "Nithish Kumar Reddy",
         "4",
         "0",
         "4",
         null,
         null,
         null
        ],
        [
         "31",
         "2024-04-09",
         "Mohali",
         "Maharaja Yadavindra Singh International Cricket Stadium, Mullanpur",
         "Indian Premier League T20",
         "23",
         "Sunrisers Hyderabad",
         "Nithish Kumar Reddy",
         "Sunrisers Hyderabad",
         "Punjab Kings",
         "Sunrisers Hyderabad",
         "4",
         "Abhishek Sharma",
         "SM Curran",
         "Nithish Kumar Reddy",
         "0",
         "0",
         "0",
         "caught",
         "Abhishek Sharma",
         "Shashank Singh"
        ],
        [
         "32",
         "2024-04-09",
         "Mohali",
         "Maharaja Yadavindra Singh International Cricket Stadium, Mullanpur",
         "Indian Premier League T20",
         "23",
         "Sunrisers Hyderabad",
         "Nithish Kumar Reddy",
         "Sunrisers Hyderabad",
         "Punjab Kings",
         "Sunrisers Hyderabad",
         "5",
         "Nithish Kumar Reddy",
         "HV Patel",
         "RA Tripathi",
         "0",
         "0",
         "0",
         null,
         null,
         null
        ],
        [
         "33",
         "2024-04-09",
         "Mohali",
         "Maharaja Yadavindra Singh International Cricket Stadium, Mullanpur",
         "Indian Premier League T20",
         "23",
         "Sunrisers Hyderabad",
         "Nithish Kumar Reddy",
         "Sunrisers Hyderabad",
         "Punjab Kings",
         "Sunrisers Hyderabad",
         "5",
         "Nithish Kumar Reddy",
         "HV Patel",
         "RA Tripathi",
         "1",
         "0",
         "1",
         null,
         null,
         null
        ],
        [
         "34",
         "2024-04-09",
         "Mohali",
         "Maharaja Yadavindra Singh International Cricket Stadium, Mullanpur",
         "Indian Premier League T20",
         "23",
         "Sunrisers Hyderabad",
         "Nithish Kumar Reddy",
         "Sunrisers Hyderabad",
         "Punjab Kings",
         "Sunrisers Hyderabad",
         "5",
         "RA Tripathi",
         "HV Patel",
         "Nithish Kumar Reddy",
         "0",
         "0",
         "0",
         null,
         null,
         null
        ],
        [
         "35",
         "2024-04-09",
         "Mohali",
         "Maharaja Yadavindra Singh International Cricket Stadium, Mullanpur",
         "Indian Premier League T20",
         "23",
         "Sunrisers Hyderabad",
         "Nithish Kumar Reddy",
         "Sunrisers Hyderabad",
         "Punjab Kings",
         "Sunrisers Hyderabad",
         "5",
         "RA Tripathi",
         "HV Patel",
         "Nithish Kumar Reddy",
         "0",
         "0",
         "0",
         null,
         null,
         null
        ],
        [
         "36",
         "2024-04-09",
         "Mohali",
         "Maharaja Yadavindra Singh International Cricket Stadium, Mullanpur",
         "Indian Premier League T20",
         "23",
         "Sunrisers Hyderabad",
         "Nithish Kumar Reddy",
         "Sunrisers Hyderabad",
         "Punjab Kings",
         "Sunrisers Hyderabad",
         "5",
         "RA Tripathi",
         "HV Patel",
         "Nithish Kumar Reddy",
         "0",
         "0",
         "0",
         null,
         null,
         null
        ],
        [
         "37",
         "2024-04-09",
         "Mohali",
         "Maharaja Yadavindra Singh International Cricket Stadium, Mullanpur",
         "Indian Premier League T20",
         "23",
         "Sunrisers Hyderabad",
         "Nithish Kumar Reddy",
         "Sunrisers Hyderabad",
         "Punjab Kings",
         "Sunrisers Hyderabad",
         "5",
         "RA Tripathi",
         "HV Patel",
         "Nithish Kumar Reddy",
         "0",
         "0",
         "0",
         null,
         null,
         null
        ],
        [
         "38",
         "2024-04-09",
         "Mohali",
         "Maharaja Yadavindra Singh International Cricket Stadium, Mullanpur",
         "Indian Premier League T20",
         "23",
         "Sunrisers Hyderabad",
         "Nithish Kumar Reddy",
         "Sunrisers Hyderabad",
         "Punjab Kings",
         "Sunrisers Hyderabad",
         "6",
         "Nithish Kumar Reddy",
         "Harpreet Brar",
         "RA Tripathi",
         "1",
         "0",
         "1",
         null,
         null,
         null
        ],
        [
         "39",
         "2024-04-09",
         "Mohali",
         "Maharaja Yadavindra Singh International Cricket Stadium, Mullanpur",
         "Indian Premier League T20",
         "23",
         "Sunrisers Hyderabad",
         "Nithish Kumar Reddy",
         "Sunrisers Hyderabad",
         "Punjab Kings",
         "Sunrisers Hyderabad",
         "6",
         "RA Tripathi",
         "Harpreet Brar",
         "Nithish Kumar Reddy",
         "0",
         "0",
         "0",
         null,
         null,
         null
        ],
        [
         "40",
         "2024-04-09",
         "Mohali",
         "Maharaja Yadavindra Singh International Cricket Stadium, Mullanpur",
         "Indian Premier League T20",
         "23",
         "Sunrisers Hyderabad",
         "Nithish Kumar Reddy",
         "Sunrisers Hyderabad",
         "Punjab Kings",
         "Sunrisers Hyderabad",
         "6",
         "RA Tripathi",
         "Harpreet Brar",
         "Nithish Kumar Reddy",
         "0",
         "0",
         "0",
         null,
         null,
         null
        ],
        [
         "41",
         "2024-04-09",
         "Mohali",
         "Maharaja Yadavindra Singh International Cricket Stadium, Mullanpur",
         "Indian Premier League T20",
         "23",
         "Sunrisers Hyderabad",
         "Nithish Kumar Reddy",
         "Sunrisers Hyderabad",
         "Punjab Kings",
         "Sunrisers Hyderabad",
         "6",
         "RA Tripathi",
         "Harpreet Brar",
         "Nithish Kumar Reddy",
         "4",
         "0",
         "4",
         null,
         null,
         null
        ],
        [
         "42",
         "2024-04-09",
         "Mohali",
         "Maharaja Yadavindra Singh International Cricket Stadium, Mullanpur",
         "Indian Premier League T20",
         "23",
         "Sunrisers Hyderabad",
         "Nithish Kumar Reddy",
         "Sunrisers Hyderabad",
         "Punjab Kings",
         "Sunrisers Hyderabad",
         "6",
         "RA Tripathi",
         "Harpreet Brar",
         "Nithish Kumar Reddy",
         "0",
         "1",
         "1",
         null,
         null,
         null
        ],
        [
         "43",
         "2024-04-09",
         "Mohali",
         "Maharaja Yadavindra Singh International Cricket Stadium, Mullanpur",
         "Indian Premier League T20",
         "23",
         "Sunrisers Hyderabad",
         "Nithish Kumar Reddy",
         "Sunrisers Hyderabad",
         "Punjab Kings",
         "Sunrisers Hyderabad",
         "6",
         "Nithish Kumar Reddy",
         "Harpreet Brar",
         "RA Tripathi",
         "1",
         "0",
         "1",
         null,
         null,
         null
        ],
        [
         "44",
         "2024-04-09",
         "Mohali",
         "Maharaja Yadavindra Singh International Cricket Stadium, Mullanpur",
         "Indian Premier League T20",
         "23",
         "Sunrisers Hyderabad",
         "Nithish Kumar Reddy",
         "Sunrisers Hyderabad",
         "Punjab Kings",
         "Sunrisers Hyderabad",
         "7",
         "Nithish Kumar Reddy",
         "SM Curran",
         "RA Tripathi",
         "4",
         "0",
         "4",
         null,
         null,
         null
        ],
        [
         "45",
         "2024-04-09",
         "Mohali",
         "Maharaja Yadavindra Singh International Cricket Stadium, Mullanpur",
         "Indian Premier League T20",
         "23",
         "Sunrisers Hyderabad",
         "Nithish Kumar Reddy",
         "Sunrisers Hyderabad",
         "Punjab Kings",
         "Sunrisers Hyderabad",
         "7",
         "Nithish Kumar Reddy",
         "SM Curran",
         "RA Tripathi",
         "0",
         "0",
         "0",
         null,
         null,
         null
        ],
        [
         "46",
         "2024-04-09",
         "Mohali",
         "Maharaja Yadavindra Singh International Cricket Stadium, Mullanpur",
         "Indian Premier League T20",
         "23",
         "Sunrisers Hyderabad",
         "Nithish Kumar Reddy",
         "Sunrisers Hyderabad",
         "Punjab Kings",
         "Sunrisers Hyderabad",
         "7",
         "Nithish Kumar Reddy",
         "SM Curran",
         "RA Tripathi",
         "0",
         "0",
         "0",
         null,
         null,
         null
        ],
        [
         "47",
         "2024-04-09",
         "Mohali",
         "Maharaja Yadavindra Singh International Cricket Stadium, Mullanpur",
         "Indian Premier League T20",
         "23",
         "Sunrisers Hyderabad",
         "Nithish Kumar Reddy",
         "Sunrisers Hyderabad",
         "Punjab Kings",
         "Sunrisers Hyderabad",
         "7",
         "Nithish Kumar Reddy",
         "SM Curran",
         "RA Tripathi",
         "1",
         "0",
         "1",
         null,
         null,
         null
        ],
        [
         "48",
         "2024-04-09",
         "Mohali",
         "Maharaja Yadavindra Singh International Cricket Stadium, Mullanpur",
         "Indian Premier League T20",
         "23",
         "Sunrisers Hyderabad",
         "Nithish Kumar Reddy",
         "Sunrisers Hyderabad",
         "Punjab Kings",
         "Sunrisers Hyderabad",
         "7",
         "RA Tripathi",
         "SM Curran",
         "Nithish Kumar Reddy",
         "2",
         "0",
         "2",
         null,
         null,
         null
        ],
        [
         "49",
         "2024-04-09",
         "Mohali",
         "Maharaja Yadavindra Singh International Cricket Stadium, Mullanpur",
         "Indian Premier League T20",
         "23",
         "Sunrisers Hyderabad",
         "Nithish Kumar Reddy",
         "Sunrisers Hyderabad",
         "Punjab Kings",
         "Sunrisers Hyderabad",
         "7",
         "RA Tripathi",
         "SM Curran",
         "Nithish Kumar Reddy",
         "2",
         "0",
         "2",
         null,
         null,
         null
        ]
       ],
       "shape": {
        "columns": 20,
        "rows": 262148
       }
      },
      "text/html": [
       "<div>\n",
       "<style scoped>\n",
       "    .dataframe tbody tr th:only-of-type {\n",
       "        vertical-align: middle;\n",
       "    }\n",
       "\n",
       "    .dataframe tbody tr th {\n",
       "        vertical-align: top;\n",
       "    }\n",
       "\n",
       "    .dataframe thead th {\n",
       "        text-align: right;\n",
       "    }\n",
       "</style>\n",
       "<table border=\"1\" class=\"dataframe\">\n",
       "  <thead>\n",
       "    <tr style=\"text-align: right;\">\n",
       "      <th></th>\n",
       "      <th>match_date</th>\n",
       "      <th>city</th>\n",
       "      <th>venue</th>\n",
       "      <th>match_type</th>\n",
       "      <th>match_number</th>\n",
       "      <th>winner</th>\n",
       "      <th>player_of_match</th>\n",
       "      <th>team1</th>\n",
       "      <th>team2</th>\n",
       "      <th>batting_team</th>\n",
       "      <th>overs</th>\n",
       "      <th>batter</th>\n",
       "      <th>bowler</th>\n",
       "      <th>non_striker</th>\n",
       "      <th>runs_batter</th>\n",
       "      <th>runs_extras</th>\n",
       "      <th>runs_total</th>\n",
       "      <th>wicket_type</th>\n",
       "      <th>player_out</th>\n",
       "      <th>fielder</th>\n",
       "    </tr>\n",
       "  </thead>\n",
       "  <tbody>\n",
       "    <tr>\n",
       "      <th>0</th>\n",
       "      <td>2024-04-09</td>\n",
       "      <td>Mohali</td>\n",
       "      <td>Maharaja Yadavindra Singh International Cricke...</td>\n",
       "      <td>Indian Premier League T20</td>\n",
       "      <td>23</td>\n",
       "      <td>Sunrisers Hyderabad</td>\n",
       "      <td>Nithish Kumar Reddy</td>\n",
       "      <td>Sunrisers Hyderabad</td>\n",
       "      <td>Punjab Kings</td>\n",
       "      <td>Sunrisers Hyderabad</td>\n",
       "      <td>0</td>\n",
       "      <td>TM Head</td>\n",
       "      <td>K Rabada</td>\n",
       "      <td>Abhishek Sharma</td>\n",
       "      <td>0</td>\n",
       "      <td>0</td>\n",
       "      <td>0</td>\n",
       "      <td>None</td>\n",
       "      <td>None</td>\n",
       "      <td>None</td>\n",
       "    </tr>\n",
       "    <tr>\n",
       "      <th>1</th>\n",
       "      <td>2024-04-09</td>\n",
       "      <td>Mohali</td>\n",
       "      <td>Maharaja Yadavindra Singh International Cricke...</td>\n",
       "      <td>Indian Premier League T20</td>\n",
       "      <td>23</td>\n",
       "      <td>Sunrisers Hyderabad</td>\n",
       "      <td>Nithish Kumar Reddy</td>\n",
       "      <td>Sunrisers Hyderabad</td>\n",
       "      <td>Punjab Kings</td>\n",
       "      <td>Sunrisers Hyderabad</td>\n",
       "      <td>0</td>\n",
       "      <td>TM Head</td>\n",
       "      <td>K Rabada</td>\n",
       "      <td>Abhishek Sharma</td>\n",
       "      <td>0</td>\n",
       "      <td>0</td>\n",
       "      <td>0</td>\n",
       "      <td>None</td>\n",
       "      <td>None</td>\n",
       "      <td>None</td>\n",
       "    </tr>\n",
       "    <tr>\n",
       "      <th>2</th>\n",
       "      <td>2024-04-09</td>\n",
       "      <td>Mohali</td>\n",
       "      <td>Maharaja Yadavindra Singh International Cricke...</td>\n",
       "      <td>Indian Premier League T20</td>\n",
       "      <td>23</td>\n",
       "      <td>Sunrisers Hyderabad</td>\n",
       "      <td>Nithish Kumar Reddy</td>\n",
       "      <td>Sunrisers Hyderabad</td>\n",
       "      <td>Punjab Kings</td>\n",
       "      <td>Sunrisers Hyderabad</td>\n",
       "      <td>0</td>\n",
       "      <td>TM Head</td>\n",
       "      <td>K Rabada</td>\n",
       "      <td>Abhishek Sharma</td>\n",
       "      <td>4</td>\n",
       "      <td>0</td>\n",
       "      <td>4</td>\n",
       "      <td>None</td>\n",
       "      <td>None</td>\n",
       "      <td>None</td>\n",
       "    </tr>\n",
       "    <tr>\n",
       "      <th>3</th>\n",
       "      <td>2024-04-09</td>\n",
       "      <td>Mohali</td>\n",
       "      <td>Maharaja Yadavindra Singh International Cricke...</td>\n",
       "      <td>Indian Premier League T20</td>\n",
       "      <td>23</td>\n",
       "      <td>Sunrisers Hyderabad</td>\n",
       "      <td>Nithish Kumar Reddy</td>\n",
       "      <td>Sunrisers Hyderabad</td>\n",
       "      <td>Punjab Kings</td>\n",
       "      <td>Sunrisers Hyderabad</td>\n",
       "      <td>0</td>\n",
       "      <td>TM Head</td>\n",
       "      <td>K Rabada</td>\n",
       "      <td>Abhishek Sharma</td>\n",
       "      <td>0</td>\n",
       "      <td>0</td>\n",
       "      <td>0</td>\n",
       "      <td>None</td>\n",
       "      <td>None</td>\n",
       "      <td>None</td>\n",
       "    </tr>\n",
       "    <tr>\n",
       "      <th>4</th>\n",
       "      <td>2024-04-09</td>\n",
       "      <td>Mohali</td>\n",
       "      <td>Maharaja Yadavindra Singh International Cricke...</td>\n",
       "      <td>Indian Premier League T20</td>\n",
       "      <td>23</td>\n",
       "      <td>Sunrisers Hyderabad</td>\n",
       "      <td>Nithish Kumar Reddy</td>\n",
       "      <td>Sunrisers Hyderabad</td>\n",
       "      <td>Punjab Kings</td>\n",
       "      <td>Sunrisers Hyderabad</td>\n",
       "      <td>0</td>\n",
       "      <td>TM Head</td>\n",
       "      <td>K Rabada</td>\n",
       "      <td>Abhishek Sharma</td>\n",
       "      <td>0</td>\n",
       "      <td>0</td>\n",
       "      <td>0</td>\n",
       "      <td>None</td>\n",
       "      <td>None</td>\n",
       "      <td>None</td>\n",
       "    </tr>\n",
       "    <tr>\n",
       "      <th>...</th>\n",
       "      <td>...</td>\n",
       "      <td>...</td>\n",
       "      <td>...</td>\n",
       "      <td>...</td>\n",
       "      <td>...</td>\n",
       "      <td>...</td>\n",
       "      <td>...</td>\n",
       "      <td>...</td>\n",
       "      <td>...</td>\n",
       "      <td>...</td>\n",
       "      <td>...</td>\n",
       "      <td>...</td>\n",
       "      <td>...</td>\n",
       "      <td>...</td>\n",
       "      <td>...</td>\n",
       "      <td>...</td>\n",
       "      <td>...</td>\n",
       "      <td>...</td>\n",
       "      <td>...</td>\n",
       "      <td>...</td>\n",
       "    </tr>\n",
       "    <tr>\n",
       "      <th>262143</th>\n",
       "      <td>2018-05-05</td>\n",
       "      <td>Hyderabad</td>\n",
       "      <td>Rajiv Gandhi International Stadium</td>\n",
       "      <td>Indian Premier League T20</td>\n",
       "      <td>36</td>\n",
       "      <td>Sunrisers Hyderabad</td>\n",
       "      <td>Rashid Khan</td>\n",
       "      <td>Delhi Daredevils</td>\n",
       "      <td>Sunrisers Hyderabad</td>\n",
       "      <td>Sunrisers Hyderabad</td>\n",
       "      <td>19</td>\n",
       "      <td>YK Pathan</td>\n",
       "      <td>DT Christian</td>\n",
       "      <td>KS Williamson</td>\n",
       "      <td>2</td>\n",
       "      <td>0</td>\n",
       "      <td>2</td>\n",
       "      <td>None</td>\n",
       "      <td>None</td>\n",
       "      <td>None</td>\n",
       "    </tr>\n",
       "    <tr>\n",
       "      <th>262144</th>\n",
       "      <td>2018-05-05</td>\n",
       "      <td>Hyderabad</td>\n",
       "      <td>Rajiv Gandhi International Stadium</td>\n",
       "      <td>Indian Premier League T20</td>\n",
       "      <td>36</td>\n",
       "      <td>Sunrisers Hyderabad</td>\n",
       "      <td>Rashid Khan</td>\n",
       "      <td>Delhi Daredevils</td>\n",
       "      <td>Sunrisers Hyderabad</td>\n",
       "      <td>Sunrisers Hyderabad</td>\n",
       "      <td>19</td>\n",
       "      <td>YK Pathan</td>\n",
       "      <td>DT Christian</td>\n",
       "      <td>KS Williamson</td>\n",
       "      <td>6</td>\n",
       "      <td>0</td>\n",
       "      <td>6</td>\n",
       "      <td>None</td>\n",
       "      <td>None</td>\n",
       "      <td>None</td>\n",
       "    </tr>\n",
       "    <tr>\n",
       "      <th>262145</th>\n",
       "      <td>2018-05-05</td>\n",
       "      <td>Hyderabad</td>\n",
       "      <td>Rajiv Gandhi International Stadium</td>\n",
       "      <td>Indian Premier League T20</td>\n",
       "      <td>36</td>\n",
       "      <td>Sunrisers Hyderabad</td>\n",
       "      <td>Rashid Khan</td>\n",
       "      <td>Delhi Daredevils</td>\n",
       "      <td>Sunrisers Hyderabad</td>\n",
       "      <td>Sunrisers Hyderabad</td>\n",
       "      <td>19</td>\n",
       "      <td>YK Pathan</td>\n",
       "      <td>DT Christian</td>\n",
       "      <td>KS Williamson</td>\n",
       "      <td>4</td>\n",
       "      <td>0</td>\n",
       "      <td>4</td>\n",
       "      <td>None</td>\n",
       "      <td>None</td>\n",
       "      <td>None</td>\n",
       "    </tr>\n",
       "    <tr>\n",
       "      <th>262146</th>\n",
       "      <td>2018-05-05</td>\n",
       "      <td>Hyderabad</td>\n",
       "      <td>Rajiv Gandhi International Stadium</td>\n",
       "      <td>Indian Premier League T20</td>\n",
       "      <td>36</td>\n",
       "      <td>Sunrisers Hyderabad</td>\n",
       "      <td>Rashid Khan</td>\n",
       "      <td>Delhi Daredevils</td>\n",
       "      <td>Sunrisers Hyderabad</td>\n",
       "      <td>Sunrisers Hyderabad</td>\n",
       "      <td>19</td>\n",
       "      <td>YK Pathan</td>\n",
       "      <td>DT Christian</td>\n",
       "      <td>KS Williamson</td>\n",
       "      <td>1</td>\n",
       "      <td>0</td>\n",
       "      <td>1</td>\n",
       "      <td>None</td>\n",
       "      <td>None</td>\n",
       "      <td>None</td>\n",
       "    </tr>\n",
       "    <tr>\n",
       "      <th>262147</th>\n",
       "      <td>2018-05-05</td>\n",
       "      <td>Hyderabad</td>\n",
       "      <td>Rajiv Gandhi International Stadium</td>\n",
       "      <td>Indian Premier League T20</td>\n",
       "      <td>36</td>\n",
       "      <td>Sunrisers Hyderabad</td>\n",
       "      <td>Rashid Khan</td>\n",
       "      <td>Delhi Daredevils</td>\n",
       "      <td>Sunrisers Hyderabad</td>\n",
       "      <td>Sunrisers Hyderabad</td>\n",
       "      <td>19</td>\n",
       "      <td>KS Williamson</td>\n",
       "      <td>DT Christian</td>\n",
       "      <td>YK Pathan</td>\n",
       "      <td>1</td>\n",
       "      <td>0</td>\n",
       "      <td>1</td>\n",
       "      <td>None</td>\n",
       "      <td>None</td>\n",
       "      <td>None</td>\n",
       "    </tr>\n",
       "  </tbody>\n",
       "</table>\n",
       "<p>262148 rows × 20 columns</p>\n",
       "</div>"
      ],
      "text/plain": [
       "        match_date       city  \\\n",
       "0       2024-04-09     Mohali   \n",
       "1       2024-04-09     Mohali   \n",
       "2       2024-04-09     Mohali   \n",
       "3       2024-04-09     Mohali   \n",
       "4       2024-04-09     Mohali   \n",
       "...            ...        ...   \n",
       "262143  2018-05-05  Hyderabad   \n",
       "262144  2018-05-05  Hyderabad   \n",
       "262145  2018-05-05  Hyderabad   \n",
       "262146  2018-05-05  Hyderabad   \n",
       "262147  2018-05-05  Hyderabad   \n",
       "\n",
       "                                                    venue  \\\n",
       "0       Maharaja Yadavindra Singh International Cricke...   \n",
       "1       Maharaja Yadavindra Singh International Cricke...   \n",
       "2       Maharaja Yadavindra Singh International Cricke...   \n",
       "3       Maharaja Yadavindra Singh International Cricke...   \n",
       "4       Maharaja Yadavindra Singh International Cricke...   \n",
       "...                                                   ...   \n",
       "262143                 Rajiv Gandhi International Stadium   \n",
       "262144                 Rajiv Gandhi International Stadium   \n",
       "262145                 Rajiv Gandhi International Stadium   \n",
       "262146                 Rajiv Gandhi International Stadium   \n",
       "262147                 Rajiv Gandhi International Stadium   \n",
       "\n",
       "                       match_type match_number               winner  \\\n",
       "0       Indian Premier League T20           23  Sunrisers Hyderabad   \n",
       "1       Indian Premier League T20           23  Sunrisers Hyderabad   \n",
       "2       Indian Premier League T20           23  Sunrisers Hyderabad   \n",
       "3       Indian Premier League T20           23  Sunrisers Hyderabad   \n",
       "4       Indian Premier League T20           23  Sunrisers Hyderabad   \n",
       "...                           ...          ...                  ...   \n",
       "262143  Indian Premier League T20           36  Sunrisers Hyderabad   \n",
       "262144  Indian Premier League T20           36  Sunrisers Hyderabad   \n",
       "262145  Indian Premier League T20           36  Sunrisers Hyderabad   \n",
       "262146  Indian Premier League T20           36  Sunrisers Hyderabad   \n",
       "262147  Indian Premier League T20           36  Sunrisers Hyderabad   \n",
       "\n",
       "            player_of_match                team1                team2  \\\n",
       "0       Nithish Kumar Reddy  Sunrisers Hyderabad         Punjab Kings   \n",
       "1       Nithish Kumar Reddy  Sunrisers Hyderabad         Punjab Kings   \n",
       "2       Nithish Kumar Reddy  Sunrisers Hyderabad         Punjab Kings   \n",
       "3       Nithish Kumar Reddy  Sunrisers Hyderabad         Punjab Kings   \n",
       "4       Nithish Kumar Reddy  Sunrisers Hyderabad         Punjab Kings   \n",
       "...                     ...                  ...                  ...   \n",
       "262143          Rashid Khan     Delhi Daredevils  Sunrisers Hyderabad   \n",
       "262144          Rashid Khan     Delhi Daredevils  Sunrisers Hyderabad   \n",
       "262145          Rashid Khan     Delhi Daredevils  Sunrisers Hyderabad   \n",
       "262146          Rashid Khan     Delhi Daredevils  Sunrisers Hyderabad   \n",
       "262147          Rashid Khan     Delhi Daredevils  Sunrisers Hyderabad   \n",
       "\n",
       "               batting_team  overs         batter        bowler  \\\n",
       "0       Sunrisers Hyderabad      0        TM Head      K Rabada   \n",
       "1       Sunrisers Hyderabad      0        TM Head      K Rabada   \n",
       "2       Sunrisers Hyderabad      0        TM Head      K Rabada   \n",
       "3       Sunrisers Hyderabad      0        TM Head      K Rabada   \n",
       "4       Sunrisers Hyderabad      0        TM Head      K Rabada   \n",
       "...                     ...    ...            ...           ...   \n",
       "262143  Sunrisers Hyderabad     19      YK Pathan  DT Christian   \n",
       "262144  Sunrisers Hyderabad     19      YK Pathan  DT Christian   \n",
       "262145  Sunrisers Hyderabad     19      YK Pathan  DT Christian   \n",
       "262146  Sunrisers Hyderabad     19      YK Pathan  DT Christian   \n",
       "262147  Sunrisers Hyderabad     19  KS Williamson  DT Christian   \n",
       "\n",
       "            non_striker  runs_batter  runs_extras  runs_total wicket_type  \\\n",
       "0       Abhishek Sharma            0            0           0        None   \n",
       "1       Abhishek Sharma            0            0           0        None   \n",
       "2       Abhishek Sharma            4            0           4        None   \n",
       "3       Abhishek Sharma            0            0           0        None   \n",
       "4       Abhishek Sharma            0            0           0        None   \n",
       "...                 ...          ...          ...         ...         ...   \n",
       "262143    KS Williamson            2            0           2        None   \n",
       "262144    KS Williamson            6            0           6        None   \n",
       "262145    KS Williamson            4            0           4        None   \n",
       "262146    KS Williamson            1            0           1        None   \n",
       "262147        YK Pathan            1            0           1        None   \n",
       "\n",
       "       player_out fielder  \n",
       "0            None    None  \n",
       "1            None    None  \n",
       "2            None    None  \n",
       "3            None    None  \n",
       "4            None    None  \n",
       "...           ...     ...  \n",
       "262143       None    None  \n",
       "262144       None    None  \n",
       "262145       None    None  \n",
       "262146       None    None  \n",
       "262147       None    None  \n",
       "\n",
       "[262148 rows x 20 columns]"
      ]
     },
     "execution_count": 2,
     "metadata": {},
     "output_type": "execute_result"
    }
   ],
   "source": [
    "\n",
    "class CricketMatchData:\n",
    "    def __init__(self, json_data):\n",
    "        self.data = json_data\n",
    "\n",
    "    def create_dataframe(self):\n",
    "        rows = []\n",
    "\n",
    "        # Extract common information from the info section\n",
    "        info = self.data['info']\n",
    "        meta = self.data['meta']\n",
    "        common_data = {\n",
    "            'match_date': info['dates'][0],\n",
    "            'city': info.get('city', None),\n",
    "            'venue': info.get('venue', None),\n",
    "            'match_type': info['event']['name'] + ' ' + info['match_type'],\n",
    "            'match_number': info['event'].get('match_number', None),\n",
    "            'winner': info['outcome'].get('winner', None),\n",
    "            'player_of_match': info['player_of_match'][0] if 'player_of_match' in info else None,\n",
    "            'team1': info['teams'][0],\n",
    "            'team2': info['teams'][1]\n",
    "        }\n",
    "\n",
    "        # Iterate through innings and deliveries\n",
    "        for inning in self.data['innings']:\n",
    "            team = inning['team']\n",
    "\n",
    "            for over in inning['overs']:\n",
    "                over_number = over['over']\n",
    "\n",
    "                for delivery in over['deliveries']:\n",
    "                    row = {\n",
    "                        **common_data,  # Add common data using unpacking operator ** \n",
    "                        'batting_team': team,\n",
    "                        'overs': over_number,\n",
    "                        'batter': delivery['batter'],\n",
    "                        'bowler': delivery['bowler'],\n",
    "                        'non_striker': delivery['non_striker'],\n",
    "                        'runs_batter': delivery['runs']['batter'],\n",
    "                        'runs_extras': delivery['runs']['extras'],\n",
    "                        'runs_total': delivery['runs']['total'],\n",
    "                        'wicket_type': None,\n",
    "                        'player_out': None,\n",
    "                        'fielder': None\n",
    "                    }\n",
    "\n",
    "                    # Check for wickets\n",
    "                    if 'wickets' in delivery:\n",
    "                        row['wicket_type'] = delivery['wickets'][0]['kind']\n",
    "                        row['player_out'] = delivery['wickets'][0]['player_out']\n",
    "                        if 'fielders' in delivery['wickets'][0]:\n",
    "                            row['fielder'] = delivery['wickets'][0]['fielders'][0]['name']\n",
    "\n",
    "                    rows.append(row)\n",
    "\n",
    "        # Create DataFrame\n",
    "        return pd.DataFrame(rows)\n",
    "\n",
    "\n",
    "def process_cricket_data(folder_path):\n",
    "    all_dataframes = []\n",
    "\n",
    "    # Iterate through all files in the folder\n",
    "    for file_name in os.listdir(folder_path):\n",
    "        # Check if the file is a JSON file\n",
    "        if file_name.endswith('.json'):\n",
    "            file_path = os.path.join(folder_path, file_name)\n",
    "            try:\n",
    "                # Read the JSON file\n",
    "                with open(file_path, 'r') as json_file:\n",
    "                    json_data = json.load(json_file)\n",
    "\n",
    "                # Process the data using CricketMatchData class\n",
    "                cricket_data = CricketMatchData(json_data)\n",
    "                df = cricket_data.create_dataframe()\n",
    "\n",
    "                # Append the resulting DataFrame\n",
    "                all_dataframes.append(df)\n",
    "\n",
    "            except Exception as e:\n",
    "                print(f\"Error processing file {file_name}: {e}\")\n",
    "\n",
    "    # Combine all DataFrames into one\n",
    "    if all_dataframes:\n",
    "        final_dataframe = pd.concat(all_dataframes, ignore_index=True)\n",
    "        return final_dataframe\n",
    "    else:\n",
    "        print(\"No valid dataframes were created.\")\n",
    "        return pd.DataFrame()  # Return an empty DataFrame if no data was processed\n",
    "\n",
    "# Example usage\n",
    "folder_path = \"/Users/muralidharanv/Documents/GUVI /PROJECTS/Cricket Matchsheet Analysis/Data/ipl_json\"  # Replace with your folder path\n",
    "ipl_df = process_cricket_data(folder_path)\n",
    "ipl_df \n",
    "\n"
   ]
  },
  {
   "cell_type": "markdown",
   "metadata": {},
   "source": [
    "### ODIs Data Frame "
   ]
  },
  {
   "cell_type": "code",
   "execution_count": 3,
   "metadata": {},
   "outputs": [
    {
     "name": "stderr",
     "output_type": "stream",
     "text": [
      "/var/folders/q9/1vgcrp_s61j9_p6vmrcdf1h00000gn/T/ipykernel_3296/3318431575.py:93: FutureWarning: The behavior of DataFrame concatenation with empty or all-NA entries is deprecated. In a future version, this will no longer exclude empty or all-NA columns when determining the result dtypes. To retain the old behavior, exclude the relevant entries before the concat operation.\n",
      "  final_dataframe = pd.concat(all_dataframes, ignore_index=True)\n"
     ]
    },
    {
     "data": {
      "application/vnd.microsoft.datawrangler.viewer.v0+json": {
       "columns": [
        {
         "name": "index",
         "rawType": "int64",
         "type": "integer"
        },
        {
         "name": "match_date",
         "rawType": "object",
         "type": "string"
        },
        {
         "name": "city",
         "rawType": "object",
         "type": "unknown"
        },
        {
         "name": "venue",
         "rawType": "object",
         "type": "string"
        },
        {
         "name": "match_type",
         "rawType": "object",
         "type": "string"
        },
        {
         "name": "match_number",
         "rawType": "int64",
         "type": "integer"
        },
        {
         "name": "winner",
         "rawType": "object",
         "type": "unknown"
        },
        {
         "name": "player_of_match",
         "rawType": "object",
         "type": "unknown"
        },
        {
         "name": "team1",
         "rawType": "object",
         "type": "string"
        },
        {
         "name": "team2",
         "rawType": "object",
         "type": "string"
        },
        {
         "name": "event_name",
         "rawType": "object",
         "type": "unknown"
        },
        {
         "name": "event_match_number",
         "rawType": "float64",
         "type": "float"
        },
        {
         "name": "batting_team",
         "rawType": "object",
         "type": "string"
        },
        {
         "name": "overs",
         "rawType": "int64",
         "type": "integer"
        },
        {
         "name": "batter",
         "rawType": "object",
         "type": "string"
        },
        {
         "name": "bowler",
         "rawType": "object",
         "type": "string"
        },
        {
         "name": "non_striker",
         "rawType": "object",
         "type": "string"
        },
        {
         "name": "runs_batter",
         "rawType": "int64",
         "type": "integer"
        },
        {
         "name": "runs_extras",
         "rawType": "int64",
         "type": "integer"
        },
        {
         "name": "runs_total",
         "rawType": "int64",
         "type": "integer"
        },
        {
         "name": "wicket_type",
         "rawType": "object",
         "type": "unknown"
        },
        {
         "name": "player_out",
         "rawType": "object",
         "type": "unknown"
        },
        {
         "name": "fielder",
         "rawType": "object",
         "type": "unknown"
        }
       ],
       "conversionMethod": "pd.DataFrame",
       "ref": "fcaf1499-c519-4681-afb3-2c04c8ac437a",
       "rows": [
        [
         "0",
         "2023-12-19",
         "Gqeberha",
         "St George's Park, Gqeberha",
         "ODI",
         "4714",
         "South Africa",
         "T de Zorzi",
         "India",
         "South Africa",
         "India tour of South Africa",
         "2.0",
         "India",
         "0",
         "RD Gaikwad",
         "N Burger",
         "B Sai Sudharsan",
         "4",
         "0",
         "4",
         null,
         null,
         null
        ],
        [
         "1",
         "2023-12-19",
         "Gqeberha",
         "St George's Park, Gqeberha",
         "ODI",
         "4714",
         "South Africa",
         "T de Zorzi",
         "India",
         "South Africa",
         "India tour of South Africa",
         "2.0",
         "India",
         "0",
         "RD Gaikwad",
         "N Burger",
         "B Sai Sudharsan",
         "0",
         "0",
         "0",
         "lbw",
         "RD Gaikwad",
         null
        ],
        [
         "2",
         "2023-12-19",
         "Gqeberha",
         "St George's Park, Gqeberha",
         "ODI",
         "4714",
         "South Africa",
         "T de Zorzi",
         "India",
         "South Africa",
         "India tour of South Africa",
         "2.0",
         "India",
         "0",
         "Tilak Varma",
         "N Burger",
         "B Sai Sudharsan",
         "0",
         "0",
         "0",
         null,
         null,
         null
        ],
        [
         "3",
         "2023-12-19",
         "Gqeberha",
         "St George's Park, Gqeberha",
         "ODI",
         "4714",
         "South Africa",
         "T de Zorzi",
         "India",
         "South Africa",
         "India tour of South Africa",
         "2.0",
         "India",
         "0",
         "Tilak Varma",
         "N Burger",
         "B Sai Sudharsan",
         "0",
         "0",
         "0",
         null,
         null,
         null
        ],
        [
         "4",
         "2023-12-19",
         "Gqeberha",
         "St George's Park, Gqeberha",
         "ODI",
         "4714",
         "South Africa",
         "T de Zorzi",
         "India",
         "South Africa",
         "India tour of South Africa",
         "2.0",
         "India",
         "0",
         "Tilak Varma",
         "N Burger",
         "B Sai Sudharsan",
         "0",
         "0",
         "0",
         null,
         null,
         null
        ],
        [
         "5",
         "2023-12-19",
         "Gqeberha",
         "St George's Park, Gqeberha",
         "ODI",
         "4714",
         "South Africa",
         "T de Zorzi",
         "India",
         "South Africa",
         "India tour of South Africa",
         "2.0",
         "India",
         "0",
         "Tilak Varma",
         "N Burger",
         "B Sai Sudharsan",
         "0",
         "0",
         "0",
         null,
         null,
         null
        ],
        [
         "6",
         "2023-12-19",
         "Gqeberha",
         "St George's Park, Gqeberha",
         "ODI",
         "4714",
         "South Africa",
         "T de Zorzi",
         "India",
         "South Africa",
         "India tour of South Africa",
         "2.0",
         "India",
         "1",
         "B Sai Sudharsan",
         "LB Williams",
         "Tilak Varma",
         "0",
         "0",
         "0",
         null,
         null,
         null
        ],
        [
         "7",
         "2023-12-19",
         "Gqeberha",
         "St George's Park, Gqeberha",
         "ODI",
         "4714",
         "South Africa",
         "T de Zorzi",
         "India",
         "South Africa",
         "India tour of South Africa",
         "2.0",
         "India",
         "1",
         "B Sai Sudharsan",
         "LB Williams",
         "Tilak Varma",
         "0",
         "0",
         "0",
         null,
         null,
         null
        ],
        [
         "8",
         "2023-12-19",
         "Gqeberha",
         "St George's Park, Gqeberha",
         "ODI",
         "4714",
         "South Africa",
         "T de Zorzi",
         "India",
         "South Africa",
         "India tour of South Africa",
         "2.0",
         "India",
         "1",
         "B Sai Sudharsan",
         "LB Williams",
         "Tilak Varma",
         "0",
         "0",
         "0",
         null,
         null,
         null
        ],
        [
         "9",
         "2023-12-19",
         "Gqeberha",
         "St George's Park, Gqeberha",
         "ODI",
         "4714",
         "South Africa",
         "T de Zorzi",
         "India",
         "South Africa",
         "India tour of South Africa",
         "2.0",
         "India",
         "1",
         "B Sai Sudharsan",
         "LB Williams",
         "Tilak Varma",
         "0",
         "0",
         "0",
         null,
         null,
         null
        ],
        [
         "10",
         "2023-12-19",
         "Gqeberha",
         "St George's Park, Gqeberha",
         "ODI",
         "4714",
         "South Africa",
         "T de Zorzi",
         "India",
         "South Africa",
         "India tour of South Africa",
         "2.0",
         "India",
         "1",
         "B Sai Sudharsan",
         "LB Williams",
         "Tilak Varma",
         "0",
         "0",
         "0",
         null,
         null,
         null
        ],
        [
         "11",
         "2023-12-19",
         "Gqeberha",
         "St George's Park, Gqeberha",
         "ODI",
         "4714",
         "South Africa",
         "T de Zorzi",
         "India",
         "South Africa",
         "India tour of South Africa",
         "2.0",
         "India",
         "1",
         "B Sai Sudharsan",
         "LB Williams",
         "Tilak Varma",
         "0",
         "0",
         "0",
         null,
         null,
         null
        ],
        [
         "12",
         "2023-12-19",
         "Gqeberha",
         "St George's Park, Gqeberha",
         "ODI",
         "4714",
         "South Africa",
         "T de Zorzi",
         "India",
         "South Africa",
         "India tour of South Africa",
         "2.0",
         "India",
         "2",
         "Tilak Varma",
         "N Burger",
         "B Sai Sudharsan",
         "0",
         "0",
         "0",
         null,
         null,
         null
        ],
        [
         "13",
         "2023-12-19",
         "Gqeberha",
         "St George's Park, Gqeberha",
         "ODI",
         "4714",
         "South Africa",
         "T de Zorzi",
         "India",
         "South Africa",
         "India tour of South Africa",
         "2.0",
         "India",
         "2",
         "Tilak Varma",
         "N Burger",
         "B Sai Sudharsan",
         "2",
         "0",
         "2",
         null,
         null,
         null
        ],
        [
         "14",
         "2023-12-19",
         "Gqeberha",
         "St George's Park, Gqeberha",
         "ODI",
         "4714",
         "South Africa",
         "T de Zorzi",
         "India",
         "South Africa",
         "India tour of South Africa",
         "2.0",
         "India",
         "2",
         "Tilak Varma",
         "N Burger",
         "B Sai Sudharsan",
         "0",
         "0",
         "0",
         null,
         null,
         null
        ],
        [
         "15",
         "2023-12-19",
         "Gqeberha",
         "St George's Park, Gqeberha",
         "ODI",
         "4714",
         "South Africa",
         "T de Zorzi",
         "India",
         "South Africa",
         "India tour of South Africa",
         "2.0",
         "India",
         "2",
         "Tilak Varma",
         "N Burger",
         "B Sai Sudharsan",
         "0",
         "0",
         "0",
         null,
         null,
         null
        ],
        [
         "16",
         "2023-12-19",
         "Gqeberha",
         "St George's Park, Gqeberha",
         "ODI",
         "4714",
         "South Africa",
         "T de Zorzi",
         "India",
         "South Africa",
         "India tour of South Africa",
         "2.0",
         "India",
         "2",
         "Tilak Varma",
         "N Burger",
         "B Sai Sudharsan",
         "0",
         "0",
         "0",
         null,
         null,
         null
        ],
        [
         "17",
         "2023-12-19",
         "Gqeberha",
         "St George's Park, Gqeberha",
         "ODI",
         "4714",
         "South Africa",
         "T de Zorzi",
         "India",
         "South Africa",
         "India tour of South Africa",
         "2.0",
         "India",
         "2",
         "Tilak Varma",
         "N Burger",
         "B Sai Sudharsan",
         "0",
         "0",
         "0",
         null,
         null,
         null
        ],
        [
         "18",
         "2023-12-19",
         "Gqeberha",
         "St George's Park, Gqeberha",
         "ODI",
         "4714",
         "South Africa",
         "T de Zorzi",
         "India",
         "South Africa",
         "India tour of South Africa",
         "2.0",
         "India",
         "3",
         "B Sai Sudharsan",
         "LB Williams",
         "Tilak Varma",
         "2",
         "0",
         "2",
         null,
         null,
         null
        ],
        [
         "19",
         "2023-12-19",
         "Gqeberha",
         "St George's Park, Gqeberha",
         "ODI",
         "4714",
         "South Africa",
         "T de Zorzi",
         "India",
         "South Africa",
         "India tour of South Africa",
         "2.0",
         "India",
         "3",
         "B Sai Sudharsan",
         "LB Williams",
         "Tilak Varma",
         "0",
         "0",
         "0",
         null,
         null,
         null
        ],
        [
         "20",
         "2023-12-19",
         "Gqeberha",
         "St George's Park, Gqeberha",
         "ODI",
         "4714",
         "South Africa",
         "T de Zorzi",
         "India",
         "South Africa",
         "India tour of South Africa",
         "2.0",
         "India",
         "3",
         "B Sai Sudharsan",
         "LB Williams",
         "Tilak Varma",
         "0",
         "0",
         "0",
         null,
         null,
         null
        ],
        [
         "21",
         "2023-12-19",
         "Gqeberha",
         "St George's Park, Gqeberha",
         "ODI",
         "4714",
         "South Africa",
         "T de Zorzi",
         "India",
         "South Africa",
         "India tour of South Africa",
         "2.0",
         "India",
         "3",
         "B Sai Sudharsan",
         "LB Williams",
         "Tilak Varma",
         "4",
         "0",
         "4",
         null,
         null,
         null
        ],
        [
         "22",
         "2023-12-19",
         "Gqeberha",
         "St George's Park, Gqeberha",
         "ODI",
         "4714",
         "South Africa",
         "T de Zorzi",
         "India",
         "South Africa",
         "India tour of South Africa",
         "2.0",
         "India",
         "3",
         "B Sai Sudharsan",
         "LB Williams",
         "Tilak Varma",
         "1",
         "0",
         "1",
         null,
         null,
         null
        ],
        [
         "23",
         "2023-12-19",
         "Gqeberha",
         "St George's Park, Gqeberha",
         "ODI",
         "4714",
         "South Africa",
         "T de Zorzi",
         "India",
         "South Africa",
         "India tour of South Africa",
         "2.0",
         "India",
         "3",
         "Tilak Varma",
         "LB Williams",
         "B Sai Sudharsan",
         "0",
         "0",
         "0",
         null,
         null,
         null
        ],
        [
         "24",
         "2023-12-19",
         "Gqeberha",
         "St George's Park, Gqeberha",
         "ODI",
         "4714",
         "South Africa",
         "T de Zorzi",
         "India",
         "South Africa",
         "India tour of South Africa",
         "2.0",
         "India",
         "4",
         "B Sai Sudharsan",
         "N Burger",
         "Tilak Varma",
         "0",
         "0",
         "0",
         null,
         null,
         null
        ],
        [
         "25",
         "2023-12-19",
         "Gqeberha",
         "St George's Park, Gqeberha",
         "ODI",
         "4714",
         "South Africa",
         "T de Zorzi",
         "India",
         "South Africa",
         "India tour of South Africa",
         "2.0",
         "India",
         "4",
         "B Sai Sudharsan",
         "N Burger",
         "Tilak Varma",
         "0",
         "0",
         "0",
         null,
         null,
         null
        ],
        [
         "26",
         "2023-12-19",
         "Gqeberha",
         "St George's Park, Gqeberha",
         "ODI",
         "4714",
         "South Africa",
         "T de Zorzi",
         "India",
         "South Africa",
         "India tour of South Africa",
         "2.0",
         "India",
         "4",
         "B Sai Sudharsan",
         "N Burger",
         "Tilak Varma",
         "1",
         "0",
         "1",
         null,
         null,
         null
        ],
        [
         "27",
         "2023-12-19",
         "Gqeberha",
         "St George's Park, Gqeberha",
         "ODI",
         "4714",
         "South Africa",
         "T de Zorzi",
         "India",
         "South Africa",
         "India tour of South Africa",
         "2.0",
         "India",
         "4",
         "Tilak Varma",
         "N Burger",
         "B Sai Sudharsan",
         "0",
         "1",
         "1",
         null,
         null,
         null
        ],
        [
         "28",
         "2023-12-19",
         "Gqeberha",
         "St George's Park, Gqeberha",
         "ODI",
         "4714",
         "South Africa",
         "T de Zorzi",
         "India",
         "South Africa",
         "India tour of South Africa",
         "2.0",
         "India",
         "4",
         "Tilak Varma",
         "N Burger",
         "B Sai Sudharsan",
         "0",
         "1",
         "1",
         null,
         null,
         null
        ],
        [
         "29",
         "2023-12-19",
         "Gqeberha",
         "St George's Park, Gqeberha",
         "ODI",
         "4714",
         "South Africa",
         "T de Zorzi",
         "India",
         "South Africa",
         "India tour of South Africa",
         "2.0",
         "India",
         "4",
         "Tilak Varma",
         "N Burger",
         "B Sai Sudharsan",
         "0",
         "0",
         "0",
         null,
         null,
         null
        ],
        [
         "30",
         "2023-12-19",
         "Gqeberha",
         "St George's Park, Gqeberha",
         "ODI",
         "4714",
         "South Africa",
         "T de Zorzi",
         "India",
         "South Africa",
         "India tour of South Africa",
         "2.0",
         "India",
         "4",
         "Tilak Varma",
         "N Burger",
         "B Sai Sudharsan",
         "1",
         "0",
         "1",
         null,
         null,
         null
        ],
        [
         "31",
         "2023-12-19",
         "Gqeberha",
         "St George's Park, Gqeberha",
         "ODI",
         "4714",
         "South Africa",
         "T de Zorzi",
         "India",
         "South Africa",
         "India tour of South Africa",
         "2.0",
         "India",
         "4",
         "B Sai Sudharsan",
         "N Burger",
         "Tilak Varma",
         "0",
         "0",
         "0",
         null,
         null,
         null
        ],
        [
         "32",
         "2023-12-19",
         "Gqeberha",
         "St George's Park, Gqeberha",
         "ODI",
         "4714",
         "South Africa",
         "T de Zorzi",
         "India",
         "South Africa",
         "India tour of South Africa",
         "2.0",
         "India",
         "5",
         "Tilak Varma",
         "LB Williams",
         "B Sai Sudharsan",
         "0",
         "0",
         "0",
         null,
         null,
         null
        ],
        [
         "33",
         "2023-12-19",
         "Gqeberha",
         "St George's Park, Gqeberha",
         "ODI",
         "4714",
         "South Africa",
         "T de Zorzi",
         "India",
         "South Africa",
         "India tour of South Africa",
         "2.0",
         "India",
         "5",
         "Tilak Varma",
         "LB Williams",
         "B Sai Sudharsan",
         "0",
         "0",
         "0",
         null,
         null,
         null
        ],
        [
         "34",
         "2023-12-19",
         "Gqeberha",
         "St George's Park, Gqeberha",
         "ODI",
         "4714",
         "South Africa",
         "T de Zorzi",
         "India",
         "South Africa",
         "India tour of South Africa",
         "2.0",
         "India",
         "5",
         "Tilak Varma",
         "LB Williams",
         "B Sai Sudharsan",
         "0",
         "0",
         "0",
         null,
         null,
         null
        ],
        [
         "35",
         "2023-12-19",
         "Gqeberha",
         "St George's Park, Gqeberha",
         "ODI",
         "4714",
         "South Africa",
         "T de Zorzi",
         "India",
         "South Africa",
         "India tour of South Africa",
         "2.0",
         "India",
         "5",
         "Tilak Varma",
         "LB Williams",
         "B Sai Sudharsan",
         "0",
         "0",
         "0",
         null,
         null,
         null
        ],
        [
         "36",
         "2023-12-19",
         "Gqeberha",
         "St George's Park, Gqeberha",
         "ODI",
         "4714",
         "South Africa",
         "T de Zorzi",
         "India",
         "South Africa",
         "India tour of South Africa",
         "2.0",
         "India",
         "5",
         "Tilak Varma",
         "LB Williams",
         "B Sai Sudharsan",
         "1",
         "0",
         "1",
         null,
         null,
         null
        ],
        [
         "37",
         "2023-12-19",
         "Gqeberha",
         "St George's Park, Gqeberha",
         "ODI",
         "4714",
         "South Africa",
         "T de Zorzi",
         "India",
         "South Africa",
         "India tour of South Africa",
         "2.0",
         "India",
         "5",
         "B Sai Sudharsan",
         "LB Williams",
         "Tilak Varma",
         "4",
         "0",
         "4",
         null,
         null,
         null
        ],
        [
         "38",
         "2023-12-19",
         "Gqeberha",
         "St George's Park, Gqeberha",
         "ODI",
         "4714",
         "South Africa",
         "T de Zorzi",
         "India",
         "South Africa",
         "India tour of South Africa",
         "2.0",
         "India",
         "6",
         "Tilak Varma",
         "BE Hendricks",
         "B Sai Sudharsan",
         "1",
         "0",
         "1",
         null,
         null,
         null
        ],
        [
         "39",
         "2023-12-19",
         "Gqeberha",
         "St George's Park, Gqeberha",
         "ODI",
         "4714",
         "South Africa",
         "T de Zorzi",
         "India",
         "South Africa",
         "India tour of South Africa",
         "2.0",
         "India",
         "6",
         "B Sai Sudharsan",
         "BE Hendricks",
         "Tilak Varma",
         "0",
         "0",
         "0",
         null,
         null,
         null
        ],
        [
         "40",
         "2023-12-19",
         "Gqeberha",
         "St George's Park, Gqeberha",
         "ODI",
         "4714",
         "South Africa",
         "T de Zorzi",
         "India",
         "South Africa",
         "India tour of South Africa",
         "2.0",
         "India",
         "6",
         "B Sai Sudharsan",
         "BE Hendricks",
         "Tilak Varma",
         "4",
         "0",
         "4",
         null,
         null,
         null
        ],
        [
         "41",
         "2023-12-19",
         "Gqeberha",
         "St George's Park, Gqeberha",
         "ODI",
         "4714",
         "South Africa",
         "T de Zorzi",
         "India",
         "South Africa",
         "India tour of South Africa",
         "2.0",
         "India",
         "6",
         "B Sai Sudharsan",
         "BE Hendricks",
         "Tilak Varma",
         "4",
         "0",
         "4",
         null,
         null,
         null
        ],
        [
         "42",
         "2023-12-19",
         "Gqeberha",
         "St George's Park, Gqeberha",
         "ODI",
         "4714",
         "South Africa",
         "T de Zorzi",
         "India",
         "South Africa",
         "India tour of South Africa",
         "2.0",
         "India",
         "6",
         "B Sai Sudharsan",
         "BE Hendricks",
         "Tilak Varma",
         "0",
         "0",
         "0",
         null,
         null,
         null
        ],
        [
         "43",
         "2023-12-19",
         "Gqeberha",
         "St George's Park, Gqeberha",
         "ODI",
         "4714",
         "South Africa",
         "T de Zorzi",
         "India",
         "South Africa",
         "India tour of South Africa",
         "2.0",
         "India",
         "6",
         "B Sai Sudharsan",
         "BE Hendricks",
         "Tilak Varma",
         "0",
         "0",
         "0",
         null,
         null,
         null
        ],
        [
         "44",
         "2023-12-19",
         "Gqeberha",
         "St George's Park, Gqeberha",
         "ODI",
         "4714",
         "South Africa",
         "T de Zorzi",
         "India",
         "South Africa",
         "India tour of South Africa",
         "2.0",
         "India",
         "7",
         "Tilak Varma",
         "LB Williams",
         "B Sai Sudharsan",
         "1",
         "0",
         "1",
         null,
         null,
         null
        ],
        [
         "45",
         "2023-12-19",
         "Gqeberha",
         "St George's Park, Gqeberha",
         "ODI",
         "4714",
         "South Africa",
         "T de Zorzi",
         "India",
         "South Africa",
         "India tour of South Africa",
         "2.0",
         "India",
         "7",
         "B Sai Sudharsan",
         "LB Williams",
         "Tilak Varma",
         "0",
         "0",
         "0",
         null,
         null,
         null
        ],
        [
         "46",
         "2023-12-19",
         "Gqeberha",
         "St George's Park, Gqeberha",
         "ODI",
         "4714",
         "South Africa",
         "T de Zorzi",
         "India",
         "South Africa",
         "India tour of South Africa",
         "2.0",
         "India",
         "7",
         "B Sai Sudharsan",
         "LB Williams",
         "Tilak Varma",
         "3",
         "0",
         "3",
         null,
         null,
         null
        ],
        [
         "47",
         "2023-12-19",
         "Gqeberha",
         "St George's Park, Gqeberha",
         "ODI",
         "4714",
         "South Africa",
         "T de Zorzi",
         "India",
         "South Africa",
         "India tour of South Africa",
         "2.0",
         "India",
         "7",
         "Tilak Varma",
         "LB Williams",
         "B Sai Sudharsan",
         "0",
         "0",
         "0",
         null,
         null,
         null
        ],
        [
         "48",
         "2023-12-19",
         "Gqeberha",
         "St George's Park, Gqeberha",
         "ODI",
         "4714",
         "South Africa",
         "T de Zorzi",
         "India",
         "South Africa",
         "India tour of South Africa",
         "2.0",
         "India",
         "7",
         "Tilak Varma",
         "LB Williams",
         "B Sai Sudharsan",
         "1",
         "0",
         "1",
         null,
         null,
         null
        ],
        [
         "49",
         "2023-12-19",
         "Gqeberha",
         "St George's Park, Gqeberha",
         "ODI",
         "4714",
         "South Africa",
         "T de Zorzi",
         "India",
         "South Africa",
         "India tour of South Africa",
         "2.0",
         "India",
         "7",
         "B Sai Sudharsan",
         "LB Williams",
         "Tilak Varma",
         "0",
         "0",
         "0",
         null,
         null,
         null
        ]
       ],
       "shape": {
        "columns": 22,
        "rows": 1546112
       }
      },
      "text/html": [
       "<div>\n",
       "<style scoped>\n",
       "    .dataframe tbody tr th:only-of-type {\n",
       "        vertical-align: middle;\n",
       "    }\n",
       "\n",
       "    .dataframe tbody tr th {\n",
       "        vertical-align: top;\n",
       "    }\n",
       "\n",
       "    .dataframe thead th {\n",
       "        text-align: right;\n",
       "    }\n",
       "</style>\n",
       "<table border=\"1\" class=\"dataframe\">\n",
       "  <thead>\n",
       "    <tr style=\"text-align: right;\">\n",
       "      <th></th>\n",
       "      <th>match_date</th>\n",
       "      <th>city</th>\n",
       "      <th>venue</th>\n",
       "      <th>match_type</th>\n",
       "      <th>match_number</th>\n",
       "      <th>winner</th>\n",
       "      <th>player_of_match</th>\n",
       "      <th>team1</th>\n",
       "      <th>team2</th>\n",
       "      <th>event_name</th>\n",
       "      <th>...</th>\n",
       "      <th>overs</th>\n",
       "      <th>batter</th>\n",
       "      <th>bowler</th>\n",
       "      <th>non_striker</th>\n",
       "      <th>runs_batter</th>\n",
       "      <th>runs_extras</th>\n",
       "      <th>runs_total</th>\n",
       "      <th>wicket_type</th>\n",
       "      <th>player_out</th>\n",
       "      <th>fielder</th>\n",
       "    </tr>\n",
       "  </thead>\n",
       "  <tbody>\n",
       "    <tr>\n",
       "      <th>0</th>\n",
       "      <td>2023-12-19</td>\n",
       "      <td>Gqeberha</td>\n",
       "      <td>St George's Park, Gqeberha</td>\n",
       "      <td>ODI</td>\n",
       "      <td>4714</td>\n",
       "      <td>South Africa</td>\n",
       "      <td>T de Zorzi</td>\n",
       "      <td>India</td>\n",
       "      <td>South Africa</td>\n",
       "      <td>India tour of South Africa</td>\n",
       "      <td>...</td>\n",
       "      <td>0</td>\n",
       "      <td>RD Gaikwad</td>\n",
       "      <td>N Burger</td>\n",
       "      <td>B Sai Sudharsan</td>\n",
       "      <td>4</td>\n",
       "      <td>0</td>\n",
       "      <td>4</td>\n",
       "      <td>None</td>\n",
       "      <td>None</td>\n",
       "      <td>None</td>\n",
       "    </tr>\n",
       "    <tr>\n",
       "      <th>1</th>\n",
       "      <td>2023-12-19</td>\n",
       "      <td>Gqeberha</td>\n",
       "      <td>St George's Park, Gqeberha</td>\n",
       "      <td>ODI</td>\n",
       "      <td>4714</td>\n",
       "      <td>South Africa</td>\n",
       "      <td>T de Zorzi</td>\n",
       "      <td>India</td>\n",
       "      <td>South Africa</td>\n",
       "      <td>India tour of South Africa</td>\n",
       "      <td>...</td>\n",
       "      <td>0</td>\n",
       "      <td>RD Gaikwad</td>\n",
       "      <td>N Burger</td>\n",
       "      <td>B Sai Sudharsan</td>\n",
       "      <td>0</td>\n",
       "      <td>0</td>\n",
       "      <td>0</td>\n",
       "      <td>lbw</td>\n",
       "      <td>RD Gaikwad</td>\n",
       "      <td>None</td>\n",
       "    </tr>\n",
       "    <tr>\n",
       "      <th>2</th>\n",
       "      <td>2023-12-19</td>\n",
       "      <td>Gqeberha</td>\n",
       "      <td>St George's Park, Gqeberha</td>\n",
       "      <td>ODI</td>\n",
       "      <td>4714</td>\n",
       "      <td>South Africa</td>\n",
       "      <td>T de Zorzi</td>\n",
       "      <td>India</td>\n",
       "      <td>South Africa</td>\n",
       "      <td>India tour of South Africa</td>\n",
       "      <td>...</td>\n",
       "      <td>0</td>\n",
       "      <td>Tilak Varma</td>\n",
       "      <td>N Burger</td>\n",
       "      <td>B Sai Sudharsan</td>\n",
       "      <td>0</td>\n",
       "      <td>0</td>\n",
       "      <td>0</td>\n",
       "      <td>None</td>\n",
       "      <td>None</td>\n",
       "      <td>None</td>\n",
       "    </tr>\n",
       "    <tr>\n",
       "      <th>3</th>\n",
       "      <td>2023-12-19</td>\n",
       "      <td>Gqeberha</td>\n",
       "      <td>St George's Park, Gqeberha</td>\n",
       "      <td>ODI</td>\n",
       "      <td>4714</td>\n",
       "      <td>South Africa</td>\n",
       "      <td>T de Zorzi</td>\n",
       "      <td>India</td>\n",
       "      <td>South Africa</td>\n",
       "      <td>India tour of South Africa</td>\n",
       "      <td>...</td>\n",
       "      <td>0</td>\n",
       "      <td>Tilak Varma</td>\n",
       "      <td>N Burger</td>\n",
       "      <td>B Sai Sudharsan</td>\n",
       "      <td>0</td>\n",
       "      <td>0</td>\n",
       "      <td>0</td>\n",
       "      <td>None</td>\n",
       "      <td>None</td>\n",
       "      <td>None</td>\n",
       "    </tr>\n",
       "    <tr>\n",
       "      <th>4</th>\n",
       "      <td>2023-12-19</td>\n",
       "      <td>Gqeberha</td>\n",
       "      <td>St George's Park, Gqeberha</td>\n",
       "      <td>ODI</td>\n",
       "      <td>4714</td>\n",
       "      <td>South Africa</td>\n",
       "      <td>T de Zorzi</td>\n",
       "      <td>India</td>\n",
       "      <td>South Africa</td>\n",
       "      <td>India tour of South Africa</td>\n",
       "      <td>...</td>\n",
       "      <td>0</td>\n",
       "      <td>Tilak Varma</td>\n",
       "      <td>N Burger</td>\n",
       "      <td>B Sai Sudharsan</td>\n",
       "      <td>0</td>\n",
       "      <td>0</td>\n",
       "      <td>0</td>\n",
       "      <td>None</td>\n",
       "      <td>None</td>\n",
       "      <td>None</td>\n",
       "    </tr>\n",
       "    <tr>\n",
       "      <th>...</th>\n",
       "      <td>...</td>\n",
       "      <td>...</td>\n",
       "      <td>...</td>\n",
       "      <td>...</td>\n",
       "      <td>...</td>\n",
       "      <td>...</td>\n",
       "      <td>...</td>\n",
       "      <td>...</td>\n",
       "      <td>...</td>\n",
       "      <td>...</td>\n",
       "      <td>...</td>\n",
       "      <td>...</td>\n",
       "      <td>...</td>\n",
       "      <td>...</td>\n",
       "      <td>...</td>\n",
       "      <td>...</td>\n",
       "      <td>...</td>\n",
       "      <td>...</td>\n",
       "      <td>...</td>\n",
       "      <td>...</td>\n",
       "      <td>...</td>\n",
       "    </tr>\n",
       "    <tr>\n",
       "      <th>1546107</th>\n",
       "      <td>2012-02-03</td>\n",
       "      <td>Dunedin</td>\n",
       "      <td>University Oval</td>\n",
       "      <td>ODI</td>\n",
       "      <td>3230</td>\n",
       "      <td>New Zealand</td>\n",
       "      <td>MJ Guptill</td>\n",
       "      <td>New Zealand</td>\n",
       "      <td>Zimbabwe</td>\n",
       "      <td>Zimbabwe in New Zealand ODI Series</td>\n",
       "      <td>...</td>\n",
       "      <td>40</td>\n",
       "      <td>RW Price</td>\n",
       "      <td>TG Southee</td>\n",
       "      <td>KM Jarvis</td>\n",
       "      <td>0</td>\n",
       "      <td>0</td>\n",
       "      <td>0</td>\n",
       "      <td>None</td>\n",
       "      <td>None</td>\n",
       "      <td>None</td>\n",
       "    </tr>\n",
       "    <tr>\n",
       "      <th>1546108</th>\n",
       "      <td>2012-02-03</td>\n",
       "      <td>Dunedin</td>\n",
       "      <td>University Oval</td>\n",
       "      <td>ODI</td>\n",
       "      <td>3230</td>\n",
       "      <td>New Zealand</td>\n",
       "      <td>MJ Guptill</td>\n",
       "      <td>New Zealand</td>\n",
       "      <td>Zimbabwe</td>\n",
       "      <td>Zimbabwe in New Zealand ODI Series</td>\n",
       "      <td>...</td>\n",
       "      <td>40</td>\n",
       "      <td>RW Price</td>\n",
       "      <td>TG Southee</td>\n",
       "      <td>KM Jarvis</td>\n",
       "      <td>0</td>\n",
       "      <td>0</td>\n",
       "      <td>0</td>\n",
       "      <td>None</td>\n",
       "      <td>None</td>\n",
       "      <td>None</td>\n",
       "    </tr>\n",
       "    <tr>\n",
       "      <th>1546109</th>\n",
       "      <td>2012-02-03</td>\n",
       "      <td>Dunedin</td>\n",
       "      <td>University Oval</td>\n",
       "      <td>ODI</td>\n",
       "      <td>3230</td>\n",
       "      <td>New Zealand</td>\n",
       "      <td>MJ Guptill</td>\n",
       "      <td>New Zealand</td>\n",
       "      <td>Zimbabwe</td>\n",
       "      <td>Zimbabwe in New Zealand ODI Series</td>\n",
       "      <td>...</td>\n",
       "      <td>40</td>\n",
       "      <td>RW Price</td>\n",
       "      <td>TG Southee</td>\n",
       "      <td>KM Jarvis</td>\n",
       "      <td>0</td>\n",
       "      <td>0</td>\n",
       "      <td>0</td>\n",
       "      <td>None</td>\n",
       "      <td>None</td>\n",
       "      <td>None</td>\n",
       "    </tr>\n",
       "    <tr>\n",
       "      <th>1546110</th>\n",
       "      <td>2012-02-03</td>\n",
       "      <td>Dunedin</td>\n",
       "      <td>University Oval</td>\n",
       "      <td>ODI</td>\n",
       "      <td>3230</td>\n",
       "      <td>New Zealand</td>\n",
       "      <td>MJ Guptill</td>\n",
       "      <td>New Zealand</td>\n",
       "      <td>Zimbabwe</td>\n",
       "      <td>Zimbabwe in New Zealand ODI Series</td>\n",
       "      <td>...</td>\n",
       "      <td>40</td>\n",
       "      <td>RW Price</td>\n",
       "      <td>TG Southee</td>\n",
       "      <td>KM Jarvis</td>\n",
       "      <td>0</td>\n",
       "      <td>0</td>\n",
       "      <td>0</td>\n",
       "      <td>None</td>\n",
       "      <td>None</td>\n",
       "      <td>None</td>\n",
       "    </tr>\n",
       "    <tr>\n",
       "      <th>1546111</th>\n",
       "      <td>2012-02-03</td>\n",
       "      <td>Dunedin</td>\n",
       "      <td>University Oval</td>\n",
       "      <td>ODI</td>\n",
       "      <td>3230</td>\n",
       "      <td>New Zealand</td>\n",
       "      <td>MJ Guptill</td>\n",
       "      <td>New Zealand</td>\n",
       "      <td>Zimbabwe</td>\n",
       "      <td>Zimbabwe in New Zealand ODI Series</td>\n",
       "      <td>...</td>\n",
       "      <td>41</td>\n",
       "      <td>KM Jarvis</td>\n",
       "      <td>RJ Nicol</td>\n",
       "      <td>RW Price</td>\n",
       "      <td>0</td>\n",
       "      <td>0</td>\n",
       "      <td>0</td>\n",
       "      <td>stumped</td>\n",
       "      <td>KM Jarvis</td>\n",
       "      <td>BB McCullum</td>\n",
       "    </tr>\n",
       "  </tbody>\n",
       "</table>\n",
       "<p>1546112 rows × 22 columns</p>\n",
       "</div>"
      ],
      "text/plain": [
       "         match_date      city                       venue match_type  \\\n",
       "0        2023-12-19  Gqeberha  St George's Park, Gqeberha        ODI   \n",
       "1        2023-12-19  Gqeberha  St George's Park, Gqeberha        ODI   \n",
       "2        2023-12-19  Gqeberha  St George's Park, Gqeberha        ODI   \n",
       "3        2023-12-19  Gqeberha  St George's Park, Gqeberha        ODI   \n",
       "4        2023-12-19  Gqeberha  St George's Park, Gqeberha        ODI   \n",
       "...             ...       ...                         ...        ...   \n",
       "1546107  2012-02-03   Dunedin             University Oval        ODI   \n",
       "1546108  2012-02-03   Dunedin             University Oval        ODI   \n",
       "1546109  2012-02-03   Dunedin             University Oval        ODI   \n",
       "1546110  2012-02-03   Dunedin             University Oval        ODI   \n",
       "1546111  2012-02-03   Dunedin             University Oval        ODI   \n",
       "\n",
       "         match_number        winner player_of_match        team1  \\\n",
       "0                4714  South Africa      T de Zorzi        India   \n",
       "1                4714  South Africa      T de Zorzi        India   \n",
       "2                4714  South Africa      T de Zorzi        India   \n",
       "3                4714  South Africa      T de Zorzi        India   \n",
       "4                4714  South Africa      T de Zorzi        India   \n",
       "...               ...           ...             ...          ...   \n",
       "1546107          3230   New Zealand      MJ Guptill  New Zealand   \n",
       "1546108          3230   New Zealand      MJ Guptill  New Zealand   \n",
       "1546109          3230   New Zealand      MJ Guptill  New Zealand   \n",
       "1546110          3230   New Zealand      MJ Guptill  New Zealand   \n",
       "1546111          3230   New Zealand      MJ Guptill  New Zealand   \n",
       "\n",
       "                team2                          event_name  ...  overs  \\\n",
       "0        South Africa          India tour of South Africa  ...      0   \n",
       "1        South Africa          India tour of South Africa  ...      0   \n",
       "2        South Africa          India tour of South Africa  ...      0   \n",
       "3        South Africa          India tour of South Africa  ...      0   \n",
       "4        South Africa          India tour of South Africa  ...      0   \n",
       "...               ...                                 ...  ...    ...   \n",
       "1546107      Zimbabwe  Zimbabwe in New Zealand ODI Series  ...     40   \n",
       "1546108      Zimbabwe  Zimbabwe in New Zealand ODI Series  ...     40   \n",
       "1546109      Zimbabwe  Zimbabwe in New Zealand ODI Series  ...     40   \n",
       "1546110      Zimbabwe  Zimbabwe in New Zealand ODI Series  ...     40   \n",
       "1546111      Zimbabwe  Zimbabwe in New Zealand ODI Series  ...     41   \n",
       "\n",
       "              batter      bowler      non_striker runs_batter runs_extras  \\\n",
       "0         RD Gaikwad    N Burger  B Sai Sudharsan           4           0   \n",
       "1         RD Gaikwad    N Burger  B Sai Sudharsan           0           0   \n",
       "2        Tilak Varma    N Burger  B Sai Sudharsan           0           0   \n",
       "3        Tilak Varma    N Burger  B Sai Sudharsan           0           0   \n",
       "4        Tilak Varma    N Burger  B Sai Sudharsan           0           0   \n",
       "...              ...         ...              ...         ...         ...   \n",
       "1546107     RW Price  TG Southee        KM Jarvis           0           0   \n",
       "1546108     RW Price  TG Southee        KM Jarvis           0           0   \n",
       "1546109     RW Price  TG Southee        KM Jarvis           0           0   \n",
       "1546110     RW Price  TG Southee        KM Jarvis           0           0   \n",
       "1546111    KM Jarvis    RJ Nicol         RW Price           0           0   \n",
       "\n",
       "         runs_total  wicket_type  player_out      fielder  \n",
       "0                 4         None        None         None  \n",
       "1                 0          lbw  RD Gaikwad         None  \n",
       "2                 0         None        None         None  \n",
       "3                 0         None        None         None  \n",
       "4                 0         None        None         None  \n",
       "...             ...          ...         ...          ...  \n",
       "1546107           0         None        None         None  \n",
       "1546108           0         None        None         None  \n",
       "1546109           0         None        None         None  \n",
       "1546110           0         None        None         None  \n",
       "1546111           0      stumped   KM Jarvis  BB McCullum  \n",
       "\n",
       "[1546112 rows x 22 columns]"
      ]
     },
     "execution_count": 3,
     "metadata": {},
     "output_type": "execute_result"
    }
   ],
   "source": [
    "import os\n",
    "import pandas as pd\n",
    "import json\n",
    "\n",
    "class CricketMatchData:\n",
    "    def __init__(self, json_data):\n",
    "        self.data = json_data\n",
    "\n",
    "    def create_dataframe(self):\n",
    "        rows = []\n",
    "\n",
    "        # Extract common information from the info section\n",
    "        info = self.data['info']\n",
    "        meta = self.data['meta']\n",
    "        common_data = {\n",
    "            'match_date': info['dates'][0],\n",
    "            'city': info.get('city', None),\n",
    "            'venue': info.get('venue', None),\n",
    "            'match_type': info.get('match_type', None),\n",
    "            'match_number': info.get('match_type_number', None),\n",
    "            'winner': info.get('outcome', {}).get('winner', None),\n",
    "            'player_of_match': info.get('player_of_match', [None])[0],\n",
    "            'team1': info['teams'][0],\n",
    "            'team2': info['teams'][1]\n",
    "        }\n",
    "\n",
    "        # Include event details if present\n",
    "        if 'event' in info:\n",
    "            common_data['event_name'] = info['event'].get('name', None)\n",
    "            common_data['event_match_number'] = info['event'].get('match_number', None)\n",
    "\n",
    "        # Iterate through innings and deliveries\n",
    "        for inning in self.data['innings']:\n",
    "            team = inning['team']\n",
    "\n",
    "            for over in inning['overs']:\n",
    "                over_number = over['over']\n",
    "\n",
    "                for delivery in over['deliveries']:\n",
    "                    row = {\n",
    "                        **common_data,  # Add common data using unpacking operator ** \n",
    "                        'batting_team': team,\n",
    "                        'overs': over_number,\n",
    "                        'batter': delivery['batter'],\n",
    "                        'bowler': delivery['bowler'],\n",
    "                        'non_striker': delivery['non_striker'],\n",
    "                        'runs_batter': delivery['runs']['batter'],\n",
    "                        'runs_extras': delivery['runs']['extras'],\n",
    "                        'runs_total': delivery['runs']['total'],\n",
    "                        'wicket_type': None,\n",
    "                        'player_out': None,\n",
    "                        'fielder': None\n",
    "                    }\n",
    "\n",
    "                    # Check for wickets\n",
    "                    if 'wickets' in delivery:\n",
    "                        row['wicket_type'] = delivery['wickets'][0]['kind']\n",
    "                        row['player_out'] = delivery['wickets'][0]['player_out']\n",
    "                        if 'fielders' in delivery['wickets'][0]:\n",
    "                            row['fielder'] = delivery['wickets'][0]['fielders'][0]['name']\n",
    "\n",
    "                    rows.append(row)\n",
    "\n",
    "        # Create DataFrame\n",
    "        return pd.DataFrame(rows)\n",
    "\n",
    "\n",
    "def process_cricket_data(folder_path):\n",
    "    all_dataframes = []\n",
    "\n",
    "    # Iterate through all files in the folder\n",
    "    for file_name in os.listdir(folder_path):\n",
    "        # Check if the file is a JSON file\n",
    "        if file_name.endswith('.json'):\n",
    "            file_path = os.path.join(folder_path, file_name)\n",
    "            try:\n",
    "                # Read the JSON file\n",
    "                with open(file_path, 'r') as json_file:\n",
    "                    json_data = json.load(json_file)\n",
    "\n",
    "                # Process the data using CricketMatchData class\n",
    "                cricket_data = CricketMatchData(json_data)\n",
    "                df = cricket_data.create_dataframe()\n",
    "\n",
    "                # Append the resulting DataFrame\n",
    "                all_dataframes.append(df)\n",
    "\n",
    "            except Exception as e:\n",
    "                print(f\"Error processing file {file_name}: {e}\")\n",
    "\n",
    "    # Combine all DataFrames into one\n",
    "    if all_dataframes:\n",
    "        final_dataframe = pd.concat(all_dataframes, ignore_index=True)\n",
    "        return final_dataframe\n",
    "    else:\n",
    "        print(\"No valid dataframes were created.\")\n",
    "        return pd.DataFrame()  # Return an empty DataFrame if no data was processed\n",
    "\n",
    "# Example usage\n",
    "folder_path = \"/Users/muralidharanv/Documents/GUVI /PROJECTS/Cricket Matchsheet Analysis/Data/odis_json\"  # Replace with your folder path\n",
    "odis_df = process_cricket_data(folder_path)\n",
    "\n",
    "odis_df"
   ]
  },
  {
   "cell_type": "markdown",
   "metadata": {},
   "source": [
    "## T20's Data Frame"
   ]
  },
  {
   "cell_type": "code",
   "execution_count": 4,
   "metadata": {},
   "outputs": [
    {
     "name": "stderr",
     "output_type": "stream",
     "text": [
      "/var/folders/q9/1vgcrp_s61j9_p6vmrcdf1h00000gn/T/ipykernel_3296/1931109095.py:96: FutureWarning: The behavior of DataFrame concatenation with empty or all-NA entries is deprecated. In a future version, this will no longer exclude empty or all-NA columns when determining the result dtypes. To retain the old behavior, exclude the relevant entries before the concat operation.\n",
      "  final_dataframe = pd.concat(all_dataframes, ignore_index=True)\n"
     ]
    },
    {
     "data": {
      "application/vnd.microsoft.datawrangler.viewer.v0+json": {
       "columns": [
        {
         "name": "index",
         "rawType": "int64",
         "type": "integer"
        },
        {
         "name": "match_date",
         "rawType": "object",
         "type": "string"
        },
        {
         "name": "city",
         "rawType": "object",
         "type": "unknown"
        },
        {
         "name": "venue",
         "rawType": "object",
         "type": "string"
        },
        {
         "name": "match_type",
         "rawType": "object",
         "type": "string"
        },
        {
         "name": "match_number",
         "rawType": "int64",
         "type": "integer"
        },
        {
         "name": "winner",
         "rawType": "object",
         "type": "unknown"
        },
        {
         "name": "player_of_match",
         "rawType": "object",
         "type": "unknown"
        },
        {
         "name": "team1",
         "rawType": "object",
         "type": "string"
        },
        {
         "name": "team2",
         "rawType": "object",
         "type": "string"
        },
        {
         "name": "event_name",
         "rawType": "object",
         "type": "unknown"
        },
        {
         "name": "event_match_number",
         "rawType": "float64",
         "type": "float"
        },
        {
         "name": "batting_team",
         "rawType": "object",
         "type": "string"
        },
        {
         "name": "overs",
         "rawType": "int64",
         "type": "integer"
        },
        {
         "name": "batter",
         "rawType": "object",
         "type": "string"
        },
        {
         "name": "bowler",
         "rawType": "object",
         "type": "string"
        },
        {
         "name": "non_striker",
         "rawType": "object",
         "type": "string"
        },
        {
         "name": "runs_batter",
         "rawType": "int64",
         "type": "integer"
        },
        {
         "name": "runs_extras",
         "rawType": "int64",
         "type": "integer"
        },
        {
         "name": "runs_total",
         "rawType": "int64",
         "type": "integer"
        },
        {
         "name": "wicket_type",
         "rawType": "object",
         "type": "unknown"
        },
        {
         "name": "player_out",
         "rawType": "object",
         "type": "unknown"
        },
        {
         "name": "fielder",
         "rawType": "object",
         "type": "unknown"
        }
       ],
       "conversionMethod": "pd.DataFrame",
       "ref": "7359ab01-cf30-4418-b26b-2978563839c7",
       "rows": [
        [
         "0",
         "2024-07-30",
         "Kandy",
         "Pallekele International Cricket Stadium",
         "T20",
         "2769",
         null,
         "Washington Sundar",
         "India",
         "Sri Lanka",
         "India tour of Sri Lanka",
         "3.0",
         "India",
         "0",
         "YBK Jaiswal",
         "C Wickramasinghe",
         "Shubman Gill",
         "0",
         "0",
         "0",
         null,
         null,
         null
        ],
        [
         "1",
         "2024-07-30",
         "Kandy",
         "Pallekele International Cricket Stadium",
         "T20",
         "2769",
         null,
         "Washington Sundar",
         "India",
         "Sri Lanka",
         "India tour of Sri Lanka",
         "3.0",
         "India",
         "0",
         "YBK Jaiswal",
         "C Wickramasinghe",
         "Shubman Gill",
         "1",
         "0",
         "1",
         null,
         null,
         null
        ],
        [
         "2",
         "2024-07-30",
         "Kandy",
         "Pallekele International Cricket Stadium",
         "T20",
         "2769",
         null,
         "Washington Sundar",
         "India",
         "Sri Lanka",
         "India tour of Sri Lanka",
         "3.0",
         "India",
         "0",
         "Shubman Gill",
         "C Wickramasinghe",
         "YBK Jaiswal",
         "0",
         "0",
         "0",
         null,
         null,
         null
        ],
        [
         "3",
         "2024-07-30",
         "Kandy",
         "Pallekele International Cricket Stadium",
         "T20",
         "2769",
         null,
         "Washington Sundar",
         "India",
         "Sri Lanka",
         "India tour of Sri Lanka",
         "3.0",
         "India",
         "0",
         "Shubman Gill",
         "C Wickramasinghe",
         "YBK Jaiswal",
         "1",
         "0",
         "1",
         null,
         null,
         null
        ],
        [
         "4",
         "2024-07-30",
         "Kandy",
         "Pallekele International Cricket Stadium",
         "T20",
         "2769",
         null,
         "Washington Sundar",
         "India",
         "Sri Lanka",
         "India tour of Sri Lanka",
         "3.0",
         "India",
         "0",
         "YBK Jaiswal",
         "C Wickramasinghe",
         "Shubman Gill",
         "1",
         "0",
         "1",
         null,
         null,
         null
        ],
        [
         "5",
         "2024-07-30",
         "Kandy",
         "Pallekele International Cricket Stadium",
         "T20",
         "2769",
         null,
         "Washington Sundar",
         "India",
         "Sri Lanka",
         "India tour of Sri Lanka",
         "3.0",
         "India",
         "0",
         "Shubman Gill",
         "C Wickramasinghe",
         "YBK Jaiswal",
         "0",
         "0",
         "0",
         null,
         null,
         null
        ],
        [
         "6",
         "2024-07-30",
         "Kandy",
         "Pallekele International Cricket Stadium",
         "T20",
         "2769",
         null,
         "Washington Sundar",
         "India",
         "Sri Lanka",
         "India tour of Sri Lanka",
         "3.0",
         "India",
         "1",
         "YBK Jaiswal",
         "M Theekshana",
         "Shubman Gill",
         "0",
         "0",
         "0",
         null,
         null,
         null
        ],
        [
         "7",
         "2024-07-30",
         "Kandy",
         "Pallekele International Cricket Stadium",
         "T20",
         "2769",
         null,
         "Washington Sundar",
         "India",
         "Sri Lanka",
         "India tour of Sri Lanka",
         "3.0",
         "India",
         "1",
         "YBK Jaiswal",
         "M Theekshana",
         "Shubman Gill",
         "0",
         "0",
         "0",
         null,
         null,
         null
        ],
        [
         "8",
         "2024-07-30",
         "Kandy",
         "Pallekele International Cricket Stadium",
         "T20",
         "2769",
         null,
         "Washington Sundar",
         "India",
         "Sri Lanka",
         "India tour of Sri Lanka",
         "3.0",
         "India",
         "1",
         "YBK Jaiswal",
         "M Theekshana",
         "Shubman Gill",
         "4",
         "0",
         "4",
         null,
         null,
         null
        ],
        [
         "9",
         "2024-07-30",
         "Kandy",
         "Pallekele International Cricket Stadium",
         "T20",
         "2769",
         null,
         "Washington Sundar",
         "India",
         "Sri Lanka",
         "India tour of Sri Lanka",
         "3.0",
         "India",
         "1",
         "YBK Jaiswal",
         "M Theekshana",
         "Shubman Gill",
         "0",
         "0",
         "0",
         null,
         null,
         null
        ],
        [
         "10",
         "2024-07-30",
         "Kandy",
         "Pallekele International Cricket Stadium",
         "T20",
         "2769",
         null,
         "Washington Sundar",
         "India",
         "Sri Lanka",
         "India tour of Sri Lanka",
         "3.0",
         "India",
         "1",
         "YBK Jaiswal",
         "M Theekshana",
         "Shubman Gill",
         "4",
         "0",
         "4",
         null,
         null,
         null
        ],
        [
         "11",
         "2024-07-30",
         "Kandy",
         "Pallekele International Cricket Stadium",
         "T20",
         "2769",
         null,
         "Washington Sundar",
         "India",
         "Sri Lanka",
         "India tour of Sri Lanka",
         "3.0",
         "India",
         "1",
         "YBK Jaiswal",
         "M Theekshana",
         "Shubman Gill",
         "0",
         "0",
         "0",
         "lbw",
         "YBK Jaiswal",
         null
        ],
        [
         "12",
         "2024-07-30",
         "Kandy",
         "Pallekele International Cricket Stadium",
         "T20",
         "2769",
         null,
         "Washington Sundar",
         "India",
         "Sri Lanka",
         "India tour of Sri Lanka",
         "3.0",
         "India",
         "2",
         "Shubman Gill",
         "C Wickramasinghe",
         "SV Samson",
         "1",
         "0",
         "1",
         null,
         null,
         null
        ],
        [
         "13",
         "2024-07-30",
         "Kandy",
         "Pallekele International Cricket Stadium",
         "T20",
         "2769",
         null,
         "Washington Sundar",
         "India",
         "Sri Lanka",
         "India tour of Sri Lanka",
         "3.0",
         "India",
         "2",
         "SV Samson",
         "C Wickramasinghe",
         "Shubman Gill",
         "0",
         "0",
         "0",
         null,
         null,
         null
        ],
        [
         "14",
         "2024-07-30",
         "Kandy",
         "Pallekele International Cricket Stadium",
         "T20",
         "2769",
         null,
         "Washington Sundar",
         "India",
         "Sri Lanka",
         "India tour of Sri Lanka",
         "3.0",
         "India",
         "2",
         "SV Samson",
         "C Wickramasinghe",
         "Shubman Gill",
         "0",
         "0",
         "0",
         null,
         null,
         null
        ],
        [
         "15",
         "2024-07-30",
         "Kandy",
         "Pallekele International Cricket Stadium",
         "T20",
         "2769",
         null,
         "Washington Sundar",
         "India",
         "Sri Lanka",
         "India tour of Sri Lanka",
         "3.0",
         "India",
         "2",
         "SV Samson",
         "C Wickramasinghe",
         "Shubman Gill",
         "0",
         "0",
         "0",
         null,
         null,
         null
        ],
        [
         "16",
         "2024-07-30",
         "Kandy",
         "Pallekele International Cricket Stadium",
         "T20",
         "2769",
         null,
         "Washington Sundar",
         "India",
         "Sri Lanka",
         "India tour of Sri Lanka",
         "3.0",
         "India",
         "2",
         "SV Samson",
         "C Wickramasinghe",
         "Shubman Gill",
         "0",
         "0",
         "0",
         "caught",
         "SV Samson",
         "PWH de Silva"
        ],
        [
         "17",
         "2024-07-30",
         "Kandy",
         "Pallekele International Cricket Stadium",
         "T20",
         "2769",
         null,
         "Washington Sundar",
         "India",
         "Sri Lanka",
         "India tour of Sri Lanka",
         "3.0",
         "India",
         "2",
         "RK Singh",
         "C Wickramasinghe",
         "Shubman Gill",
         "1",
         "0",
         "1",
         null,
         null,
         null
        ],
        [
         "18",
         "2024-07-30",
         "Kandy",
         "Pallekele International Cricket Stadium",
         "T20",
         "2769",
         null,
         "Washington Sundar",
         "India",
         "Sri Lanka",
         "India tour of Sri Lanka",
         "3.0",
         "India",
         "3",
         "RK Singh",
         "M Theekshana",
         "Shubman Gill",
         "0",
         "1",
         "1",
         null,
         null,
         null
        ],
        [
         "19",
         "2024-07-30",
         "Kandy",
         "Pallekele International Cricket Stadium",
         "T20",
         "2769",
         null,
         "Washington Sundar",
         "India",
         "Sri Lanka",
         "India tour of Sri Lanka",
         "3.0",
         "India",
         "3",
         "RK Singh",
         "M Theekshana",
         "Shubman Gill",
         "0",
         "0",
         "0",
         "caught",
         "RK Singh",
         "M Pathirana"
        ],
        [
         "20",
         "2024-07-30",
         "Kandy",
         "Pallekele International Cricket Stadium",
         "T20",
         "2769",
         null,
         "Washington Sundar",
         "India",
         "Sri Lanka",
         "India tour of Sri Lanka",
         "3.0",
         "India",
         "3",
         "SA Yadav",
         "M Theekshana",
         "Shubman Gill",
         "1",
         "0",
         "1",
         null,
         null,
         null
        ],
        [
         "21",
         "2024-07-30",
         "Kandy",
         "Pallekele International Cricket Stadium",
         "T20",
         "2769",
         null,
         "Washington Sundar",
         "India",
         "Sri Lanka",
         "India tour of Sri Lanka",
         "3.0",
         "India",
         "3",
         "Shubman Gill",
         "M Theekshana",
         "SA Yadav",
         "1",
         "0",
         "1",
         null,
         null,
         null
        ],
        [
         "22",
         "2024-07-30",
         "Kandy",
         "Pallekele International Cricket Stadium",
         "T20",
         "2769",
         null,
         "Washington Sundar",
         "India",
         "Sri Lanka",
         "India tour of Sri Lanka",
         "3.0",
         "India",
         "3",
         "SA Yadav",
         "M Theekshana",
         "Shubman Gill",
         "4",
         "0",
         "4",
         null,
         null,
         null
        ],
        [
         "23",
         "2024-07-30",
         "Kandy",
         "Pallekele International Cricket Stadium",
         "T20",
         "2769",
         null,
         "Washington Sundar",
         "India",
         "Sri Lanka",
         "India tour of Sri Lanka",
         "3.0",
         "India",
         "3",
         "SA Yadav",
         "M Theekshana",
         "Shubman Gill",
         "1",
         "0",
         "1",
         null,
         null,
         null
        ],
        [
         "24",
         "2024-07-30",
         "Kandy",
         "Pallekele International Cricket Stadium",
         "T20",
         "2769",
         null,
         "Washington Sundar",
         "India",
         "Sri Lanka",
         "India tour of Sri Lanka",
         "3.0",
         "India",
         "3",
         "Shubman Gill",
         "M Theekshana",
         "SA Yadav",
         "0",
         "0",
         "0",
         null,
         null,
         null
        ],
        [
         "25",
         "2024-07-30",
         "Kandy",
         "Pallekele International Cricket Stadium",
         "T20",
         "2769",
         null,
         "Washington Sundar",
         "India",
         "Sri Lanka",
         "India tour of Sri Lanka",
         "3.0",
         "India",
         "4",
         "SA Yadav",
         "C Wickramasinghe",
         "Shubman Gill",
         "0",
         "0",
         "0",
         null,
         null,
         null
        ],
        [
         "26",
         "2024-07-30",
         "Kandy",
         "Pallekele International Cricket Stadium",
         "T20",
         "2769",
         null,
         "Washington Sundar",
         "India",
         "Sri Lanka",
         "India tour of Sri Lanka",
         "3.0",
         "India",
         "4",
         "SA Yadav",
         "C Wickramasinghe",
         "Shubman Gill",
         "0",
         "0",
         "0",
         null,
         null,
         null
        ],
        [
         "27",
         "2024-07-30",
         "Kandy",
         "Pallekele International Cricket Stadium",
         "T20",
         "2769",
         null,
         "Washington Sundar",
         "India",
         "Sri Lanka",
         "India tour of Sri Lanka",
         "3.0",
         "India",
         "4",
         "SA Yadav",
         "C Wickramasinghe",
         "Shubman Gill",
         "1",
         "0",
         "1",
         null,
         null,
         null
        ],
        [
         "28",
         "2024-07-30",
         "Kandy",
         "Pallekele International Cricket Stadium",
         "T20",
         "2769",
         null,
         "Washington Sundar",
         "India",
         "Sri Lanka",
         "India tour of Sri Lanka",
         "3.0",
         "India",
         "4",
         "Shubman Gill",
         "C Wickramasinghe",
         "SA Yadav",
         "2",
         "0",
         "2",
         null,
         null,
         null
        ],
        [
         "29",
         "2024-07-30",
         "Kandy",
         "Pallekele International Cricket Stadium",
         "T20",
         "2769",
         null,
         "Washington Sundar",
         "India",
         "Sri Lanka",
         "India tour of Sri Lanka",
         "3.0",
         "India",
         "4",
         "Shubman Gill",
         "C Wickramasinghe",
         "SA Yadav",
         "4",
         "0",
         "4",
         null,
         null,
         null
        ],
        [
         "30",
         "2024-07-30",
         "Kandy",
         "Pallekele International Cricket Stadium",
         "T20",
         "2769",
         null,
         "Washington Sundar",
         "India",
         "Sri Lanka",
         "India tour of Sri Lanka",
         "3.0",
         "India",
         "4",
         "Shubman Gill",
         "C Wickramasinghe",
         "SA Yadav",
         "0",
         "0",
         "0",
         null,
         null,
         null
        ],
        [
         "31",
         "2024-07-30",
         "Kandy",
         "Pallekele International Cricket Stadium",
         "T20",
         "2769",
         null,
         "Washington Sundar",
         "India",
         "Sri Lanka",
         "India tour of Sri Lanka",
         "3.0",
         "India",
         "5",
         "SA Yadav",
         "AM Fernando",
         "Shubman Gill",
         "0",
         "0",
         "0",
         null,
         null,
         null
        ],
        [
         "32",
         "2024-07-30",
         "Kandy",
         "Pallekele International Cricket Stadium",
         "T20",
         "2769",
         null,
         "Washington Sundar",
         "India",
         "Sri Lanka",
         "India tour of Sri Lanka",
         "3.0",
         "India",
         "5",
         "SA Yadav",
         "AM Fernando",
         "Shubman Gill",
         "1",
         "0",
         "1",
         null,
         null,
         null
        ],
        [
         "33",
         "2024-07-30",
         "Kandy",
         "Pallekele International Cricket Stadium",
         "T20",
         "2769",
         null,
         "Washington Sundar",
         "India",
         "Sri Lanka",
         "India tour of Sri Lanka",
         "3.0",
         "India",
         "5",
         "Shubman Gill",
         "AM Fernando",
         "SA Yadav",
         "1",
         "0",
         "1",
         null,
         null,
         null
        ],
        [
         "34",
         "2024-07-30",
         "Kandy",
         "Pallekele International Cricket Stadium",
         "T20",
         "2769",
         null,
         "Washington Sundar",
         "India",
         "Sri Lanka",
         "India tour of Sri Lanka",
         "3.0",
         "India",
         "5",
         "SA Yadav",
         "AM Fernando",
         "Shubman Gill",
         "0",
         "0",
         "0",
         "caught",
         "SA Yadav",
         "PWH de Silva"
        ],
        [
         "35",
         "2024-07-30",
         "Kandy",
         "Pallekele International Cricket Stadium",
         "T20",
         "2769",
         null,
         "Washington Sundar",
         "India",
         "Sri Lanka",
         "India tour of Sri Lanka",
         "3.0",
         "India",
         "5",
         "S Dube",
         "AM Fernando",
         "Shubman Gill",
         "0",
         "0",
         "0",
         null,
         null,
         null
        ],
        [
         "36",
         "2024-07-30",
         "Kandy",
         "Pallekele International Cricket Stadium",
         "T20",
         "2769",
         null,
         "Washington Sundar",
         "India",
         "Sri Lanka",
         "India tour of Sri Lanka",
         "3.0",
         "India",
         "5",
         "S Dube",
         "AM Fernando",
         "Shubman Gill",
         "0",
         "0",
         "0",
         null,
         null,
         null
        ],
        [
         "37",
         "2024-07-30",
         "Kandy",
         "Pallekele International Cricket Stadium",
         "T20",
         "2769",
         null,
         "Washington Sundar",
         "India",
         "Sri Lanka",
         "India tour of Sri Lanka",
         "3.0",
         "India",
         "6",
         "Shubman Gill",
         "C Wickramasinghe",
         "S Dube",
         "1",
         "0",
         "1",
         null,
         null,
         null
        ],
        [
         "38",
         "2024-07-30",
         "Kandy",
         "Pallekele International Cricket Stadium",
         "T20",
         "2769",
         null,
         "Washington Sundar",
         "India",
         "Sri Lanka",
         "India tour of Sri Lanka",
         "3.0",
         "India",
         "6",
         "S Dube",
         "C Wickramasinghe",
         "Shubman Gill",
         "0",
         "0",
         "0",
         null,
         null,
         null
        ],
        [
         "39",
         "2024-07-30",
         "Kandy",
         "Pallekele International Cricket Stadium",
         "T20",
         "2769",
         null,
         "Washington Sundar",
         "India",
         "Sri Lanka",
         "India tour of Sri Lanka",
         "3.0",
         "India",
         "6",
         "S Dube",
         "C Wickramasinghe",
         "Shubman Gill",
         "1",
         "0",
         "1",
         null,
         null,
         null
        ],
        [
         "40",
         "2024-07-30",
         "Kandy",
         "Pallekele International Cricket Stadium",
         "T20",
         "2769",
         null,
         "Washington Sundar",
         "India",
         "Sri Lanka",
         "India tour of Sri Lanka",
         "3.0",
         "India",
         "6",
         "Shubman Gill",
         "C Wickramasinghe",
         "S Dube",
         "1",
         "0",
         "1",
         null,
         null,
         null
        ],
        [
         "41",
         "2024-07-30",
         "Kandy",
         "Pallekele International Cricket Stadium",
         "T20",
         "2769",
         null,
         "Washington Sundar",
         "India",
         "Sri Lanka",
         "India tour of Sri Lanka",
         "3.0",
         "India",
         "6",
         "S Dube",
         "C Wickramasinghe",
         "Shubman Gill",
         "0",
         "0",
         "0",
         null,
         null,
         null
        ],
        [
         "42",
         "2024-07-30",
         "Kandy",
         "Pallekele International Cricket Stadium",
         "T20",
         "2769",
         null,
         "Washington Sundar",
         "India",
         "Sri Lanka",
         "India tour of Sri Lanka",
         "3.0",
         "India",
         "6",
         "S Dube",
         "C Wickramasinghe",
         "Shubman Gill",
         "2",
         "0",
         "2",
         null,
         null,
         null
        ],
        [
         "43",
         "2024-07-30",
         "Kandy",
         "Pallekele International Cricket Stadium",
         "T20",
         "2769",
         null,
         "Washington Sundar",
         "India",
         "Sri Lanka",
         "India tour of Sri Lanka",
         "3.0",
         "India",
         "7",
         "Shubman Gill",
         "AM Fernando",
         "S Dube",
         "1",
         "0",
         "1",
         null,
         null,
         null
        ],
        [
         "44",
         "2024-07-30",
         "Kandy",
         "Pallekele International Cricket Stadium",
         "T20",
         "2769",
         null,
         "Washington Sundar",
         "India",
         "Sri Lanka",
         "India tour of Sri Lanka",
         "3.0",
         "India",
         "7",
         "S Dube",
         "AM Fernando",
         "Shubman Gill",
         "0",
         "0",
         "0",
         null,
         null,
         null
        ],
        [
         "45",
         "2024-07-30",
         "Kandy",
         "Pallekele International Cricket Stadium",
         "T20",
         "2769",
         null,
         "Washington Sundar",
         "India",
         "Sri Lanka",
         "India tour of Sri Lanka",
         "3.0",
         "India",
         "7",
         "S Dube",
         "AM Fernando",
         "Shubman Gill",
         "2",
         "0",
         "2",
         null,
         null,
         null
        ],
        [
         "46",
         "2024-07-30",
         "Kandy",
         "Pallekele International Cricket Stadium",
         "T20",
         "2769",
         null,
         "Washington Sundar",
         "India",
         "Sri Lanka",
         "India tour of Sri Lanka",
         "3.0",
         "India",
         "7",
         "S Dube",
         "AM Fernando",
         "Shubman Gill",
         "2",
         "0",
         "2",
         null,
         null,
         null
        ],
        [
         "47",
         "2024-07-30",
         "Kandy",
         "Pallekele International Cricket Stadium",
         "T20",
         "2769",
         null,
         "Washington Sundar",
         "India",
         "Sri Lanka",
         "India tour of Sri Lanka",
         "3.0",
         "India",
         "7",
         "S Dube",
         "AM Fernando",
         "Shubman Gill",
         "2",
         "0",
         "2",
         null,
         null,
         null
        ],
        [
         "48",
         "2024-07-30",
         "Kandy",
         "Pallekele International Cricket Stadium",
         "T20",
         "2769",
         null,
         "Washington Sundar",
         "India",
         "Sri Lanka",
         "India tour of Sri Lanka",
         "3.0",
         "India",
         "7",
         "S Dube",
         "AM Fernando",
         "Shubman Gill",
         "0",
         "1",
         "1",
         null,
         null,
         null
        ],
        [
         "49",
         "2024-07-30",
         "Kandy",
         "Pallekele International Cricket Stadium",
         "T20",
         "2769",
         null,
         "Washington Sundar",
         "India",
         "Sri Lanka",
         "India tour of Sri Lanka",
         "3.0",
         "India",
         "7",
         "S Dube",
         "AM Fernando",
         "Shubman Gill",
         "1",
         "0",
         "1",
         null,
         null,
         null
        ]
       ],
       "shape": {
        "columns": 22,
        "rows": 917211
       }
      },
      "text/html": [
       "<div>\n",
       "<style scoped>\n",
       "    .dataframe tbody tr th:only-of-type {\n",
       "        vertical-align: middle;\n",
       "    }\n",
       "\n",
       "    .dataframe tbody tr th {\n",
       "        vertical-align: top;\n",
       "    }\n",
       "\n",
       "    .dataframe thead th {\n",
       "        text-align: right;\n",
       "    }\n",
       "</style>\n",
       "<table border=\"1\" class=\"dataframe\">\n",
       "  <thead>\n",
       "    <tr style=\"text-align: right;\">\n",
       "      <th></th>\n",
       "      <th>match_date</th>\n",
       "      <th>city</th>\n",
       "      <th>venue</th>\n",
       "      <th>match_type</th>\n",
       "      <th>match_number</th>\n",
       "      <th>winner</th>\n",
       "      <th>player_of_match</th>\n",
       "      <th>team1</th>\n",
       "      <th>team2</th>\n",
       "      <th>event_name</th>\n",
       "      <th>...</th>\n",
       "      <th>overs</th>\n",
       "      <th>batter</th>\n",
       "      <th>bowler</th>\n",
       "      <th>non_striker</th>\n",
       "      <th>runs_batter</th>\n",
       "      <th>runs_extras</th>\n",
       "      <th>runs_total</th>\n",
       "      <th>wicket_type</th>\n",
       "      <th>player_out</th>\n",
       "      <th>fielder</th>\n",
       "    </tr>\n",
       "  </thead>\n",
       "  <tbody>\n",
       "    <tr>\n",
       "      <th>0</th>\n",
       "      <td>2024-07-30</td>\n",
       "      <td>Kandy</td>\n",
       "      <td>Pallekele International Cricket Stadium</td>\n",
       "      <td>T20</td>\n",
       "      <td>2769</td>\n",
       "      <td>None</td>\n",
       "      <td>Washington Sundar</td>\n",
       "      <td>India</td>\n",
       "      <td>Sri Lanka</td>\n",
       "      <td>India tour of Sri Lanka</td>\n",
       "      <td>...</td>\n",
       "      <td>0</td>\n",
       "      <td>YBK Jaiswal</td>\n",
       "      <td>C Wickramasinghe</td>\n",
       "      <td>Shubman Gill</td>\n",
       "      <td>0</td>\n",
       "      <td>0</td>\n",
       "      <td>0</td>\n",
       "      <td>None</td>\n",
       "      <td>None</td>\n",
       "      <td>None</td>\n",
       "    </tr>\n",
       "    <tr>\n",
       "      <th>1</th>\n",
       "      <td>2024-07-30</td>\n",
       "      <td>Kandy</td>\n",
       "      <td>Pallekele International Cricket Stadium</td>\n",
       "      <td>T20</td>\n",
       "      <td>2769</td>\n",
       "      <td>None</td>\n",
       "      <td>Washington Sundar</td>\n",
       "      <td>India</td>\n",
       "      <td>Sri Lanka</td>\n",
       "      <td>India tour of Sri Lanka</td>\n",
       "      <td>...</td>\n",
       "      <td>0</td>\n",
       "      <td>YBK Jaiswal</td>\n",
       "      <td>C Wickramasinghe</td>\n",
       "      <td>Shubman Gill</td>\n",
       "      <td>1</td>\n",
       "      <td>0</td>\n",
       "      <td>1</td>\n",
       "      <td>None</td>\n",
       "      <td>None</td>\n",
       "      <td>None</td>\n",
       "    </tr>\n",
       "    <tr>\n",
       "      <th>2</th>\n",
       "      <td>2024-07-30</td>\n",
       "      <td>Kandy</td>\n",
       "      <td>Pallekele International Cricket Stadium</td>\n",
       "      <td>T20</td>\n",
       "      <td>2769</td>\n",
       "      <td>None</td>\n",
       "      <td>Washington Sundar</td>\n",
       "      <td>India</td>\n",
       "      <td>Sri Lanka</td>\n",
       "      <td>India tour of Sri Lanka</td>\n",
       "      <td>...</td>\n",
       "      <td>0</td>\n",
       "      <td>Shubman Gill</td>\n",
       "      <td>C Wickramasinghe</td>\n",
       "      <td>YBK Jaiswal</td>\n",
       "      <td>0</td>\n",
       "      <td>0</td>\n",
       "      <td>0</td>\n",
       "      <td>None</td>\n",
       "      <td>None</td>\n",
       "      <td>None</td>\n",
       "    </tr>\n",
       "    <tr>\n",
       "      <th>3</th>\n",
       "      <td>2024-07-30</td>\n",
       "      <td>Kandy</td>\n",
       "      <td>Pallekele International Cricket Stadium</td>\n",
       "      <td>T20</td>\n",
       "      <td>2769</td>\n",
       "      <td>None</td>\n",
       "      <td>Washington Sundar</td>\n",
       "      <td>India</td>\n",
       "      <td>Sri Lanka</td>\n",
       "      <td>India tour of Sri Lanka</td>\n",
       "      <td>...</td>\n",
       "      <td>0</td>\n",
       "      <td>Shubman Gill</td>\n",
       "      <td>C Wickramasinghe</td>\n",
       "      <td>YBK Jaiswal</td>\n",
       "      <td>1</td>\n",
       "      <td>0</td>\n",
       "      <td>1</td>\n",
       "      <td>None</td>\n",
       "      <td>None</td>\n",
       "      <td>None</td>\n",
       "    </tr>\n",
       "    <tr>\n",
       "      <th>4</th>\n",
       "      <td>2024-07-30</td>\n",
       "      <td>Kandy</td>\n",
       "      <td>Pallekele International Cricket Stadium</td>\n",
       "      <td>T20</td>\n",
       "      <td>2769</td>\n",
       "      <td>None</td>\n",
       "      <td>Washington Sundar</td>\n",
       "      <td>India</td>\n",
       "      <td>Sri Lanka</td>\n",
       "      <td>India tour of Sri Lanka</td>\n",
       "      <td>...</td>\n",
       "      <td>0</td>\n",
       "      <td>YBK Jaiswal</td>\n",
       "      <td>C Wickramasinghe</td>\n",
       "      <td>Shubman Gill</td>\n",
       "      <td>1</td>\n",
       "      <td>0</td>\n",
       "      <td>1</td>\n",
       "      <td>None</td>\n",
       "      <td>None</td>\n",
       "      <td>None</td>\n",
       "    </tr>\n",
       "    <tr>\n",
       "      <th>...</th>\n",
       "      <td>...</td>\n",
       "      <td>...</td>\n",
       "      <td>...</td>\n",
       "      <td>...</td>\n",
       "      <td>...</td>\n",
       "      <td>...</td>\n",
       "      <td>...</td>\n",
       "      <td>...</td>\n",
       "      <td>...</td>\n",
       "      <td>...</td>\n",
       "      <td>...</td>\n",
       "      <td>...</td>\n",
       "      <td>...</td>\n",
       "      <td>...</td>\n",
       "      <td>...</td>\n",
       "      <td>...</td>\n",
       "      <td>...</td>\n",
       "      <td>...</td>\n",
       "      <td>...</td>\n",
       "      <td>...</td>\n",
       "      <td>...</td>\n",
       "    </tr>\n",
       "    <tr>\n",
       "      <th>917206</th>\n",
       "      <td>2019-11-05</td>\n",
       "      <td>Nelson</td>\n",
       "      <td>Saxton Oval</td>\n",
       "      <td>T20</td>\n",
       "      <td>1001</td>\n",
       "      <td>New Zealand</td>\n",
       "      <td>C de Grandhomme</td>\n",
       "      <td>New Zealand</td>\n",
       "      <td>England</td>\n",
       "      <td>England tour of New Zealand</td>\n",
       "      <td>...</td>\n",
       "      <td>19</td>\n",
       "      <td>TK Curran</td>\n",
       "      <td>TG Southee</td>\n",
       "      <td>S Mahmood</td>\n",
       "      <td>0</td>\n",
       "      <td>0</td>\n",
       "      <td>0</td>\n",
       "      <td>None</td>\n",
       "      <td>None</td>\n",
       "      <td>None</td>\n",
       "    </tr>\n",
       "    <tr>\n",
       "      <th>917207</th>\n",
       "      <td>2019-11-05</td>\n",
       "      <td>Nelson</td>\n",
       "      <td>Saxton Oval</td>\n",
       "      <td>T20</td>\n",
       "      <td>1001</td>\n",
       "      <td>New Zealand</td>\n",
       "      <td>C de Grandhomme</td>\n",
       "      <td>New Zealand</td>\n",
       "      <td>England</td>\n",
       "      <td>England tour of New Zealand</td>\n",
       "      <td>...</td>\n",
       "      <td>19</td>\n",
       "      <td>TK Curran</td>\n",
       "      <td>TG Southee</td>\n",
       "      <td>S Mahmood</td>\n",
       "      <td>1</td>\n",
       "      <td>0</td>\n",
       "      <td>1</td>\n",
       "      <td>None</td>\n",
       "      <td>None</td>\n",
       "      <td>None</td>\n",
       "    </tr>\n",
       "    <tr>\n",
       "      <th>917208</th>\n",
       "      <td>2019-11-05</td>\n",
       "      <td>Nelson</td>\n",
       "      <td>Saxton Oval</td>\n",
       "      <td>T20</td>\n",
       "      <td>1001</td>\n",
       "      <td>New Zealand</td>\n",
       "      <td>C de Grandhomme</td>\n",
       "      <td>New Zealand</td>\n",
       "      <td>England</td>\n",
       "      <td>England tour of New Zealand</td>\n",
       "      <td>...</td>\n",
       "      <td>19</td>\n",
       "      <td>S Mahmood</td>\n",
       "      <td>TG Southee</td>\n",
       "      <td>TK Curran</td>\n",
       "      <td>0</td>\n",
       "      <td>0</td>\n",
       "      <td>0</td>\n",
       "      <td>None</td>\n",
       "      <td>None</td>\n",
       "      <td>None</td>\n",
       "    </tr>\n",
       "    <tr>\n",
       "      <th>917209</th>\n",
       "      <td>2019-11-05</td>\n",
       "      <td>Nelson</td>\n",
       "      <td>Saxton Oval</td>\n",
       "      <td>T20</td>\n",
       "      <td>1001</td>\n",
       "      <td>New Zealand</td>\n",
       "      <td>C de Grandhomme</td>\n",
       "      <td>New Zealand</td>\n",
       "      <td>England</td>\n",
       "      <td>England tour of New Zealand</td>\n",
       "      <td>...</td>\n",
       "      <td>19</td>\n",
       "      <td>S Mahmood</td>\n",
       "      <td>TG Southee</td>\n",
       "      <td>TK Curran</td>\n",
       "      <td>1</td>\n",
       "      <td>0</td>\n",
       "      <td>1</td>\n",
       "      <td>None</td>\n",
       "      <td>None</td>\n",
       "      <td>None</td>\n",
       "    </tr>\n",
       "    <tr>\n",
       "      <th>917210</th>\n",
       "      <td>2019-11-05</td>\n",
       "      <td>Nelson</td>\n",
       "      <td>Saxton Oval</td>\n",
       "      <td>T20</td>\n",
       "      <td>1001</td>\n",
       "      <td>New Zealand</td>\n",
       "      <td>C de Grandhomme</td>\n",
       "      <td>New Zealand</td>\n",
       "      <td>England</td>\n",
       "      <td>England tour of New Zealand</td>\n",
       "      <td>...</td>\n",
       "      <td>19</td>\n",
       "      <td>TK Curran</td>\n",
       "      <td>TG Southee</td>\n",
       "      <td>S Mahmood</td>\n",
       "      <td>2</td>\n",
       "      <td>0</td>\n",
       "      <td>2</td>\n",
       "      <td>None</td>\n",
       "      <td>None</td>\n",
       "      <td>None</td>\n",
       "    </tr>\n",
       "  </tbody>\n",
       "</table>\n",
       "<p>917211 rows × 22 columns</p>\n",
       "</div>"
      ],
      "text/plain": [
       "        match_date    city                                    venue  \\\n",
       "0       2024-07-30   Kandy  Pallekele International Cricket Stadium   \n",
       "1       2024-07-30   Kandy  Pallekele International Cricket Stadium   \n",
       "2       2024-07-30   Kandy  Pallekele International Cricket Stadium   \n",
       "3       2024-07-30   Kandy  Pallekele International Cricket Stadium   \n",
       "4       2024-07-30   Kandy  Pallekele International Cricket Stadium   \n",
       "...            ...     ...                                      ...   \n",
       "917206  2019-11-05  Nelson                              Saxton Oval   \n",
       "917207  2019-11-05  Nelson                              Saxton Oval   \n",
       "917208  2019-11-05  Nelson                              Saxton Oval   \n",
       "917209  2019-11-05  Nelson                              Saxton Oval   \n",
       "917210  2019-11-05  Nelson                              Saxton Oval   \n",
       "\n",
       "       match_type  match_number       winner    player_of_match        team1  \\\n",
       "0             T20          2769         None  Washington Sundar        India   \n",
       "1             T20          2769         None  Washington Sundar        India   \n",
       "2             T20          2769         None  Washington Sundar        India   \n",
       "3             T20          2769         None  Washington Sundar        India   \n",
       "4             T20          2769         None  Washington Sundar        India   \n",
       "...           ...           ...          ...                ...          ...   \n",
       "917206        T20          1001  New Zealand    C de Grandhomme  New Zealand   \n",
       "917207        T20          1001  New Zealand    C de Grandhomme  New Zealand   \n",
       "917208        T20          1001  New Zealand    C de Grandhomme  New Zealand   \n",
       "917209        T20          1001  New Zealand    C de Grandhomme  New Zealand   \n",
       "917210        T20          1001  New Zealand    C de Grandhomme  New Zealand   \n",
       "\n",
       "            team2                   event_name  ...  overs        batter  \\\n",
       "0       Sri Lanka      India tour of Sri Lanka  ...      0   YBK Jaiswal   \n",
       "1       Sri Lanka      India tour of Sri Lanka  ...      0   YBK Jaiswal   \n",
       "2       Sri Lanka      India tour of Sri Lanka  ...      0  Shubman Gill   \n",
       "3       Sri Lanka      India tour of Sri Lanka  ...      0  Shubman Gill   \n",
       "4       Sri Lanka      India tour of Sri Lanka  ...      0   YBK Jaiswal   \n",
       "...           ...                          ...  ...    ...           ...   \n",
       "917206    England  England tour of New Zealand  ...     19     TK Curran   \n",
       "917207    England  England tour of New Zealand  ...     19     TK Curran   \n",
       "917208    England  England tour of New Zealand  ...     19     S Mahmood   \n",
       "917209    England  England tour of New Zealand  ...     19     S Mahmood   \n",
       "917210    England  England tour of New Zealand  ...     19     TK Curran   \n",
       "\n",
       "                  bowler   non_striker runs_batter runs_extras  runs_total  \\\n",
       "0       C Wickramasinghe  Shubman Gill           0           0           0   \n",
       "1       C Wickramasinghe  Shubman Gill           1           0           1   \n",
       "2       C Wickramasinghe   YBK Jaiswal           0           0           0   \n",
       "3       C Wickramasinghe   YBK Jaiswal           1           0           1   \n",
       "4       C Wickramasinghe  Shubman Gill           1           0           1   \n",
       "...                  ...           ...         ...         ...         ...   \n",
       "917206        TG Southee     S Mahmood           0           0           0   \n",
       "917207        TG Southee     S Mahmood           1           0           1   \n",
       "917208        TG Southee     TK Curran           0           0           0   \n",
       "917209        TG Southee     TK Curran           1           0           1   \n",
       "917210        TG Southee     S Mahmood           2           0           2   \n",
       "\n",
       "        wicket_type  player_out fielder  \n",
       "0              None        None    None  \n",
       "1              None        None    None  \n",
       "2              None        None    None  \n",
       "3              None        None    None  \n",
       "4              None        None    None  \n",
       "...             ...         ...     ...  \n",
       "917206         None        None    None  \n",
       "917207         None        None    None  \n",
       "917208         None        None    None  \n",
       "917209         None        None    None  \n",
       "917210         None        None    None  \n",
       "\n",
       "[917211 rows x 22 columns]"
      ]
     },
     "execution_count": 4,
     "metadata": {},
     "output_type": "execute_result"
    }
   ],
   "source": [
    "import os\n",
    "import pandas as pd\n",
    "import json\n",
    "\n",
    "class CricketMatchData:\n",
    "    def __init__(self, json_data):\n",
    "        self.data = json_data\n",
    "\n",
    "    def create_dataframe(self):\n",
    "        rows = []\n",
    "\n",
    "        # Extract common information from the info section\n",
    "        info = self.data['info']\n",
    "        meta = self.data['meta']\n",
    "        common_data = {\n",
    "            'match_date': info['dates'][0],\n",
    "            'city': info.get('city', None),\n",
    "            'venue': info.get('venue', None),\n",
    "            'match_type': info.get('match_type', None),\n",
    "            'match_number': info.get('match_type_number', None),\n",
    "            'winner': info.get('outcome', {}).get('winner', None),\n",
    "            'player_of_match': info.get('player_of_match', [None])[0],\n",
    "            'team1': info['teams'][0],\n",
    "            'team2': info['teams'][1]\n",
    "        }\n",
    "\n",
    "        # Include event details if present\n",
    "        if 'event' in info:\n",
    "            common_data['event_name'] = info['event'].get('name', None)\n",
    "            common_data['event_match_number'] = info['event'].get('match_number', None)\n",
    "\n",
    "        # Iterate through innings and deliveries\n",
    "        for inning in self.data['innings']:\n",
    "            team = inning['team']\n",
    "\n",
    "            for over in inning['overs']:\n",
    "                over_number = over['over']\n",
    "\n",
    "                for delivery in over['deliveries']:\n",
    "                    row = {\n",
    "                        **common_data,  # Add common data using unpacking operator ** \n",
    "                        'batting_team': team,\n",
    "                        'overs': over_number,\n",
    "                        'batter': delivery['batter'],\n",
    "                        'bowler': delivery['bowler'],\n",
    "                        'non_striker': delivery['non_striker'],\n",
    "                        'runs_batter': delivery['runs']['batter'],\n",
    "                        'runs_extras': delivery['runs']['extras'],\n",
    "                        'runs_total': delivery['runs']['total'],\n",
    "                        'wicket_type': None,\n",
    "                        'player_out': None,\n",
    "                        'fielder': None\n",
    "                    }\n",
    "\n",
    "                    # Check for wickets\n",
    "                    if 'wickets' in delivery:\n",
    "                        row['wicket_type'] = delivery['wickets'][0]['kind']\n",
    "                        row['player_out'] = delivery['wickets'][0]['player_out']\n",
    "                        if 'fielders' in delivery['wickets'][0]:\n",
    "                            if \"name\" in delivery['wickets'][0]['fielders'][0]:\n",
    "                                row['fielder'] = delivery['wickets'][0]['fielders'][0]['name']\n",
    "                            elif 'substitute' in delivery['wickets'][0]['fielders'][0]:\n",
    "                                row['fielder'] = None\n",
    "                                \n",
    "                    rows.append(row)\n",
    "\n",
    "        # Create DataFrame\n",
    "        return pd.DataFrame(rows)\n",
    "\n",
    "\n",
    "def process_cricket_data(folder_path):\n",
    "    all_dataframes = []\n",
    "\n",
    "    # Iterate through all files in the folder\n",
    "    for file_name in os.listdir(folder_path):\n",
    "        # Check if the file is a JSON file\n",
    "        if file_name.endswith('.json'):\n",
    "            file_path = os.path.join(folder_path, file_name)\n",
    "            try:\n",
    "                # Read the JSON file\n",
    "                with open(file_path, 'r') as json_file:\n",
    "                    json_data = json.load(json_file)\n",
    "\n",
    "                # Process the data using CricketMatchData class\n",
    "                cricket_data = CricketMatchData(json_data)\n",
    "                df = cricket_data.create_dataframe()\n",
    "\n",
    "                # Append the resulting DataFrame\n",
    "                all_dataframes.append(df)\n",
    "\n",
    "            except Exception as e:\n",
    "                print(f\"Error processing file {file_name}: {e}\")\n",
    "\n",
    "    # Combine all DataFrames into one\n",
    "    if all_dataframes:\n",
    "        final_dataframe = pd.concat(all_dataframes, ignore_index=True)\n",
    "        return final_dataframe\n",
    "    else:\n",
    "        print(\"No valid dataframes were created.\")\n",
    "        return pd.DataFrame()  # Return an empty DataFrame if no data was processed\n",
    "\n",
    "# Example usage\n",
    "folder_path = \"/Users/muralidharanv/Documents/GUVI /PROJECTS/Cricket Matchsheet Analysis/Data/t20s_json\"  # Data folder path\n",
    "t20s_df = process_cricket_data(folder_path)\n",
    "\n",
    "t20s_df"
   ]
  },
  {
   "cell_type": "markdown",
   "metadata": {},
   "source": [
    "## Test Data Frame"
   ]
  },
  {
   "cell_type": "code",
   "execution_count": 5,
   "metadata": {},
   "outputs": [
    {
     "name": "stderr",
     "output_type": "stream",
     "text": [
      "/var/folders/q9/1vgcrp_s61j9_p6vmrcdf1h00000gn/T/ipykernel_3296/654683784.py:97: FutureWarning: The behavior of DataFrame concatenation with empty or all-NA entries is deprecated. In a future version, this will no longer exclude empty or all-NA columns when determining the result dtypes. To retain the old behavior, exclude the relevant entries before the concat operation.\n",
      "  final_dataframe = pd.concat(all_dataframes, ignore_index=True)\n"
     ]
    },
    {
     "data": {
      "application/vnd.microsoft.datawrangler.viewer.v0+json": {
       "columns": [
        {
         "name": "index",
         "rawType": "int64",
         "type": "integer"
        },
        {
         "name": "match_start_date",
         "rawType": "object",
         "type": "string"
        },
        {
         "name": "match_end_date",
         "rawType": "object",
         "type": "string"
        },
        {
         "name": "city",
         "rawType": "object",
         "type": "unknown"
        },
        {
         "name": "venue",
         "rawType": "object",
         "type": "string"
        },
        {
         "name": "match_type",
         "rawType": "object",
         "type": "string"
        },
        {
         "name": "match_number",
         "rawType": "int64",
         "type": "integer"
        },
        {
         "name": "winner",
         "rawType": "object",
         "type": "unknown"
        },
        {
         "name": "player_of_match",
         "rawType": "object",
         "type": "unknown"
        },
        {
         "name": "team1",
         "rawType": "object",
         "type": "string"
        },
        {
         "name": "team2",
         "rawType": "object",
         "type": "string"
        },
        {
         "name": "event_name",
         "rawType": "object",
         "type": "unknown"
        },
        {
         "name": "event_match_number",
         "rawType": "float64",
         "type": "float"
        },
        {
         "name": "batting_team",
         "rawType": "object",
         "type": "string"
        },
        {
         "name": "overs",
         "rawType": "int64",
         "type": "integer"
        },
        {
         "name": "batter",
         "rawType": "object",
         "type": "string"
        },
        {
         "name": "bowler",
         "rawType": "object",
         "type": "string"
        },
        {
         "name": "non_striker",
         "rawType": "object",
         "type": "string"
        },
        {
         "name": "runs_batter",
         "rawType": "int64",
         "type": "integer"
        },
        {
         "name": "runs_extras",
         "rawType": "int64",
         "type": "integer"
        },
        {
         "name": "runs_total",
         "rawType": "int64",
         "type": "integer"
        },
        {
         "name": "wicket_type",
         "rawType": "object",
         "type": "unknown"
        },
        {
         "name": "player_out",
         "rawType": "object",
         "type": "unknown"
        },
        {
         "name": "fielder",
         "rawType": "object",
         "type": "unknown"
        }
       ],
       "conversionMethod": "pd.DataFrame",
       "ref": "02e6445c-4c90-4086-aa04-a73efd39e229",
       "rows": [
        [
         "0",
         "2020-12-17",
         "2020-12-19",
         "Adelaide",
         "Adelaide Oval",
         "Test",
         "2396",
         "Australia",
         "TD Paine",
         "India",
         "Australia",
         "India tour of Australia",
         "1.0",
         "India",
         "0",
         "PP Shaw",
         "MA Starc",
         "MA Agarwal",
         "0",
         "0",
         "0",
         null,
         null,
         null
        ],
        [
         "1",
         "2020-12-17",
         "2020-12-19",
         "Adelaide",
         "Adelaide Oval",
         "Test",
         "2396",
         "Australia",
         "TD Paine",
         "India",
         "Australia",
         "India tour of Australia",
         "1.0",
         "India",
         "0",
         "PP Shaw",
         "MA Starc",
         "MA Agarwal",
         "0",
         "0",
         "0",
         "bowled",
         "PP Shaw",
         null
        ],
        [
         "2",
         "2020-12-17",
         "2020-12-19",
         "Adelaide",
         "Adelaide Oval",
         "Test",
         "2396",
         "Australia",
         "TD Paine",
         "India",
         "Australia",
         "India tour of Australia",
         "1.0",
         "India",
         "0",
         "CA Pujara",
         "MA Starc",
         "MA Agarwal",
         "0",
         "0",
         "0",
         null,
         null,
         null
        ],
        [
         "3",
         "2020-12-17",
         "2020-12-19",
         "Adelaide",
         "Adelaide Oval",
         "Test",
         "2396",
         "Australia",
         "TD Paine",
         "India",
         "Australia",
         "India tour of Australia",
         "1.0",
         "India",
         "0",
         "CA Pujara",
         "MA Starc",
         "MA Agarwal",
         "1",
         "0",
         "1",
         null,
         null,
         null
        ],
        [
         "4",
         "2020-12-17",
         "2020-12-19",
         "Adelaide",
         "Adelaide Oval",
         "Test",
         "2396",
         "Australia",
         "TD Paine",
         "India",
         "Australia",
         "India tour of Australia",
         "1.0",
         "India",
         "0",
         "MA Agarwal",
         "MA Starc",
         "CA Pujara",
         "0",
         "0",
         "0",
         null,
         null,
         null
        ],
        [
         "5",
         "2020-12-17",
         "2020-12-19",
         "Adelaide",
         "Adelaide Oval",
         "Test",
         "2396",
         "Australia",
         "TD Paine",
         "India",
         "Australia",
         "India tour of Australia",
         "1.0",
         "India",
         "0",
         "MA Agarwal",
         "MA Starc",
         "CA Pujara",
         "0",
         "0",
         "0",
         null,
         null,
         null
        ],
        [
         "6",
         "2020-12-17",
         "2020-12-19",
         "Adelaide",
         "Adelaide Oval",
         "Test",
         "2396",
         "Australia",
         "TD Paine",
         "India",
         "Australia",
         "India tour of Australia",
         "1.0",
         "India",
         "1",
         "CA Pujara",
         "JR Hazlewood",
         "MA Agarwal",
         "0",
         "0",
         "0",
         null,
         null,
         null
        ],
        [
         "7",
         "2020-12-17",
         "2020-12-19",
         "Adelaide",
         "Adelaide Oval",
         "Test",
         "2396",
         "Australia",
         "TD Paine",
         "India",
         "Australia",
         "India tour of Australia",
         "1.0",
         "India",
         "1",
         "CA Pujara",
         "JR Hazlewood",
         "MA Agarwal",
         "0",
         "0",
         "0",
         null,
         null,
         null
        ],
        [
         "8",
         "2020-12-17",
         "2020-12-19",
         "Adelaide",
         "Adelaide Oval",
         "Test",
         "2396",
         "Australia",
         "TD Paine",
         "India",
         "Australia",
         "India tour of Australia",
         "1.0",
         "India",
         "1",
         "CA Pujara",
         "JR Hazlewood",
         "MA Agarwal",
         "0",
         "0",
         "0",
         null,
         null,
         null
        ],
        [
         "9",
         "2020-12-17",
         "2020-12-19",
         "Adelaide",
         "Adelaide Oval",
         "Test",
         "2396",
         "Australia",
         "TD Paine",
         "India",
         "Australia",
         "India tour of Australia",
         "1.0",
         "India",
         "1",
         "CA Pujara",
         "JR Hazlewood",
         "MA Agarwal",
         "0",
         "0",
         "0",
         null,
         null,
         null
        ],
        [
         "10",
         "2020-12-17",
         "2020-12-19",
         "Adelaide",
         "Adelaide Oval",
         "Test",
         "2396",
         "Australia",
         "TD Paine",
         "India",
         "Australia",
         "India tour of Australia",
         "1.0",
         "India",
         "1",
         "CA Pujara",
         "JR Hazlewood",
         "MA Agarwal",
         "0",
         "0",
         "0",
         null,
         null,
         null
        ],
        [
         "11",
         "2020-12-17",
         "2020-12-19",
         "Adelaide",
         "Adelaide Oval",
         "Test",
         "2396",
         "Australia",
         "TD Paine",
         "India",
         "Australia",
         "India tour of Australia",
         "1.0",
         "India",
         "1",
         "CA Pujara",
         "JR Hazlewood",
         "MA Agarwal",
         "0",
         "0",
         "0",
         null,
         null,
         null
        ],
        [
         "12",
         "2020-12-17",
         "2020-12-19",
         "Adelaide",
         "Adelaide Oval",
         "Test",
         "2396",
         "Australia",
         "TD Paine",
         "India",
         "Australia",
         "India tour of Australia",
         "1.0",
         "India",
         "2",
         "MA Agarwal",
         "MA Starc",
         "CA Pujara",
         "0",
         "0",
         "0",
         null,
         null,
         null
        ],
        [
         "13",
         "2020-12-17",
         "2020-12-19",
         "Adelaide",
         "Adelaide Oval",
         "Test",
         "2396",
         "Australia",
         "TD Paine",
         "India",
         "Australia",
         "India tour of Australia",
         "1.0",
         "India",
         "2",
         "MA Agarwal",
         "MA Starc",
         "CA Pujara",
         "0",
         "0",
         "0",
         null,
         null,
         null
        ],
        [
         "14",
         "2020-12-17",
         "2020-12-19",
         "Adelaide",
         "Adelaide Oval",
         "Test",
         "2396",
         "Australia",
         "TD Paine",
         "India",
         "Australia",
         "India tour of Australia",
         "1.0",
         "India",
         "2",
         "MA Agarwal",
         "MA Starc",
         "CA Pujara",
         "1",
         "0",
         "1",
         null,
         null,
         null
        ],
        [
         "15",
         "2020-12-17",
         "2020-12-19",
         "Adelaide",
         "Adelaide Oval",
         "Test",
         "2396",
         "Australia",
         "TD Paine",
         "India",
         "Australia",
         "India tour of Australia",
         "1.0",
         "India",
         "2",
         "CA Pujara",
         "MA Starc",
         "MA Agarwal",
         "0",
         "0",
         "0",
         null,
         null,
         null
        ],
        [
         "16",
         "2020-12-17",
         "2020-12-19",
         "Adelaide",
         "Adelaide Oval",
         "Test",
         "2396",
         "Australia",
         "TD Paine",
         "India",
         "Australia",
         "India tour of Australia",
         "1.0",
         "India",
         "2",
         "CA Pujara",
         "MA Starc",
         "MA Agarwal",
         "0",
         "0",
         "0",
         null,
         null,
         null
        ],
        [
         "17",
         "2020-12-17",
         "2020-12-19",
         "Adelaide",
         "Adelaide Oval",
         "Test",
         "2396",
         "Australia",
         "TD Paine",
         "India",
         "Australia",
         "India tour of Australia",
         "1.0",
         "India",
         "2",
         "CA Pujara",
         "MA Starc",
         "MA Agarwal",
         "0",
         "0",
         "0",
         null,
         null,
         null
        ],
        [
         "18",
         "2020-12-17",
         "2020-12-19",
         "Adelaide",
         "Adelaide Oval",
         "Test",
         "2396",
         "Australia",
         "TD Paine",
         "India",
         "Australia",
         "India tour of Australia",
         "1.0",
         "India",
         "3",
         "MA Agarwal",
         "JR Hazlewood",
         "CA Pujara",
         "0",
         "0",
         "0",
         null,
         null,
         null
        ],
        [
         "19",
         "2020-12-17",
         "2020-12-19",
         "Adelaide",
         "Adelaide Oval",
         "Test",
         "2396",
         "Australia",
         "TD Paine",
         "India",
         "Australia",
         "India tour of Australia",
         "1.0",
         "India",
         "3",
         "MA Agarwal",
         "JR Hazlewood",
         "CA Pujara",
         "0",
         "0",
         "0",
         null,
         null,
         null
        ],
        [
         "20",
         "2020-12-17",
         "2020-12-19",
         "Adelaide",
         "Adelaide Oval",
         "Test",
         "2396",
         "Australia",
         "TD Paine",
         "India",
         "Australia",
         "India tour of Australia",
         "1.0",
         "India",
         "3",
         "MA Agarwal",
         "JR Hazlewood",
         "CA Pujara",
         "0",
         "0",
         "0",
         null,
         null,
         null
        ],
        [
         "21",
         "2020-12-17",
         "2020-12-19",
         "Adelaide",
         "Adelaide Oval",
         "Test",
         "2396",
         "Australia",
         "TD Paine",
         "India",
         "Australia",
         "India tour of Australia",
         "1.0",
         "India",
         "3",
         "MA Agarwal",
         "JR Hazlewood",
         "CA Pujara",
         "0",
         "0",
         "0",
         null,
         null,
         null
        ],
        [
         "22",
         "2020-12-17",
         "2020-12-19",
         "Adelaide",
         "Adelaide Oval",
         "Test",
         "2396",
         "Australia",
         "TD Paine",
         "India",
         "Australia",
         "India tour of Australia",
         "1.0",
         "India",
         "3",
         "MA Agarwal",
         "JR Hazlewood",
         "CA Pujara",
         "3",
         "0",
         "3",
         null,
         null,
         null
        ],
        [
         "23",
         "2020-12-17",
         "2020-12-19",
         "Adelaide",
         "Adelaide Oval",
         "Test",
         "2396",
         "Australia",
         "TD Paine",
         "India",
         "Australia",
         "India tour of Australia",
         "1.0",
         "India",
         "3",
         "CA Pujara",
         "JR Hazlewood",
         "MA Agarwal",
         "0",
         "0",
         "0",
         null,
         null,
         null
        ],
        [
         "24",
         "2020-12-17",
         "2020-12-19",
         "Adelaide",
         "Adelaide Oval",
         "Test",
         "2396",
         "Australia",
         "TD Paine",
         "India",
         "Australia",
         "India tour of Australia",
         "1.0",
         "India",
         "4",
         "MA Agarwal",
         "MA Starc",
         "CA Pujara",
         "0",
         "0",
         "0",
         null,
         null,
         null
        ],
        [
         "25",
         "2020-12-17",
         "2020-12-19",
         "Adelaide",
         "Adelaide Oval",
         "Test",
         "2396",
         "Australia",
         "TD Paine",
         "India",
         "Australia",
         "India tour of Australia",
         "1.0",
         "India",
         "4",
         "MA Agarwal",
         "MA Starc",
         "CA Pujara",
         "1",
         "0",
         "1",
         null,
         null,
         null
        ],
        [
         "26",
         "2020-12-17",
         "2020-12-19",
         "Adelaide",
         "Adelaide Oval",
         "Test",
         "2396",
         "Australia",
         "TD Paine",
         "India",
         "Australia",
         "India tour of Australia",
         "1.0",
         "India",
         "4",
         "CA Pujara",
         "MA Starc",
         "MA Agarwal",
         "0",
         "0",
         "0",
         null,
         null,
         null
        ],
        [
         "27",
         "2020-12-17",
         "2020-12-19",
         "Adelaide",
         "Adelaide Oval",
         "Test",
         "2396",
         "Australia",
         "TD Paine",
         "India",
         "Australia",
         "India tour of Australia",
         "1.0",
         "India",
         "4",
         "CA Pujara",
         "MA Starc",
         "MA Agarwal",
         "1",
         "0",
         "1",
         null,
         null,
         null
        ],
        [
         "28",
         "2020-12-17",
         "2020-12-19",
         "Adelaide",
         "Adelaide Oval",
         "Test",
         "2396",
         "Australia",
         "TD Paine",
         "India",
         "Australia",
         "India tour of Australia",
         "1.0",
         "India",
         "4",
         "MA Agarwal",
         "MA Starc",
         "CA Pujara",
         "0",
         "0",
         "0",
         null,
         null,
         null
        ],
        [
         "29",
         "2020-12-17",
         "2020-12-19",
         "Adelaide",
         "Adelaide Oval",
         "Test",
         "2396",
         "Australia",
         "TD Paine",
         "India",
         "Australia",
         "India tour of Australia",
         "1.0",
         "India",
         "4",
         "MA Agarwal",
         "MA Starc",
         "CA Pujara",
         "0",
         "0",
         "0",
         null,
         null,
         null
        ],
        [
         "30",
         "2020-12-17",
         "2020-12-19",
         "Adelaide",
         "Adelaide Oval",
         "Test",
         "2396",
         "Australia",
         "TD Paine",
         "India",
         "Australia",
         "India tour of Australia",
         "1.0",
         "India",
         "5",
         "CA Pujara",
         "JR Hazlewood",
         "MA Agarwal",
         "0",
         "0",
         "0",
         null,
         null,
         null
        ],
        [
         "31",
         "2020-12-17",
         "2020-12-19",
         "Adelaide",
         "Adelaide Oval",
         "Test",
         "2396",
         "Australia",
         "TD Paine",
         "India",
         "Australia",
         "India tour of Australia",
         "1.0",
         "India",
         "5",
         "CA Pujara",
         "JR Hazlewood",
         "MA Agarwal",
         "0",
         "0",
         "0",
         null,
         null,
         null
        ],
        [
         "32",
         "2020-12-17",
         "2020-12-19",
         "Adelaide",
         "Adelaide Oval",
         "Test",
         "2396",
         "Australia",
         "TD Paine",
         "India",
         "Australia",
         "India tour of Australia",
         "1.0",
         "India",
         "5",
         "CA Pujara",
         "JR Hazlewood",
         "MA Agarwal",
         "0",
         "0",
         "0",
         null,
         null,
         null
        ],
        [
         "33",
         "2020-12-17",
         "2020-12-19",
         "Adelaide",
         "Adelaide Oval",
         "Test",
         "2396",
         "Australia",
         "TD Paine",
         "India",
         "Australia",
         "India tour of Australia",
         "1.0",
         "India",
         "5",
         "CA Pujara",
         "JR Hazlewood",
         "MA Agarwal",
         "0",
         "0",
         "0",
         null,
         null,
         null
        ],
        [
         "34",
         "2020-12-17",
         "2020-12-19",
         "Adelaide",
         "Adelaide Oval",
         "Test",
         "2396",
         "Australia",
         "TD Paine",
         "India",
         "Australia",
         "India tour of Australia",
         "1.0",
         "India",
         "5",
         "CA Pujara",
         "JR Hazlewood",
         "MA Agarwal",
         "0",
         "0",
         "0",
         null,
         null,
         null
        ],
        [
         "35",
         "2020-12-17",
         "2020-12-19",
         "Adelaide",
         "Adelaide Oval",
         "Test",
         "2396",
         "Australia",
         "TD Paine",
         "India",
         "Australia",
         "India tour of Australia",
         "1.0",
         "India",
         "5",
         "CA Pujara",
         "JR Hazlewood",
         "MA Agarwal",
         "0",
         "0",
         "0",
         null,
         null,
         null
        ],
        [
         "36",
         "2020-12-17",
         "2020-12-19",
         "Adelaide",
         "Adelaide Oval",
         "Test",
         "2396",
         "Australia",
         "TD Paine",
         "India",
         "Australia",
         "India tour of Australia",
         "1.0",
         "India",
         "6",
         "MA Agarwal",
         "MA Starc",
         "CA Pujara",
         "0",
         "0",
         "0",
         null,
         null,
         null
        ],
        [
         "37",
         "2020-12-17",
         "2020-12-19",
         "Adelaide",
         "Adelaide Oval",
         "Test",
         "2396",
         "Australia",
         "TD Paine",
         "India",
         "Australia",
         "India tour of Australia",
         "1.0",
         "India",
         "6",
         "MA Agarwal",
         "MA Starc",
         "CA Pujara",
         "0",
         "0",
         "0",
         null,
         null,
         null
        ],
        [
         "38",
         "2020-12-17",
         "2020-12-19",
         "Adelaide",
         "Adelaide Oval",
         "Test",
         "2396",
         "Australia",
         "TD Paine",
         "India",
         "Australia",
         "India tour of Australia",
         "1.0",
         "India",
         "6",
         "MA Agarwal",
         "MA Starc",
         "CA Pujara",
         "0",
         "0",
         "0",
         null,
         null,
         null
        ],
        [
         "39",
         "2020-12-17",
         "2020-12-19",
         "Adelaide",
         "Adelaide Oval",
         "Test",
         "2396",
         "Australia",
         "TD Paine",
         "India",
         "Australia",
         "India tour of Australia",
         "1.0",
         "India",
         "6",
         "MA Agarwal",
         "MA Starc",
         "CA Pujara",
         "0",
         "0",
         "0",
         null,
         null,
         null
        ],
        [
         "40",
         "2020-12-17",
         "2020-12-19",
         "Adelaide",
         "Adelaide Oval",
         "Test",
         "2396",
         "Australia",
         "TD Paine",
         "India",
         "Australia",
         "India tour of Australia",
         "1.0",
         "India",
         "6",
         "MA Agarwal",
         "MA Starc",
         "CA Pujara",
         "0",
         "0",
         "0",
         null,
         null,
         null
        ],
        [
         "41",
         "2020-12-17",
         "2020-12-19",
         "Adelaide",
         "Adelaide Oval",
         "Test",
         "2396",
         "Australia",
         "TD Paine",
         "India",
         "Australia",
         "India tour of Australia",
         "1.0",
         "India",
         "6",
         "MA Agarwal",
         "MA Starc",
         "CA Pujara",
         "0",
         "0",
         "0",
         null,
         null,
         null
        ],
        [
         "42",
         "2020-12-17",
         "2020-12-19",
         "Adelaide",
         "Adelaide Oval",
         "Test",
         "2396",
         "Australia",
         "TD Paine",
         "India",
         "Australia",
         "India tour of Australia",
         "1.0",
         "India",
         "7",
         "CA Pujara",
         "JR Hazlewood",
         "MA Agarwal",
         "0",
         "0",
         "0",
         null,
         null,
         null
        ],
        [
         "43",
         "2020-12-17",
         "2020-12-19",
         "Adelaide",
         "Adelaide Oval",
         "Test",
         "2396",
         "Australia",
         "TD Paine",
         "India",
         "Australia",
         "India tour of Australia",
         "1.0",
         "India",
         "7",
         "CA Pujara",
         "JR Hazlewood",
         "MA Agarwal",
         "0",
         "0",
         "0",
         null,
         null,
         null
        ],
        [
         "44",
         "2020-12-17",
         "2020-12-19",
         "Adelaide",
         "Adelaide Oval",
         "Test",
         "2396",
         "Australia",
         "TD Paine",
         "India",
         "Australia",
         "India tour of Australia",
         "1.0",
         "India",
         "7",
         "CA Pujara",
         "JR Hazlewood",
         "MA Agarwal",
         "0",
         "0",
         "0",
         null,
         null,
         null
        ],
        [
         "45",
         "2020-12-17",
         "2020-12-19",
         "Adelaide",
         "Adelaide Oval",
         "Test",
         "2396",
         "Australia",
         "TD Paine",
         "India",
         "Australia",
         "India tour of Australia",
         "1.0",
         "India",
         "7",
         "CA Pujara",
         "JR Hazlewood",
         "MA Agarwal",
         "2",
         "1",
         "3",
         null,
         null,
         null
        ],
        [
         "46",
         "2020-12-17",
         "2020-12-19",
         "Adelaide",
         "Adelaide Oval",
         "Test",
         "2396",
         "Australia",
         "TD Paine",
         "India",
         "Australia",
         "India tour of Australia",
         "1.0",
         "India",
         "7",
         "CA Pujara",
         "JR Hazlewood",
         "MA Agarwal",
         "0",
         "0",
         "0",
         null,
         null,
         null
        ],
        [
         "47",
         "2020-12-17",
         "2020-12-19",
         "Adelaide",
         "Adelaide Oval",
         "Test",
         "2396",
         "Australia",
         "TD Paine",
         "India",
         "Australia",
         "India tour of Australia",
         "1.0",
         "India",
         "7",
         "CA Pujara",
         "JR Hazlewood",
         "MA Agarwal",
         "0",
         "0",
         "0",
         null,
         null,
         null
        ],
        [
         "48",
         "2020-12-17",
         "2020-12-19",
         "Adelaide",
         "Adelaide Oval",
         "Test",
         "2396",
         "Australia",
         "TD Paine",
         "India",
         "Australia",
         "India tour of Australia",
         "1.0",
         "India",
         "7",
         "CA Pujara",
         "JR Hazlewood",
         "MA Agarwal",
         "0",
         "0",
         "0",
         null,
         null,
         null
        ],
        [
         "49",
         "2020-12-17",
         "2020-12-19",
         "Adelaide",
         "Adelaide Oval",
         "Test",
         "2396",
         "Australia",
         "TD Paine",
         "India",
         "Australia",
         "India tour of Australia",
         "1.0",
         "India",
         "8",
         "MA Agarwal",
         "MA Starc",
         "CA Pujara",
         "1",
         "0",
         "1",
         null,
         null,
         null
        ]
       ],
       "shape": {
        "columns": 23,
        "rows": 1669269
       }
      },
      "text/html": [
       "<div>\n",
       "<style scoped>\n",
       "    .dataframe tbody tr th:only-of-type {\n",
       "        vertical-align: middle;\n",
       "    }\n",
       "\n",
       "    .dataframe tbody tr th {\n",
       "        vertical-align: top;\n",
       "    }\n",
       "\n",
       "    .dataframe thead th {\n",
       "        text-align: right;\n",
       "    }\n",
       "</style>\n",
       "<table border=\"1\" class=\"dataframe\">\n",
       "  <thead>\n",
       "    <tr style=\"text-align: right;\">\n",
       "      <th></th>\n",
       "      <th>match_start_date</th>\n",
       "      <th>match_end_date</th>\n",
       "      <th>city</th>\n",
       "      <th>venue</th>\n",
       "      <th>match_type</th>\n",
       "      <th>match_number</th>\n",
       "      <th>winner</th>\n",
       "      <th>player_of_match</th>\n",
       "      <th>team1</th>\n",
       "      <th>team2</th>\n",
       "      <th>...</th>\n",
       "      <th>overs</th>\n",
       "      <th>batter</th>\n",
       "      <th>bowler</th>\n",
       "      <th>non_striker</th>\n",
       "      <th>runs_batter</th>\n",
       "      <th>runs_extras</th>\n",
       "      <th>runs_total</th>\n",
       "      <th>wicket_type</th>\n",
       "      <th>player_out</th>\n",
       "      <th>fielder</th>\n",
       "    </tr>\n",
       "  </thead>\n",
       "  <tbody>\n",
       "    <tr>\n",
       "      <th>0</th>\n",
       "      <td>2020-12-17</td>\n",
       "      <td>2020-12-19</td>\n",
       "      <td>Adelaide</td>\n",
       "      <td>Adelaide Oval</td>\n",
       "      <td>Test</td>\n",
       "      <td>2396</td>\n",
       "      <td>Australia</td>\n",
       "      <td>TD Paine</td>\n",
       "      <td>India</td>\n",
       "      <td>Australia</td>\n",
       "      <td>...</td>\n",
       "      <td>0</td>\n",
       "      <td>PP Shaw</td>\n",
       "      <td>MA Starc</td>\n",
       "      <td>MA Agarwal</td>\n",
       "      <td>0</td>\n",
       "      <td>0</td>\n",
       "      <td>0</td>\n",
       "      <td>None</td>\n",
       "      <td>None</td>\n",
       "      <td>None</td>\n",
       "    </tr>\n",
       "    <tr>\n",
       "      <th>1</th>\n",
       "      <td>2020-12-17</td>\n",
       "      <td>2020-12-19</td>\n",
       "      <td>Adelaide</td>\n",
       "      <td>Adelaide Oval</td>\n",
       "      <td>Test</td>\n",
       "      <td>2396</td>\n",
       "      <td>Australia</td>\n",
       "      <td>TD Paine</td>\n",
       "      <td>India</td>\n",
       "      <td>Australia</td>\n",
       "      <td>...</td>\n",
       "      <td>0</td>\n",
       "      <td>PP Shaw</td>\n",
       "      <td>MA Starc</td>\n",
       "      <td>MA Agarwal</td>\n",
       "      <td>0</td>\n",
       "      <td>0</td>\n",
       "      <td>0</td>\n",
       "      <td>bowled</td>\n",
       "      <td>PP Shaw</td>\n",
       "      <td>None</td>\n",
       "    </tr>\n",
       "    <tr>\n",
       "      <th>2</th>\n",
       "      <td>2020-12-17</td>\n",
       "      <td>2020-12-19</td>\n",
       "      <td>Adelaide</td>\n",
       "      <td>Adelaide Oval</td>\n",
       "      <td>Test</td>\n",
       "      <td>2396</td>\n",
       "      <td>Australia</td>\n",
       "      <td>TD Paine</td>\n",
       "      <td>India</td>\n",
       "      <td>Australia</td>\n",
       "      <td>...</td>\n",
       "      <td>0</td>\n",
       "      <td>CA Pujara</td>\n",
       "      <td>MA Starc</td>\n",
       "      <td>MA Agarwal</td>\n",
       "      <td>0</td>\n",
       "      <td>0</td>\n",
       "      <td>0</td>\n",
       "      <td>None</td>\n",
       "      <td>None</td>\n",
       "      <td>None</td>\n",
       "    </tr>\n",
       "    <tr>\n",
       "      <th>3</th>\n",
       "      <td>2020-12-17</td>\n",
       "      <td>2020-12-19</td>\n",
       "      <td>Adelaide</td>\n",
       "      <td>Adelaide Oval</td>\n",
       "      <td>Test</td>\n",
       "      <td>2396</td>\n",
       "      <td>Australia</td>\n",
       "      <td>TD Paine</td>\n",
       "      <td>India</td>\n",
       "      <td>Australia</td>\n",
       "      <td>...</td>\n",
       "      <td>0</td>\n",
       "      <td>CA Pujara</td>\n",
       "      <td>MA Starc</td>\n",
       "      <td>MA Agarwal</td>\n",
       "      <td>1</td>\n",
       "      <td>0</td>\n",
       "      <td>1</td>\n",
       "      <td>None</td>\n",
       "      <td>None</td>\n",
       "      <td>None</td>\n",
       "    </tr>\n",
       "    <tr>\n",
       "      <th>4</th>\n",
       "      <td>2020-12-17</td>\n",
       "      <td>2020-12-19</td>\n",
       "      <td>Adelaide</td>\n",
       "      <td>Adelaide Oval</td>\n",
       "      <td>Test</td>\n",
       "      <td>2396</td>\n",
       "      <td>Australia</td>\n",
       "      <td>TD Paine</td>\n",
       "      <td>India</td>\n",
       "      <td>Australia</td>\n",
       "      <td>...</td>\n",
       "      <td>0</td>\n",
       "      <td>MA Agarwal</td>\n",
       "      <td>MA Starc</td>\n",
       "      <td>CA Pujara</td>\n",
       "      <td>0</td>\n",
       "      <td>0</td>\n",
       "      <td>0</td>\n",
       "      <td>None</td>\n",
       "      <td>None</td>\n",
       "      <td>None</td>\n",
       "    </tr>\n",
       "    <tr>\n",
       "      <th>...</th>\n",
       "      <td>...</td>\n",
       "      <td>...</td>\n",
       "      <td>...</td>\n",
       "      <td>...</td>\n",
       "      <td>...</td>\n",
       "      <td>...</td>\n",
       "      <td>...</td>\n",
       "      <td>...</td>\n",
       "      <td>...</td>\n",
       "      <td>...</td>\n",
       "      <td>...</td>\n",
       "      <td>...</td>\n",
       "      <td>...</td>\n",
       "      <td>...</td>\n",
       "      <td>...</td>\n",
       "      <td>...</td>\n",
       "      <td>...</td>\n",
       "      <td>...</td>\n",
       "      <td>...</td>\n",
       "      <td>...</td>\n",
       "      <td>...</td>\n",
       "    </tr>\n",
       "    <tr>\n",
       "      <th>1669264</th>\n",
       "      <td>2017-10-21</td>\n",
       "      <td>2017-10-25</td>\n",
       "      <td>Bulawayo</td>\n",
       "      <td>Queens Sports Club</td>\n",
       "      <td>Test</td>\n",
       "      <td>2279</td>\n",
       "      <td>West Indies</td>\n",
       "      <td>D Bishoo</td>\n",
       "      <td>West Indies</td>\n",
       "      <td>Zimbabwe</td>\n",
       "      <td>...</td>\n",
       "      <td>89</td>\n",
       "      <td>CB Mpofu</td>\n",
       "      <td>D Bishoo</td>\n",
       "      <td>KM Jarvis</td>\n",
       "      <td>0</td>\n",
       "      <td>0</td>\n",
       "      <td>0</td>\n",
       "      <td>None</td>\n",
       "      <td>None</td>\n",
       "      <td>None</td>\n",
       "    </tr>\n",
       "    <tr>\n",
       "      <th>1669265</th>\n",
       "      <td>2017-10-21</td>\n",
       "      <td>2017-10-25</td>\n",
       "      <td>Bulawayo</td>\n",
       "      <td>Queens Sports Club</td>\n",
       "      <td>Test</td>\n",
       "      <td>2279</td>\n",
       "      <td>West Indies</td>\n",
       "      <td>D Bishoo</td>\n",
       "      <td>West Indies</td>\n",
       "      <td>Zimbabwe</td>\n",
       "      <td>...</td>\n",
       "      <td>90</td>\n",
       "      <td>KM Jarvis</td>\n",
       "      <td>RL Chase</td>\n",
       "      <td>CB Mpofu</td>\n",
       "      <td>1</td>\n",
       "      <td>0</td>\n",
       "      <td>1</td>\n",
       "      <td>None</td>\n",
       "      <td>None</td>\n",
       "      <td>None</td>\n",
       "    </tr>\n",
       "    <tr>\n",
       "      <th>1669266</th>\n",
       "      <td>2017-10-21</td>\n",
       "      <td>2017-10-25</td>\n",
       "      <td>Bulawayo</td>\n",
       "      <td>Queens Sports Club</td>\n",
       "      <td>Test</td>\n",
       "      <td>2279</td>\n",
       "      <td>West Indies</td>\n",
       "      <td>D Bishoo</td>\n",
       "      <td>West Indies</td>\n",
       "      <td>Zimbabwe</td>\n",
       "      <td>...</td>\n",
       "      <td>90</td>\n",
       "      <td>CB Mpofu</td>\n",
       "      <td>RL Chase</td>\n",
       "      <td>KM Jarvis</td>\n",
       "      <td>4</td>\n",
       "      <td>0</td>\n",
       "      <td>4</td>\n",
       "      <td>None</td>\n",
       "      <td>None</td>\n",
       "      <td>None</td>\n",
       "    </tr>\n",
       "    <tr>\n",
       "      <th>1669267</th>\n",
       "      <td>2017-10-21</td>\n",
       "      <td>2017-10-25</td>\n",
       "      <td>Bulawayo</td>\n",
       "      <td>Queens Sports Club</td>\n",
       "      <td>Test</td>\n",
       "      <td>2279</td>\n",
       "      <td>West Indies</td>\n",
       "      <td>D Bishoo</td>\n",
       "      <td>West Indies</td>\n",
       "      <td>Zimbabwe</td>\n",
       "      <td>...</td>\n",
       "      <td>90</td>\n",
       "      <td>CB Mpofu</td>\n",
       "      <td>RL Chase</td>\n",
       "      <td>KM Jarvis</td>\n",
       "      <td>2</td>\n",
       "      <td>0</td>\n",
       "      <td>2</td>\n",
       "      <td>None</td>\n",
       "      <td>None</td>\n",
       "      <td>None</td>\n",
       "    </tr>\n",
       "    <tr>\n",
       "      <th>1669268</th>\n",
       "      <td>2017-10-21</td>\n",
       "      <td>2017-10-25</td>\n",
       "      <td>Bulawayo</td>\n",
       "      <td>Queens Sports Club</td>\n",
       "      <td>Test</td>\n",
       "      <td>2279</td>\n",
       "      <td>West Indies</td>\n",
       "      <td>D Bishoo</td>\n",
       "      <td>West Indies</td>\n",
       "      <td>Zimbabwe</td>\n",
       "      <td>...</td>\n",
       "      <td>90</td>\n",
       "      <td>CB Mpofu</td>\n",
       "      <td>RL Chase</td>\n",
       "      <td>KM Jarvis</td>\n",
       "      <td>0</td>\n",
       "      <td>0</td>\n",
       "      <td>0</td>\n",
       "      <td>caught</td>\n",
       "      <td>CB Mpofu</td>\n",
       "      <td>KOA Powell</td>\n",
       "    </tr>\n",
       "  </tbody>\n",
       "</table>\n",
       "<p>1669269 rows × 23 columns</p>\n",
       "</div>"
      ],
      "text/plain": [
       "        match_start_date match_end_date      city               venue  \\\n",
       "0             2020-12-17     2020-12-19  Adelaide       Adelaide Oval   \n",
       "1             2020-12-17     2020-12-19  Adelaide       Adelaide Oval   \n",
       "2             2020-12-17     2020-12-19  Adelaide       Adelaide Oval   \n",
       "3             2020-12-17     2020-12-19  Adelaide       Adelaide Oval   \n",
       "4             2020-12-17     2020-12-19  Adelaide       Adelaide Oval   \n",
       "...                  ...            ...       ...                 ...   \n",
       "1669264       2017-10-21     2017-10-25  Bulawayo  Queens Sports Club   \n",
       "1669265       2017-10-21     2017-10-25  Bulawayo  Queens Sports Club   \n",
       "1669266       2017-10-21     2017-10-25  Bulawayo  Queens Sports Club   \n",
       "1669267       2017-10-21     2017-10-25  Bulawayo  Queens Sports Club   \n",
       "1669268       2017-10-21     2017-10-25  Bulawayo  Queens Sports Club   \n",
       "\n",
       "        match_type  match_number       winner player_of_match        team1  \\\n",
       "0             Test          2396    Australia        TD Paine        India   \n",
       "1             Test          2396    Australia        TD Paine        India   \n",
       "2             Test          2396    Australia        TD Paine        India   \n",
       "3             Test          2396    Australia        TD Paine        India   \n",
       "4             Test          2396    Australia        TD Paine        India   \n",
       "...            ...           ...          ...             ...          ...   \n",
       "1669264       Test          2279  West Indies        D Bishoo  West Indies   \n",
       "1669265       Test          2279  West Indies        D Bishoo  West Indies   \n",
       "1669266       Test          2279  West Indies        D Bishoo  West Indies   \n",
       "1669267       Test          2279  West Indies        D Bishoo  West Indies   \n",
       "1669268       Test          2279  West Indies        D Bishoo  West Indies   \n",
       "\n",
       "             team2  ... overs      batter    bowler  non_striker runs_batter  \\\n",
       "0        Australia  ...     0     PP Shaw  MA Starc   MA Agarwal           0   \n",
       "1        Australia  ...     0     PP Shaw  MA Starc   MA Agarwal           0   \n",
       "2        Australia  ...     0   CA Pujara  MA Starc   MA Agarwal           0   \n",
       "3        Australia  ...     0   CA Pujara  MA Starc   MA Agarwal           1   \n",
       "4        Australia  ...     0  MA Agarwal  MA Starc    CA Pujara           0   \n",
       "...            ...  ...   ...         ...       ...          ...         ...   \n",
       "1669264   Zimbabwe  ...    89    CB Mpofu  D Bishoo    KM Jarvis           0   \n",
       "1669265   Zimbabwe  ...    90   KM Jarvis  RL Chase     CB Mpofu           1   \n",
       "1669266   Zimbabwe  ...    90    CB Mpofu  RL Chase    KM Jarvis           4   \n",
       "1669267   Zimbabwe  ...    90    CB Mpofu  RL Chase    KM Jarvis           2   \n",
       "1669268   Zimbabwe  ...    90    CB Mpofu  RL Chase    KM Jarvis           0   \n",
       "\n",
       "        runs_extras runs_total  wicket_type  player_out     fielder  \n",
       "0                 0          0         None        None        None  \n",
       "1                 0          0       bowled     PP Shaw        None  \n",
       "2                 0          0         None        None        None  \n",
       "3                 0          1         None        None        None  \n",
       "4                 0          0         None        None        None  \n",
       "...             ...        ...          ...         ...         ...  \n",
       "1669264           0          0         None        None        None  \n",
       "1669265           0          1         None        None        None  \n",
       "1669266           0          4         None        None        None  \n",
       "1669267           0          2         None        None        None  \n",
       "1669268           0          0       caught    CB Mpofu  KOA Powell  \n",
       "\n",
       "[1669269 rows x 23 columns]"
      ]
     },
     "execution_count": 5,
     "metadata": {},
     "output_type": "execute_result"
    }
   ],
   "source": [
    "import os\n",
    "import pandas as pd\n",
    "import json\n",
    "\n",
    "class CricketMatchData:\n",
    "    def __init__(self, json_data):\n",
    "        self.data = json_data\n",
    "\n",
    "    def create_dataframe(self):\n",
    "        rows = []\n",
    "\n",
    "        # Extract common information from the info section\n",
    "        info = self.data['info']\n",
    "        meta = self.data['meta']\n",
    "        common_data = {\n",
    "            'match_start_date': info['dates'][0],\n",
    "            'match_end_date': info['dates'][-1],\n",
    "            'city': info.get('city', None),\n",
    "            'venue': info.get('venue', None),\n",
    "            'match_type': info.get('match_type', None),\n",
    "            'match_number': info.get('match_type_number', None),\n",
    "            'winner': info.get('outcome', {}).get('winner', None),\n",
    "            'player_of_match': info.get('player_of_match', [None])[0],\n",
    "            'team1': info['teams'][0],\n",
    "            'team2': info['teams'][1]\n",
    "        }\n",
    "\n",
    "        # Include event details if present\n",
    "        if 'event' in info:\n",
    "            common_data['event_name'] = info['event'].get('name', None)\n",
    "            common_data['event_match_number'] = info['event'].get('match_number', None)\n",
    "\n",
    "        # Iterate through innings and deliveries\n",
    "        for inning in self.data['innings']:\n",
    "            team = inning['team']\n",
    "\n",
    "            for over in inning['overs']:\n",
    "                over_number = over['over']\n",
    "\n",
    "                for delivery in over['deliveries']:\n",
    "                    row = {\n",
    "                        **common_data,  # Add common data using unpacking operator ** \n",
    "                        'batting_team': team,\n",
    "                        'overs': over_number,\n",
    "                        'batter': delivery['batter'],\n",
    "                        'bowler': delivery['bowler'],\n",
    "                        'non_striker': delivery['non_striker'],\n",
    "                        'runs_batter': delivery['runs']['batter'],\n",
    "                        'runs_extras': delivery['runs']['extras'],\n",
    "                        'runs_total': delivery['runs']['total'],\n",
    "                        'wicket_type': None,\n",
    "                        'player_out': None,\n",
    "                        'fielder': None\n",
    "                    }\n",
    "\n",
    "                    # Check for wickets\n",
    "                    if 'wickets' in delivery:\n",
    "                        row['wicket_type'] = delivery['wickets'][0]['kind']\n",
    "                        row['player_out'] = delivery['wickets'][0]['player_out']\n",
    "                        if 'fielders' in delivery['wickets'][0]:\n",
    "                            if \"name\" in delivery['wickets'][0]['fielders'][0]:\n",
    "                                row['fielder'] = delivery['wickets'][0]['fielders'][0]['name']\n",
    "                            elif 'substitute' in delivery['wickets'][0]['fielders'][0]:\n",
    "                                row['fielder'] = None\n",
    "                                \n",
    "                    rows.append(row)\n",
    "\n",
    "        # Create DataFrame\n",
    "        return pd.DataFrame(rows)\n",
    "\n",
    "\n",
    "def process_cricket_data(folder_path):\n",
    "    all_dataframes = []\n",
    "\n",
    "    # Iterate through all files in the folder\n",
    "    for file_name in os.listdir(folder_path):\n",
    "        # Check if the file is a JSON file\n",
    "        if file_name.endswith('.json'):\n",
    "            file_path = os.path.join(folder_path, file_name)\n",
    "            try:\n",
    "                # Read the JSON file\n",
    "                with open(file_path, 'r') as json_file:\n",
    "                    json_data = json.load(json_file)\n",
    "\n",
    "                # Process the data using CricketMatchData class\n",
    "                cricket_data = CricketMatchData(json_data)\n",
    "                df = cricket_data.create_dataframe()\n",
    "\n",
    "                # Append the resulting DataFrame\n",
    "                all_dataframes.append(df)\n",
    "\n",
    "            except Exception as e:\n",
    "                print(f\"Error processing file {file_name}: {e}\")\n",
    "\n",
    "    # Combine all DataFrames into one\n",
    "    if all_dataframes:\n",
    "        final_dataframe = pd.concat(all_dataframes, ignore_index=True)\n",
    "        return final_dataframe\n",
    "    else:\n",
    "        print(\"No valid dataframes were created.\")\n",
    "        return pd.DataFrame()  # Return an empty DataFrame if no data was processed\n",
    "\n",
    "# Example usage\n",
    "folder_path = \"/Users/muralidharanv/Documents/GUVI /PROJECTS/Cricket Matchsheet Analysis/Data/tests_json\"  # Data folder path\n",
    "test_df = process_cricket_data(folder_path)\n",
    "\n",
    "test_df"
   ]
  },
  {
   "cell_type": "markdown",
   "metadata": {},
   "source": [
    "### store the dataframe in a csv file to a specific folder"
   ]
  },
  {
   "cell_type": "code",
   "execution_count": 27,
   "metadata": {},
   "outputs": [
    {
     "data": {
      "text/html": [
       "<div>\n",
       "<style scoped>\n",
       "    .dataframe tbody tr th:only-of-type {\n",
       "        vertical-align: middle;\n",
       "    }\n",
       "\n",
       "    .dataframe tbody tr th {\n",
       "        vertical-align: top;\n",
       "    }\n",
       "\n",
       "    .dataframe thead th {\n",
       "        text-align: right;\n",
       "    }\n",
       "</style>\n",
       "<table border=\"1\" class=\"dataframe\">\n",
       "  <thead>\n",
       "    <tr style=\"text-align: right;\">\n",
       "      <th></th>\n",
       "      <th>match_date</th>\n",
       "      <th>city</th>\n",
       "      <th>venue</th>\n",
       "      <th>match_type</th>\n",
       "      <th>match_number</th>\n",
       "      <th>winner</th>\n",
       "      <th>player_of_match</th>\n",
       "      <th>team1</th>\n",
       "      <th>team2</th>\n",
       "      <th>event_name</th>\n",
       "      <th>...</th>\n",
       "      <th>overs</th>\n",
       "      <th>batter</th>\n",
       "      <th>bowler</th>\n",
       "      <th>non_striker</th>\n",
       "      <th>runs_batter</th>\n",
       "      <th>runs_extras</th>\n",
       "      <th>runs_total</th>\n",
       "      <th>wicket_type</th>\n",
       "      <th>player_out</th>\n",
       "      <th>fielder</th>\n",
       "    </tr>\n",
       "  </thead>\n",
       "  <tbody>\n",
       "    <tr>\n",
       "      <th>0</th>\n",
       "      <td>2023-12-19</td>\n",
       "      <td>Gqeberha</td>\n",
       "      <td>St George's Park, Gqeberha</td>\n",
       "      <td>ODI</td>\n",
       "      <td>4714</td>\n",
       "      <td>South Africa</td>\n",
       "      <td>T de Zorzi</td>\n",
       "      <td>India</td>\n",
       "      <td>South Africa</td>\n",
       "      <td>India tour of South Africa</td>\n",
       "      <td>...</td>\n",
       "      <td>0</td>\n",
       "      <td>RD Gaikwad</td>\n",
       "      <td>N Burger</td>\n",
       "      <td>B Sai Sudharsan</td>\n",
       "      <td>4</td>\n",
       "      <td>0</td>\n",
       "      <td>4</td>\n",
       "      <td>None</td>\n",
       "      <td>None</td>\n",
       "      <td>None</td>\n",
       "    </tr>\n",
       "    <tr>\n",
       "      <th>1</th>\n",
       "      <td>2023-12-19</td>\n",
       "      <td>Gqeberha</td>\n",
       "      <td>St George's Park, Gqeberha</td>\n",
       "      <td>ODI</td>\n",
       "      <td>4714</td>\n",
       "      <td>South Africa</td>\n",
       "      <td>T de Zorzi</td>\n",
       "      <td>India</td>\n",
       "      <td>South Africa</td>\n",
       "      <td>India tour of South Africa</td>\n",
       "      <td>...</td>\n",
       "      <td>0</td>\n",
       "      <td>RD Gaikwad</td>\n",
       "      <td>N Burger</td>\n",
       "      <td>B Sai Sudharsan</td>\n",
       "      <td>0</td>\n",
       "      <td>0</td>\n",
       "      <td>0</td>\n",
       "      <td>lbw</td>\n",
       "      <td>RD Gaikwad</td>\n",
       "      <td>None</td>\n",
       "    </tr>\n",
       "    <tr>\n",
       "      <th>2</th>\n",
       "      <td>2023-12-19</td>\n",
       "      <td>Gqeberha</td>\n",
       "      <td>St George's Park, Gqeberha</td>\n",
       "      <td>ODI</td>\n",
       "      <td>4714</td>\n",
       "      <td>South Africa</td>\n",
       "      <td>T de Zorzi</td>\n",
       "      <td>India</td>\n",
       "      <td>South Africa</td>\n",
       "      <td>India tour of South Africa</td>\n",
       "      <td>...</td>\n",
       "      <td>0</td>\n",
       "      <td>Tilak Varma</td>\n",
       "      <td>N Burger</td>\n",
       "      <td>B Sai Sudharsan</td>\n",
       "      <td>0</td>\n",
       "      <td>0</td>\n",
       "      <td>0</td>\n",
       "      <td>None</td>\n",
       "      <td>None</td>\n",
       "      <td>None</td>\n",
       "    </tr>\n",
       "    <tr>\n",
       "      <th>3</th>\n",
       "      <td>2023-12-19</td>\n",
       "      <td>Gqeberha</td>\n",
       "      <td>St George's Park, Gqeberha</td>\n",
       "      <td>ODI</td>\n",
       "      <td>4714</td>\n",
       "      <td>South Africa</td>\n",
       "      <td>T de Zorzi</td>\n",
       "      <td>India</td>\n",
       "      <td>South Africa</td>\n",
       "      <td>India tour of South Africa</td>\n",
       "      <td>...</td>\n",
       "      <td>0</td>\n",
       "      <td>Tilak Varma</td>\n",
       "      <td>N Burger</td>\n",
       "      <td>B Sai Sudharsan</td>\n",
       "      <td>0</td>\n",
       "      <td>0</td>\n",
       "      <td>0</td>\n",
       "      <td>None</td>\n",
       "      <td>None</td>\n",
       "      <td>None</td>\n",
       "    </tr>\n",
       "    <tr>\n",
       "      <th>4</th>\n",
       "      <td>2023-12-19</td>\n",
       "      <td>Gqeberha</td>\n",
       "      <td>St George's Park, Gqeberha</td>\n",
       "      <td>ODI</td>\n",
       "      <td>4714</td>\n",
       "      <td>South Africa</td>\n",
       "      <td>T de Zorzi</td>\n",
       "      <td>India</td>\n",
       "      <td>South Africa</td>\n",
       "      <td>India tour of South Africa</td>\n",
       "      <td>...</td>\n",
       "      <td>0</td>\n",
       "      <td>Tilak Varma</td>\n",
       "      <td>N Burger</td>\n",
       "      <td>B Sai Sudharsan</td>\n",
       "      <td>0</td>\n",
       "      <td>0</td>\n",
       "      <td>0</td>\n",
       "      <td>None</td>\n",
       "      <td>None</td>\n",
       "      <td>None</td>\n",
       "    </tr>\n",
       "    <tr>\n",
       "      <th>...</th>\n",
       "      <td>...</td>\n",
       "      <td>...</td>\n",
       "      <td>...</td>\n",
       "      <td>...</td>\n",
       "      <td>...</td>\n",
       "      <td>...</td>\n",
       "      <td>...</td>\n",
       "      <td>...</td>\n",
       "      <td>...</td>\n",
       "      <td>...</td>\n",
       "      <td>...</td>\n",
       "      <td>...</td>\n",
       "      <td>...</td>\n",
       "      <td>...</td>\n",
       "      <td>...</td>\n",
       "      <td>...</td>\n",
       "      <td>...</td>\n",
       "      <td>...</td>\n",
       "      <td>...</td>\n",
       "      <td>...</td>\n",
       "      <td>...</td>\n",
       "    </tr>\n",
       "    <tr>\n",
       "      <th>1546107</th>\n",
       "      <td>2012-02-03</td>\n",
       "      <td>Dunedin</td>\n",
       "      <td>University Oval</td>\n",
       "      <td>ODI</td>\n",
       "      <td>3230</td>\n",
       "      <td>New Zealand</td>\n",
       "      <td>MJ Guptill</td>\n",
       "      <td>New Zealand</td>\n",
       "      <td>Zimbabwe</td>\n",
       "      <td>Zimbabwe in New Zealand ODI Series</td>\n",
       "      <td>...</td>\n",
       "      <td>40</td>\n",
       "      <td>RW Price</td>\n",
       "      <td>TG Southee</td>\n",
       "      <td>KM Jarvis</td>\n",
       "      <td>0</td>\n",
       "      <td>0</td>\n",
       "      <td>0</td>\n",
       "      <td>None</td>\n",
       "      <td>None</td>\n",
       "      <td>None</td>\n",
       "    </tr>\n",
       "    <tr>\n",
       "      <th>1546108</th>\n",
       "      <td>2012-02-03</td>\n",
       "      <td>Dunedin</td>\n",
       "      <td>University Oval</td>\n",
       "      <td>ODI</td>\n",
       "      <td>3230</td>\n",
       "      <td>New Zealand</td>\n",
       "      <td>MJ Guptill</td>\n",
       "      <td>New Zealand</td>\n",
       "      <td>Zimbabwe</td>\n",
       "      <td>Zimbabwe in New Zealand ODI Series</td>\n",
       "      <td>...</td>\n",
       "      <td>40</td>\n",
       "      <td>RW Price</td>\n",
       "      <td>TG Southee</td>\n",
       "      <td>KM Jarvis</td>\n",
       "      <td>0</td>\n",
       "      <td>0</td>\n",
       "      <td>0</td>\n",
       "      <td>None</td>\n",
       "      <td>None</td>\n",
       "      <td>None</td>\n",
       "    </tr>\n",
       "    <tr>\n",
       "      <th>1546109</th>\n",
       "      <td>2012-02-03</td>\n",
       "      <td>Dunedin</td>\n",
       "      <td>University Oval</td>\n",
       "      <td>ODI</td>\n",
       "      <td>3230</td>\n",
       "      <td>New Zealand</td>\n",
       "      <td>MJ Guptill</td>\n",
       "      <td>New Zealand</td>\n",
       "      <td>Zimbabwe</td>\n",
       "      <td>Zimbabwe in New Zealand ODI Series</td>\n",
       "      <td>...</td>\n",
       "      <td>40</td>\n",
       "      <td>RW Price</td>\n",
       "      <td>TG Southee</td>\n",
       "      <td>KM Jarvis</td>\n",
       "      <td>0</td>\n",
       "      <td>0</td>\n",
       "      <td>0</td>\n",
       "      <td>None</td>\n",
       "      <td>None</td>\n",
       "      <td>None</td>\n",
       "    </tr>\n",
       "    <tr>\n",
       "      <th>1546110</th>\n",
       "      <td>2012-02-03</td>\n",
       "      <td>Dunedin</td>\n",
       "      <td>University Oval</td>\n",
       "      <td>ODI</td>\n",
       "      <td>3230</td>\n",
       "      <td>New Zealand</td>\n",
       "      <td>MJ Guptill</td>\n",
       "      <td>New Zealand</td>\n",
       "      <td>Zimbabwe</td>\n",
       "      <td>Zimbabwe in New Zealand ODI Series</td>\n",
       "      <td>...</td>\n",
       "      <td>40</td>\n",
       "      <td>RW Price</td>\n",
       "      <td>TG Southee</td>\n",
       "      <td>KM Jarvis</td>\n",
       "      <td>0</td>\n",
       "      <td>0</td>\n",
       "      <td>0</td>\n",
       "      <td>None</td>\n",
       "      <td>None</td>\n",
       "      <td>None</td>\n",
       "    </tr>\n",
       "    <tr>\n",
       "      <th>1546111</th>\n",
       "      <td>2012-02-03</td>\n",
       "      <td>Dunedin</td>\n",
       "      <td>University Oval</td>\n",
       "      <td>ODI</td>\n",
       "      <td>3230</td>\n",
       "      <td>New Zealand</td>\n",
       "      <td>MJ Guptill</td>\n",
       "      <td>New Zealand</td>\n",
       "      <td>Zimbabwe</td>\n",
       "      <td>Zimbabwe in New Zealand ODI Series</td>\n",
       "      <td>...</td>\n",
       "      <td>41</td>\n",
       "      <td>KM Jarvis</td>\n",
       "      <td>RJ Nicol</td>\n",
       "      <td>RW Price</td>\n",
       "      <td>0</td>\n",
       "      <td>0</td>\n",
       "      <td>0</td>\n",
       "      <td>stumped</td>\n",
       "      <td>KM Jarvis</td>\n",
       "      <td>BB McCullum</td>\n",
       "    </tr>\n",
       "  </tbody>\n",
       "</table>\n",
       "<p>1546112 rows × 22 columns</p>\n",
       "</div>"
      ],
      "text/plain": [
       "         match_date      city                       venue match_type  \\\n",
       "0        2023-12-19  Gqeberha  St George's Park, Gqeberha        ODI   \n",
       "1        2023-12-19  Gqeberha  St George's Park, Gqeberha        ODI   \n",
       "2        2023-12-19  Gqeberha  St George's Park, Gqeberha        ODI   \n",
       "3        2023-12-19  Gqeberha  St George's Park, Gqeberha        ODI   \n",
       "4        2023-12-19  Gqeberha  St George's Park, Gqeberha        ODI   \n",
       "...             ...       ...                         ...        ...   \n",
       "1546107  2012-02-03   Dunedin             University Oval        ODI   \n",
       "1546108  2012-02-03   Dunedin             University Oval        ODI   \n",
       "1546109  2012-02-03   Dunedin             University Oval        ODI   \n",
       "1546110  2012-02-03   Dunedin             University Oval        ODI   \n",
       "1546111  2012-02-03   Dunedin             University Oval        ODI   \n",
       "\n",
       "         match_number        winner player_of_match        team1  \\\n",
       "0                4714  South Africa      T de Zorzi        India   \n",
       "1                4714  South Africa      T de Zorzi        India   \n",
       "2                4714  South Africa      T de Zorzi        India   \n",
       "3                4714  South Africa      T de Zorzi        India   \n",
       "4                4714  South Africa      T de Zorzi        India   \n",
       "...               ...           ...             ...          ...   \n",
       "1546107          3230   New Zealand      MJ Guptill  New Zealand   \n",
       "1546108          3230   New Zealand      MJ Guptill  New Zealand   \n",
       "1546109          3230   New Zealand      MJ Guptill  New Zealand   \n",
       "1546110          3230   New Zealand      MJ Guptill  New Zealand   \n",
       "1546111          3230   New Zealand      MJ Guptill  New Zealand   \n",
       "\n",
       "                team2                          event_name  ...  overs  \\\n",
       "0        South Africa          India tour of South Africa  ...      0   \n",
       "1        South Africa          India tour of South Africa  ...      0   \n",
       "2        South Africa          India tour of South Africa  ...      0   \n",
       "3        South Africa          India tour of South Africa  ...      0   \n",
       "4        South Africa          India tour of South Africa  ...      0   \n",
       "...               ...                                 ...  ...    ...   \n",
       "1546107      Zimbabwe  Zimbabwe in New Zealand ODI Series  ...     40   \n",
       "1546108      Zimbabwe  Zimbabwe in New Zealand ODI Series  ...     40   \n",
       "1546109      Zimbabwe  Zimbabwe in New Zealand ODI Series  ...     40   \n",
       "1546110      Zimbabwe  Zimbabwe in New Zealand ODI Series  ...     40   \n",
       "1546111      Zimbabwe  Zimbabwe in New Zealand ODI Series  ...     41   \n",
       "\n",
       "              batter      bowler      non_striker runs_batter runs_extras  \\\n",
       "0         RD Gaikwad    N Burger  B Sai Sudharsan           4           0   \n",
       "1         RD Gaikwad    N Burger  B Sai Sudharsan           0           0   \n",
       "2        Tilak Varma    N Burger  B Sai Sudharsan           0           0   \n",
       "3        Tilak Varma    N Burger  B Sai Sudharsan           0           0   \n",
       "4        Tilak Varma    N Burger  B Sai Sudharsan           0           0   \n",
       "...              ...         ...              ...         ...         ...   \n",
       "1546107     RW Price  TG Southee        KM Jarvis           0           0   \n",
       "1546108     RW Price  TG Southee        KM Jarvis           0           0   \n",
       "1546109     RW Price  TG Southee        KM Jarvis           0           0   \n",
       "1546110     RW Price  TG Southee        KM Jarvis           0           0   \n",
       "1546111    KM Jarvis    RJ Nicol         RW Price           0           0   \n",
       "\n",
       "         runs_total  wicket_type  player_out      fielder  \n",
       "0                 4         None        None         None  \n",
       "1                 0          lbw  RD Gaikwad         None  \n",
       "2                 0         None        None         None  \n",
       "3                 0         None        None         None  \n",
       "4                 0         None        None         None  \n",
       "...             ...          ...         ...          ...  \n",
       "1546107           0         None        None         None  \n",
       "1546108           0         None        None         None  \n",
       "1546109           0         None        None         None  \n",
       "1546110           0         None        None         None  \n",
       "1546111           0      stumped   KM Jarvis  BB McCullum  \n",
       "\n",
       "[1546112 rows x 22 columns]"
      ]
     },
     "execution_count": 27,
     "metadata": {},
     "output_type": "execute_result"
    }
   ],
   "source": [
    "\n",
    "odis_df.to_csv(\"/Users/muralidharanv/Documents/GUVI /PROJECTS/Cricket Matchsheet Analysis/Output/odis_df.csv\", index=False)\n",
    "odis_df"
   ]
  },
  {
   "cell_type": "markdown",
   "metadata": {},
   "source": [
    "## Connect with SQL server "
   ]
  },
  {
   "cell_type": "code",
   "execution_count": 7,
   "metadata": {},
   "outputs": [],
   "source": [
    "\n",
    "class Database:\n",
    "    def __init__(self, host, user, password):\n",
    "        self.host = host\n",
    "        self.user = user\n",
    "        self.password = password\n",
    "\n",
    "    def connect(self):\n",
    "        connection = mysql.connector.connect(\n",
    "            host=self.host,\n",
    "            user=self.user,\n",
    "            password=self.password\n",
    "        )\n",
    "        cursor = connection.cursor()\n",
    "        return connection , cursor\n",
    "    \n",
    "    def create_table(self, table_name, columns):\n",
    "        query = \"CREATE TABLE IF NOT EXISTS \" + table_name + \" (\" + \", \".join(columns) + \")\"\n",
    "        cursor.execute(query)\n",
    "        connection.commit()\n",
    "\n",
    "class Data_updation:\n",
    "    def __init__(self, connection, cursor):\n",
    "        self.connection = connection\n",
    "        self.cursor = cursor\n",
    "\n",
    "    def insert_data(self, table_name, data_frame, chunk_size=5000):\n",
    "        import numpy as np\n",
    "\n",
    "        # Clean DataFrame: Replace real NaNs, string 'nan', and NaT with None\n",
    "        data_frame = data_frame.replace(['nan', 'NaN', 'NaT'], None)\n",
    "        data_frame = data_frame.where(pd.notnull(data_frame), None)\n",
    "\n",
    "        # Convert every value to safe MySQL-friendly formats\n",
    "        def clean_value(val):\n",
    "            if isinstance(val, float) and np.isnan(val):\n",
    "                return None\n",
    "            elif isinstance(val, str) and val.strip().lower() == 'nan':\n",
    "                return None\n",
    "            return val\n",
    "\n",
    "        columns = \", \".join(data_frame.columns)\n",
    "        placeholders = \", \".join([\"%s\"] * len(data_frame.columns))\n",
    "        query = f\"INSERT INTO {table_name} ({columns}) VALUES ({placeholders})\"\n",
    "\n",
    "        for i in range(0, len(data_frame), chunk_size):\n",
    "            chunk = data_frame.iloc[i:i+chunk_size]\n",
    "            \n",
    "            # Clean each row before insert\n",
    "            data = [tuple(clean_value(val) for val in row) for _, row in chunk.iterrows()]\n",
    "\n",
    "            try:\n",
    "                self.cursor.executemany(query, data)\n",
    "                self.connection.commit()\n",
    "            except Exception as e:\n",
    "                print(f\"Error in chunk {i} to {i+chunk_size}: {e}\")\n",
    "\n",
    "        \n",
    "\n",
    "db = Database('localhost', \"root\", \"MuraliSQL@1234\")\n",
    "query = \"create database if not exists Cricket_match_data_analysis\"\n",
    "connection , cursor = db.connect()\n",
    "\n",
    "cursor.execute(query)\n",
    "query =\"use Cricket_match_data_analysis\"\n",
    "cursor.execute(query)\n",
    "connection.commit()\n"
   ]
  },
  {
   "cell_type": "code",
   "execution_count": 11,
   "metadata": {},
   "outputs": [
    {
     "name": "stdout",
     "output_type": "stream",
     "text": [
      "Python code executed successfully and connected to the database and tables have been updated.!\n"
     ]
    }
   ],
   "source": [
    "\n",
    "# Create tables\n",
    "\n",
    "\n",
    "table_1 =db.create_table('ipl_table',['match_date DATE', 'city VARCHAR(200)', 'venue VARCHAR(200)','match_type VARCHAR(200)', 'match_number INT',\n",
    "                                'winner VARCHAR(200)', 'player_of_match VARCHAR(200)','team1 VARCHAR(200)', 'team2 VARCHAR(200)',\n",
    "                                'batting_team VARCHAR(200)', 'overs INT','batter VARCHAR(200)', 'bowler VARCHAR(200)',\n",
    "                                'non_striker VARCHAR(200)', 'runs_batter INT','runs_extras INT', 'runs_total INT',\n",
    "                                'wicket_type VARCHAR(200)', 'player_out VARCHAR(200)','fielder VARCHAR(200)'])\n",
    "\n",
    "\n",
    "table_2 =db.create_table('odi_table',['match_date DATE', 'city VARCHAR(200)', 'venue VARCHAR(200)', 'match_type VARCHAR(200)', 'match_number INT',\n",
    "                                     'winner VARCHAR(200)', 'player_of_match VARCHAR(200)', 'team1 VARCHAR(200)', 'team2 VARCHAR(200)', \n",
    "                                     'event_name VARCHAR(200)', 'event_match_number INT', 'batting_team VARCHAR(200)', 'overs INT', 'batter VARCHAR(200)', 'bowler VARCHAR(200)', \n",
    "                                     'non_striker VARCHAR(200)', 'runs_batter INT', 'runs_extras INT', 'runs_total INT',\n",
    "                                     'wicket_type VARCHAR(200)', 'player_out VARCHAR(200)', 'fielder VARCHAR(200)'])\n",
    "                                     \n",
    "\n",
    "\n",
    "table_3 =db.create_table('t20s_table',['match_date DATE', 'city VARCHAR(200)', 'venue VARCHAR(200)', 'match_type VARCHAR(200)', 'match_number INT',\n",
    "                                     'winner VARCHAR(200)', 'player_of_match VARCHAR(200)', 'team1 VARCHAR(200)', 'team2 VARCHAR(200)',\n",
    "                                     'event_name VARCHAR(200)', 'event_match_number INT', 'batting_team VARCHAR(200)', 'overs INT',\n",
    "                                     'batter VARCHAR(200)', 'bowler VARCHAR(200)', 'non_striker VARCHAR(200)', 'runs_batter INT',\n",
    "                                     'runs_extras INT', 'runs_total INT', 'wicket_type VARCHAR(200)', 'player_out VARCHAR(200)','fielder VARCHAR(200)'])\n",
    "                                     \n",
    "\n",
    "\n",
    "table_4 =db.create_table('test_table',['match_start_date DATE', 'match_end_date DATE', 'city VARCHAR(200)', 'venue VARCHAR(200)', 'match_type VARCHAR(200)', 'match_number INT',\n",
    "                                       'winner VARCHAR(200)', 'player_of_match VARCHAR(200)', 'team1 VARCHAR(200)', 'team2 VARCHAR(200)',\n",
    "                                       'event_name VARCHAR(200)', 'event_match_number INT', 'batting_team VARCHAR(200)', 'overs INT',\n",
    "                                       'batter VARCHAR(200)', 'bowler VARCHAR(200)', 'non_striker VARCHAR(200)', 'runs_batter INT',\n",
    "                                       'runs_extras INT', 'runs_total INT', 'wicket_type VARCHAR(200)', 'player_out VARCHAR(200)', 'fielder VARCHAR(200)'])\n",
    "\n",
    "\n",
    "# insert the data frames in the database \n",
    "\n",
    "\n",
    "\n",
    "data_updater = Data_updation(connection, cursor)\n",
    "\n",
    "#data_updater.insert_data('ipl_table', ipl_df, chunk_size=5000)\n",
    "#data_updater.insert_data('odi_table', odis_df, chunk_size=5000)\n",
    "#data_updater.insert_data('t20s_table', t20s_df, chunk_size=5000)\n",
    "#data_updater.insert_data('test_table', test_df, chunk_size=5000)\n",
    "\n",
    "\n",
    "\n",
    "print(\"Python code executed successfully and connected to the database and tables have been updated.!\")"
   ]
  },
  {
   "cell_type": "markdown",
   "metadata": {},
   "source": [
    "## Analysis with the Dataframes "
   ]
  },
  {
   "cell_type": "code",
   "execution_count": 3,
   "metadata": {},
   "outputs": [],
   "source": [
    "import matplotlib.pyplot as plt\n",
    "import seaborn as sns\n",
    "import plotly.express as px\n",
    "import plotly.graph_objects as go\n",
    "\n",
    "\n",
    "# set rows and columns to max display of 50 rows \n",
    "pd.set_option('display.max_rows', 50)\n",
    "pd.set_option('display.max_columns', 50)\n"
   ]
  },
  {
   "cell_type": "markdown",
   "metadata": {},
   "source": [
    "### Loading the data "
   ]
  },
  {
   "cell_type": "code",
   "execution_count": 4,
   "metadata": {},
   "outputs": [
    {
     "name": "stderr",
     "output_type": "stream",
     "text": [
      "/var/folders/q9/1vgcrp_s61j9_p6vmrcdf1h00000gn/T/ipykernel_4792/40327047.py:1: DtypeWarning: Columns (17,18,19) have mixed types. Specify dtype option on import or set low_memory=False.\n",
      "  ipl_df = pd.read_csv(\"/Users/muralidharanv/Documents/GUVI /PROJECTS/Cricket Matchsheet Analysis/Output/ipl_df.csv\")\n"
     ]
    }
   ],
   "source": [
    "ipl_df = pd.read_csv(\"/Users/muralidharanv/Documents/GUVI /PROJECTS/Cricket Matchsheet Analysis/Output/ipl_df.csv\")\n",
    "odis_df = pd.read_csv(\"/Users/muralidharanv/Documents/GUVI /PROJECTS/Cricket Matchsheet Analysis/Output/odis_df.csv\")\n",
    "t20s_df = pd.read_csv(\"/Users/muralidharanv/Documents/GUVI /PROJECTS/Cricket Matchsheet Analysis/Output/t20s_df.csv\")\n",
    "test_df = pd.read_csv(\"/Users/muralidharanv/Documents/GUVI /PROJECTS/Cricket Matchsheet Analysis/Output/test_df.csv\")\n",
    "\n"
   ]
  },
  {
   "cell_type": "code",
   "execution_count": 8,
   "metadata": {},
   "outputs": [
    {
     "data": {
      "text/plain": [
       "Index(['match_start_date', 'match_end_date', 'city', 'venue', 'match_type',\n",
       "       'match_number', 'winner', 'player_of_match', 'team1', 'team2',\n",
       "       'event_name', 'event_match_number', 'batting_team', 'over', 'batter',\n",
       "       'bowler', 'non_striker', 'runs_batter', 'runs_extras', 'runs_total',\n",
       "       'wicket_type', 'player_out', 'fielder'],\n",
       "      dtype='object')"
      ]
     },
     "execution_count": 8,
     "metadata": {},
     "output_type": "execute_result"
    }
   ],
   "source": [
    "test_df.columns"
   ]
  },
  {
   "cell_type": "code",
   "execution_count": null,
   "metadata": {},
   "outputs": [],
   "source": []
  },
  {
   "cell_type": "code",
   "execution_count": null,
   "metadata": {},
   "outputs": [],
   "source": []
  },
  {
   "cell_type": "markdown",
   "metadata": {},
   "source": [
    "#### General Information About the data"
   ]
  },
  {
   "cell_type": "code",
   "execution_count": 14,
   "metadata": {},
   "outputs": [
    {
     "name": "stdout",
     "output_type": "stream",
     "text": [
      "Shape: (262148, 20)\n",
      "Columns:\n",
      " Index(['match_date', 'city', 'venue', 'match_type', 'match_number', 'winner',\n",
      "       'player_of_match', 'team1', 'team2', 'batting_team', 'over', 'batter',\n",
      "       'bowler', 'non_striker', 'runs_batter', 'runs_extras', 'runs_total',\n",
      "       'wicket_type', 'player_out', 'fielder'],\n",
      "      dtype='object')\n"
     ]
    },
    {
     "data": {
      "application/vnd.microsoft.datawrangler.viewer.v0+json": {
       "columns": [
        {
         "name": "index",
         "rawType": "object",
         "type": "string"
        },
        {
         "name": "match_number",
         "rawType": "float64",
         "type": "float"
        },
        {
         "name": "over",
         "rawType": "float64",
         "type": "float"
        },
        {
         "name": "runs_batter",
         "rawType": "float64",
         "type": "float"
        },
        {
         "name": "runs_extras",
         "rawType": "float64",
         "type": "float"
        },
        {
         "name": "runs_total",
         "rawType": "float64",
         "type": "float"
        }
       ],
       "conversionMethod": "pd.DataFrame",
       "ref": "e37bc529-cb17-416d-b823-4bcec81100d7",
       "rows": [
        [
         "count",
         "246326.0",
         "262148.0",
         "262148.0",
         "262148.0",
         "262148.0"
        ],
        [
         "mean",
         "31.15306544985101",
         "9.1983536017822",
         "1.2666699726871844",
         "0.06785479957886385",
         "1.3345247722660483"
        ],
        [
         "std",
         "18.353377629088754",
         "5.683449144635408",
         "1.6410653507497175",
         "0.3434093939935158",
         "1.6281178981076485"
        ],
        [
         "min",
         "1.0",
         "0.0",
         "0.0",
         "0.0",
         "0.0"
        ],
        [
         "25%",
         "15.0",
         "4.0",
         "0.0",
         "0.0",
         "0.0"
        ],
        [
         "50%",
         "31.0",
         "9.0",
         "1.0",
         "0.0",
         "1.0"
        ],
        [
         "75%",
         "46.0",
         "14.0",
         "1.0",
         "0.0",
         "1.0"
        ],
        [
         "max",
         "72.0",
         "19.0",
         "6.0",
         "7.0",
         "7.0"
        ]
       ],
       "shape": {
        "columns": 5,
        "rows": 8
       }
      },
      "text/html": [
       "<div>\n",
       "<style scoped>\n",
       "    .dataframe tbody tr th:only-of-type {\n",
       "        vertical-align: middle;\n",
       "    }\n",
       "\n",
       "    .dataframe tbody tr th {\n",
       "        vertical-align: top;\n",
       "    }\n",
       "\n",
       "    .dataframe thead th {\n",
       "        text-align: right;\n",
       "    }\n",
       "</style>\n",
       "<table border=\"1\" class=\"dataframe\">\n",
       "  <thead>\n",
       "    <tr style=\"text-align: right;\">\n",
       "      <th></th>\n",
       "      <th>match_number</th>\n",
       "      <th>over</th>\n",
       "      <th>runs_batter</th>\n",
       "      <th>runs_extras</th>\n",
       "      <th>runs_total</th>\n",
       "    </tr>\n",
       "  </thead>\n",
       "  <tbody>\n",
       "    <tr>\n",
       "      <th>count</th>\n",
       "      <td>246326.000000</td>\n",
       "      <td>262148.000000</td>\n",
       "      <td>262148.000000</td>\n",
       "      <td>262148.000000</td>\n",
       "      <td>262148.000000</td>\n",
       "    </tr>\n",
       "    <tr>\n",
       "      <th>mean</th>\n",
       "      <td>31.153065</td>\n",
       "      <td>9.198354</td>\n",
       "      <td>1.266670</td>\n",
       "      <td>0.067855</td>\n",
       "      <td>1.334525</td>\n",
       "    </tr>\n",
       "    <tr>\n",
       "      <th>std</th>\n",
       "      <td>18.353378</td>\n",
       "      <td>5.683449</td>\n",
       "      <td>1.641065</td>\n",
       "      <td>0.343409</td>\n",
       "      <td>1.628118</td>\n",
       "    </tr>\n",
       "    <tr>\n",
       "      <th>min</th>\n",
       "      <td>1.000000</td>\n",
       "      <td>0.000000</td>\n",
       "      <td>0.000000</td>\n",
       "      <td>0.000000</td>\n",
       "      <td>0.000000</td>\n",
       "    </tr>\n",
       "    <tr>\n",
       "      <th>25%</th>\n",
       "      <td>15.000000</td>\n",
       "      <td>4.000000</td>\n",
       "      <td>0.000000</td>\n",
       "      <td>0.000000</td>\n",
       "      <td>0.000000</td>\n",
       "    </tr>\n",
       "    <tr>\n",
       "      <th>50%</th>\n",
       "      <td>31.000000</td>\n",
       "      <td>9.000000</td>\n",
       "      <td>1.000000</td>\n",
       "      <td>0.000000</td>\n",
       "      <td>1.000000</td>\n",
       "    </tr>\n",
       "    <tr>\n",
       "      <th>75%</th>\n",
       "      <td>46.000000</td>\n",
       "      <td>14.000000</td>\n",
       "      <td>1.000000</td>\n",
       "      <td>0.000000</td>\n",
       "      <td>1.000000</td>\n",
       "    </tr>\n",
       "    <tr>\n",
       "      <th>max</th>\n",
       "      <td>72.000000</td>\n",
       "      <td>19.000000</td>\n",
       "      <td>6.000000</td>\n",
       "      <td>7.000000</td>\n",
       "      <td>7.000000</td>\n",
       "    </tr>\n",
       "  </tbody>\n",
       "</table>\n",
       "</div>"
      ],
      "text/plain": [
       "        match_number           over    runs_batter    runs_extras  \\\n",
       "count  246326.000000  262148.000000  262148.000000  262148.000000   \n",
       "mean       31.153065       9.198354       1.266670       0.067855   \n",
       "std        18.353378       5.683449       1.641065       0.343409   \n",
       "min         1.000000       0.000000       0.000000       0.000000   \n",
       "25%        15.000000       4.000000       0.000000       0.000000   \n",
       "50%        31.000000       9.000000       1.000000       0.000000   \n",
       "75%        46.000000      14.000000       1.000000       0.000000   \n",
       "max        72.000000      19.000000       6.000000       7.000000   \n",
       "\n",
       "          runs_total  \n",
       "count  262148.000000  \n",
       "mean        1.334525  \n",
       "std         1.628118  \n",
       "min         0.000000  \n",
       "25%         0.000000  \n",
       "50%         1.000000  \n",
       "75%         1.000000  \n",
       "max         7.000000  "
      ]
     },
     "execution_count": 14,
     "metadata": {},
     "output_type": "execute_result"
    }
   ],
   "source": [
    "# Inspect shape and columns\n",
    "print(\"Shape:\", ipl_df.shape)\n",
    "print(\"Columns:\\n\", ipl_df.columns)\n",
    "\n",
    "ipl_df.describe()\n",
    "\n"
   ]
  },
  {
   "cell_type": "code",
   "execution_count": 15,
   "metadata": {},
   "outputs": [
    {
     "name": "stdout",
     "output_type": "stream",
     "text": [
      "\n",
      "Missing Values:\n",
      " match_date              0\n",
      "city                12397\n",
      "venue                   0\n",
      "match_type              0\n",
      "match_number        15822\n",
      "winner               4124\n",
      "player_of_match       490\n",
      "team1                   0\n",
      "team2                   0\n",
      "batting_team            0\n",
      "over                    0\n",
      "batter                  0\n",
      "bowler                  0\n",
      "non_striker             0\n",
      "runs_batter             0\n",
      "runs_extras             0\n",
      "runs_total              0\n",
      "wicket_type        249133\n",
      "player_out         249133\n",
      "fielder            252743\n",
      "dtype: int64\n"
     ]
    }
   ],
   "source": [
    "# Check for missing values\n",
    "print(\"\\nMissing Values:\\n\", ipl_df.isna().sum())"
   ]
  },
  {
   "cell_type": "code",
   "execution_count": 16,
   "metadata": {},
   "outputs": [
    {
     "name": "stdout",
     "output_type": "stream",
     "text": [
      "\n",
      "Duplicates: 68567\n"
     ]
    },
    {
     "data": {
      "application/vnd.microsoft.datawrangler.viewer.v0+json": {
       "columns": [
        {
         "name": "index",
         "rawType": "int64",
         "type": "integer"
        },
        {
         "name": "match_date",
         "rawType": "object",
         "type": "string"
        },
        {
         "name": "city",
         "rawType": "object",
         "type": "string"
        },
        {
         "name": "venue",
         "rawType": "object",
         "type": "string"
        },
        {
         "name": "match_type",
         "rawType": "object",
         "type": "string"
        },
        {
         "name": "match_number",
         "rawType": "float64",
         "type": "float"
        },
        {
         "name": "winner",
         "rawType": "object",
         "type": "string"
        },
        {
         "name": "player_of_match",
         "rawType": "object",
         "type": "string"
        },
        {
         "name": "team1",
         "rawType": "object",
         "type": "string"
        },
        {
         "name": "team2",
         "rawType": "object",
         "type": "string"
        },
        {
         "name": "batting_team",
         "rawType": "object",
         "type": "string"
        },
        {
         "name": "over",
         "rawType": "int64",
         "type": "integer"
        },
        {
         "name": "batter",
         "rawType": "object",
         "type": "string"
        },
        {
         "name": "bowler",
         "rawType": "object",
         "type": "string"
        },
        {
         "name": "non_striker",
         "rawType": "object",
         "type": "string"
        },
        {
         "name": "runs_batter",
         "rawType": "int64",
         "type": "integer"
        },
        {
         "name": "runs_extras",
         "rawType": "int64",
         "type": "integer"
        },
        {
         "name": "runs_total",
         "rawType": "int64",
         "type": "integer"
        },
        {
         "name": "wicket_type",
         "rawType": "object",
         "type": "unknown"
        },
        {
         "name": "player_out",
         "rawType": "object",
         "type": "unknown"
        },
        {
         "name": "fielder",
         "rawType": "object",
         "type": "unknown"
        }
       ],
       "conversionMethod": "pd.DataFrame",
       "ref": "d01bb780-1f95-480c-ab15-c715282c6d49",
       "rows": [
        [
         "1",
         "2024-04-09",
         "Mohali",
         "Maharaja Yadavindra Singh International Cricket Stadium, Mullanpur",
         "Indian Premier League T20",
         "23.0",
         "Sunrisers Hyderabad",
         "Nithish Kumar Reddy",
         "Sunrisers Hyderabad",
         "Punjab Kings",
         "Sunrisers Hyderabad",
         "0",
         "TM Head",
         "K Rabada",
         "Abhishek Sharma",
         "0",
         "0",
         "0",
         null,
         null,
         null
        ],
        [
         "3",
         "2024-04-09",
         "Mohali",
         "Maharaja Yadavindra Singh International Cricket Stadium, Mullanpur",
         "Indian Premier League T20",
         "23.0",
         "Sunrisers Hyderabad",
         "Nithish Kumar Reddy",
         "Sunrisers Hyderabad",
         "Punjab Kings",
         "Sunrisers Hyderabad",
         "0",
         "TM Head",
         "K Rabada",
         "Abhishek Sharma",
         "0",
         "0",
         "0",
         null,
         null,
         null
        ],
        [
         "4",
         "2024-04-09",
         "Mohali",
         "Maharaja Yadavindra Singh International Cricket Stadium, Mullanpur",
         "Indian Premier League T20",
         "23.0",
         "Sunrisers Hyderabad",
         "Nithish Kumar Reddy",
         "Sunrisers Hyderabad",
         "Punjab Kings",
         "Sunrisers Hyderabad",
         "0",
         "TM Head",
         "K Rabada",
         "Abhishek Sharma",
         "0",
         "0",
         "0",
         null,
         null,
         null
        ],
        [
         "5",
         "2024-04-09",
         "Mohali",
         "Maharaja Yadavindra Singh International Cricket Stadium, Mullanpur",
         "Indian Premier League T20",
         "23.0",
         "Sunrisers Hyderabad",
         "Nithish Kumar Reddy",
         "Sunrisers Hyderabad",
         "Punjab Kings",
         "Sunrisers Hyderabad",
         "0",
         "TM Head",
         "K Rabada",
         "Abhishek Sharma",
         "0",
         "0",
         "0",
         null,
         null,
         null
        ],
        [
         "11",
         "2024-04-09",
         "Mohali",
         "Maharaja Yadavindra Singh International Cricket Stadium, Mullanpur",
         "Indian Premier League T20",
         "23.0",
         "Sunrisers Hyderabad",
         "Nithish Kumar Reddy",
         "Sunrisers Hyderabad",
         "Punjab Kings",
         "Sunrisers Hyderabad",
         "1",
         "Abhishek Sharma",
         "Arshdeep Singh",
         "TM Head",
         "0",
         "0",
         "0",
         null,
         null,
         null
        ],
        [
         "13",
         "2024-04-09",
         "Mohali",
         "Maharaja Yadavindra Singh International Cricket Stadium, Mullanpur",
         "Indian Premier League T20",
         "23.0",
         "Sunrisers Hyderabad",
         "Nithish Kumar Reddy",
         "Sunrisers Hyderabad",
         "Punjab Kings",
         "Sunrisers Hyderabad",
         "2",
         "TM Head",
         "K Rabada",
         "Abhishek Sharma",
         "4",
         "0",
         "4",
         null,
         null,
         null
        ],
        [
         "14",
         "2024-04-09",
         "Mohali",
         "Maharaja Yadavindra Singh International Cricket Stadium, Mullanpur",
         "Indian Premier League T20",
         "23.0",
         "Sunrisers Hyderabad",
         "Nithish Kumar Reddy",
         "Sunrisers Hyderabad",
         "Punjab Kings",
         "Sunrisers Hyderabad",
         "2",
         "TM Head",
         "K Rabada",
         "Abhishek Sharma",
         "4",
         "0",
         "4",
         null,
         null,
         null
        ],
        [
         "17",
         "2024-04-09",
         "Mohali",
         "Maharaja Yadavindra Singh International Cricket Stadium, Mullanpur",
         "Indian Premier League T20",
         "23.0",
         "Sunrisers Hyderabad",
         "Nithish Kumar Reddy",
         "Sunrisers Hyderabad",
         "Punjab Kings",
         "Sunrisers Hyderabad",
         "2",
         "TM Head",
         "K Rabada",
         "Abhishek Sharma",
         "2",
         "0",
         "2",
         null,
         null,
         null
        ],
        [
         "24",
         "2024-04-09",
         "Mohali",
         "Maharaja Yadavindra Singh International Cricket Stadium, Mullanpur",
         "Indian Premier League T20",
         "23.0",
         "Sunrisers Hyderabad",
         "Nithish Kumar Reddy",
         "Sunrisers Hyderabad",
         "Punjab Kings",
         "Sunrisers Hyderabad",
         "3",
         "Nithish Kumar Reddy",
         "Arshdeep Singh",
         "Abhishek Sharma",
         "0",
         "0",
         "0",
         null,
         null,
         null
        ],
        [
         "26",
         "2024-04-09",
         "Mohali",
         "Maharaja Yadavindra Singh International Cricket Stadium, Mullanpur",
         "Indian Premier League T20",
         "23.0",
         "Sunrisers Hyderabad",
         "Nithish Kumar Reddy",
         "Sunrisers Hyderabad",
         "Punjab Kings",
         "Sunrisers Hyderabad",
         "4",
         "Abhishek Sharma",
         "SM Curran",
         "Nithish Kumar Reddy",
         "0",
         "0",
         "0",
         null,
         null,
         null
        ],
        [
         "28",
         "2024-04-09",
         "Mohali",
         "Maharaja Yadavindra Singh International Cricket Stadium, Mullanpur",
         "Indian Premier League T20",
         "23.0",
         "Sunrisers Hyderabad",
         "Nithish Kumar Reddy",
         "Sunrisers Hyderabad",
         "Punjab Kings",
         "Sunrisers Hyderabad",
         "4",
         "Abhishek Sharma",
         "SM Curran",
         "Nithish Kumar Reddy",
         "0",
         "0",
         "0",
         null,
         null,
         null
        ],
        [
         "35",
         "2024-04-09",
         "Mohali",
         "Maharaja Yadavindra Singh International Cricket Stadium, Mullanpur",
         "Indian Premier League T20",
         "23.0",
         "Sunrisers Hyderabad",
         "Nithish Kumar Reddy",
         "Sunrisers Hyderabad",
         "Punjab Kings",
         "Sunrisers Hyderabad",
         "5",
         "RA Tripathi",
         "HV Patel",
         "Nithish Kumar Reddy",
         "0",
         "0",
         "0",
         null,
         null,
         null
        ],
        [
         "36",
         "2024-04-09",
         "Mohali",
         "Maharaja Yadavindra Singh International Cricket Stadium, Mullanpur",
         "Indian Premier League T20",
         "23.0",
         "Sunrisers Hyderabad",
         "Nithish Kumar Reddy",
         "Sunrisers Hyderabad",
         "Punjab Kings",
         "Sunrisers Hyderabad",
         "5",
         "RA Tripathi",
         "HV Patel",
         "Nithish Kumar Reddy",
         "0",
         "0",
         "0",
         null,
         null,
         null
        ],
        [
         "37",
         "2024-04-09",
         "Mohali",
         "Maharaja Yadavindra Singh International Cricket Stadium, Mullanpur",
         "Indian Premier League T20",
         "23.0",
         "Sunrisers Hyderabad",
         "Nithish Kumar Reddy",
         "Sunrisers Hyderabad",
         "Punjab Kings",
         "Sunrisers Hyderabad",
         "5",
         "RA Tripathi",
         "HV Patel",
         "Nithish Kumar Reddy",
         "0",
         "0",
         "0",
         null,
         null,
         null
        ],
        [
         "40",
         "2024-04-09",
         "Mohali",
         "Maharaja Yadavindra Singh International Cricket Stadium, Mullanpur",
         "Indian Premier League T20",
         "23.0",
         "Sunrisers Hyderabad",
         "Nithish Kumar Reddy",
         "Sunrisers Hyderabad",
         "Punjab Kings",
         "Sunrisers Hyderabad",
         "6",
         "RA Tripathi",
         "Harpreet Brar",
         "Nithish Kumar Reddy",
         "0",
         "0",
         "0",
         null,
         null,
         null
        ]
       ],
       "shape": {
        "columns": 20,
        "rows": 15
       }
      },
      "text/html": [
       "<div>\n",
       "<style scoped>\n",
       "    .dataframe tbody tr th:only-of-type {\n",
       "        vertical-align: middle;\n",
       "    }\n",
       "\n",
       "    .dataframe tbody tr th {\n",
       "        vertical-align: top;\n",
       "    }\n",
       "\n",
       "    .dataframe thead th {\n",
       "        text-align: right;\n",
       "    }\n",
       "</style>\n",
       "<table border=\"1\" class=\"dataframe\">\n",
       "  <thead>\n",
       "    <tr style=\"text-align: right;\">\n",
       "      <th></th>\n",
       "      <th>match_date</th>\n",
       "      <th>city</th>\n",
       "      <th>venue</th>\n",
       "      <th>match_type</th>\n",
       "      <th>match_number</th>\n",
       "      <th>winner</th>\n",
       "      <th>player_of_match</th>\n",
       "      <th>team1</th>\n",
       "      <th>team2</th>\n",
       "      <th>batting_team</th>\n",
       "      <th>over</th>\n",
       "      <th>batter</th>\n",
       "      <th>bowler</th>\n",
       "      <th>non_striker</th>\n",
       "      <th>runs_batter</th>\n",
       "      <th>runs_extras</th>\n",
       "      <th>runs_total</th>\n",
       "      <th>wicket_type</th>\n",
       "      <th>player_out</th>\n",
       "      <th>fielder</th>\n",
       "    </tr>\n",
       "  </thead>\n",
       "  <tbody>\n",
       "    <tr>\n",
       "      <th>1</th>\n",
       "      <td>2024-04-09</td>\n",
       "      <td>Mohali</td>\n",
       "      <td>Maharaja Yadavindra Singh International Cricke...</td>\n",
       "      <td>Indian Premier League T20</td>\n",
       "      <td>23.0</td>\n",
       "      <td>Sunrisers Hyderabad</td>\n",
       "      <td>Nithish Kumar Reddy</td>\n",
       "      <td>Sunrisers Hyderabad</td>\n",
       "      <td>Punjab Kings</td>\n",
       "      <td>Sunrisers Hyderabad</td>\n",
       "      <td>0</td>\n",
       "      <td>TM Head</td>\n",
       "      <td>K Rabada</td>\n",
       "      <td>Abhishek Sharma</td>\n",
       "      <td>0</td>\n",
       "      <td>0</td>\n",
       "      <td>0</td>\n",
       "      <td>NaN</td>\n",
       "      <td>NaN</td>\n",
       "      <td>NaN</td>\n",
       "    </tr>\n",
       "    <tr>\n",
       "      <th>3</th>\n",
       "      <td>2024-04-09</td>\n",
       "      <td>Mohali</td>\n",
       "      <td>Maharaja Yadavindra Singh International Cricke...</td>\n",
       "      <td>Indian Premier League T20</td>\n",
       "      <td>23.0</td>\n",
       "      <td>Sunrisers Hyderabad</td>\n",
       "      <td>Nithish Kumar Reddy</td>\n",
       "      <td>Sunrisers Hyderabad</td>\n",
       "      <td>Punjab Kings</td>\n",
       "      <td>Sunrisers Hyderabad</td>\n",
       "      <td>0</td>\n",
       "      <td>TM Head</td>\n",
       "      <td>K Rabada</td>\n",
       "      <td>Abhishek Sharma</td>\n",
       "      <td>0</td>\n",
       "      <td>0</td>\n",
       "      <td>0</td>\n",
       "      <td>NaN</td>\n",
       "      <td>NaN</td>\n",
       "      <td>NaN</td>\n",
       "    </tr>\n",
       "    <tr>\n",
       "      <th>4</th>\n",
       "      <td>2024-04-09</td>\n",
       "      <td>Mohali</td>\n",
       "      <td>Maharaja Yadavindra Singh International Cricke...</td>\n",
       "      <td>Indian Premier League T20</td>\n",
       "      <td>23.0</td>\n",
       "      <td>Sunrisers Hyderabad</td>\n",
       "      <td>Nithish Kumar Reddy</td>\n",
       "      <td>Sunrisers Hyderabad</td>\n",
       "      <td>Punjab Kings</td>\n",
       "      <td>Sunrisers Hyderabad</td>\n",
       "      <td>0</td>\n",
       "      <td>TM Head</td>\n",
       "      <td>K Rabada</td>\n",
       "      <td>Abhishek Sharma</td>\n",
       "      <td>0</td>\n",
       "      <td>0</td>\n",
       "      <td>0</td>\n",
       "      <td>NaN</td>\n",
       "      <td>NaN</td>\n",
       "      <td>NaN</td>\n",
       "    </tr>\n",
       "    <tr>\n",
       "      <th>5</th>\n",
       "      <td>2024-04-09</td>\n",
       "      <td>Mohali</td>\n",
       "      <td>Maharaja Yadavindra Singh International Cricke...</td>\n",
       "      <td>Indian Premier League T20</td>\n",
       "      <td>23.0</td>\n",
       "      <td>Sunrisers Hyderabad</td>\n",
       "      <td>Nithish Kumar Reddy</td>\n",
       "      <td>Sunrisers Hyderabad</td>\n",
       "      <td>Punjab Kings</td>\n",
       "      <td>Sunrisers Hyderabad</td>\n",
       "      <td>0</td>\n",
       "      <td>TM Head</td>\n",
       "      <td>K Rabada</td>\n",
       "      <td>Abhishek Sharma</td>\n",
       "      <td>0</td>\n",
       "      <td>0</td>\n",
       "      <td>0</td>\n",
       "      <td>NaN</td>\n",
       "      <td>NaN</td>\n",
       "      <td>NaN</td>\n",
       "    </tr>\n",
       "    <tr>\n",
       "      <th>11</th>\n",
       "      <td>2024-04-09</td>\n",
       "      <td>Mohali</td>\n",
       "      <td>Maharaja Yadavindra Singh International Cricke...</td>\n",
       "      <td>Indian Premier League T20</td>\n",
       "      <td>23.0</td>\n",
       "      <td>Sunrisers Hyderabad</td>\n",
       "      <td>Nithish Kumar Reddy</td>\n",
       "      <td>Sunrisers Hyderabad</td>\n",
       "      <td>Punjab Kings</td>\n",
       "      <td>Sunrisers Hyderabad</td>\n",
       "      <td>1</td>\n",
       "      <td>Abhishek Sharma</td>\n",
       "      <td>Arshdeep Singh</td>\n",
       "      <td>TM Head</td>\n",
       "      <td>0</td>\n",
       "      <td>0</td>\n",
       "      <td>0</td>\n",
       "      <td>NaN</td>\n",
       "      <td>NaN</td>\n",
       "      <td>NaN</td>\n",
       "    </tr>\n",
       "    <tr>\n",
       "      <th>13</th>\n",
       "      <td>2024-04-09</td>\n",
       "      <td>Mohali</td>\n",
       "      <td>Maharaja Yadavindra Singh International Cricke...</td>\n",
       "      <td>Indian Premier League T20</td>\n",
       "      <td>23.0</td>\n",
       "      <td>Sunrisers Hyderabad</td>\n",
       "      <td>Nithish Kumar Reddy</td>\n",
       "      <td>Sunrisers Hyderabad</td>\n",
       "      <td>Punjab Kings</td>\n",
       "      <td>Sunrisers Hyderabad</td>\n",
       "      <td>2</td>\n",
       "      <td>TM Head</td>\n",
       "      <td>K Rabada</td>\n",
       "      <td>Abhishek Sharma</td>\n",
       "      <td>4</td>\n",
       "      <td>0</td>\n",
       "      <td>4</td>\n",
       "      <td>NaN</td>\n",
       "      <td>NaN</td>\n",
       "      <td>NaN</td>\n",
       "    </tr>\n",
       "    <tr>\n",
       "      <th>14</th>\n",
       "      <td>2024-04-09</td>\n",
       "      <td>Mohali</td>\n",
       "      <td>Maharaja Yadavindra Singh International Cricke...</td>\n",
       "      <td>Indian Premier League T20</td>\n",
       "      <td>23.0</td>\n",
       "      <td>Sunrisers Hyderabad</td>\n",
       "      <td>Nithish Kumar Reddy</td>\n",
       "      <td>Sunrisers Hyderabad</td>\n",
       "      <td>Punjab Kings</td>\n",
       "      <td>Sunrisers Hyderabad</td>\n",
       "      <td>2</td>\n",
       "      <td>TM Head</td>\n",
       "      <td>K Rabada</td>\n",
       "      <td>Abhishek Sharma</td>\n",
       "      <td>4</td>\n",
       "      <td>0</td>\n",
       "      <td>4</td>\n",
       "      <td>NaN</td>\n",
       "      <td>NaN</td>\n",
       "      <td>NaN</td>\n",
       "    </tr>\n",
       "    <tr>\n",
       "      <th>17</th>\n",
       "      <td>2024-04-09</td>\n",
       "      <td>Mohali</td>\n",
       "      <td>Maharaja Yadavindra Singh International Cricke...</td>\n",
       "      <td>Indian Premier League T20</td>\n",
       "      <td>23.0</td>\n",
       "      <td>Sunrisers Hyderabad</td>\n",
       "      <td>Nithish Kumar Reddy</td>\n",
       "      <td>Sunrisers Hyderabad</td>\n",
       "      <td>Punjab Kings</td>\n",
       "      <td>Sunrisers Hyderabad</td>\n",
       "      <td>2</td>\n",
       "      <td>TM Head</td>\n",
       "      <td>K Rabada</td>\n",
       "      <td>Abhishek Sharma</td>\n",
       "      <td>2</td>\n",
       "      <td>0</td>\n",
       "      <td>2</td>\n",
       "      <td>NaN</td>\n",
       "      <td>NaN</td>\n",
       "      <td>NaN</td>\n",
       "    </tr>\n",
       "    <tr>\n",
       "      <th>24</th>\n",
       "      <td>2024-04-09</td>\n",
       "      <td>Mohali</td>\n",
       "      <td>Maharaja Yadavindra Singh International Cricke...</td>\n",
       "      <td>Indian Premier League T20</td>\n",
       "      <td>23.0</td>\n",
       "      <td>Sunrisers Hyderabad</td>\n",
       "      <td>Nithish Kumar Reddy</td>\n",
       "      <td>Sunrisers Hyderabad</td>\n",
       "      <td>Punjab Kings</td>\n",
       "      <td>Sunrisers Hyderabad</td>\n",
       "      <td>3</td>\n",
       "      <td>Nithish Kumar Reddy</td>\n",
       "      <td>Arshdeep Singh</td>\n",
       "      <td>Abhishek Sharma</td>\n",
       "      <td>0</td>\n",
       "      <td>0</td>\n",
       "      <td>0</td>\n",
       "      <td>NaN</td>\n",
       "      <td>NaN</td>\n",
       "      <td>NaN</td>\n",
       "    </tr>\n",
       "    <tr>\n",
       "      <th>26</th>\n",
       "      <td>2024-04-09</td>\n",
       "      <td>Mohali</td>\n",
       "      <td>Maharaja Yadavindra Singh International Cricke...</td>\n",
       "      <td>Indian Premier League T20</td>\n",
       "      <td>23.0</td>\n",
       "      <td>Sunrisers Hyderabad</td>\n",
       "      <td>Nithish Kumar Reddy</td>\n",
       "      <td>Sunrisers Hyderabad</td>\n",
       "      <td>Punjab Kings</td>\n",
       "      <td>Sunrisers Hyderabad</td>\n",
       "      <td>4</td>\n",
       "      <td>Abhishek Sharma</td>\n",
       "      <td>SM Curran</td>\n",
       "      <td>Nithish Kumar Reddy</td>\n",
       "      <td>0</td>\n",
       "      <td>0</td>\n",
       "      <td>0</td>\n",
       "      <td>NaN</td>\n",
       "      <td>NaN</td>\n",
       "      <td>NaN</td>\n",
       "    </tr>\n",
       "    <tr>\n",
       "      <th>28</th>\n",
       "      <td>2024-04-09</td>\n",
       "      <td>Mohali</td>\n",
       "      <td>Maharaja Yadavindra Singh International Cricke...</td>\n",
       "      <td>Indian Premier League T20</td>\n",
       "      <td>23.0</td>\n",
       "      <td>Sunrisers Hyderabad</td>\n",
       "      <td>Nithish Kumar Reddy</td>\n",
       "      <td>Sunrisers Hyderabad</td>\n",
       "      <td>Punjab Kings</td>\n",
       "      <td>Sunrisers Hyderabad</td>\n",
       "      <td>4</td>\n",
       "      <td>Abhishek Sharma</td>\n",
       "      <td>SM Curran</td>\n",
       "      <td>Nithish Kumar Reddy</td>\n",
       "      <td>0</td>\n",
       "      <td>0</td>\n",
       "      <td>0</td>\n",
       "      <td>NaN</td>\n",
       "      <td>NaN</td>\n",
       "      <td>NaN</td>\n",
       "    </tr>\n",
       "    <tr>\n",
       "      <th>35</th>\n",
       "      <td>2024-04-09</td>\n",
       "      <td>Mohali</td>\n",
       "      <td>Maharaja Yadavindra Singh International Cricke...</td>\n",
       "      <td>Indian Premier League T20</td>\n",
       "      <td>23.0</td>\n",
       "      <td>Sunrisers Hyderabad</td>\n",
       "      <td>Nithish Kumar Reddy</td>\n",
       "      <td>Sunrisers Hyderabad</td>\n",
       "      <td>Punjab Kings</td>\n",
       "      <td>Sunrisers Hyderabad</td>\n",
       "      <td>5</td>\n",
       "      <td>RA Tripathi</td>\n",
       "      <td>HV Patel</td>\n",
       "      <td>Nithish Kumar Reddy</td>\n",
       "      <td>0</td>\n",
       "      <td>0</td>\n",
       "      <td>0</td>\n",
       "      <td>NaN</td>\n",
       "      <td>NaN</td>\n",
       "      <td>NaN</td>\n",
       "    </tr>\n",
       "    <tr>\n",
       "      <th>36</th>\n",
       "      <td>2024-04-09</td>\n",
       "      <td>Mohali</td>\n",
       "      <td>Maharaja Yadavindra Singh International Cricke...</td>\n",
       "      <td>Indian Premier League T20</td>\n",
       "      <td>23.0</td>\n",
       "      <td>Sunrisers Hyderabad</td>\n",
       "      <td>Nithish Kumar Reddy</td>\n",
       "      <td>Sunrisers Hyderabad</td>\n",
       "      <td>Punjab Kings</td>\n",
       "      <td>Sunrisers Hyderabad</td>\n",
       "      <td>5</td>\n",
       "      <td>RA Tripathi</td>\n",
       "      <td>HV Patel</td>\n",
       "      <td>Nithish Kumar Reddy</td>\n",
       "      <td>0</td>\n",
       "      <td>0</td>\n",
       "      <td>0</td>\n",
       "      <td>NaN</td>\n",
       "      <td>NaN</td>\n",
       "      <td>NaN</td>\n",
       "    </tr>\n",
       "    <tr>\n",
       "      <th>37</th>\n",
       "      <td>2024-04-09</td>\n",
       "      <td>Mohali</td>\n",
       "      <td>Maharaja Yadavindra Singh International Cricke...</td>\n",
       "      <td>Indian Premier League T20</td>\n",
       "      <td>23.0</td>\n",
       "      <td>Sunrisers Hyderabad</td>\n",
       "      <td>Nithish Kumar Reddy</td>\n",
       "      <td>Sunrisers Hyderabad</td>\n",
       "      <td>Punjab Kings</td>\n",
       "      <td>Sunrisers Hyderabad</td>\n",
       "      <td>5</td>\n",
       "      <td>RA Tripathi</td>\n",
       "      <td>HV Patel</td>\n",
       "      <td>Nithish Kumar Reddy</td>\n",
       "      <td>0</td>\n",
       "      <td>0</td>\n",
       "      <td>0</td>\n",
       "      <td>NaN</td>\n",
       "      <td>NaN</td>\n",
       "      <td>NaN</td>\n",
       "    </tr>\n",
       "    <tr>\n",
       "      <th>40</th>\n",
       "      <td>2024-04-09</td>\n",
       "      <td>Mohali</td>\n",
       "      <td>Maharaja Yadavindra Singh International Cricke...</td>\n",
       "      <td>Indian Premier League T20</td>\n",
       "      <td>23.0</td>\n",
       "      <td>Sunrisers Hyderabad</td>\n",
       "      <td>Nithish Kumar Reddy</td>\n",
       "      <td>Sunrisers Hyderabad</td>\n",
       "      <td>Punjab Kings</td>\n",
       "      <td>Sunrisers Hyderabad</td>\n",
       "      <td>6</td>\n",
       "      <td>RA Tripathi</td>\n",
       "      <td>Harpreet Brar</td>\n",
       "      <td>Nithish Kumar Reddy</td>\n",
       "      <td>0</td>\n",
       "      <td>0</td>\n",
       "      <td>0</td>\n",
       "      <td>NaN</td>\n",
       "      <td>NaN</td>\n",
       "      <td>NaN</td>\n",
       "    </tr>\n",
       "  </tbody>\n",
       "</table>\n",
       "</div>"
      ],
      "text/plain": [
       "    match_date    city                                              venue  \\\n",
       "1   2024-04-09  Mohali  Maharaja Yadavindra Singh International Cricke...   \n",
       "3   2024-04-09  Mohali  Maharaja Yadavindra Singh International Cricke...   \n",
       "4   2024-04-09  Mohali  Maharaja Yadavindra Singh International Cricke...   \n",
       "5   2024-04-09  Mohali  Maharaja Yadavindra Singh International Cricke...   \n",
       "11  2024-04-09  Mohali  Maharaja Yadavindra Singh International Cricke...   \n",
       "13  2024-04-09  Mohali  Maharaja Yadavindra Singh International Cricke...   \n",
       "14  2024-04-09  Mohali  Maharaja Yadavindra Singh International Cricke...   \n",
       "17  2024-04-09  Mohali  Maharaja Yadavindra Singh International Cricke...   \n",
       "24  2024-04-09  Mohali  Maharaja Yadavindra Singh International Cricke...   \n",
       "26  2024-04-09  Mohali  Maharaja Yadavindra Singh International Cricke...   \n",
       "28  2024-04-09  Mohali  Maharaja Yadavindra Singh International Cricke...   \n",
       "35  2024-04-09  Mohali  Maharaja Yadavindra Singh International Cricke...   \n",
       "36  2024-04-09  Mohali  Maharaja Yadavindra Singh International Cricke...   \n",
       "37  2024-04-09  Mohali  Maharaja Yadavindra Singh International Cricke...   \n",
       "40  2024-04-09  Mohali  Maharaja Yadavindra Singh International Cricke...   \n",
       "\n",
       "                   match_type  match_number               winner  \\\n",
       "1   Indian Premier League T20          23.0  Sunrisers Hyderabad   \n",
       "3   Indian Premier League T20          23.0  Sunrisers Hyderabad   \n",
       "4   Indian Premier League T20          23.0  Sunrisers Hyderabad   \n",
       "5   Indian Premier League T20          23.0  Sunrisers Hyderabad   \n",
       "11  Indian Premier League T20          23.0  Sunrisers Hyderabad   \n",
       "13  Indian Premier League T20          23.0  Sunrisers Hyderabad   \n",
       "14  Indian Premier League T20          23.0  Sunrisers Hyderabad   \n",
       "17  Indian Premier League T20          23.0  Sunrisers Hyderabad   \n",
       "24  Indian Premier League T20          23.0  Sunrisers Hyderabad   \n",
       "26  Indian Premier League T20          23.0  Sunrisers Hyderabad   \n",
       "28  Indian Premier League T20          23.0  Sunrisers Hyderabad   \n",
       "35  Indian Premier League T20          23.0  Sunrisers Hyderabad   \n",
       "36  Indian Premier League T20          23.0  Sunrisers Hyderabad   \n",
       "37  Indian Premier League T20          23.0  Sunrisers Hyderabad   \n",
       "40  Indian Premier League T20          23.0  Sunrisers Hyderabad   \n",
       "\n",
       "        player_of_match                team1         team2  \\\n",
       "1   Nithish Kumar Reddy  Sunrisers Hyderabad  Punjab Kings   \n",
       "3   Nithish Kumar Reddy  Sunrisers Hyderabad  Punjab Kings   \n",
       "4   Nithish Kumar Reddy  Sunrisers Hyderabad  Punjab Kings   \n",
       "5   Nithish Kumar Reddy  Sunrisers Hyderabad  Punjab Kings   \n",
       "11  Nithish Kumar Reddy  Sunrisers Hyderabad  Punjab Kings   \n",
       "13  Nithish Kumar Reddy  Sunrisers Hyderabad  Punjab Kings   \n",
       "14  Nithish Kumar Reddy  Sunrisers Hyderabad  Punjab Kings   \n",
       "17  Nithish Kumar Reddy  Sunrisers Hyderabad  Punjab Kings   \n",
       "24  Nithish Kumar Reddy  Sunrisers Hyderabad  Punjab Kings   \n",
       "26  Nithish Kumar Reddy  Sunrisers Hyderabad  Punjab Kings   \n",
       "28  Nithish Kumar Reddy  Sunrisers Hyderabad  Punjab Kings   \n",
       "35  Nithish Kumar Reddy  Sunrisers Hyderabad  Punjab Kings   \n",
       "36  Nithish Kumar Reddy  Sunrisers Hyderabad  Punjab Kings   \n",
       "37  Nithish Kumar Reddy  Sunrisers Hyderabad  Punjab Kings   \n",
       "40  Nithish Kumar Reddy  Sunrisers Hyderabad  Punjab Kings   \n",
       "\n",
       "           batting_team  over               batter          bowler  \\\n",
       "1   Sunrisers Hyderabad     0              TM Head        K Rabada   \n",
       "3   Sunrisers Hyderabad     0              TM Head        K Rabada   \n",
       "4   Sunrisers Hyderabad     0              TM Head        K Rabada   \n",
       "5   Sunrisers Hyderabad     0              TM Head        K Rabada   \n",
       "11  Sunrisers Hyderabad     1      Abhishek Sharma  Arshdeep Singh   \n",
       "13  Sunrisers Hyderabad     2              TM Head        K Rabada   \n",
       "14  Sunrisers Hyderabad     2              TM Head        K Rabada   \n",
       "17  Sunrisers Hyderabad     2              TM Head        K Rabada   \n",
       "24  Sunrisers Hyderabad     3  Nithish Kumar Reddy  Arshdeep Singh   \n",
       "26  Sunrisers Hyderabad     4      Abhishek Sharma       SM Curran   \n",
       "28  Sunrisers Hyderabad     4      Abhishek Sharma       SM Curran   \n",
       "35  Sunrisers Hyderabad     5          RA Tripathi        HV Patel   \n",
       "36  Sunrisers Hyderabad     5          RA Tripathi        HV Patel   \n",
       "37  Sunrisers Hyderabad     5          RA Tripathi        HV Patel   \n",
       "40  Sunrisers Hyderabad     6          RA Tripathi   Harpreet Brar   \n",
       "\n",
       "            non_striker  runs_batter  runs_extras  runs_total wicket_type  \\\n",
       "1       Abhishek Sharma            0            0           0         NaN   \n",
       "3       Abhishek Sharma            0            0           0         NaN   \n",
       "4       Abhishek Sharma            0            0           0         NaN   \n",
       "5       Abhishek Sharma            0            0           0         NaN   \n",
       "11              TM Head            0            0           0         NaN   \n",
       "13      Abhishek Sharma            4            0           4         NaN   \n",
       "14      Abhishek Sharma            4            0           4         NaN   \n",
       "17      Abhishek Sharma            2            0           2         NaN   \n",
       "24      Abhishek Sharma            0            0           0         NaN   \n",
       "26  Nithish Kumar Reddy            0            0           0         NaN   \n",
       "28  Nithish Kumar Reddy            0            0           0         NaN   \n",
       "35  Nithish Kumar Reddy            0            0           0         NaN   \n",
       "36  Nithish Kumar Reddy            0            0           0         NaN   \n",
       "37  Nithish Kumar Reddy            0            0           0         NaN   \n",
       "40  Nithish Kumar Reddy            0            0           0         NaN   \n",
       "\n",
       "   player_out fielder  \n",
       "1         NaN     NaN  \n",
       "3         NaN     NaN  \n",
       "4         NaN     NaN  \n",
       "5         NaN     NaN  \n",
       "11        NaN     NaN  \n",
       "13        NaN     NaN  \n",
       "14        NaN     NaN  \n",
       "17        NaN     NaN  \n",
       "24        NaN     NaN  \n",
       "26        NaN     NaN  \n",
       "28        NaN     NaN  \n",
       "35        NaN     NaN  \n",
       "36        NaN     NaN  \n",
       "37        NaN     NaN  \n",
       "40        NaN     NaN  "
      ]
     },
     "execution_count": 16,
     "metadata": {},
     "output_type": "execute_result"
    }
   ],
   "source": [
    "# Check for duplicates\n",
    "print(\"\\nDuplicates:\", ipl_df.duplicated().sum())\n",
    "\n",
    "# display only te duplicate data from the dataframe\n",
    "duplicates = ipl_df[ipl_df.duplicated()]\n",
    "#print(\"\\nDuplicate Rows:\\n\", duplicates)\n",
    "duplicates.head(15)"
   ]
  },
  {
   "cell_type": "markdown",
   "metadata": {},
   "source": [
    "###  The above mentioned values are not the duplicate values because each row is considered as sinlge ball delivery and the data is not duplicate."
   ]
  },
  {
   "cell_type": "code",
   "execution_count": 17,
   "metadata": {},
   "outputs": [],
   "source": [
    "# Changing the date format of the match_date column to datetime\n",
    "ipl_df['match_date'] = pd.to_datetime(ipl_df['match_date'])\n"
   ]
  },
  {
   "cell_type": "code",
   "execution_count": 18,
   "metadata": {},
   "outputs": [],
   "source": [
    "def clean_df(df):\n",
    "    import pandas as pd\n",
    "\n",
    "    # Show missing values before cleaning\n",
    "    # print(\"\\n[Before Cleaning] Missing Values:\\n\", df.isna().sum())\n",
    "\n",
    "    # Fill specific columns with defaults\n",
    "    df['wicket_type'] = df['wicket_type'].fillna('No Wicket')\n",
    "    df['player_out'] = df['player_out'].fillna('None')\n",
    "    df['fielder'] = df['fielder'].fillna('None')\n",
    "    df['winner'] = df['winner'].fillna('No result')\n",
    "\n",
    "    # Fill 'city', 'match_number', 'player_of_match' with 'None' if present\n",
    "    for col in ['city', 'match_number', 'player_of_match']:\n",
    "        if col in df.columns:\n",
    "            df[col] = df[col].fillna('None')\n",
    "\n",
    "    # Convert appropriate date columns to datetime\n",
    "    if 'match_date' in df.columns:\n",
    "        df['match_date'] = pd.to_datetime(df['match_date'])\n",
    "    if 'match_start_date' in df.columns:\n",
    "        df['match_start_date'] = pd.to_datetime(df['match_start_date'])\n",
    "    if 'match_end_date' in df.columns:\n",
    "        df['match_end_date'] = pd.to_datetime(df['match_end_date'])\n",
    "\n",
    "    # Convert numerical columns to proper types\n",
    "    num_cols = ['match_number', 'over', 'runs_batter', 'runs_extras', 'runs_total']\n",
    "    for col in num_cols:\n",
    "        if col in df.columns:\n",
    "            df[col] = pd.to_numeric(df[col], errors='coerce').fillna(0).astype(int)\n",
    "\n",
    "    # Show missing values after cleaning\n",
    "    # print(\"\\n[After Cleaning] Missing Values:\\n\", df.isna().sum())\n",
    "\n",
    "    return df"
   ]
  },
  {
   "cell_type": "code",
   "execution_count": 19,
   "metadata": {},
   "outputs": [],
   "source": [
    "ipl_df = clean_df(ipl_df)\n",
    "odis_df = clean_df(odis_df)\n",
    "t20s_df = clean_df(t20s_df)\n",
    "test_df = clean_df(test_df)\n",
    "\n"
   ]
  },
  {
   "cell_type": "markdown",
   "metadata": {},
   "source": []
  },
  {
   "cell_type": "markdown",
   "metadata": {},
   "source": [
    "#### 1: Top 10 Run Scorers in IPL\n"
   ]
  },
  {
   "cell_type": "code",
   "execution_count": 11,
   "metadata": {},
   "outputs": [
    {
     "data": {
      "application/vnd.plotly.v1+json": {
       "config": {
        "plotlyServerURL": "https://plot.ly"
       },
       "data": [
        {
         "hovertemplate": "runs_batter=%{marker.color}<br>batter=%{y}<extra></extra>",
         "legendgroup": "",
         "marker": {
          "color": {
           "bdata": "iR9xGuYZpxmgFXsUPRSFE1oT6xI=",
           "dtype": "i2"
          },
          "coloraxis": "coloraxis",
          "pattern": {
           "shape": ""
          }
         },
         "name": "",
         "orientation": "h",
         "showlegend": false,
         "textposition": "auto",
         "type": "bar",
         "x": {
          "bdata": "iR9xGuYZpxmgFXsUPRSFE1oT6xI=",
          "dtype": "i2"
         },
         "xaxis": "x",
         "y": [
          "V Kohli",
          "S Dhawan",
          "RG Sharma",
          "DA Warner",
          "SK Raina",
          "MS Dhoni",
          "AB de Villiers",
          "CH Gayle",
          "RV Uthappa",
          "KD Karthik"
         ],
         "yaxis": "y"
        }
       ],
       "layout": {
        "barmode": "relative",
        "coloraxis": {
         "colorbar": {
          "title": {
           "text": "runs_batter"
          }
         },
         "colorscale": [
          [
           0,
           "#000004"
          ],
          [
           0.1111111111111111,
           "#180f3d"
          ],
          [
           0.2222222222222222,
           "#440f76"
          ],
          [
           0.3333333333333333,
           "#721f81"
          ],
          [
           0.4444444444444444,
           "#9e2f7f"
          ],
          [
           0.5555555555555556,
           "#cd4071"
          ],
          [
           0.6666666666666666,
           "#f1605d"
          ],
          [
           0.7777777777777778,
           "#fd9668"
          ],
          [
           0.8888888888888888,
           "#feca8d"
          ],
          [
           1,
           "#fcfdbf"
          ]
         ]
        },
        "legend": {
         "tracegroupgap": 0
        },
        "template": {
         "data": {
          "bar": [
           {
            "error_x": {
             "color": "#2a3f5f"
            },
            "error_y": {
             "color": "#2a3f5f"
            },
            "marker": {
             "line": {
              "color": "#E5ECF6",
              "width": 0.5
             },
             "pattern": {
              "fillmode": "overlay",
              "size": 10,
              "solidity": 0.2
             }
            },
            "type": "bar"
           }
          ],
          "barpolar": [
           {
            "marker": {
             "line": {
              "color": "#E5ECF6",
              "width": 0.5
             },
             "pattern": {
              "fillmode": "overlay",
              "size": 10,
              "solidity": 0.2
             }
            },
            "type": "barpolar"
           }
          ],
          "carpet": [
           {
            "aaxis": {
             "endlinecolor": "#2a3f5f",
             "gridcolor": "white",
             "linecolor": "white",
             "minorgridcolor": "white",
             "startlinecolor": "#2a3f5f"
            },
            "baxis": {
             "endlinecolor": "#2a3f5f",
             "gridcolor": "white",
             "linecolor": "white",
             "minorgridcolor": "white",
             "startlinecolor": "#2a3f5f"
            },
            "type": "carpet"
           }
          ],
          "choropleth": [
           {
            "colorbar": {
             "outlinewidth": 0,
             "ticks": ""
            },
            "type": "choropleth"
           }
          ],
          "contour": [
           {
            "colorbar": {
             "outlinewidth": 0,
             "ticks": ""
            },
            "colorscale": [
             [
              0,
              "#0d0887"
             ],
             [
              0.1111111111111111,
              "#46039f"
             ],
             [
              0.2222222222222222,
              "#7201a8"
             ],
             [
              0.3333333333333333,
              "#9c179e"
             ],
             [
              0.4444444444444444,
              "#bd3786"
             ],
             [
              0.5555555555555556,
              "#d8576b"
             ],
             [
              0.6666666666666666,
              "#ed7953"
             ],
             [
              0.7777777777777778,
              "#fb9f3a"
             ],
             [
              0.8888888888888888,
              "#fdca26"
             ],
             [
              1,
              "#f0f921"
             ]
            ],
            "type": "contour"
           }
          ],
          "contourcarpet": [
           {
            "colorbar": {
             "outlinewidth": 0,
             "ticks": ""
            },
            "type": "contourcarpet"
           }
          ],
          "heatmap": [
           {
            "colorbar": {
             "outlinewidth": 0,
             "ticks": ""
            },
            "colorscale": [
             [
              0,
              "#0d0887"
             ],
             [
              0.1111111111111111,
              "#46039f"
             ],
             [
              0.2222222222222222,
              "#7201a8"
             ],
             [
              0.3333333333333333,
              "#9c179e"
             ],
             [
              0.4444444444444444,
              "#bd3786"
             ],
             [
              0.5555555555555556,
              "#d8576b"
             ],
             [
              0.6666666666666666,
              "#ed7953"
             ],
             [
              0.7777777777777778,
              "#fb9f3a"
             ],
             [
              0.8888888888888888,
              "#fdca26"
             ],
             [
              1,
              "#f0f921"
             ]
            ],
            "type": "heatmap"
           }
          ],
          "histogram": [
           {
            "marker": {
             "pattern": {
              "fillmode": "overlay",
              "size": 10,
              "solidity": 0.2
             }
            },
            "type": "histogram"
           }
          ],
          "histogram2d": [
           {
            "colorbar": {
             "outlinewidth": 0,
             "ticks": ""
            },
            "colorscale": [
             [
              0,
              "#0d0887"
             ],
             [
              0.1111111111111111,
              "#46039f"
             ],
             [
              0.2222222222222222,
              "#7201a8"
             ],
             [
              0.3333333333333333,
              "#9c179e"
             ],
             [
              0.4444444444444444,
              "#bd3786"
             ],
             [
              0.5555555555555556,
              "#d8576b"
             ],
             [
              0.6666666666666666,
              "#ed7953"
             ],
             [
              0.7777777777777778,
              "#fb9f3a"
             ],
             [
              0.8888888888888888,
              "#fdca26"
             ],
             [
              1,
              "#f0f921"
             ]
            ],
            "type": "histogram2d"
           }
          ],
          "histogram2dcontour": [
           {
            "colorbar": {
             "outlinewidth": 0,
             "ticks": ""
            },
            "colorscale": [
             [
              0,
              "#0d0887"
             ],
             [
              0.1111111111111111,
              "#46039f"
             ],
             [
              0.2222222222222222,
              "#7201a8"
             ],
             [
              0.3333333333333333,
              "#9c179e"
             ],
             [
              0.4444444444444444,
              "#bd3786"
             ],
             [
              0.5555555555555556,
              "#d8576b"
             ],
             [
              0.6666666666666666,
              "#ed7953"
             ],
             [
              0.7777777777777778,
              "#fb9f3a"
             ],
             [
              0.8888888888888888,
              "#fdca26"
             ],
             [
              1,
              "#f0f921"
             ]
            ],
            "type": "histogram2dcontour"
           }
          ],
          "mesh3d": [
           {
            "colorbar": {
             "outlinewidth": 0,
             "ticks": ""
            },
            "type": "mesh3d"
           }
          ],
          "parcoords": [
           {
            "line": {
             "colorbar": {
              "outlinewidth": 0,
              "ticks": ""
             }
            },
            "type": "parcoords"
           }
          ],
          "pie": [
           {
            "automargin": true,
            "type": "pie"
           }
          ],
          "scatter": [
           {
            "fillpattern": {
             "fillmode": "overlay",
             "size": 10,
             "solidity": 0.2
            },
            "type": "scatter"
           }
          ],
          "scatter3d": [
           {
            "line": {
             "colorbar": {
              "outlinewidth": 0,
              "ticks": ""
             }
            },
            "marker": {
             "colorbar": {
              "outlinewidth": 0,
              "ticks": ""
             }
            },
            "type": "scatter3d"
           }
          ],
          "scattercarpet": [
           {
            "marker": {
             "colorbar": {
              "outlinewidth": 0,
              "ticks": ""
             }
            },
            "type": "scattercarpet"
           }
          ],
          "scattergeo": [
           {
            "marker": {
             "colorbar": {
              "outlinewidth": 0,
              "ticks": ""
             }
            },
            "type": "scattergeo"
           }
          ],
          "scattergl": [
           {
            "marker": {
             "colorbar": {
              "outlinewidth": 0,
              "ticks": ""
             }
            },
            "type": "scattergl"
           }
          ],
          "scattermap": [
           {
            "marker": {
             "colorbar": {
              "outlinewidth": 0,
              "ticks": ""
             }
            },
            "type": "scattermap"
           }
          ],
          "scattermapbox": [
           {
            "marker": {
             "colorbar": {
              "outlinewidth": 0,
              "ticks": ""
             }
            },
            "type": "scattermapbox"
           }
          ],
          "scatterpolar": [
           {
            "marker": {
             "colorbar": {
              "outlinewidth": 0,
              "ticks": ""
             }
            },
            "type": "scatterpolar"
           }
          ],
          "scatterpolargl": [
           {
            "marker": {
             "colorbar": {
              "outlinewidth": 0,
              "ticks": ""
             }
            },
            "type": "scatterpolargl"
           }
          ],
          "scatterternary": [
           {
            "marker": {
             "colorbar": {
              "outlinewidth": 0,
              "ticks": ""
             }
            },
            "type": "scatterternary"
           }
          ],
          "surface": [
           {
            "colorbar": {
             "outlinewidth": 0,
             "ticks": ""
            },
            "colorscale": [
             [
              0,
              "#0d0887"
             ],
             [
              0.1111111111111111,
              "#46039f"
             ],
             [
              0.2222222222222222,
              "#7201a8"
             ],
             [
              0.3333333333333333,
              "#9c179e"
             ],
             [
              0.4444444444444444,
              "#bd3786"
             ],
             [
              0.5555555555555556,
              "#d8576b"
             ],
             [
              0.6666666666666666,
              "#ed7953"
             ],
             [
              0.7777777777777778,
              "#fb9f3a"
             ],
             [
              0.8888888888888888,
              "#fdca26"
             ],
             [
              1,
              "#f0f921"
             ]
            ],
            "type": "surface"
           }
          ],
          "table": [
           {
            "cells": {
             "fill": {
              "color": "#EBF0F8"
             },
             "line": {
              "color": "white"
             }
            },
            "header": {
             "fill": {
              "color": "#C8D4E3"
             },
             "line": {
              "color": "white"
             }
            },
            "type": "table"
           }
          ]
         },
         "layout": {
          "annotationdefaults": {
           "arrowcolor": "#2a3f5f",
           "arrowhead": 0,
           "arrowwidth": 1
          },
          "autotypenumbers": "strict",
          "coloraxis": {
           "colorbar": {
            "outlinewidth": 0,
            "ticks": ""
           }
          },
          "colorscale": {
           "diverging": [
            [
             0,
             "#8e0152"
            ],
            [
             0.1,
             "#c51b7d"
            ],
            [
             0.2,
             "#de77ae"
            ],
            [
             0.3,
             "#f1b6da"
            ],
            [
             0.4,
             "#fde0ef"
            ],
            [
             0.5,
             "#f7f7f7"
            ],
            [
             0.6,
             "#e6f5d0"
            ],
            [
             0.7,
             "#b8e186"
            ],
            [
             0.8,
             "#7fbc41"
            ],
            [
             0.9,
             "#4d9221"
            ],
            [
             1,
             "#276419"
            ]
           ],
           "sequential": [
            [
             0,
             "#0d0887"
            ],
            [
             0.1111111111111111,
             "#46039f"
            ],
            [
             0.2222222222222222,
             "#7201a8"
            ],
            [
             0.3333333333333333,
             "#9c179e"
            ],
            [
             0.4444444444444444,
             "#bd3786"
            ],
            [
             0.5555555555555556,
             "#d8576b"
            ],
            [
             0.6666666666666666,
             "#ed7953"
            ],
            [
             0.7777777777777778,
             "#fb9f3a"
            ],
            [
             0.8888888888888888,
             "#fdca26"
            ],
            [
             1,
             "#f0f921"
            ]
           ],
           "sequentialminus": [
            [
             0,
             "#0d0887"
            ],
            [
             0.1111111111111111,
             "#46039f"
            ],
            [
             0.2222222222222222,
             "#7201a8"
            ],
            [
             0.3333333333333333,
             "#9c179e"
            ],
            [
             0.4444444444444444,
             "#bd3786"
            ],
            [
             0.5555555555555556,
             "#d8576b"
            ],
            [
             0.6666666666666666,
             "#ed7953"
            ],
            [
             0.7777777777777778,
             "#fb9f3a"
            ],
            [
             0.8888888888888888,
             "#fdca26"
            ],
            [
             1,
             "#f0f921"
            ]
           ]
          },
          "colorway": [
           "#636efa",
           "#EF553B",
           "#00cc96",
           "#ab63fa",
           "#FFA15A",
           "#19d3f3",
           "#FF6692",
           "#B6E880",
           "#FF97FF",
           "#FECB52"
          ],
          "font": {
           "color": "#2a3f5f"
          },
          "geo": {
           "bgcolor": "white",
           "lakecolor": "white",
           "landcolor": "#E5ECF6",
           "showlakes": true,
           "showland": true,
           "subunitcolor": "white"
          },
          "hoverlabel": {
           "align": "left"
          },
          "hovermode": "closest",
          "mapbox": {
           "style": "light"
          },
          "paper_bgcolor": "white",
          "plot_bgcolor": "#E5ECF6",
          "polar": {
           "angularaxis": {
            "gridcolor": "white",
            "linecolor": "white",
            "ticks": ""
           },
           "bgcolor": "#E5ECF6",
           "radialaxis": {
            "gridcolor": "white",
            "linecolor": "white",
            "ticks": ""
           }
          },
          "scene": {
           "xaxis": {
            "backgroundcolor": "#E5ECF6",
            "gridcolor": "white",
            "gridwidth": 2,
            "linecolor": "white",
            "showbackground": true,
            "ticks": "",
            "zerolinecolor": "white"
           },
           "yaxis": {
            "backgroundcolor": "#E5ECF6",
            "gridcolor": "white",
            "gridwidth": 2,
            "linecolor": "white",
            "showbackground": true,
            "ticks": "",
            "zerolinecolor": "white"
           },
           "zaxis": {
            "backgroundcolor": "#E5ECF6",
            "gridcolor": "white",
            "gridwidth": 2,
            "linecolor": "white",
            "showbackground": true,
            "ticks": "",
            "zerolinecolor": "white"
           }
          },
          "shapedefaults": {
           "line": {
            "color": "#2a3f5f"
           }
          },
          "ternary": {
           "aaxis": {
            "gridcolor": "white",
            "linecolor": "white",
            "ticks": ""
           },
           "baxis": {
            "gridcolor": "white",
            "linecolor": "white",
            "ticks": ""
           },
           "bgcolor": "#E5ECF6",
           "caxis": {
            "gridcolor": "white",
            "linecolor": "white",
            "ticks": ""
           }
          },
          "title": {
           "x": 0.05
          },
          "xaxis": {
           "automargin": true,
           "gridcolor": "white",
           "linecolor": "white",
           "ticks": "",
           "title": {
            "standoff": 15
           },
           "zerolinecolor": "white",
           "zerolinewidth": 2
          },
          "yaxis": {
           "automargin": true,
           "gridcolor": "white",
           "linecolor": "white",
           "ticks": "",
           "title": {
            "standoff": 15
           },
           "zerolinecolor": "white",
           "zerolinewidth": 2
          }
         }
        },
        "title": {
         "text": "Top 10 Run Scorers in IPL"
        },
        "xaxis": {
         "anchor": "y",
         "domain": [
          0,
          1
         ],
         "title": {
          "text": "runs_batter"
         }
        },
        "yaxis": {
         "anchor": "x",
         "autorange": "reversed",
         "domain": [
          0,
          1
         ],
         "title": {
          "text": "batter"
         }
        }
       }
      }
     },
     "metadata": {},
     "output_type": "display_data"
    }
   ],
   "source": [
    "\n",
    "top_batters = (\n",
    "    ipl_df.groupby('batter')['runs_batter']\n",
    "    .sum()\n",
    "    .sort_values(ascending=False)\n",
    "    .head(10)\n",
    "    .reset_index()\n",
    ")\n",
    "\n",
    "fig = px.bar(\n",
    "    top_batters,\n",
    "    x='runs_batter',\n",
    "    y='batter',\n",
    "    orientation='h',\n",
    "    color='runs_batter',\n",
    "    color_continuous_scale='Magma',\n",
    "    title='Top 10 Run Scorers in IPL'\n",
    ")\n",
    "fig.update_layout(yaxis=dict(autorange=\"reversed\"))\n",
    "fig.show()"
   ]
  },
  {
   "cell_type": "markdown",
   "metadata": {},
   "source": [
    "#### 2: Top 10 Wicket-Takers in IPL"
   ]
  },
  {
   "cell_type": "code",
   "execution_count": 12,
   "metadata": {},
   "outputs": [
    {
     "data": {
      "application/vnd.plotly.v1+json": {
       "config": {
        "plotlyServerURL": "https://plot.ly"
       },
       "data": [
        {
         "hovertemplate": "bowler=%{x}<br>wickets=%{marker.color}<extra></extra>",
         "legendgroup": "",
         "marker": {
          "color": {
           "bdata": "XxJKENwPSQ83Dz8OqA10DeAMdgw=",
           "dtype": "i2"
          },
          "coloraxis": "coloraxis",
          "pattern": {
           "shape": ""
          }
         },
         "name": "",
         "orientation": "v",
         "showlegend": false,
         "textposition": "auto",
         "type": "bar",
         "x": [
          "R Ashwin",
          "SP Narine",
          "B Kumar",
          "RA Jadeja",
          "PP Chawla",
          "YS Chahal",
          "Harbhajan Singh",
          "A Mishra",
          "DJ Bravo",
          "UT Yadav"
         ],
         "xaxis": "x",
         "y": {
          "bdata": "XxJKENwPSQ83Dz8OqA10DeAMdgw=",
          "dtype": "i2"
         },
         "yaxis": "y"
        }
       ],
       "layout": {
        "barmode": "relative",
        "coloraxis": {
         "colorbar": {
          "title": {
           "text": "wickets"
          }
         },
         "colorscale": [
          [
           0,
           "rgb(0,0,255)"
          ],
          [
           1,
           "rgb(255,0,0)"
          ]
         ]
        },
        "legend": {
         "tracegroupgap": 0
        },
        "template": {
         "data": {
          "bar": [
           {
            "error_x": {
             "color": "#2a3f5f"
            },
            "error_y": {
             "color": "#2a3f5f"
            },
            "marker": {
             "line": {
              "color": "#E5ECF6",
              "width": 0.5
             },
             "pattern": {
              "fillmode": "overlay",
              "size": 10,
              "solidity": 0.2
             }
            },
            "type": "bar"
           }
          ],
          "barpolar": [
           {
            "marker": {
             "line": {
              "color": "#E5ECF6",
              "width": 0.5
             },
             "pattern": {
              "fillmode": "overlay",
              "size": 10,
              "solidity": 0.2
             }
            },
            "type": "barpolar"
           }
          ],
          "carpet": [
           {
            "aaxis": {
             "endlinecolor": "#2a3f5f",
             "gridcolor": "white",
             "linecolor": "white",
             "minorgridcolor": "white",
             "startlinecolor": "#2a3f5f"
            },
            "baxis": {
             "endlinecolor": "#2a3f5f",
             "gridcolor": "white",
             "linecolor": "white",
             "minorgridcolor": "white",
             "startlinecolor": "#2a3f5f"
            },
            "type": "carpet"
           }
          ],
          "choropleth": [
           {
            "colorbar": {
             "outlinewidth": 0,
             "ticks": ""
            },
            "type": "choropleth"
           }
          ],
          "contour": [
           {
            "colorbar": {
             "outlinewidth": 0,
             "ticks": ""
            },
            "colorscale": [
             [
              0,
              "#0d0887"
             ],
             [
              0.1111111111111111,
              "#46039f"
             ],
             [
              0.2222222222222222,
              "#7201a8"
             ],
             [
              0.3333333333333333,
              "#9c179e"
             ],
             [
              0.4444444444444444,
              "#bd3786"
             ],
             [
              0.5555555555555556,
              "#d8576b"
             ],
             [
              0.6666666666666666,
              "#ed7953"
             ],
             [
              0.7777777777777778,
              "#fb9f3a"
             ],
             [
              0.8888888888888888,
              "#fdca26"
             ],
             [
              1,
              "#f0f921"
             ]
            ],
            "type": "contour"
           }
          ],
          "contourcarpet": [
           {
            "colorbar": {
             "outlinewidth": 0,
             "ticks": ""
            },
            "type": "contourcarpet"
           }
          ],
          "heatmap": [
           {
            "colorbar": {
             "outlinewidth": 0,
             "ticks": ""
            },
            "colorscale": [
             [
              0,
              "#0d0887"
             ],
             [
              0.1111111111111111,
              "#46039f"
             ],
             [
              0.2222222222222222,
              "#7201a8"
             ],
             [
              0.3333333333333333,
              "#9c179e"
             ],
             [
              0.4444444444444444,
              "#bd3786"
             ],
             [
              0.5555555555555556,
              "#d8576b"
             ],
             [
              0.6666666666666666,
              "#ed7953"
             ],
             [
              0.7777777777777778,
              "#fb9f3a"
             ],
             [
              0.8888888888888888,
              "#fdca26"
             ],
             [
              1,
              "#f0f921"
             ]
            ],
            "type": "heatmap"
           }
          ],
          "histogram": [
           {
            "marker": {
             "pattern": {
              "fillmode": "overlay",
              "size": 10,
              "solidity": 0.2
             }
            },
            "type": "histogram"
           }
          ],
          "histogram2d": [
           {
            "colorbar": {
             "outlinewidth": 0,
             "ticks": ""
            },
            "colorscale": [
             [
              0,
              "#0d0887"
             ],
             [
              0.1111111111111111,
              "#46039f"
             ],
             [
              0.2222222222222222,
              "#7201a8"
             ],
             [
              0.3333333333333333,
              "#9c179e"
             ],
             [
              0.4444444444444444,
              "#bd3786"
             ],
             [
              0.5555555555555556,
              "#d8576b"
             ],
             [
              0.6666666666666666,
              "#ed7953"
             ],
             [
              0.7777777777777778,
              "#fb9f3a"
             ],
             [
              0.8888888888888888,
              "#fdca26"
             ],
             [
              1,
              "#f0f921"
             ]
            ],
            "type": "histogram2d"
           }
          ],
          "histogram2dcontour": [
           {
            "colorbar": {
             "outlinewidth": 0,
             "ticks": ""
            },
            "colorscale": [
             [
              0,
              "#0d0887"
             ],
             [
              0.1111111111111111,
              "#46039f"
             ],
             [
              0.2222222222222222,
              "#7201a8"
             ],
             [
              0.3333333333333333,
              "#9c179e"
             ],
             [
              0.4444444444444444,
              "#bd3786"
             ],
             [
              0.5555555555555556,
              "#d8576b"
             ],
             [
              0.6666666666666666,
              "#ed7953"
             ],
             [
              0.7777777777777778,
              "#fb9f3a"
             ],
             [
              0.8888888888888888,
              "#fdca26"
             ],
             [
              1,
              "#f0f921"
             ]
            ],
            "type": "histogram2dcontour"
           }
          ],
          "mesh3d": [
           {
            "colorbar": {
             "outlinewidth": 0,
             "ticks": ""
            },
            "type": "mesh3d"
           }
          ],
          "parcoords": [
           {
            "line": {
             "colorbar": {
              "outlinewidth": 0,
              "ticks": ""
             }
            },
            "type": "parcoords"
           }
          ],
          "pie": [
           {
            "automargin": true,
            "type": "pie"
           }
          ],
          "scatter": [
           {
            "fillpattern": {
             "fillmode": "overlay",
             "size": 10,
             "solidity": 0.2
            },
            "type": "scatter"
           }
          ],
          "scatter3d": [
           {
            "line": {
             "colorbar": {
              "outlinewidth": 0,
              "ticks": ""
             }
            },
            "marker": {
             "colorbar": {
              "outlinewidth": 0,
              "ticks": ""
             }
            },
            "type": "scatter3d"
           }
          ],
          "scattercarpet": [
           {
            "marker": {
             "colorbar": {
              "outlinewidth": 0,
              "ticks": ""
             }
            },
            "type": "scattercarpet"
           }
          ],
          "scattergeo": [
           {
            "marker": {
             "colorbar": {
              "outlinewidth": 0,
              "ticks": ""
             }
            },
            "type": "scattergeo"
           }
          ],
          "scattergl": [
           {
            "marker": {
             "colorbar": {
              "outlinewidth": 0,
              "ticks": ""
             }
            },
            "type": "scattergl"
           }
          ],
          "scattermap": [
           {
            "marker": {
             "colorbar": {
              "outlinewidth": 0,
              "ticks": ""
             }
            },
            "type": "scattermap"
           }
          ],
          "scattermapbox": [
           {
            "marker": {
             "colorbar": {
              "outlinewidth": 0,
              "ticks": ""
             }
            },
            "type": "scattermapbox"
           }
          ],
          "scatterpolar": [
           {
            "marker": {
             "colorbar": {
              "outlinewidth": 0,
              "ticks": ""
             }
            },
            "type": "scatterpolar"
           }
          ],
          "scatterpolargl": [
           {
            "marker": {
             "colorbar": {
              "outlinewidth": 0,
              "ticks": ""
             }
            },
            "type": "scatterpolargl"
           }
          ],
          "scatterternary": [
           {
            "marker": {
             "colorbar": {
              "outlinewidth": 0,
              "ticks": ""
             }
            },
            "type": "scatterternary"
           }
          ],
          "surface": [
           {
            "colorbar": {
             "outlinewidth": 0,
             "ticks": ""
            },
            "colorscale": [
             [
              0,
              "#0d0887"
             ],
             [
              0.1111111111111111,
              "#46039f"
             ],
             [
              0.2222222222222222,
              "#7201a8"
             ],
             [
              0.3333333333333333,
              "#9c179e"
             ],
             [
              0.4444444444444444,
              "#bd3786"
             ],
             [
              0.5555555555555556,
              "#d8576b"
             ],
             [
              0.6666666666666666,
              "#ed7953"
             ],
             [
              0.7777777777777778,
              "#fb9f3a"
             ],
             [
              0.8888888888888888,
              "#fdca26"
             ],
             [
              1,
              "#f0f921"
             ]
            ],
            "type": "surface"
           }
          ],
          "table": [
           {
            "cells": {
             "fill": {
              "color": "#EBF0F8"
             },
             "line": {
              "color": "white"
             }
            },
            "header": {
             "fill": {
              "color": "#C8D4E3"
             },
             "line": {
              "color": "white"
             }
            },
            "type": "table"
           }
          ]
         },
         "layout": {
          "annotationdefaults": {
           "arrowcolor": "#2a3f5f",
           "arrowhead": 0,
           "arrowwidth": 1
          },
          "autotypenumbers": "strict",
          "coloraxis": {
           "colorbar": {
            "outlinewidth": 0,
            "ticks": ""
           }
          },
          "colorscale": {
           "diverging": [
            [
             0,
             "#8e0152"
            ],
            [
             0.1,
             "#c51b7d"
            ],
            [
             0.2,
             "#de77ae"
            ],
            [
             0.3,
             "#f1b6da"
            ],
            [
             0.4,
             "#fde0ef"
            ],
            [
             0.5,
             "#f7f7f7"
            ],
            [
             0.6,
             "#e6f5d0"
            ],
            [
             0.7,
             "#b8e186"
            ],
            [
             0.8,
             "#7fbc41"
            ],
            [
             0.9,
             "#4d9221"
            ],
            [
             1,
             "#276419"
            ]
           ],
           "sequential": [
            [
             0,
             "#0d0887"
            ],
            [
             0.1111111111111111,
             "#46039f"
            ],
            [
             0.2222222222222222,
             "#7201a8"
            ],
            [
             0.3333333333333333,
             "#9c179e"
            ],
            [
             0.4444444444444444,
             "#bd3786"
            ],
            [
             0.5555555555555556,
             "#d8576b"
            ],
            [
             0.6666666666666666,
             "#ed7953"
            ],
            [
             0.7777777777777778,
             "#fb9f3a"
            ],
            [
             0.8888888888888888,
             "#fdca26"
            ],
            [
             1,
             "#f0f921"
            ]
           ],
           "sequentialminus": [
            [
             0,
             "#0d0887"
            ],
            [
             0.1111111111111111,
             "#46039f"
            ],
            [
             0.2222222222222222,
             "#7201a8"
            ],
            [
             0.3333333333333333,
             "#9c179e"
            ],
            [
             0.4444444444444444,
             "#bd3786"
            ],
            [
             0.5555555555555556,
             "#d8576b"
            ],
            [
             0.6666666666666666,
             "#ed7953"
            ],
            [
             0.7777777777777778,
             "#fb9f3a"
            ],
            [
             0.8888888888888888,
             "#fdca26"
            ],
            [
             1,
             "#f0f921"
            ]
           ]
          },
          "colorway": [
           "#636efa",
           "#EF553B",
           "#00cc96",
           "#ab63fa",
           "#FFA15A",
           "#19d3f3",
           "#FF6692",
           "#B6E880",
           "#FF97FF",
           "#FECB52"
          ],
          "font": {
           "color": "#2a3f5f"
          },
          "geo": {
           "bgcolor": "white",
           "lakecolor": "white",
           "landcolor": "#E5ECF6",
           "showlakes": true,
           "showland": true,
           "subunitcolor": "white"
          },
          "hoverlabel": {
           "align": "left"
          },
          "hovermode": "closest",
          "mapbox": {
           "style": "light"
          },
          "paper_bgcolor": "white",
          "plot_bgcolor": "#E5ECF6",
          "polar": {
           "angularaxis": {
            "gridcolor": "white",
            "linecolor": "white",
            "ticks": ""
           },
           "bgcolor": "#E5ECF6",
           "radialaxis": {
            "gridcolor": "white",
            "linecolor": "white",
            "ticks": ""
           }
          },
          "scene": {
           "xaxis": {
            "backgroundcolor": "#E5ECF6",
            "gridcolor": "white",
            "gridwidth": 2,
            "linecolor": "white",
            "showbackground": true,
            "ticks": "",
            "zerolinecolor": "white"
           },
           "yaxis": {
            "backgroundcolor": "#E5ECF6",
            "gridcolor": "white",
            "gridwidth": 2,
            "linecolor": "white",
            "showbackground": true,
            "ticks": "",
            "zerolinecolor": "white"
           },
           "zaxis": {
            "backgroundcolor": "#E5ECF6",
            "gridcolor": "white",
            "gridwidth": 2,
            "linecolor": "white",
            "showbackground": true,
            "ticks": "",
            "zerolinecolor": "white"
           }
          },
          "shapedefaults": {
           "line": {
            "color": "#2a3f5f"
           }
          },
          "ternary": {
           "aaxis": {
            "gridcolor": "white",
            "linecolor": "white",
            "ticks": ""
           },
           "baxis": {
            "gridcolor": "white",
            "linecolor": "white",
            "ticks": ""
           },
           "bgcolor": "#E5ECF6",
           "caxis": {
            "gridcolor": "white",
            "linecolor": "white",
            "ticks": ""
           }
          },
          "title": {
           "x": 0.05
          },
          "xaxis": {
           "automargin": true,
           "gridcolor": "white",
           "linecolor": "white",
           "ticks": "",
           "title": {
            "standoff": 15
           },
           "zerolinecolor": "white",
           "zerolinewidth": 2
          },
          "yaxis": {
           "automargin": true,
           "gridcolor": "white",
           "linecolor": "white",
           "ticks": "",
           "title": {
            "standoff": 15
           },
           "zerolinecolor": "white",
           "zerolinewidth": 2
          }
         }
        },
        "title": {
         "text": "Top 10 Wicket-Takers in IPL"
        },
        "xaxis": {
         "anchor": "y",
         "domain": [
          0,
          1
         ],
         "title": {
          "text": "bowler"
         }
        },
        "yaxis": {
         "anchor": "x",
         "domain": [
          0,
          1
         ],
         "title": {
          "text": "wickets"
         }
        }
       }
      }
     },
     "metadata": {},
     "output_type": "display_data"
    }
   ],
   "source": [
    "\n",
    "top_bowlers = (\n",
    "    ipl_df[ipl_df['wicket_type'].notnull()]\n",
    "    .groupby('bowler')\n",
    "    .size()\n",
    "    .sort_values(ascending=False)\n",
    "    .head(10)\n",
    "    .reset_index(name='wickets')\n",
    ")\n",
    "\n",
    "fig = px.bar(\n",
    "    top_bowlers,\n",
    "    x='bowler',\n",
    "    y='wickets',\n",
    "    color='wickets',\n",
    "    title='Top 10 Wicket-Takers in IPL',\n",
    "    color_continuous_scale='Bluered'\n",
    ")\n",
    "fig.show()"
   ]
  },
  {
   "cell_type": "markdown",
   "metadata": {},
   "source": [
    "#### 3: Dismissal Type Distribution"
   ]
  },
  {
   "cell_type": "code",
   "execution_count": 13,
   "metadata": {},
   "outputs": [
    {
     "data": {
      "application/vnd.plotly.v1+json": {
       "config": {
        "plotlyServerURL": "https://plot.ly"
       },
       "data": [
        {
         "hole": 0,
         "labels": [
          "caught",
          "bowled",
          "run out",
          "lbw",
          "caught and bowled",
          "stumped",
          "retired hurt",
          "hit wicket",
          "retired out",
          "obstructing the field"
         ],
         "sort": true,
         "type": "pie",
         "values": {
          "bdata": "rR+vCF4EIwNvAWcBDwAPAAMAAwA=",
          "dtype": "i2"
         }
        }
       ],
       "layout": {
        "template": {
         "data": {
          "bar": [
           {
            "error_x": {
             "color": "#2a3f5f"
            },
            "error_y": {
             "color": "#2a3f5f"
            },
            "marker": {
             "line": {
              "color": "#E5ECF6",
              "width": 0.5
             },
             "pattern": {
              "fillmode": "overlay",
              "size": 10,
              "solidity": 0.2
             }
            },
            "type": "bar"
           }
          ],
          "barpolar": [
           {
            "marker": {
             "line": {
              "color": "#E5ECF6",
              "width": 0.5
             },
             "pattern": {
              "fillmode": "overlay",
              "size": 10,
              "solidity": 0.2
             }
            },
            "type": "barpolar"
           }
          ],
          "carpet": [
           {
            "aaxis": {
             "endlinecolor": "#2a3f5f",
             "gridcolor": "white",
             "linecolor": "white",
             "minorgridcolor": "white",
             "startlinecolor": "#2a3f5f"
            },
            "baxis": {
             "endlinecolor": "#2a3f5f",
             "gridcolor": "white",
             "linecolor": "white",
             "minorgridcolor": "white",
             "startlinecolor": "#2a3f5f"
            },
            "type": "carpet"
           }
          ],
          "choropleth": [
           {
            "colorbar": {
             "outlinewidth": 0,
             "ticks": ""
            },
            "type": "choropleth"
           }
          ],
          "contour": [
           {
            "colorbar": {
             "outlinewidth": 0,
             "ticks": ""
            },
            "colorscale": [
             [
              0,
              "#0d0887"
             ],
             [
              0.1111111111111111,
              "#46039f"
             ],
             [
              0.2222222222222222,
              "#7201a8"
             ],
             [
              0.3333333333333333,
              "#9c179e"
             ],
             [
              0.4444444444444444,
              "#bd3786"
             ],
             [
              0.5555555555555556,
              "#d8576b"
             ],
             [
              0.6666666666666666,
              "#ed7953"
             ],
             [
              0.7777777777777778,
              "#fb9f3a"
             ],
             [
              0.8888888888888888,
              "#fdca26"
             ],
             [
              1,
              "#f0f921"
             ]
            ],
            "type": "contour"
           }
          ],
          "contourcarpet": [
           {
            "colorbar": {
             "outlinewidth": 0,
             "ticks": ""
            },
            "type": "contourcarpet"
           }
          ],
          "heatmap": [
           {
            "colorbar": {
             "outlinewidth": 0,
             "ticks": ""
            },
            "colorscale": [
             [
              0,
              "#0d0887"
             ],
             [
              0.1111111111111111,
              "#46039f"
             ],
             [
              0.2222222222222222,
              "#7201a8"
             ],
             [
              0.3333333333333333,
              "#9c179e"
             ],
             [
              0.4444444444444444,
              "#bd3786"
             ],
             [
              0.5555555555555556,
              "#d8576b"
             ],
             [
              0.6666666666666666,
              "#ed7953"
             ],
             [
              0.7777777777777778,
              "#fb9f3a"
             ],
             [
              0.8888888888888888,
              "#fdca26"
             ],
             [
              1,
              "#f0f921"
             ]
            ],
            "type": "heatmap"
           }
          ],
          "histogram": [
           {
            "marker": {
             "pattern": {
              "fillmode": "overlay",
              "size": 10,
              "solidity": 0.2
             }
            },
            "type": "histogram"
           }
          ],
          "histogram2d": [
           {
            "colorbar": {
             "outlinewidth": 0,
             "ticks": ""
            },
            "colorscale": [
             [
              0,
              "#0d0887"
             ],
             [
              0.1111111111111111,
              "#46039f"
             ],
             [
              0.2222222222222222,
              "#7201a8"
             ],
             [
              0.3333333333333333,
              "#9c179e"
             ],
             [
              0.4444444444444444,
              "#bd3786"
             ],
             [
              0.5555555555555556,
              "#d8576b"
             ],
             [
              0.6666666666666666,
              "#ed7953"
             ],
             [
              0.7777777777777778,
              "#fb9f3a"
             ],
             [
              0.8888888888888888,
              "#fdca26"
             ],
             [
              1,
              "#f0f921"
             ]
            ],
            "type": "histogram2d"
           }
          ],
          "histogram2dcontour": [
           {
            "colorbar": {
             "outlinewidth": 0,
             "ticks": ""
            },
            "colorscale": [
             [
              0,
              "#0d0887"
             ],
             [
              0.1111111111111111,
              "#46039f"
             ],
             [
              0.2222222222222222,
              "#7201a8"
             ],
             [
              0.3333333333333333,
              "#9c179e"
             ],
             [
              0.4444444444444444,
              "#bd3786"
             ],
             [
              0.5555555555555556,
              "#d8576b"
             ],
             [
              0.6666666666666666,
              "#ed7953"
             ],
             [
              0.7777777777777778,
              "#fb9f3a"
             ],
             [
              0.8888888888888888,
              "#fdca26"
             ],
             [
              1,
              "#f0f921"
             ]
            ],
            "type": "histogram2dcontour"
           }
          ],
          "mesh3d": [
           {
            "colorbar": {
             "outlinewidth": 0,
             "ticks": ""
            },
            "type": "mesh3d"
           }
          ],
          "parcoords": [
           {
            "line": {
             "colorbar": {
              "outlinewidth": 0,
              "ticks": ""
             }
            },
            "type": "parcoords"
           }
          ],
          "pie": [
           {
            "automargin": true,
            "type": "pie"
           }
          ],
          "scatter": [
           {
            "fillpattern": {
             "fillmode": "overlay",
             "size": 10,
             "solidity": 0.2
            },
            "type": "scatter"
           }
          ],
          "scatter3d": [
           {
            "line": {
             "colorbar": {
              "outlinewidth": 0,
              "ticks": ""
             }
            },
            "marker": {
             "colorbar": {
              "outlinewidth": 0,
              "ticks": ""
             }
            },
            "type": "scatter3d"
           }
          ],
          "scattercarpet": [
           {
            "marker": {
             "colorbar": {
              "outlinewidth": 0,
              "ticks": ""
             }
            },
            "type": "scattercarpet"
           }
          ],
          "scattergeo": [
           {
            "marker": {
             "colorbar": {
              "outlinewidth": 0,
              "ticks": ""
             }
            },
            "type": "scattergeo"
           }
          ],
          "scattergl": [
           {
            "marker": {
             "colorbar": {
              "outlinewidth": 0,
              "ticks": ""
             }
            },
            "type": "scattergl"
           }
          ],
          "scattermap": [
           {
            "marker": {
             "colorbar": {
              "outlinewidth": 0,
              "ticks": ""
             }
            },
            "type": "scattermap"
           }
          ],
          "scattermapbox": [
           {
            "marker": {
             "colorbar": {
              "outlinewidth": 0,
              "ticks": ""
             }
            },
            "type": "scattermapbox"
           }
          ],
          "scatterpolar": [
           {
            "marker": {
             "colorbar": {
              "outlinewidth": 0,
              "ticks": ""
             }
            },
            "type": "scatterpolar"
           }
          ],
          "scatterpolargl": [
           {
            "marker": {
             "colorbar": {
              "outlinewidth": 0,
              "ticks": ""
             }
            },
            "type": "scatterpolargl"
           }
          ],
          "scatterternary": [
           {
            "marker": {
             "colorbar": {
              "outlinewidth": 0,
              "ticks": ""
             }
            },
            "type": "scatterternary"
           }
          ],
          "surface": [
           {
            "colorbar": {
             "outlinewidth": 0,
             "ticks": ""
            },
            "colorscale": [
             [
              0,
              "#0d0887"
             ],
             [
              0.1111111111111111,
              "#46039f"
             ],
             [
              0.2222222222222222,
              "#7201a8"
             ],
             [
              0.3333333333333333,
              "#9c179e"
             ],
             [
              0.4444444444444444,
              "#bd3786"
             ],
             [
              0.5555555555555556,
              "#d8576b"
             ],
             [
              0.6666666666666666,
              "#ed7953"
             ],
             [
              0.7777777777777778,
              "#fb9f3a"
             ],
             [
              0.8888888888888888,
              "#fdca26"
             ],
             [
              1,
              "#f0f921"
             ]
            ],
            "type": "surface"
           }
          ],
          "table": [
           {
            "cells": {
             "fill": {
              "color": "#EBF0F8"
             },
             "line": {
              "color": "white"
             }
            },
            "header": {
             "fill": {
              "color": "#C8D4E3"
             },
             "line": {
              "color": "white"
             }
            },
            "type": "table"
           }
          ]
         },
         "layout": {
          "annotationdefaults": {
           "arrowcolor": "#2a3f5f",
           "arrowhead": 0,
           "arrowwidth": 1
          },
          "autotypenumbers": "strict",
          "coloraxis": {
           "colorbar": {
            "outlinewidth": 0,
            "ticks": ""
           }
          },
          "colorscale": {
           "diverging": [
            [
             0,
             "#8e0152"
            ],
            [
             0.1,
             "#c51b7d"
            ],
            [
             0.2,
             "#de77ae"
            ],
            [
             0.3,
             "#f1b6da"
            ],
            [
             0.4,
             "#fde0ef"
            ],
            [
             0.5,
             "#f7f7f7"
            ],
            [
             0.6,
             "#e6f5d0"
            ],
            [
             0.7,
             "#b8e186"
            ],
            [
             0.8,
             "#7fbc41"
            ],
            [
             0.9,
             "#4d9221"
            ],
            [
             1,
             "#276419"
            ]
           ],
           "sequential": [
            [
             0,
             "#0d0887"
            ],
            [
             0.1111111111111111,
             "#46039f"
            ],
            [
             0.2222222222222222,
             "#7201a8"
            ],
            [
             0.3333333333333333,
             "#9c179e"
            ],
            [
             0.4444444444444444,
             "#bd3786"
            ],
            [
             0.5555555555555556,
             "#d8576b"
            ],
            [
             0.6666666666666666,
             "#ed7953"
            ],
            [
             0.7777777777777778,
             "#fb9f3a"
            ],
            [
             0.8888888888888888,
             "#fdca26"
            ],
            [
             1,
             "#f0f921"
            ]
           ],
           "sequentialminus": [
            [
             0,
             "#0d0887"
            ],
            [
             0.1111111111111111,
             "#46039f"
            ],
            [
             0.2222222222222222,
             "#7201a8"
            ],
            [
             0.3333333333333333,
             "#9c179e"
            ],
            [
             0.4444444444444444,
             "#bd3786"
            ],
            [
             0.5555555555555556,
             "#d8576b"
            ],
            [
             0.6666666666666666,
             "#ed7953"
            ],
            [
             0.7777777777777778,
             "#fb9f3a"
            ],
            [
             0.8888888888888888,
             "#fdca26"
            ],
            [
             1,
             "#f0f921"
            ]
           ]
          },
          "colorway": [
           "#636efa",
           "#EF553B",
           "#00cc96",
           "#ab63fa",
           "#FFA15A",
           "#19d3f3",
           "#FF6692",
           "#B6E880",
           "#FF97FF",
           "#FECB52"
          ],
          "font": {
           "color": "#2a3f5f"
          },
          "geo": {
           "bgcolor": "white",
           "lakecolor": "white",
           "landcolor": "#E5ECF6",
           "showlakes": true,
           "showland": true,
           "subunitcolor": "white"
          },
          "hoverlabel": {
           "align": "left"
          },
          "hovermode": "closest",
          "mapbox": {
           "style": "light"
          },
          "paper_bgcolor": "white",
          "plot_bgcolor": "#E5ECF6",
          "polar": {
           "angularaxis": {
            "gridcolor": "white",
            "linecolor": "white",
            "ticks": ""
           },
           "bgcolor": "#E5ECF6",
           "radialaxis": {
            "gridcolor": "white",
            "linecolor": "white",
            "ticks": ""
           }
          },
          "scene": {
           "xaxis": {
            "backgroundcolor": "#E5ECF6",
            "gridcolor": "white",
            "gridwidth": 2,
            "linecolor": "white",
            "showbackground": true,
            "ticks": "",
            "zerolinecolor": "white"
           },
           "yaxis": {
            "backgroundcolor": "#E5ECF6",
            "gridcolor": "white",
            "gridwidth": 2,
            "linecolor": "white",
            "showbackground": true,
            "ticks": "",
            "zerolinecolor": "white"
           },
           "zaxis": {
            "backgroundcolor": "#E5ECF6",
            "gridcolor": "white",
            "gridwidth": 2,
            "linecolor": "white",
            "showbackground": true,
            "ticks": "",
            "zerolinecolor": "white"
           }
          },
          "shapedefaults": {
           "line": {
            "color": "#2a3f5f"
           }
          },
          "ternary": {
           "aaxis": {
            "gridcolor": "white",
            "linecolor": "white",
            "ticks": ""
           },
           "baxis": {
            "gridcolor": "white",
            "linecolor": "white",
            "ticks": ""
           },
           "bgcolor": "#E5ECF6",
           "caxis": {
            "gridcolor": "white",
            "linecolor": "white",
            "ticks": ""
           }
          },
          "title": {
           "x": 0.05
          },
          "xaxis": {
           "automargin": true,
           "gridcolor": "white",
           "linecolor": "white",
           "ticks": "",
           "title": {
            "standoff": 15
           },
           "zerolinecolor": "white",
           "zerolinewidth": 2
          },
          "yaxis": {
           "automargin": true,
           "gridcolor": "white",
           "linecolor": "white",
           "ticks": "",
           "title": {
            "standoff": 15
           },
           "zerolinecolor": "white",
           "zerolinewidth": 2
          }
         }
        },
        "title": {
         "text": "Distribution of Actual Wicket Types (IPL)"
        }
       }
      }
     },
     "metadata": {},
     "output_type": "display_data"
    }
   ],
   "source": [
    "# Filter out 'No Wicket' and calculate counts\n",
    "dismissal_counts = (\n",
    "    ipl_df[ipl_df['wicket_type'] != 'No Wicket']['wicket_type']\n",
    "    .value_counts()\n",
    "    .reset_index()\n",
    ")\n",
    "dismissal_counts.columns = ['wicket_type', 'count']\n",
    "\n",
    "# Plot the donut chart\n",
    "fig = go.Figure(\n",
    "    data=[go.Pie(\n",
    "        labels=dismissal_counts['wicket_type'],\n",
    "        values=dismissal_counts['count'],\n",
    "        hole=0,\n",
    "        sort=True\n",
    "    )]\n",
    ")\n",
    "fig.update_layout(title_text=\"Distribution of Actual Wicket Types (IPL)\")\n",
    "fig.show()\n"
   ]
  },
  {
   "cell_type": "markdown",
   "metadata": {},
   "source": [
    "#### 4. Most Successful Teams (Most Wins) "
   ]
  },
  {
   "cell_type": "code",
   "execution_count": 14,
   "metadata": {},
   "outputs": [
    {
     "data": {
      "application/vnd.plotly.v1+json": {
       "config": {
        "plotlyServerURL": "https://plot.ly"
       },
       "data": [
        {
         "bingroup": "x",
         "histfunc": "sum",
         "hovertemplate": "wins=109<br>team=%{x}<br>sum of wins=%{y}<extra></extra>",
         "legendgroup": "109",
         "marker": {
          "color": "#636efa",
          "pattern": {
           "shape": ""
          }
         },
         "name": "109",
         "orientation": "v",
         "showlegend": true,
         "type": "histogram",
         "x": [
          "Mumbai Indians"
         ],
         "xaxis": "x",
         "y": {
          "bdata": "bQ==",
          "dtype": "i1"
         },
         "yaxis": "y"
        },
        {
         "bingroup": "x",
         "histfunc": "sum",
         "hovertemplate": "wins=105<br>team=%{x}<br>sum of wins=%{y}<extra></extra>",
         "legendgroup": "105",
         "marker": {
          "color": "#EF553B",
          "pattern": {
           "shape": ""
          }
         },
         "name": "105",
         "orientation": "v",
         "showlegend": true,
         "type": "histogram",
         "x": [
          "Kolkata Knight Riders"
         ],
         "xaxis": "x",
         "y": {
          "bdata": "aQ==",
          "dtype": "i1"
         },
         "yaxis": "y"
        },
        {
         "bingroup": "x",
         "histfunc": "sum",
         "hovertemplate": "wins=101<br>team=%{x}<br>sum of wins=%{y}<extra></extra>",
         "legendgroup": "101",
         "marker": {
          "color": "#00cc96",
          "pattern": {
           "shape": ""
          }
         },
         "name": "101",
         "orientation": "v",
         "showlegend": true,
         "type": "histogram",
         "x": [
          "Chennai Super Kings"
         ],
         "xaxis": "x",
         "y": {
          "bdata": "ZQ==",
          "dtype": "i1"
         },
         "yaxis": "y"
        },
        {
         "bingroup": "x",
         "histfunc": "sum",
         "hovertemplate": "wins=88<br>team=%{x}<br>sum of wins=%{y}<extra></extra>",
         "legendgroup": "88",
         "marker": {
          "color": "#ab63fa",
          "pattern": {
           "shape": ""
          }
         },
         "name": "88",
         "orientation": "v",
         "showlegend": true,
         "type": "histogram",
         "x": [
          "Royal Challengers Bangalore"
         ],
         "xaxis": "x",
         "y": {
          "bdata": "WA==",
          "dtype": "i1"
         },
         "yaxis": "y"
        },
        {
         "bingroup": "x",
         "histfunc": "sum",
         "hovertemplate": "wins=78<br>team=%{x}<br>sum of wins=%{y}<extra></extra>",
         "legendgroup": "78",
         "marker": {
          "color": "#FFA15A",
          "pattern": {
           "shape": ""
          }
         },
         "name": "78",
         "orientation": "v",
         "showlegend": true,
         "type": "histogram",
         "x": [
          "Rajasthan Royals"
         ],
         "xaxis": "x",
         "y": {
          "bdata": "Tg==",
          "dtype": "i1"
         },
         "yaxis": "y"
        },
        {
         "bingroup": "x",
         "histfunc": "sum",
         "hovertemplate": "wins=68<br>team=%{x}<br>sum of wins=%{y}<extra></extra>",
         "legendgroup": "68",
         "marker": {
          "color": "#19d3f3",
          "pattern": {
           "shape": ""
          }
         },
         "name": "68",
         "orientation": "v",
         "showlegend": true,
         "type": "histogram",
         "x": [
          "Sunrisers Hyderabad"
         ],
         "xaxis": "x",
         "y": {
          "bdata": "RA==",
          "dtype": "i1"
         },
         "yaxis": "y"
        },
        {
         "bingroup": "x",
         "histfunc": "sum",
         "hovertemplate": "wins=57<br>team=%{x}<br>sum of wins=%{y}<extra></extra>",
         "legendgroup": "57",
         "marker": {
          "color": "#FF6692",
          "pattern": {
           "shape": ""
          }
         },
         "name": "57",
         "orientation": "v",
         "showlegend": true,
         "type": "histogram",
         "x": [
          "Kings XI Punjab"
         ],
         "xaxis": "x",
         "y": {
          "bdata": "OQ==",
          "dtype": "i1"
         },
         "yaxis": "y"
        },
        {
         "bingroup": "x",
         "histfunc": "sum",
         "hovertemplate": "wins=48<br>team=%{x}<br>sum of wins=%{y}<extra></extra>",
         "legendgroup": "48",
         "marker": {
          "color": "#B6E880",
          "pattern": {
           "shape": ""
          }
         },
         "name": "48",
         "orientation": "v",
         "showlegend": true,
         "type": "histogram",
         "x": [
          "Delhi Daredevils"
         ],
         "xaxis": "x",
         "y": {
          "bdata": "MA==",
          "dtype": "i1"
         },
         "yaxis": "y"
        },
        {
         "bingroup": "x",
         "histfunc": "sum",
         "hovertemplate": "wins=35<br>team=%{x}<br>sum of wins=%{y}<extra></extra>",
         "legendgroup": "35",
         "marker": {
          "color": "#FF97FF",
          "pattern": {
           "shape": ""
          }
         },
         "name": "35",
         "orientation": "v",
         "showlegend": true,
         "type": "histogram",
         "x": [
          "Delhi Capitals"
         ],
         "xaxis": "x",
         "y": {
          "bdata": "Iw==",
          "dtype": "i1"
         },
         "yaxis": "y"
        },
        {
         "bingroup": "x",
         "histfunc": "sum",
         "hovertemplate": "wins=25<br>team=%{x}<br>sum of wins=%{y}<extra></extra>",
         "legendgroup": "25",
         "marker": {
          "color": "#FECB52",
          "pattern": {
           "shape": ""
          }
         },
         "name": "25",
         "orientation": "v",
         "showlegend": true,
         "type": "histogram",
         "x": [
          "Deccan Chargers"
         ],
         "xaxis": "x",
         "y": {
          "bdata": "GQ==",
          "dtype": "i1"
         },
         "yaxis": "y"
        },
        {
         "bingroup": "x",
         "histfunc": "sum",
         "hovertemplate": "wins=23<br>team=%{x}<br>sum of wins=%{y}<extra></extra>",
         "legendgroup": "23",
         "marker": {
          "color": "#636efa",
          "pattern": {
           "shape": ""
          }
         },
         "name": "23",
         "orientation": "v",
         "showlegend": true,
         "type": "histogram",
         "x": [
          "Punjab Kings"
         ],
         "xaxis": "x",
         "y": {
          "bdata": "Fw==",
          "dtype": "i1"
         },
         "yaxis": "y"
        },
        {
         "bingroup": "x",
         "histfunc": "sum",
         "hovertemplate": "wins=21<br>team=%{x}<br>sum of wins=%{y}<extra></extra>",
         "legendgroup": "21",
         "marker": {
          "color": "#EF553B",
          "pattern": {
           "shape": ""
          }
         },
         "name": "21",
         "orientation": "v",
         "showlegend": true,
         "type": "histogram",
         "x": [
          "Gujarat Titans"
         ],
         "xaxis": "x",
         "y": {
          "bdata": "FQ==",
          "dtype": "i1"
         },
         "yaxis": "y"
        },
        {
         "bingroup": "x",
         "histfunc": "sum",
         "hovertemplate": "wins=19<br>team=%{x}<br>sum of wins=%{y}<extra></extra>",
         "legendgroup": "19",
         "marker": {
          "color": "#00cc96",
          "pattern": {
           "shape": ""
          }
         },
         "name": "19",
         "orientation": "v",
         "showlegend": true,
         "type": "histogram",
         "x": [
          "Lucknow Super Giants"
         ],
         "xaxis": "x",
         "y": {
          "bdata": "Ew==",
          "dtype": "i1"
         },
         "yaxis": "y"
        },
        {
         "bingroup": "x",
         "histfunc": "sum",
         "hovertemplate": "wins=11<br>team=%{x}<br>sum of wins=%{y}<extra></extra>",
         "legendgroup": "11",
         "marker": {
          "color": "#ab63fa",
          "pattern": {
           "shape": ""
          }
         },
         "name": "11",
         "orientation": "v",
         "showlegend": true,
         "type": "histogram",
         "x": [
          "Pune Warriors"
         ],
         "xaxis": "x",
         "y": {
          "bdata": "Cw==",
          "dtype": "i1"
         },
         "yaxis": "y"
        },
        {
         "bingroup": "x",
         "histfunc": "sum",
         "hovertemplate": "wins=9<br>team=%{x}<br>sum of wins=%{y}<extra></extra>",
         "legendgroup": "9",
         "marker": {
          "color": "#FFA15A",
          "pattern": {
           "shape": ""
          }
         },
         "name": "9",
         "orientation": "v",
         "showlegend": true,
         "type": "histogram",
         "x": [
          "Gujarat Lions"
         ],
         "xaxis": "x",
         "y": {
          "bdata": "CQ==",
          "dtype": "i1"
         },
         "yaxis": "y"
        },
        {
         "bingroup": "x",
         "histfunc": "sum",
         "hovertemplate": "wins=7<br>team=%{x}<br>sum of wins=%{y}<extra></extra>",
         "legendgroup": "7",
         "marker": {
          "color": "#19d3f3",
          "pattern": {
           "shape": ""
          }
         },
         "name": "7",
         "orientation": "v",
         "showlegend": true,
         "type": "histogram",
         "x": [
          "Royal Challengers Bengaluru"
         ],
         "xaxis": "x",
         "y": {
          "bdata": "Bw==",
          "dtype": "i1"
         },
         "yaxis": "y"
        },
        {
         "bingroup": "x",
         "histfunc": "sum",
         "hovertemplate": "wins=6<br>team=%{x}<br>sum of wins=%{y}<extra></extra>",
         "legendgroup": "6",
         "marker": {
          "color": "#FF6692",
          "pattern": {
           "shape": ""
          }
         },
         "name": "6",
         "orientation": "v",
         "showlegend": true,
         "type": "histogram",
         "x": [
          "Rising Pune Supergiant"
         ],
         "xaxis": "x",
         "y": {
          "bdata": "Bg==",
          "dtype": "i1"
         },
         "yaxis": "y"
        },
        {
         "bingroup": "x",
         "histfunc": "sum",
         "hovertemplate": "wins=5<br>team=%{x}<br>sum of wins=%{y}<extra></extra>",
         "legendgroup": "5",
         "marker": {
          "color": "#B6E880",
          "pattern": {
           "shape": ""
          }
         },
         "name": "5",
         "orientation": "v",
         "showlegend": true,
         "type": "histogram",
         "x": [
          "Kochi Tuskers Kerala"
         ],
         "xaxis": "x",
         "y": {
          "bdata": "BQ==",
          "dtype": "i1"
         },
         "yaxis": "y"
        },
        {
         "bingroup": "x",
         "histfunc": "sum",
         "hovertemplate": "wins=4<br>team=%{x}<br>sum of wins=%{y}<extra></extra>",
         "legendgroup": "4",
         "marker": {
          "color": "#FF97FF",
          "pattern": {
           "shape": ""
          }
         },
         "name": "4",
         "orientation": "v",
         "showlegend": true,
         "type": "histogram",
         "x": [
          "Rising Pune Supergiants"
         ],
         "xaxis": "x",
         "y": {
          "bdata": "BA==",
          "dtype": "i1"
         },
         "yaxis": "y"
        }
       ],
       "layout": {
        "barmode": "relative",
        "legend": {
         "title": {
          "text": "wins"
         },
         "tracegroupgap": 0
        },
        "template": {
         "data": {
          "bar": [
           {
            "error_x": {
             "color": "#2a3f5f"
            },
            "error_y": {
             "color": "#2a3f5f"
            },
            "marker": {
             "line": {
              "color": "#E5ECF6",
              "width": 0.5
             },
             "pattern": {
              "fillmode": "overlay",
              "size": 10,
              "solidity": 0.2
             }
            },
            "type": "bar"
           }
          ],
          "barpolar": [
           {
            "marker": {
             "line": {
              "color": "#E5ECF6",
              "width": 0.5
             },
             "pattern": {
              "fillmode": "overlay",
              "size": 10,
              "solidity": 0.2
             }
            },
            "type": "barpolar"
           }
          ],
          "carpet": [
           {
            "aaxis": {
             "endlinecolor": "#2a3f5f",
             "gridcolor": "white",
             "linecolor": "white",
             "minorgridcolor": "white",
             "startlinecolor": "#2a3f5f"
            },
            "baxis": {
             "endlinecolor": "#2a3f5f",
             "gridcolor": "white",
             "linecolor": "white",
             "minorgridcolor": "white",
             "startlinecolor": "#2a3f5f"
            },
            "type": "carpet"
           }
          ],
          "choropleth": [
           {
            "colorbar": {
             "outlinewidth": 0,
             "ticks": ""
            },
            "type": "choropleth"
           }
          ],
          "contour": [
           {
            "colorbar": {
             "outlinewidth": 0,
             "ticks": ""
            },
            "colorscale": [
             [
              0,
              "#0d0887"
             ],
             [
              0.1111111111111111,
              "#46039f"
             ],
             [
              0.2222222222222222,
              "#7201a8"
             ],
             [
              0.3333333333333333,
              "#9c179e"
             ],
             [
              0.4444444444444444,
              "#bd3786"
             ],
             [
              0.5555555555555556,
              "#d8576b"
             ],
             [
              0.6666666666666666,
              "#ed7953"
             ],
             [
              0.7777777777777778,
              "#fb9f3a"
             ],
             [
              0.8888888888888888,
              "#fdca26"
             ],
             [
              1,
              "#f0f921"
             ]
            ],
            "type": "contour"
           }
          ],
          "contourcarpet": [
           {
            "colorbar": {
             "outlinewidth": 0,
             "ticks": ""
            },
            "type": "contourcarpet"
           }
          ],
          "heatmap": [
           {
            "colorbar": {
             "outlinewidth": 0,
             "ticks": ""
            },
            "colorscale": [
             [
              0,
              "#0d0887"
             ],
             [
              0.1111111111111111,
              "#46039f"
             ],
             [
              0.2222222222222222,
              "#7201a8"
             ],
             [
              0.3333333333333333,
              "#9c179e"
             ],
             [
              0.4444444444444444,
              "#bd3786"
             ],
             [
              0.5555555555555556,
              "#d8576b"
             ],
             [
              0.6666666666666666,
              "#ed7953"
             ],
             [
              0.7777777777777778,
              "#fb9f3a"
             ],
             [
              0.8888888888888888,
              "#fdca26"
             ],
             [
              1,
              "#f0f921"
             ]
            ],
            "type": "heatmap"
           }
          ],
          "histogram": [
           {
            "marker": {
             "pattern": {
              "fillmode": "overlay",
              "size": 10,
              "solidity": 0.2
             }
            },
            "type": "histogram"
           }
          ],
          "histogram2d": [
           {
            "colorbar": {
             "outlinewidth": 0,
             "ticks": ""
            },
            "colorscale": [
             [
              0,
              "#0d0887"
             ],
             [
              0.1111111111111111,
              "#46039f"
             ],
             [
              0.2222222222222222,
              "#7201a8"
             ],
             [
              0.3333333333333333,
              "#9c179e"
             ],
             [
              0.4444444444444444,
              "#bd3786"
             ],
             [
              0.5555555555555556,
              "#d8576b"
             ],
             [
              0.6666666666666666,
              "#ed7953"
             ],
             [
              0.7777777777777778,
              "#fb9f3a"
             ],
             [
              0.8888888888888888,
              "#fdca26"
             ],
             [
              1,
              "#f0f921"
             ]
            ],
            "type": "histogram2d"
           }
          ],
          "histogram2dcontour": [
           {
            "colorbar": {
             "outlinewidth": 0,
             "ticks": ""
            },
            "colorscale": [
             [
              0,
              "#0d0887"
             ],
             [
              0.1111111111111111,
              "#46039f"
             ],
             [
              0.2222222222222222,
              "#7201a8"
             ],
             [
              0.3333333333333333,
              "#9c179e"
             ],
             [
              0.4444444444444444,
              "#bd3786"
             ],
             [
              0.5555555555555556,
              "#d8576b"
             ],
             [
              0.6666666666666666,
              "#ed7953"
             ],
             [
              0.7777777777777778,
              "#fb9f3a"
             ],
             [
              0.8888888888888888,
              "#fdca26"
             ],
             [
              1,
              "#f0f921"
             ]
            ],
            "type": "histogram2dcontour"
           }
          ],
          "mesh3d": [
           {
            "colorbar": {
             "outlinewidth": 0,
             "ticks": ""
            },
            "type": "mesh3d"
           }
          ],
          "parcoords": [
           {
            "line": {
             "colorbar": {
              "outlinewidth": 0,
              "ticks": ""
             }
            },
            "type": "parcoords"
           }
          ],
          "pie": [
           {
            "automargin": true,
            "type": "pie"
           }
          ],
          "scatter": [
           {
            "fillpattern": {
             "fillmode": "overlay",
             "size": 10,
             "solidity": 0.2
            },
            "type": "scatter"
           }
          ],
          "scatter3d": [
           {
            "line": {
             "colorbar": {
              "outlinewidth": 0,
              "ticks": ""
             }
            },
            "marker": {
             "colorbar": {
              "outlinewidth": 0,
              "ticks": ""
             }
            },
            "type": "scatter3d"
           }
          ],
          "scattercarpet": [
           {
            "marker": {
             "colorbar": {
              "outlinewidth": 0,
              "ticks": ""
             }
            },
            "type": "scattercarpet"
           }
          ],
          "scattergeo": [
           {
            "marker": {
             "colorbar": {
              "outlinewidth": 0,
              "ticks": ""
             }
            },
            "type": "scattergeo"
           }
          ],
          "scattergl": [
           {
            "marker": {
             "colorbar": {
              "outlinewidth": 0,
              "ticks": ""
             }
            },
            "type": "scattergl"
           }
          ],
          "scattermap": [
           {
            "marker": {
             "colorbar": {
              "outlinewidth": 0,
              "ticks": ""
             }
            },
            "type": "scattermap"
           }
          ],
          "scattermapbox": [
           {
            "marker": {
             "colorbar": {
              "outlinewidth": 0,
              "ticks": ""
             }
            },
            "type": "scattermapbox"
           }
          ],
          "scatterpolar": [
           {
            "marker": {
             "colorbar": {
              "outlinewidth": 0,
              "ticks": ""
             }
            },
            "type": "scatterpolar"
           }
          ],
          "scatterpolargl": [
           {
            "marker": {
             "colorbar": {
              "outlinewidth": 0,
              "ticks": ""
             }
            },
            "type": "scatterpolargl"
           }
          ],
          "scatterternary": [
           {
            "marker": {
             "colorbar": {
              "outlinewidth": 0,
              "ticks": ""
             }
            },
            "type": "scatterternary"
           }
          ],
          "surface": [
           {
            "colorbar": {
             "outlinewidth": 0,
             "ticks": ""
            },
            "colorscale": [
             [
              0,
              "#0d0887"
             ],
             [
              0.1111111111111111,
              "#46039f"
             ],
             [
              0.2222222222222222,
              "#7201a8"
             ],
             [
              0.3333333333333333,
              "#9c179e"
             ],
             [
              0.4444444444444444,
              "#bd3786"
             ],
             [
              0.5555555555555556,
              "#d8576b"
             ],
             [
              0.6666666666666666,
              "#ed7953"
             ],
             [
              0.7777777777777778,
              "#fb9f3a"
             ],
             [
              0.8888888888888888,
              "#fdca26"
             ],
             [
              1,
              "#f0f921"
             ]
            ],
            "type": "surface"
           }
          ],
          "table": [
           {
            "cells": {
             "fill": {
              "color": "#EBF0F8"
             },
             "line": {
              "color": "white"
             }
            },
            "header": {
             "fill": {
              "color": "#C8D4E3"
             },
             "line": {
              "color": "white"
             }
            },
            "type": "table"
           }
          ]
         },
         "layout": {
          "annotationdefaults": {
           "arrowcolor": "#2a3f5f",
           "arrowhead": 0,
           "arrowwidth": 1
          },
          "autotypenumbers": "strict",
          "coloraxis": {
           "colorbar": {
            "outlinewidth": 0,
            "ticks": ""
           }
          },
          "colorscale": {
           "diverging": [
            [
             0,
             "#8e0152"
            ],
            [
             0.1,
             "#c51b7d"
            ],
            [
             0.2,
             "#de77ae"
            ],
            [
             0.3,
             "#f1b6da"
            ],
            [
             0.4,
             "#fde0ef"
            ],
            [
             0.5,
             "#f7f7f7"
            ],
            [
             0.6,
             "#e6f5d0"
            ],
            [
             0.7,
             "#b8e186"
            ],
            [
             0.8,
             "#7fbc41"
            ],
            [
             0.9,
             "#4d9221"
            ],
            [
             1,
             "#276419"
            ]
           ],
           "sequential": [
            [
             0,
             "#0d0887"
            ],
            [
             0.1111111111111111,
             "#46039f"
            ],
            [
             0.2222222222222222,
             "#7201a8"
            ],
            [
             0.3333333333333333,
             "#9c179e"
            ],
            [
             0.4444444444444444,
             "#bd3786"
            ],
            [
             0.5555555555555556,
             "#d8576b"
            ],
            [
             0.6666666666666666,
             "#ed7953"
            ],
            [
             0.7777777777777778,
             "#fb9f3a"
            ],
            [
             0.8888888888888888,
             "#fdca26"
            ],
            [
             1,
             "#f0f921"
            ]
           ],
           "sequentialminus": [
            [
             0,
             "#0d0887"
            ],
            [
             0.1111111111111111,
             "#46039f"
            ],
            [
             0.2222222222222222,
             "#7201a8"
            ],
            [
             0.3333333333333333,
             "#9c179e"
            ],
            [
             0.4444444444444444,
             "#bd3786"
            ],
            [
             0.5555555555555556,
             "#d8576b"
            ],
            [
             0.6666666666666666,
             "#ed7953"
            ],
            [
             0.7777777777777778,
             "#fb9f3a"
            ],
            [
             0.8888888888888888,
             "#fdca26"
            ],
            [
             1,
             "#f0f921"
            ]
           ]
          },
          "colorway": [
           "#636efa",
           "#EF553B",
           "#00cc96",
           "#ab63fa",
           "#FFA15A",
           "#19d3f3",
           "#FF6692",
           "#B6E880",
           "#FF97FF",
           "#FECB52"
          ],
          "font": {
           "color": "#2a3f5f"
          },
          "geo": {
           "bgcolor": "white",
           "lakecolor": "white",
           "landcolor": "#E5ECF6",
           "showlakes": true,
           "showland": true,
           "subunitcolor": "white"
          },
          "hoverlabel": {
           "align": "left"
          },
          "hovermode": "closest",
          "mapbox": {
           "style": "light"
          },
          "paper_bgcolor": "white",
          "plot_bgcolor": "#E5ECF6",
          "polar": {
           "angularaxis": {
            "gridcolor": "white",
            "linecolor": "white",
            "ticks": ""
           },
           "bgcolor": "#E5ECF6",
           "radialaxis": {
            "gridcolor": "white",
            "linecolor": "white",
            "ticks": ""
           }
          },
          "scene": {
           "xaxis": {
            "backgroundcolor": "#E5ECF6",
            "gridcolor": "white",
            "gridwidth": 2,
            "linecolor": "white",
            "showbackground": true,
            "ticks": "",
            "zerolinecolor": "white"
           },
           "yaxis": {
            "backgroundcolor": "#E5ECF6",
            "gridcolor": "white",
            "gridwidth": 2,
            "linecolor": "white",
            "showbackground": true,
            "ticks": "",
            "zerolinecolor": "white"
           },
           "zaxis": {
            "backgroundcolor": "#E5ECF6",
            "gridcolor": "white",
            "gridwidth": 2,
            "linecolor": "white",
            "showbackground": true,
            "ticks": "",
            "zerolinecolor": "white"
           }
          },
          "shapedefaults": {
           "line": {
            "color": "#2a3f5f"
           }
          },
          "ternary": {
           "aaxis": {
            "gridcolor": "white",
            "linecolor": "white",
            "ticks": ""
           },
           "baxis": {
            "gridcolor": "white",
            "linecolor": "white",
            "ticks": ""
           },
           "bgcolor": "#E5ECF6",
           "caxis": {
            "gridcolor": "white",
            "linecolor": "white",
            "ticks": ""
           }
          },
          "title": {
           "x": 0.05
          },
          "xaxis": {
           "automargin": true,
           "gridcolor": "white",
           "linecolor": "white",
           "ticks": "",
           "title": {
            "standoff": 15
           },
           "zerolinecolor": "white",
           "zerolinewidth": 2
          },
          "yaxis": {
           "automargin": true,
           "gridcolor": "white",
           "linecolor": "white",
           "ticks": "",
           "title": {
            "standoff": 15
           },
           "zerolinecolor": "white",
           "zerolinewidth": 2
          }
         }
        },
        "title": {
         "text": "Most Successful Teams in IPL (By Match Wins)"
        },
        "xaxis": {
         "anchor": "y",
         "categoryorder": "total descending",
         "domain": [
          0,
          1
         ],
         "title": {
          "text": "team"
         }
        },
        "yaxis": {
         "anchor": "x",
         "categoryarray": [
          4,
          5,
          6,
          7,
          9,
          11,
          19,
          21,
          23,
          25,
          35,
          48,
          57,
          68,
          78,
          88,
          101,
          105,
          109
         ],
         "categoryorder": "array",
         "domain": [
          0,
          1
         ],
         "title": {
          "text": "sum of wins"
         }
        }
       }
      }
     },
     "metadata": {},
     "output_type": "display_data"
    }
   ],
   "source": [
    "# Remove 'No result' entries\n",
    "filtered_df = ipl_df[ipl_df['winner'] != 'No result']\n",
    "unique_matches = filtered_df.drop_duplicates(subset=['match_date'])\n",
    "# Count wins by team\n",
    "team_wins = (\n",
    "    unique_matches['winner']\n",
    "    .value_counts()\n",
    "    .reset_index()\n",
    ")\n",
    "team_wins.columns = ['team', 'wins']\n",
    "\n",
    "# Plot using plotly\n",
    "fig = px.histogram(\n",
    "    team_wins,\n",
    "    x='team',\n",
    "    y='wins',\n",
    "    color='wins',\n",
    "    title='Most Successful Teams in IPL (By Match Wins)'\n",
    ")\n",
    "fig.update_xaxes(categoryorder='total descending')\n",
    "fig.show()"
   ]
  },
  {
   "cell_type": "markdown",
   "metadata": {},
   "source": [
    "#### 5.Total Runs by City"
   ]
  },
  {
   "cell_type": "code",
   "execution_count": 15,
   "metadata": {},
   "outputs": [
    {
     "data": {
      "application/vnd.plotly.v1+json": {
       "config": {
        "plotlyServerURL": "https://plot.ly"
       },
       "data": [
        {
         "domain": {
          "x": [
           0,
           1
          ],
          "y": [
           0,
           1
          ]
         },
         "hole": 0.4,
         "hovertemplate": "city=%{label}<br>runs_total=%{value}<extra></extra>",
         "labels": [
          "Mumbai",
          "Kolkata",
          "Delhi",
          "Chennai",
          "Hyderabad",
          "Bangalore",
          "Chandigarh",
          "Jaipur",
          "None",
          "Pune"
         ],
         "legendgroup": "",
         "name": "",
         "showlegend": true,
         "type": "pie",
         "values": {
          "bdata": "8d0AAI51AAB/cQAAi2kAANZgAAAnTwAAmE0AABVFAAABQAAAGz0AAA==",
          "dtype": "i4"
         }
        }
       ],
       "layout": {
        "legend": {
         "tracegroupgap": 0
        },
        "template": {
         "data": {
          "bar": [
           {
            "error_x": {
             "color": "#2a3f5f"
            },
            "error_y": {
             "color": "#2a3f5f"
            },
            "marker": {
             "line": {
              "color": "#E5ECF6",
              "width": 0.5
             },
             "pattern": {
              "fillmode": "overlay",
              "size": 10,
              "solidity": 0.2
             }
            },
            "type": "bar"
           }
          ],
          "barpolar": [
           {
            "marker": {
             "line": {
              "color": "#E5ECF6",
              "width": 0.5
             },
             "pattern": {
              "fillmode": "overlay",
              "size": 10,
              "solidity": 0.2
             }
            },
            "type": "barpolar"
           }
          ],
          "carpet": [
           {
            "aaxis": {
             "endlinecolor": "#2a3f5f",
             "gridcolor": "white",
             "linecolor": "white",
             "minorgridcolor": "white",
             "startlinecolor": "#2a3f5f"
            },
            "baxis": {
             "endlinecolor": "#2a3f5f",
             "gridcolor": "white",
             "linecolor": "white",
             "minorgridcolor": "white",
             "startlinecolor": "#2a3f5f"
            },
            "type": "carpet"
           }
          ],
          "choropleth": [
           {
            "colorbar": {
             "outlinewidth": 0,
             "ticks": ""
            },
            "type": "choropleth"
           }
          ],
          "contour": [
           {
            "colorbar": {
             "outlinewidth": 0,
             "ticks": ""
            },
            "colorscale": [
             [
              0,
              "#0d0887"
             ],
             [
              0.1111111111111111,
              "#46039f"
             ],
             [
              0.2222222222222222,
              "#7201a8"
             ],
             [
              0.3333333333333333,
              "#9c179e"
             ],
             [
              0.4444444444444444,
              "#bd3786"
             ],
             [
              0.5555555555555556,
              "#d8576b"
             ],
             [
              0.6666666666666666,
              "#ed7953"
             ],
             [
              0.7777777777777778,
              "#fb9f3a"
             ],
             [
              0.8888888888888888,
              "#fdca26"
             ],
             [
              1,
              "#f0f921"
             ]
            ],
            "type": "contour"
           }
          ],
          "contourcarpet": [
           {
            "colorbar": {
             "outlinewidth": 0,
             "ticks": ""
            },
            "type": "contourcarpet"
           }
          ],
          "heatmap": [
           {
            "colorbar": {
             "outlinewidth": 0,
             "ticks": ""
            },
            "colorscale": [
             [
              0,
              "#0d0887"
             ],
             [
              0.1111111111111111,
              "#46039f"
             ],
             [
              0.2222222222222222,
              "#7201a8"
             ],
             [
              0.3333333333333333,
              "#9c179e"
             ],
             [
              0.4444444444444444,
              "#bd3786"
             ],
             [
              0.5555555555555556,
              "#d8576b"
             ],
             [
              0.6666666666666666,
              "#ed7953"
             ],
             [
              0.7777777777777778,
              "#fb9f3a"
             ],
             [
              0.8888888888888888,
              "#fdca26"
             ],
             [
              1,
              "#f0f921"
             ]
            ],
            "type": "heatmap"
           }
          ],
          "histogram": [
           {
            "marker": {
             "pattern": {
              "fillmode": "overlay",
              "size": 10,
              "solidity": 0.2
             }
            },
            "type": "histogram"
           }
          ],
          "histogram2d": [
           {
            "colorbar": {
             "outlinewidth": 0,
             "ticks": ""
            },
            "colorscale": [
             [
              0,
              "#0d0887"
             ],
             [
              0.1111111111111111,
              "#46039f"
             ],
             [
              0.2222222222222222,
              "#7201a8"
             ],
             [
              0.3333333333333333,
              "#9c179e"
             ],
             [
              0.4444444444444444,
              "#bd3786"
             ],
             [
              0.5555555555555556,
              "#d8576b"
             ],
             [
              0.6666666666666666,
              "#ed7953"
             ],
             [
              0.7777777777777778,
              "#fb9f3a"
             ],
             [
              0.8888888888888888,
              "#fdca26"
             ],
             [
              1,
              "#f0f921"
             ]
            ],
            "type": "histogram2d"
           }
          ],
          "histogram2dcontour": [
           {
            "colorbar": {
             "outlinewidth": 0,
             "ticks": ""
            },
            "colorscale": [
             [
              0,
              "#0d0887"
             ],
             [
              0.1111111111111111,
              "#46039f"
             ],
             [
              0.2222222222222222,
              "#7201a8"
             ],
             [
              0.3333333333333333,
              "#9c179e"
             ],
             [
              0.4444444444444444,
              "#bd3786"
             ],
             [
              0.5555555555555556,
              "#d8576b"
             ],
             [
              0.6666666666666666,
              "#ed7953"
             ],
             [
              0.7777777777777778,
              "#fb9f3a"
             ],
             [
              0.8888888888888888,
              "#fdca26"
             ],
             [
              1,
              "#f0f921"
             ]
            ],
            "type": "histogram2dcontour"
           }
          ],
          "mesh3d": [
           {
            "colorbar": {
             "outlinewidth": 0,
             "ticks": ""
            },
            "type": "mesh3d"
           }
          ],
          "parcoords": [
           {
            "line": {
             "colorbar": {
              "outlinewidth": 0,
              "ticks": ""
             }
            },
            "type": "parcoords"
           }
          ],
          "pie": [
           {
            "automargin": true,
            "type": "pie"
           }
          ],
          "scatter": [
           {
            "fillpattern": {
             "fillmode": "overlay",
             "size": 10,
             "solidity": 0.2
            },
            "type": "scatter"
           }
          ],
          "scatter3d": [
           {
            "line": {
             "colorbar": {
              "outlinewidth": 0,
              "ticks": ""
             }
            },
            "marker": {
             "colorbar": {
              "outlinewidth": 0,
              "ticks": ""
             }
            },
            "type": "scatter3d"
           }
          ],
          "scattercarpet": [
           {
            "marker": {
             "colorbar": {
              "outlinewidth": 0,
              "ticks": ""
             }
            },
            "type": "scattercarpet"
           }
          ],
          "scattergeo": [
           {
            "marker": {
             "colorbar": {
              "outlinewidth": 0,
              "ticks": ""
             }
            },
            "type": "scattergeo"
           }
          ],
          "scattergl": [
           {
            "marker": {
             "colorbar": {
              "outlinewidth": 0,
              "ticks": ""
             }
            },
            "type": "scattergl"
           }
          ],
          "scattermap": [
           {
            "marker": {
             "colorbar": {
              "outlinewidth": 0,
              "ticks": ""
             }
            },
            "type": "scattermap"
           }
          ],
          "scattermapbox": [
           {
            "marker": {
             "colorbar": {
              "outlinewidth": 0,
              "ticks": ""
             }
            },
            "type": "scattermapbox"
           }
          ],
          "scatterpolar": [
           {
            "marker": {
             "colorbar": {
              "outlinewidth": 0,
              "ticks": ""
             }
            },
            "type": "scatterpolar"
           }
          ],
          "scatterpolargl": [
           {
            "marker": {
             "colorbar": {
              "outlinewidth": 0,
              "ticks": ""
             }
            },
            "type": "scatterpolargl"
           }
          ],
          "scatterternary": [
           {
            "marker": {
             "colorbar": {
              "outlinewidth": 0,
              "ticks": ""
             }
            },
            "type": "scatterternary"
           }
          ],
          "surface": [
           {
            "colorbar": {
             "outlinewidth": 0,
             "ticks": ""
            },
            "colorscale": [
             [
              0,
              "#0d0887"
             ],
             [
              0.1111111111111111,
              "#46039f"
             ],
             [
              0.2222222222222222,
              "#7201a8"
             ],
             [
              0.3333333333333333,
              "#9c179e"
             ],
             [
              0.4444444444444444,
              "#bd3786"
             ],
             [
              0.5555555555555556,
              "#d8576b"
             ],
             [
              0.6666666666666666,
              "#ed7953"
             ],
             [
              0.7777777777777778,
              "#fb9f3a"
             ],
             [
              0.8888888888888888,
              "#fdca26"
             ],
             [
              1,
              "#f0f921"
             ]
            ],
            "type": "surface"
           }
          ],
          "table": [
           {
            "cells": {
             "fill": {
              "color": "#EBF0F8"
             },
             "line": {
              "color": "white"
             }
            },
            "header": {
             "fill": {
              "color": "#C8D4E3"
             },
             "line": {
              "color": "white"
             }
            },
            "type": "table"
           }
          ]
         },
         "layout": {
          "annotationdefaults": {
           "arrowcolor": "#2a3f5f",
           "arrowhead": 0,
           "arrowwidth": 1
          },
          "autotypenumbers": "strict",
          "coloraxis": {
           "colorbar": {
            "outlinewidth": 0,
            "ticks": ""
           }
          },
          "colorscale": {
           "diverging": [
            [
             0,
             "#8e0152"
            ],
            [
             0.1,
             "#c51b7d"
            ],
            [
             0.2,
             "#de77ae"
            ],
            [
             0.3,
             "#f1b6da"
            ],
            [
             0.4,
             "#fde0ef"
            ],
            [
             0.5,
             "#f7f7f7"
            ],
            [
             0.6,
             "#e6f5d0"
            ],
            [
             0.7,
             "#b8e186"
            ],
            [
             0.8,
             "#7fbc41"
            ],
            [
             0.9,
             "#4d9221"
            ],
            [
             1,
             "#276419"
            ]
           ],
           "sequential": [
            [
             0,
             "#0d0887"
            ],
            [
             0.1111111111111111,
             "#46039f"
            ],
            [
             0.2222222222222222,
             "#7201a8"
            ],
            [
             0.3333333333333333,
             "#9c179e"
            ],
            [
             0.4444444444444444,
             "#bd3786"
            ],
            [
             0.5555555555555556,
             "#d8576b"
            ],
            [
             0.6666666666666666,
             "#ed7953"
            ],
            [
             0.7777777777777778,
             "#fb9f3a"
            ],
            [
             0.8888888888888888,
             "#fdca26"
            ],
            [
             1,
             "#f0f921"
            ]
           ],
           "sequentialminus": [
            [
             0,
             "#0d0887"
            ],
            [
             0.1111111111111111,
             "#46039f"
            ],
            [
             0.2222222222222222,
             "#7201a8"
            ],
            [
             0.3333333333333333,
             "#9c179e"
            ],
            [
             0.4444444444444444,
             "#bd3786"
            ],
            [
             0.5555555555555556,
             "#d8576b"
            ],
            [
             0.6666666666666666,
             "#ed7953"
            ],
            [
             0.7777777777777778,
             "#fb9f3a"
            ],
            [
             0.8888888888888888,
             "#fdca26"
            ],
            [
             1,
             "#f0f921"
            ]
           ]
          },
          "colorway": [
           "#636efa",
           "#EF553B",
           "#00cc96",
           "#ab63fa",
           "#FFA15A",
           "#19d3f3",
           "#FF6692",
           "#B6E880",
           "#FF97FF",
           "#FECB52"
          ],
          "font": {
           "color": "#2a3f5f"
          },
          "geo": {
           "bgcolor": "white",
           "lakecolor": "white",
           "landcolor": "#E5ECF6",
           "showlakes": true,
           "showland": true,
           "subunitcolor": "white"
          },
          "hoverlabel": {
           "align": "left"
          },
          "hovermode": "closest",
          "mapbox": {
           "style": "light"
          },
          "paper_bgcolor": "white",
          "plot_bgcolor": "#E5ECF6",
          "polar": {
           "angularaxis": {
            "gridcolor": "white",
            "linecolor": "white",
            "ticks": ""
           },
           "bgcolor": "#E5ECF6",
           "radialaxis": {
            "gridcolor": "white",
            "linecolor": "white",
            "ticks": ""
           }
          },
          "scene": {
           "xaxis": {
            "backgroundcolor": "#E5ECF6",
            "gridcolor": "white",
            "gridwidth": 2,
            "linecolor": "white",
            "showbackground": true,
            "ticks": "",
            "zerolinecolor": "white"
           },
           "yaxis": {
            "backgroundcolor": "#E5ECF6",
            "gridcolor": "white",
            "gridwidth": 2,
            "linecolor": "white",
            "showbackground": true,
            "ticks": "",
            "zerolinecolor": "white"
           },
           "zaxis": {
            "backgroundcolor": "#E5ECF6",
            "gridcolor": "white",
            "gridwidth": 2,
            "linecolor": "white",
            "showbackground": true,
            "ticks": "",
            "zerolinecolor": "white"
           }
          },
          "shapedefaults": {
           "line": {
            "color": "#2a3f5f"
           }
          },
          "ternary": {
           "aaxis": {
            "gridcolor": "white",
            "linecolor": "white",
            "ticks": ""
           },
           "baxis": {
            "gridcolor": "white",
            "linecolor": "white",
            "ticks": ""
           },
           "bgcolor": "#E5ECF6",
           "caxis": {
            "gridcolor": "white",
            "linecolor": "white",
            "ticks": ""
           }
          },
          "title": {
           "x": 0.05
          },
          "xaxis": {
           "automargin": true,
           "gridcolor": "white",
           "linecolor": "white",
           "ticks": "",
           "title": {
            "standoff": 15
           },
           "zerolinecolor": "white",
           "zerolinewidth": 2
          },
          "yaxis": {
           "automargin": true,
           "gridcolor": "white",
           "linecolor": "white",
           "ticks": "",
           "title": {
            "standoff": 15
           },
           "zerolinecolor": "white",
           "zerolinewidth": 2
          }
         }
        },
        "title": {
         "text": "Top 10 Cities by Total Runs Scored (IPL)"
        }
       }
      }
     },
     "metadata": {},
     "output_type": "display_data"
    }
   ],
   "source": [
    "city_runs = (\n",
    "    ipl_df.groupby('city')['runs_total']\n",
    "    .sum()\n",
    "    .sort_values(ascending=False)\n",
    "    .head(10)\n",
    "    .reset_index()\n",
    ")\n",
    "\n",
    "fig = px.pie(\n",
    "    city_runs,\n",
    "    values='runs_total',\n",
    "    names='city',\n",
    "    title='Top 10 Cities by Total Runs Scored (IPL)',\n",
    "    hole= 0.4 # no hole = full pie\n",
    ")\n",
    "fig.show()"
   ]
  },
  {
   "cell_type": "markdown",
   "metadata": {},
   "source": [
    "#### top 10 bowlers with most dot balls"
   ]
  },
  {
   "cell_type": "code",
   "execution_count": 16,
   "metadata": {},
   "outputs": [
    {
     "data": {
      "application/vnd.plotly.v1+json": {
       "config": {
        "plotlyServerURL": "https://plot.ly"
       },
       "data": [
        {
         "hovertemplate": "Number of Dot Balls=%{marker.color}<br>Bowler=%{y}<extra></extra>",
         "legendgroup": "",
         "marker": {
          "color": {
           "bdata": "UAfkBqMGegVvBW4FZQVNBUoFNAU=",
           "dtype": "i2"
          },
          "coloraxis": "coloraxis",
          "pattern": {
           "shape": ""
          }
         },
         "name": "",
         "orientation": "h",
         "showlegend": false,
         "textposition": "auto",
         "type": "bar",
         "x": {
          "bdata": "UAfkBqMGegVvBW4FZQVNBUoFNAU=",
          "dtype": "i2"
         },
         "xaxis": "x",
         "y": [
          "B Kumar",
          "R Ashwin",
          "SP Narine",
          "PP Chawla",
          "JJ Bumrah",
          "Harbhajan Singh",
          "UT Yadav",
          "SL Malinga",
          "YS Chahal",
          "RA Jadeja"
         ],
         "yaxis": "y"
        }
       ],
       "layout": {
        "barmode": "relative",
        "coloraxis": {
         "colorbar": {
          "title": {
           "text": "Number of Dot Balls"
          }
         },
         "colorscale": [
          [
           0,
           "#30123b"
          ],
          [
           0.07142857142857142,
           "#4145ab"
          ],
          [
           0.14285714285714285,
           "#4675ed"
          ],
          [
           0.21428571428571427,
           "#39a2fc"
          ],
          [
           0.2857142857142857,
           "#1bcfd4"
          ],
          [
           0.35714285714285715,
           "#24eca6"
          ],
          [
           0.42857142857142855,
           "#61fc6c"
          ],
          [
           0.5,
           "#a4fc3b"
          ],
          [
           0.5714285714285714,
           "#d1e834"
          ],
          [
           0.6428571428571429,
           "#f3c63a"
          ],
          [
           0.7142857142857143,
           "#fe9b2d"
          ],
          [
           0.7857142857142857,
           "#f36315"
          ],
          [
           0.8571428571428571,
           "#d93806"
          ],
          [
           0.9285714285714286,
           "#b11901"
          ],
          [
           1,
           "#7a0402"
          ]
         ]
        },
        "legend": {
         "tracegroupgap": 0
        },
        "template": {
         "data": {
          "bar": [
           {
            "error_x": {
             "color": "#2a3f5f"
            },
            "error_y": {
             "color": "#2a3f5f"
            },
            "marker": {
             "line": {
              "color": "#E5ECF6",
              "width": 0.5
             },
             "pattern": {
              "fillmode": "overlay",
              "size": 10,
              "solidity": 0.2
             }
            },
            "type": "bar"
           }
          ],
          "barpolar": [
           {
            "marker": {
             "line": {
              "color": "#E5ECF6",
              "width": 0.5
             },
             "pattern": {
              "fillmode": "overlay",
              "size": 10,
              "solidity": 0.2
             }
            },
            "type": "barpolar"
           }
          ],
          "carpet": [
           {
            "aaxis": {
             "endlinecolor": "#2a3f5f",
             "gridcolor": "white",
             "linecolor": "white",
             "minorgridcolor": "white",
             "startlinecolor": "#2a3f5f"
            },
            "baxis": {
             "endlinecolor": "#2a3f5f",
             "gridcolor": "white",
             "linecolor": "white",
             "minorgridcolor": "white",
             "startlinecolor": "#2a3f5f"
            },
            "type": "carpet"
           }
          ],
          "choropleth": [
           {
            "colorbar": {
             "outlinewidth": 0,
             "ticks": ""
            },
            "type": "choropleth"
           }
          ],
          "contour": [
           {
            "colorbar": {
             "outlinewidth": 0,
             "ticks": ""
            },
            "colorscale": [
             [
              0,
              "#0d0887"
             ],
             [
              0.1111111111111111,
              "#46039f"
             ],
             [
              0.2222222222222222,
              "#7201a8"
             ],
             [
              0.3333333333333333,
              "#9c179e"
             ],
             [
              0.4444444444444444,
              "#bd3786"
             ],
             [
              0.5555555555555556,
              "#d8576b"
             ],
             [
              0.6666666666666666,
              "#ed7953"
             ],
             [
              0.7777777777777778,
              "#fb9f3a"
             ],
             [
              0.8888888888888888,
              "#fdca26"
             ],
             [
              1,
              "#f0f921"
             ]
            ],
            "type": "contour"
           }
          ],
          "contourcarpet": [
           {
            "colorbar": {
             "outlinewidth": 0,
             "ticks": ""
            },
            "type": "contourcarpet"
           }
          ],
          "heatmap": [
           {
            "colorbar": {
             "outlinewidth": 0,
             "ticks": ""
            },
            "colorscale": [
             [
              0,
              "#0d0887"
             ],
             [
              0.1111111111111111,
              "#46039f"
             ],
             [
              0.2222222222222222,
              "#7201a8"
             ],
             [
              0.3333333333333333,
              "#9c179e"
             ],
             [
              0.4444444444444444,
              "#bd3786"
             ],
             [
              0.5555555555555556,
              "#d8576b"
             ],
             [
              0.6666666666666666,
              "#ed7953"
             ],
             [
              0.7777777777777778,
              "#fb9f3a"
             ],
             [
              0.8888888888888888,
              "#fdca26"
             ],
             [
              1,
              "#f0f921"
             ]
            ],
            "type": "heatmap"
           }
          ],
          "histogram": [
           {
            "marker": {
             "pattern": {
              "fillmode": "overlay",
              "size": 10,
              "solidity": 0.2
             }
            },
            "type": "histogram"
           }
          ],
          "histogram2d": [
           {
            "colorbar": {
             "outlinewidth": 0,
             "ticks": ""
            },
            "colorscale": [
             [
              0,
              "#0d0887"
             ],
             [
              0.1111111111111111,
              "#46039f"
             ],
             [
              0.2222222222222222,
              "#7201a8"
             ],
             [
              0.3333333333333333,
              "#9c179e"
             ],
             [
              0.4444444444444444,
              "#bd3786"
             ],
             [
              0.5555555555555556,
              "#d8576b"
             ],
             [
              0.6666666666666666,
              "#ed7953"
             ],
             [
              0.7777777777777778,
              "#fb9f3a"
             ],
             [
              0.8888888888888888,
              "#fdca26"
             ],
             [
              1,
              "#f0f921"
             ]
            ],
            "type": "histogram2d"
           }
          ],
          "histogram2dcontour": [
           {
            "colorbar": {
             "outlinewidth": 0,
             "ticks": ""
            },
            "colorscale": [
             [
              0,
              "#0d0887"
             ],
             [
              0.1111111111111111,
              "#46039f"
             ],
             [
              0.2222222222222222,
              "#7201a8"
             ],
             [
              0.3333333333333333,
              "#9c179e"
             ],
             [
              0.4444444444444444,
              "#bd3786"
             ],
             [
              0.5555555555555556,
              "#d8576b"
             ],
             [
              0.6666666666666666,
              "#ed7953"
             ],
             [
              0.7777777777777778,
              "#fb9f3a"
             ],
             [
              0.8888888888888888,
              "#fdca26"
             ],
             [
              1,
              "#f0f921"
             ]
            ],
            "type": "histogram2dcontour"
           }
          ],
          "mesh3d": [
           {
            "colorbar": {
             "outlinewidth": 0,
             "ticks": ""
            },
            "type": "mesh3d"
           }
          ],
          "parcoords": [
           {
            "line": {
             "colorbar": {
              "outlinewidth": 0,
              "ticks": ""
             }
            },
            "type": "parcoords"
           }
          ],
          "pie": [
           {
            "automargin": true,
            "type": "pie"
           }
          ],
          "scatter": [
           {
            "fillpattern": {
             "fillmode": "overlay",
             "size": 10,
             "solidity": 0.2
            },
            "type": "scatter"
           }
          ],
          "scatter3d": [
           {
            "line": {
             "colorbar": {
              "outlinewidth": 0,
              "ticks": ""
             }
            },
            "marker": {
             "colorbar": {
              "outlinewidth": 0,
              "ticks": ""
             }
            },
            "type": "scatter3d"
           }
          ],
          "scattercarpet": [
           {
            "marker": {
             "colorbar": {
              "outlinewidth": 0,
              "ticks": ""
             }
            },
            "type": "scattercarpet"
           }
          ],
          "scattergeo": [
           {
            "marker": {
             "colorbar": {
              "outlinewidth": 0,
              "ticks": ""
             }
            },
            "type": "scattergeo"
           }
          ],
          "scattergl": [
           {
            "marker": {
             "colorbar": {
              "outlinewidth": 0,
              "ticks": ""
             }
            },
            "type": "scattergl"
           }
          ],
          "scattermap": [
           {
            "marker": {
             "colorbar": {
              "outlinewidth": 0,
              "ticks": ""
             }
            },
            "type": "scattermap"
           }
          ],
          "scattermapbox": [
           {
            "marker": {
             "colorbar": {
              "outlinewidth": 0,
              "ticks": ""
             }
            },
            "type": "scattermapbox"
           }
          ],
          "scatterpolar": [
           {
            "marker": {
             "colorbar": {
              "outlinewidth": 0,
              "ticks": ""
             }
            },
            "type": "scatterpolar"
           }
          ],
          "scatterpolargl": [
           {
            "marker": {
             "colorbar": {
              "outlinewidth": 0,
              "ticks": ""
             }
            },
            "type": "scatterpolargl"
           }
          ],
          "scatterternary": [
           {
            "marker": {
             "colorbar": {
              "outlinewidth": 0,
              "ticks": ""
             }
            },
            "type": "scatterternary"
           }
          ],
          "surface": [
           {
            "colorbar": {
             "outlinewidth": 0,
             "ticks": ""
            },
            "colorscale": [
             [
              0,
              "#0d0887"
             ],
             [
              0.1111111111111111,
              "#46039f"
             ],
             [
              0.2222222222222222,
              "#7201a8"
             ],
             [
              0.3333333333333333,
              "#9c179e"
             ],
             [
              0.4444444444444444,
              "#bd3786"
             ],
             [
              0.5555555555555556,
              "#d8576b"
             ],
             [
              0.6666666666666666,
              "#ed7953"
             ],
             [
              0.7777777777777778,
              "#fb9f3a"
             ],
             [
              0.8888888888888888,
              "#fdca26"
             ],
             [
              1,
              "#f0f921"
             ]
            ],
            "type": "surface"
           }
          ],
          "table": [
           {
            "cells": {
             "fill": {
              "color": "#EBF0F8"
             },
             "line": {
              "color": "white"
             }
            },
            "header": {
             "fill": {
              "color": "#C8D4E3"
             },
             "line": {
              "color": "white"
             }
            },
            "type": "table"
           }
          ]
         },
         "layout": {
          "annotationdefaults": {
           "arrowcolor": "#2a3f5f",
           "arrowhead": 0,
           "arrowwidth": 1
          },
          "autotypenumbers": "strict",
          "coloraxis": {
           "colorbar": {
            "outlinewidth": 0,
            "ticks": ""
           }
          },
          "colorscale": {
           "diverging": [
            [
             0,
             "#8e0152"
            ],
            [
             0.1,
             "#c51b7d"
            ],
            [
             0.2,
             "#de77ae"
            ],
            [
             0.3,
             "#f1b6da"
            ],
            [
             0.4,
             "#fde0ef"
            ],
            [
             0.5,
             "#f7f7f7"
            ],
            [
             0.6,
             "#e6f5d0"
            ],
            [
             0.7,
             "#b8e186"
            ],
            [
             0.8,
             "#7fbc41"
            ],
            [
             0.9,
             "#4d9221"
            ],
            [
             1,
             "#276419"
            ]
           ],
           "sequential": [
            [
             0,
             "#0d0887"
            ],
            [
             0.1111111111111111,
             "#46039f"
            ],
            [
             0.2222222222222222,
             "#7201a8"
            ],
            [
             0.3333333333333333,
             "#9c179e"
            ],
            [
             0.4444444444444444,
             "#bd3786"
            ],
            [
             0.5555555555555556,
             "#d8576b"
            ],
            [
             0.6666666666666666,
             "#ed7953"
            ],
            [
             0.7777777777777778,
             "#fb9f3a"
            ],
            [
             0.8888888888888888,
             "#fdca26"
            ],
            [
             1,
             "#f0f921"
            ]
           ],
           "sequentialminus": [
            [
             0,
             "#0d0887"
            ],
            [
             0.1111111111111111,
             "#46039f"
            ],
            [
             0.2222222222222222,
             "#7201a8"
            ],
            [
             0.3333333333333333,
             "#9c179e"
            ],
            [
             0.4444444444444444,
             "#bd3786"
            ],
            [
             0.5555555555555556,
             "#d8576b"
            ],
            [
             0.6666666666666666,
             "#ed7953"
            ],
            [
             0.7777777777777778,
             "#fb9f3a"
            ],
            [
             0.8888888888888888,
             "#fdca26"
            ],
            [
             1,
             "#f0f921"
            ]
           ]
          },
          "colorway": [
           "#636efa",
           "#EF553B",
           "#00cc96",
           "#ab63fa",
           "#FFA15A",
           "#19d3f3",
           "#FF6692",
           "#B6E880",
           "#FF97FF",
           "#FECB52"
          ],
          "font": {
           "color": "#2a3f5f"
          },
          "geo": {
           "bgcolor": "white",
           "lakecolor": "white",
           "landcolor": "#E5ECF6",
           "showlakes": true,
           "showland": true,
           "subunitcolor": "white"
          },
          "hoverlabel": {
           "align": "left"
          },
          "hovermode": "closest",
          "mapbox": {
           "style": "light"
          },
          "paper_bgcolor": "white",
          "plot_bgcolor": "#E5ECF6",
          "polar": {
           "angularaxis": {
            "gridcolor": "white",
            "linecolor": "white",
            "ticks": ""
           },
           "bgcolor": "#E5ECF6",
           "radialaxis": {
            "gridcolor": "white",
            "linecolor": "white",
            "ticks": ""
           }
          },
          "scene": {
           "xaxis": {
            "backgroundcolor": "#E5ECF6",
            "gridcolor": "white",
            "gridwidth": 2,
            "linecolor": "white",
            "showbackground": true,
            "ticks": "",
            "zerolinecolor": "white"
           },
           "yaxis": {
            "backgroundcolor": "#E5ECF6",
            "gridcolor": "white",
            "gridwidth": 2,
            "linecolor": "white",
            "showbackground": true,
            "ticks": "",
            "zerolinecolor": "white"
           },
           "zaxis": {
            "backgroundcolor": "#E5ECF6",
            "gridcolor": "white",
            "gridwidth": 2,
            "linecolor": "white",
            "showbackground": true,
            "ticks": "",
            "zerolinecolor": "white"
           }
          },
          "shapedefaults": {
           "line": {
            "color": "#2a3f5f"
           }
          },
          "ternary": {
           "aaxis": {
            "gridcolor": "white",
            "linecolor": "white",
            "ticks": ""
           },
           "baxis": {
            "gridcolor": "white",
            "linecolor": "white",
            "ticks": ""
           },
           "bgcolor": "#E5ECF6",
           "caxis": {
            "gridcolor": "white",
            "linecolor": "white",
            "ticks": ""
           }
          },
          "title": {
           "x": 0.05
          },
          "xaxis": {
           "automargin": true,
           "gridcolor": "white",
           "linecolor": "white",
           "ticks": "",
           "title": {
            "standoff": 15
           },
           "zerolinecolor": "white",
           "zerolinewidth": 2
          },
          "yaxis": {
           "automargin": true,
           "gridcolor": "white",
           "linecolor": "white",
           "ticks": "",
           "title": {
            "standoff": 15
           },
           "zerolinecolor": "white",
           "zerolinewidth": 2
          }
         }
        },
        "title": {
         "text": "Top 10 Bowlers with Most Dot Balls (IPL)"
        },
        "xaxis": {
         "anchor": "y",
         "domain": [
          0,
          1
         ],
         "title": {
          "text": "Number of Dot Balls"
         }
        },
        "yaxis": {
         "anchor": "x",
         "categoryorder": "total ascending",
         "domain": [
          0,
          1
         ],
         "title": {
          "text": "Bowler"
         }
        }
       }
      }
     },
     "metadata": {},
     "output_type": "display_data"
    }
   ],
   "source": [
    "\n",
    "import plotly.express as px\n",
    "\n",
    "# Filter dot balls\n",
    "ipl_dot_balls = ipl_df[ipl_df['runs_batter'] == 0]\n",
    "\n",
    "# Group by bowler and count\n",
    "dot_balls_by_bowler = (\n",
    "    ipl_dot_balls.groupby('bowler')\n",
    "    .size()\n",
    "    .reset_index(name='dot_ball_count')\n",
    "    .sort_values(by='dot_ball_count', ascending=False)\n",
    "    .head(10)  # top 10 bowlers\n",
    ")\n",
    "\n",
    "# Plotly horizontal bar chart\n",
    "fig = px.bar(\n",
    "    dot_balls_by_bowler,\n",
    "    x='dot_ball_count',\n",
    "    y='bowler',\n",
    "    orientation='h',\n",
    "    title='Top 10 Bowlers with Most Dot Balls (IPL)',\n",
    "    labels={'dot_ball_count': 'Number of Dot Balls', 'bowler': 'Bowler'},\n",
    "    color='dot_ball_count',\n",
    "    color_continuous_scale='turbo',\n",
    ")\n",
    "\n",
    "fig.update_layout(yaxis={'categoryorder': 'total ascending'})\n",
    "fig.show()\n"
   ]
  },
  {
   "cell_type": "markdown",
   "metadata": {},
   "source": [
    "### ODI'S TABLE ANALYSIS"
   ]
  },
  {
   "cell_type": "markdown",
   "metadata": {},
   "source": [
    "#### 1. Identify consistent players who remained not out most often (possibly finishers or resilient top-order batters).\n"
   ]
  },
  {
   "cell_type": "code",
   "execution_count": 22,
   "metadata": {},
   "outputs": [
    {
     "data": {
      "application/vnd.plotly.v1+json": {
       "config": {
        "plotlyServerURL": "https://plot.ly"
       },
       "data": [
        {
         "hovertemplate": "batter=%{x}<br>not_out_matches=%{marker.color}<extra></extra>",
         "legendgroup": "",
         "marker": {
          "color": {
           "bdata": "HAEYARIBBgECAQEB4QDUANMA0AA=",
           "dtype": "i2"
          },
          "coloraxis": "coloraxis",
          "pattern": {
           "shape": ""
          }
         },
         "name": "",
         "orientation": "v",
         "showlegend": false,
         "textposition": "auto",
         "type": "bar",
         "x": [
          "V Kohli",
          "KC Sangakkara",
          "MS Dhoni",
          "DPMD Jayawardene",
          "RG Sharma",
          "TM Dilshan",
          "Mushfiqur Rahim",
          "AB de Villiers",
          "Tamim Iqbal",
          "EJG Morgan"
         ],
         "xaxis": "x",
         "y": {
          "bdata": "HAEYARIBBgECAQEB4QDUANMA0AA=",
          "dtype": "i2"
         },
         "yaxis": "y"
        }
       ],
       "layout": {
        "barmode": "relative",
        "coloraxis": {
         "colorbar": {
          "title": {
           "text": "not_out_matches"
          }
         },
         "colorscale": [
          [
           0,
           "#0d0887"
          ],
          [
           0.1111111111111111,
           "#46039f"
          ],
          [
           0.2222222222222222,
           "#7201a8"
          ],
          [
           0.3333333333333333,
           "#9c179e"
          ],
          [
           0.4444444444444444,
           "#bd3786"
          ],
          [
           0.5555555555555556,
           "#d8576b"
          ],
          [
           0.6666666666666666,
           "#ed7953"
          ],
          [
           0.7777777777777778,
           "#fb9f3a"
          ],
          [
           0.8888888888888888,
           "#fdca26"
          ],
          [
           1,
           "#f0f921"
          ]
         ]
        },
        "legend": {
         "tracegroupgap": 0
        },
        "template": {
         "data": {
          "bar": [
           {
            "error_x": {
             "color": "#2a3f5f"
            },
            "error_y": {
             "color": "#2a3f5f"
            },
            "marker": {
             "line": {
              "color": "#E5ECF6",
              "width": 0.5
             },
             "pattern": {
              "fillmode": "overlay",
              "size": 10,
              "solidity": 0.2
             }
            },
            "type": "bar"
           }
          ],
          "barpolar": [
           {
            "marker": {
             "line": {
              "color": "#E5ECF6",
              "width": 0.5
             },
             "pattern": {
              "fillmode": "overlay",
              "size": 10,
              "solidity": 0.2
             }
            },
            "type": "barpolar"
           }
          ],
          "carpet": [
           {
            "aaxis": {
             "endlinecolor": "#2a3f5f",
             "gridcolor": "white",
             "linecolor": "white",
             "minorgridcolor": "white",
             "startlinecolor": "#2a3f5f"
            },
            "baxis": {
             "endlinecolor": "#2a3f5f",
             "gridcolor": "white",
             "linecolor": "white",
             "minorgridcolor": "white",
             "startlinecolor": "#2a3f5f"
            },
            "type": "carpet"
           }
          ],
          "choropleth": [
           {
            "colorbar": {
             "outlinewidth": 0,
             "ticks": ""
            },
            "type": "choropleth"
           }
          ],
          "contour": [
           {
            "colorbar": {
             "outlinewidth": 0,
             "ticks": ""
            },
            "colorscale": [
             [
              0,
              "#0d0887"
             ],
             [
              0.1111111111111111,
              "#46039f"
             ],
             [
              0.2222222222222222,
              "#7201a8"
             ],
             [
              0.3333333333333333,
              "#9c179e"
             ],
             [
              0.4444444444444444,
              "#bd3786"
             ],
             [
              0.5555555555555556,
              "#d8576b"
             ],
             [
              0.6666666666666666,
              "#ed7953"
             ],
             [
              0.7777777777777778,
              "#fb9f3a"
             ],
             [
              0.8888888888888888,
              "#fdca26"
             ],
             [
              1,
              "#f0f921"
             ]
            ],
            "type": "contour"
           }
          ],
          "contourcarpet": [
           {
            "colorbar": {
             "outlinewidth": 0,
             "ticks": ""
            },
            "type": "contourcarpet"
           }
          ],
          "heatmap": [
           {
            "colorbar": {
             "outlinewidth": 0,
             "ticks": ""
            },
            "colorscale": [
             [
              0,
              "#0d0887"
             ],
             [
              0.1111111111111111,
              "#46039f"
             ],
             [
              0.2222222222222222,
              "#7201a8"
             ],
             [
              0.3333333333333333,
              "#9c179e"
             ],
             [
              0.4444444444444444,
              "#bd3786"
             ],
             [
              0.5555555555555556,
              "#d8576b"
             ],
             [
              0.6666666666666666,
              "#ed7953"
             ],
             [
              0.7777777777777778,
              "#fb9f3a"
             ],
             [
              0.8888888888888888,
              "#fdca26"
             ],
             [
              1,
              "#f0f921"
             ]
            ],
            "type": "heatmap"
           }
          ],
          "histogram": [
           {
            "marker": {
             "pattern": {
              "fillmode": "overlay",
              "size": 10,
              "solidity": 0.2
             }
            },
            "type": "histogram"
           }
          ],
          "histogram2d": [
           {
            "colorbar": {
             "outlinewidth": 0,
             "ticks": ""
            },
            "colorscale": [
             [
              0,
              "#0d0887"
             ],
             [
              0.1111111111111111,
              "#46039f"
             ],
             [
              0.2222222222222222,
              "#7201a8"
             ],
             [
              0.3333333333333333,
              "#9c179e"
             ],
             [
              0.4444444444444444,
              "#bd3786"
             ],
             [
              0.5555555555555556,
              "#d8576b"
             ],
             [
              0.6666666666666666,
              "#ed7953"
             ],
             [
              0.7777777777777778,
              "#fb9f3a"
             ],
             [
              0.8888888888888888,
              "#fdca26"
             ],
             [
              1,
              "#f0f921"
             ]
            ],
            "type": "histogram2d"
           }
          ],
          "histogram2dcontour": [
           {
            "colorbar": {
             "outlinewidth": 0,
             "ticks": ""
            },
            "colorscale": [
             [
              0,
              "#0d0887"
             ],
             [
              0.1111111111111111,
              "#46039f"
             ],
             [
              0.2222222222222222,
              "#7201a8"
             ],
             [
              0.3333333333333333,
              "#9c179e"
             ],
             [
              0.4444444444444444,
              "#bd3786"
             ],
             [
              0.5555555555555556,
              "#d8576b"
             ],
             [
              0.6666666666666666,
              "#ed7953"
             ],
             [
              0.7777777777777778,
              "#fb9f3a"
             ],
             [
              0.8888888888888888,
              "#fdca26"
             ],
             [
              1,
              "#f0f921"
             ]
            ],
            "type": "histogram2dcontour"
           }
          ],
          "mesh3d": [
           {
            "colorbar": {
             "outlinewidth": 0,
             "ticks": ""
            },
            "type": "mesh3d"
           }
          ],
          "parcoords": [
           {
            "line": {
             "colorbar": {
              "outlinewidth": 0,
              "ticks": ""
             }
            },
            "type": "parcoords"
           }
          ],
          "pie": [
           {
            "automargin": true,
            "type": "pie"
           }
          ],
          "scatter": [
           {
            "fillpattern": {
             "fillmode": "overlay",
             "size": 10,
             "solidity": 0.2
            },
            "type": "scatter"
           }
          ],
          "scatter3d": [
           {
            "line": {
             "colorbar": {
              "outlinewidth": 0,
              "ticks": ""
             }
            },
            "marker": {
             "colorbar": {
              "outlinewidth": 0,
              "ticks": ""
             }
            },
            "type": "scatter3d"
           }
          ],
          "scattercarpet": [
           {
            "marker": {
             "colorbar": {
              "outlinewidth": 0,
              "ticks": ""
             }
            },
            "type": "scattercarpet"
           }
          ],
          "scattergeo": [
           {
            "marker": {
             "colorbar": {
              "outlinewidth": 0,
              "ticks": ""
             }
            },
            "type": "scattergeo"
           }
          ],
          "scattergl": [
           {
            "marker": {
             "colorbar": {
              "outlinewidth": 0,
              "ticks": ""
             }
            },
            "type": "scattergl"
           }
          ],
          "scattermap": [
           {
            "marker": {
             "colorbar": {
              "outlinewidth": 0,
              "ticks": ""
             }
            },
            "type": "scattermap"
           }
          ],
          "scattermapbox": [
           {
            "marker": {
             "colorbar": {
              "outlinewidth": 0,
              "ticks": ""
             }
            },
            "type": "scattermapbox"
           }
          ],
          "scatterpolar": [
           {
            "marker": {
             "colorbar": {
              "outlinewidth": 0,
              "ticks": ""
             }
            },
            "type": "scatterpolar"
           }
          ],
          "scatterpolargl": [
           {
            "marker": {
             "colorbar": {
              "outlinewidth": 0,
              "ticks": ""
             }
            },
            "type": "scatterpolargl"
           }
          ],
          "scatterternary": [
           {
            "marker": {
             "colorbar": {
              "outlinewidth": 0,
              "ticks": ""
             }
            },
            "type": "scatterternary"
           }
          ],
          "surface": [
           {
            "colorbar": {
             "outlinewidth": 0,
             "ticks": ""
            },
            "colorscale": [
             [
              0,
              "#0d0887"
             ],
             [
              0.1111111111111111,
              "#46039f"
             ],
             [
              0.2222222222222222,
              "#7201a8"
             ],
             [
              0.3333333333333333,
              "#9c179e"
             ],
             [
              0.4444444444444444,
              "#bd3786"
             ],
             [
              0.5555555555555556,
              "#d8576b"
             ],
             [
              0.6666666666666666,
              "#ed7953"
             ],
             [
              0.7777777777777778,
              "#fb9f3a"
             ],
             [
              0.8888888888888888,
              "#fdca26"
             ],
             [
              1,
              "#f0f921"
             ]
            ],
            "type": "surface"
           }
          ],
          "table": [
           {
            "cells": {
             "fill": {
              "color": "#EBF0F8"
             },
             "line": {
              "color": "white"
             }
            },
            "header": {
             "fill": {
              "color": "#C8D4E3"
             },
             "line": {
              "color": "white"
             }
            },
            "type": "table"
           }
          ]
         },
         "layout": {
          "annotationdefaults": {
           "arrowcolor": "#2a3f5f",
           "arrowhead": 0,
           "arrowwidth": 1
          },
          "autotypenumbers": "strict",
          "coloraxis": {
           "colorbar": {
            "outlinewidth": 0,
            "ticks": ""
           }
          },
          "colorscale": {
           "diverging": [
            [
             0,
             "#8e0152"
            ],
            [
             0.1,
             "#c51b7d"
            ],
            [
             0.2,
             "#de77ae"
            ],
            [
             0.3,
             "#f1b6da"
            ],
            [
             0.4,
             "#fde0ef"
            ],
            [
             0.5,
             "#f7f7f7"
            ],
            [
             0.6,
             "#e6f5d0"
            ],
            [
             0.7,
             "#b8e186"
            ],
            [
             0.8,
             "#7fbc41"
            ],
            [
             0.9,
             "#4d9221"
            ],
            [
             1,
             "#276419"
            ]
           ],
           "sequential": [
            [
             0,
             "#0d0887"
            ],
            [
             0.1111111111111111,
             "#46039f"
            ],
            [
             0.2222222222222222,
             "#7201a8"
            ],
            [
             0.3333333333333333,
             "#9c179e"
            ],
            [
             0.4444444444444444,
             "#bd3786"
            ],
            [
             0.5555555555555556,
             "#d8576b"
            ],
            [
             0.6666666666666666,
             "#ed7953"
            ],
            [
             0.7777777777777778,
             "#fb9f3a"
            ],
            [
             0.8888888888888888,
             "#fdca26"
            ],
            [
             1,
             "#f0f921"
            ]
           ],
           "sequentialminus": [
            [
             0,
             "#0d0887"
            ],
            [
             0.1111111111111111,
             "#46039f"
            ],
            [
             0.2222222222222222,
             "#7201a8"
            ],
            [
             0.3333333333333333,
             "#9c179e"
            ],
            [
             0.4444444444444444,
             "#bd3786"
            ],
            [
             0.5555555555555556,
             "#d8576b"
            ],
            [
             0.6666666666666666,
             "#ed7953"
            ],
            [
             0.7777777777777778,
             "#fb9f3a"
            ],
            [
             0.8888888888888888,
             "#fdca26"
            ],
            [
             1,
             "#f0f921"
            ]
           ]
          },
          "colorway": [
           "#636efa",
           "#EF553B",
           "#00cc96",
           "#ab63fa",
           "#FFA15A",
           "#19d3f3",
           "#FF6692",
           "#B6E880",
           "#FF97FF",
           "#FECB52"
          ],
          "font": {
           "color": "#2a3f5f"
          },
          "geo": {
           "bgcolor": "white",
           "lakecolor": "white",
           "landcolor": "#E5ECF6",
           "showlakes": true,
           "showland": true,
           "subunitcolor": "white"
          },
          "hoverlabel": {
           "align": "left"
          },
          "hovermode": "closest",
          "mapbox": {
           "style": "light"
          },
          "paper_bgcolor": "white",
          "plot_bgcolor": "#E5ECF6",
          "polar": {
           "angularaxis": {
            "gridcolor": "white",
            "linecolor": "white",
            "ticks": ""
           },
           "bgcolor": "#E5ECF6",
           "radialaxis": {
            "gridcolor": "white",
            "linecolor": "white",
            "ticks": ""
           }
          },
          "scene": {
           "xaxis": {
            "backgroundcolor": "#E5ECF6",
            "gridcolor": "white",
            "gridwidth": 2,
            "linecolor": "white",
            "showbackground": true,
            "ticks": "",
            "zerolinecolor": "white"
           },
           "yaxis": {
            "backgroundcolor": "#E5ECF6",
            "gridcolor": "white",
            "gridwidth": 2,
            "linecolor": "white",
            "showbackground": true,
            "ticks": "",
            "zerolinecolor": "white"
           },
           "zaxis": {
            "backgroundcolor": "#E5ECF6",
            "gridcolor": "white",
            "gridwidth": 2,
            "linecolor": "white",
            "showbackground": true,
            "ticks": "",
            "zerolinecolor": "white"
           }
          },
          "shapedefaults": {
           "line": {
            "color": "#2a3f5f"
           }
          },
          "ternary": {
           "aaxis": {
            "gridcolor": "white",
            "linecolor": "white",
            "ticks": ""
           },
           "baxis": {
            "gridcolor": "white",
            "linecolor": "white",
            "ticks": ""
           },
           "bgcolor": "#E5ECF6",
           "caxis": {
            "gridcolor": "white",
            "linecolor": "white",
            "ticks": ""
           }
          },
          "title": {
           "x": 0.05
          },
          "xaxis": {
           "automargin": true,
           "gridcolor": "white",
           "linecolor": "white",
           "ticks": "",
           "title": {
            "standoff": 15
           },
           "zerolinecolor": "white",
           "zerolinewidth": 2
          },
          "yaxis": {
           "automargin": true,
           "gridcolor": "white",
           "linecolor": "white",
           "ticks": "",
           "title": {
            "standoff": 15
           },
           "zerolinecolor": "white",
           "zerolinewidth": 2
          }
         }
        },
        "title": {
         "text": "Top 10 Batters with Most Not-Out Matches in ODIs"
        },
        "xaxis": {
         "anchor": "y",
         "domain": [
          0,
          1
         ],
         "title": {
          "text": "batter"
         }
        },
        "yaxis": {
         "anchor": "x",
         "domain": [
          0,
          1
         ],
         "title": {
          "text": "not_out_matches"
         }
        }
       }
      }
     },
     "metadata": {},
     "output_type": "display_data"
    }
   ],
   "source": [
    "not_out_matches = (\n",
    "    odis_df[odis_df['player_out'] == 'None']\n",
    "    .drop_duplicates(subset=['match_date', 'venue', 'batter'])  # One row per match per batter\n",
    "    .groupby('batter')\n",
    "    .size()\n",
    "    .reset_index(name='not_out_matches')\n",
    "    .sort_values(by='not_out_matches', ascending=False)\n",
    "    .head(10)\n",
    ")\n",
    "\n",
    "fig = px.bar(\n",
    "    not_out_matches,\n",
    "    x='batter',\n",
    "    y='not_out_matches',\n",
    "    title='Top 10 Batters with Most Not-Out Matches in ODIs',\n",
    "    color='not_out_matches'\n",
    ")\n",
    "fig.show()\n"
   ]
  },
  {
   "cell_type": "markdown",
   "metadata": {},
   "source": [
    "#### 2. Overs Analysis: Most Productive Overs in ODIs\n",
    "      - Insight:To Identify which over number consistently produces the most runs."
   ]
  },
  {
   "cell_type": "code",
   "execution_count": 25,
   "metadata": {},
   "outputs": [
    {
     "data": {
      "application/vnd.plotly.v1+json": {
       "config": {
        "plotlyServerURL": "https://plot.ly"
       },
       "data": [
        {
         "hovertemplate": "overs=%{x}<br>average_runs=%{marker.color}<extra></extra>",
         "legendgroup": "",
         "marker": {
          "color": {
           "bdata": "Z2Rva3HZ4j/iF/Uib93lPzIP5ruZruY/WDUfe1446D/0zK0lGuLoP4Nkh0R5gOk//gp0lnjM6D+MTySyzanpP4sJXyeOrOg/YK6qu6Ac6T/kafjVApnnP+dbG1dcuOc/+TKucUqK5z+lNvoYXc/nP/+kUpOtS+g/j3dbok625z+opNkTOZTnP15O7yyzYOc/VOY7dJvq5z8pMTqxmDroP43Kv+X4L+g/MrZufnz85z9dvSLsZe3oP/b7E5+6pug/RkADJTno6D9/JvEhINvoPyh6b4keLek/+W6XhLhG6T/TevwjSVvpP0DCTy5E3ek/qGqUNsN26T8DbT+Fv/rpP/ur7sGJnOk/netubFVF6j+wi0616p3qP0gi0TiMTus/Jj1sk7J37D85QqCGDNXsPwwM6maD3Ow/whPFCbnF7T8qvlZzVr3tP6t4kWme8O4/tf4ytT858D8U9f+VDeHwPw5RySzAffE/eJXIjet98j+/zlnubxfzPx66lJ6s3PQ/v6Y2JrQs9j894OE3AJT4Pw==",
           "dtype": "f8"
          },
          "coloraxis": "coloraxis",
          "pattern": {
           "shape": ""
          }
         },
         "name": "",
         "orientation": "v",
         "showlegend": false,
         "textposition": "auto",
         "type": "bar",
         "x": {
          "bdata": "AAECAwQFBgcICQoLDA0ODxAREhMUFRYXGBkaGxwdHh8gISIjJCUmJygpKissLS4vMDE=",
          "dtype": "i1"
         },
         "xaxis": "x",
         "y": {
          "bdata": "Z2Rva3HZ4j/iF/Uib93lPzIP5ruZruY/WDUfe1446D/0zK0lGuLoP4Nkh0R5gOk//gp0lnjM6D+MTySyzanpP4sJXyeOrOg/YK6qu6Ac6T/kafjVApnnP+dbG1dcuOc/+TKucUqK5z+lNvoYXc/nP/+kUpOtS+g/j3dbok625z+opNkTOZTnP15O7yyzYOc/VOY7dJvq5z8pMTqxmDroP43Kv+X4L+g/MrZufnz85z9dvSLsZe3oP/b7E5+6pug/RkADJTno6D9/JvEhINvoPyh6b4keLek/+W6XhLhG6T/TevwjSVvpP0DCTy5E3ek/qGqUNsN26T8DbT+Fv/rpP/ur7sGJnOk/netubFVF6j+wi0616p3qP0gi0TiMTus/Jj1sk7J37D85QqCGDNXsPwwM6maD3Ow/whPFCbnF7T8qvlZzVr3tP6t4kWme8O4/tf4ytT858D8U9f+VDeHwPw5RySzAffE/eJXIjet98j+/zlnubxfzPx66lJ6s3PQ/v6Y2JrQs9j894OE3AJT4Pw==",
          "dtype": "f8"
         },
         "yaxis": "y"
        }
       ],
       "layout": {
        "bargap": 0.2,
        "barmode": "relative",
        "coloraxis": {
         "colorbar": {
          "title": {
           "text": "average_runs"
          }
         },
         "colorscale": [
          [
           0,
           "#440154"
          ],
          [
           0.1111111111111111,
           "#482878"
          ],
          [
           0.2222222222222222,
           "#3e4989"
          ],
          [
           0.3333333333333333,
           "#31688e"
          ],
          [
           0.4444444444444444,
           "#26828e"
          ],
          [
           0.5555555555555556,
           "#1f9e89"
          ],
          [
           0.6666666666666666,
           "#35b779"
          ],
          [
           0.7777777777777778,
           "#6ece58"
          ],
          [
           0.8888888888888888,
           "#b5de2b"
          ],
          [
           1,
           "#fde725"
          ]
         ]
        },
        "legend": {
         "tracegroupgap": 0
        },
        "template": {
         "data": {
          "bar": [
           {
            "error_x": {
             "color": "#2a3f5f"
            },
            "error_y": {
             "color": "#2a3f5f"
            },
            "marker": {
             "line": {
              "color": "#E5ECF6",
              "width": 0.5
             },
             "pattern": {
              "fillmode": "overlay",
              "size": 10,
              "solidity": 0.2
             }
            },
            "type": "bar"
           }
          ],
          "barpolar": [
           {
            "marker": {
             "line": {
              "color": "#E5ECF6",
              "width": 0.5
             },
             "pattern": {
              "fillmode": "overlay",
              "size": 10,
              "solidity": 0.2
             }
            },
            "type": "barpolar"
           }
          ],
          "carpet": [
           {
            "aaxis": {
             "endlinecolor": "#2a3f5f",
             "gridcolor": "white",
             "linecolor": "white",
             "minorgridcolor": "white",
             "startlinecolor": "#2a3f5f"
            },
            "baxis": {
             "endlinecolor": "#2a3f5f",
             "gridcolor": "white",
             "linecolor": "white",
             "minorgridcolor": "white",
             "startlinecolor": "#2a3f5f"
            },
            "type": "carpet"
           }
          ],
          "choropleth": [
           {
            "colorbar": {
             "outlinewidth": 0,
             "ticks": ""
            },
            "type": "choropleth"
           }
          ],
          "contour": [
           {
            "colorbar": {
             "outlinewidth": 0,
             "ticks": ""
            },
            "colorscale": [
             [
              0,
              "#0d0887"
             ],
             [
              0.1111111111111111,
              "#46039f"
             ],
             [
              0.2222222222222222,
              "#7201a8"
             ],
             [
              0.3333333333333333,
              "#9c179e"
             ],
             [
              0.4444444444444444,
              "#bd3786"
             ],
             [
              0.5555555555555556,
              "#d8576b"
             ],
             [
              0.6666666666666666,
              "#ed7953"
             ],
             [
              0.7777777777777778,
              "#fb9f3a"
             ],
             [
              0.8888888888888888,
              "#fdca26"
             ],
             [
              1,
              "#f0f921"
             ]
            ],
            "type": "contour"
           }
          ],
          "contourcarpet": [
           {
            "colorbar": {
             "outlinewidth": 0,
             "ticks": ""
            },
            "type": "contourcarpet"
           }
          ],
          "heatmap": [
           {
            "colorbar": {
             "outlinewidth": 0,
             "ticks": ""
            },
            "colorscale": [
             [
              0,
              "#0d0887"
             ],
             [
              0.1111111111111111,
              "#46039f"
             ],
             [
              0.2222222222222222,
              "#7201a8"
             ],
             [
              0.3333333333333333,
              "#9c179e"
             ],
             [
              0.4444444444444444,
              "#bd3786"
             ],
             [
              0.5555555555555556,
              "#d8576b"
             ],
             [
              0.6666666666666666,
              "#ed7953"
             ],
             [
              0.7777777777777778,
              "#fb9f3a"
             ],
             [
              0.8888888888888888,
              "#fdca26"
             ],
             [
              1,
              "#f0f921"
             ]
            ],
            "type": "heatmap"
           }
          ],
          "histogram": [
           {
            "marker": {
             "pattern": {
              "fillmode": "overlay",
              "size": 10,
              "solidity": 0.2
             }
            },
            "type": "histogram"
           }
          ],
          "histogram2d": [
           {
            "colorbar": {
             "outlinewidth": 0,
             "ticks": ""
            },
            "colorscale": [
             [
              0,
              "#0d0887"
             ],
             [
              0.1111111111111111,
              "#46039f"
             ],
             [
              0.2222222222222222,
              "#7201a8"
             ],
             [
              0.3333333333333333,
              "#9c179e"
             ],
             [
              0.4444444444444444,
              "#bd3786"
             ],
             [
              0.5555555555555556,
              "#d8576b"
             ],
             [
              0.6666666666666666,
              "#ed7953"
             ],
             [
              0.7777777777777778,
              "#fb9f3a"
             ],
             [
              0.8888888888888888,
              "#fdca26"
             ],
             [
              1,
              "#f0f921"
             ]
            ],
            "type": "histogram2d"
           }
          ],
          "histogram2dcontour": [
           {
            "colorbar": {
             "outlinewidth": 0,
             "ticks": ""
            },
            "colorscale": [
             [
              0,
              "#0d0887"
             ],
             [
              0.1111111111111111,
              "#46039f"
             ],
             [
              0.2222222222222222,
              "#7201a8"
             ],
             [
              0.3333333333333333,
              "#9c179e"
             ],
             [
              0.4444444444444444,
              "#bd3786"
             ],
             [
              0.5555555555555556,
              "#d8576b"
             ],
             [
              0.6666666666666666,
              "#ed7953"
             ],
             [
              0.7777777777777778,
              "#fb9f3a"
             ],
             [
              0.8888888888888888,
              "#fdca26"
             ],
             [
              1,
              "#f0f921"
             ]
            ],
            "type": "histogram2dcontour"
           }
          ],
          "mesh3d": [
           {
            "colorbar": {
             "outlinewidth": 0,
             "ticks": ""
            },
            "type": "mesh3d"
           }
          ],
          "parcoords": [
           {
            "line": {
             "colorbar": {
              "outlinewidth": 0,
              "ticks": ""
             }
            },
            "type": "parcoords"
           }
          ],
          "pie": [
           {
            "automargin": true,
            "type": "pie"
           }
          ],
          "scatter": [
           {
            "fillpattern": {
             "fillmode": "overlay",
             "size": 10,
             "solidity": 0.2
            },
            "type": "scatter"
           }
          ],
          "scatter3d": [
           {
            "line": {
             "colorbar": {
              "outlinewidth": 0,
              "ticks": ""
             }
            },
            "marker": {
             "colorbar": {
              "outlinewidth": 0,
              "ticks": ""
             }
            },
            "type": "scatter3d"
           }
          ],
          "scattercarpet": [
           {
            "marker": {
             "colorbar": {
              "outlinewidth": 0,
              "ticks": ""
             }
            },
            "type": "scattercarpet"
           }
          ],
          "scattergeo": [
           {
            "marker": {
             "colorbar": {
              "outlinewidth": 0,
              "ticks": ""
             }
            },
            "type": "scattergeo"
           }
          ],
          "scattergl": [
           {
            "marker": {
             "colorbar": {
              "outlinewidth": 0,
              "ticks": ""
             }
            },
            "type": "scattergl"
           }
          ],
          "scattermap": [
           {
            "marker": {
             "colorbar": {
              "outlinewidth": 0,
              "ticks": ""
             }
            },
            "type": "scattermap"
           }
          ],
          "scattermapbox": [
           {
            "marker": {
             "colorbar": {
              "outlinewidth": 0,
              "ticks": ""
             }
            },
            "type": "scattermapbox"
           }
          ],
          "scatterpolar": [
           {
            "marker": {
             "colorbar": {
              "outlinewidth": 0,
              "ticks": ""
             }
            },
            "type": "scatterpolar"
           }
          ],
          "scatterpolargl": [
           {
            "marker": {
             "colorbar": {
              "outlinewidth": 0,
              "ticks": ""
             }
            },
            "type": "scatterpolargl"
           }
          ],
          "scatterternary": [
           {
            "marker": {
             "colorbar": {
              "outlinewidth": 0,
              "ticks": ""
             }
            },
            "type": "scatterternary"
           }
          ],
          "surface": [
           {
            "colorbar": {
             "outlinewidth": 0,
             "ticks": ""
            },
            "colorscale": [
             [
              0,
              "#0d0887"
             ],
             [
              0.1111111111111111,
              "#46039f"
             ],
             [
              0.2222222222222222,
              "#7201a8"
             ],
             [
              0.3333333333333333,
              "#9c179e"
             ],
             [
              0.4444444444444444,
              "#bd3786"
             ],
             [
              0.5555555555555556,
              "#d8576b"
             ],
             [
              0.6666666666666666,
              "#ed7953"
             ],
             [
              0.7777777777777778,
              "#fb9f3a"
             ],
             [
              0.8888888888888888,
              "#fdca26"
             ],
             [
              1,
              "#f0f921"
             ]
            ],
            "type": "surface"
           }
          ],
          "table": [
           {
            "cells": {
             "fill": {
              "color": "#EBF0F8"
             },
             "line": {
              "color": "white"
             }
            },
            "header": {
             "fill": {
              "color": "#C8D4E3"
             },
             "line": {
              "color": "white"
             }
            },
            "type": "table"
           }
          ]
         },
         "layout": {
          "annotationdefaults": {
           "arrowcolor": "#2a3f5f",
           "arrowhead": 0,
           "arrowwidth": 1
          },
          "autotypenumbers": "strict",
          "coloraxis": {
           "colorbar": {
            "outlinewidth": 0,
            "ticks": ""
           }
          },
          "colorscale": {
           "diverging": [
            [
             0,
             "#8e0152"
            ],
            [
             0.1,
             "#c51b7d"
            ],
            [
             0.2,
             "#de77ae"
            ],
            [
             0.3,
             "#f1b6da"
            ],
            [
             0.4,
             "#fde0ef"
            ],
            [
             0.5,
             "#f7f7f7"
            ],
            [
             0.6,
             "#e6f5d0"
            ],
            [
             0.7,
             "#b8e186"
            ],
            [
             0.8,
             "#7fbc41"
            ],
            [
             0.9,
             "#4d9221"
            ],
            [
             1,
             "#276419"
            ]
           ],
           "sequential": [
            [
             0,
             "#0d0887"
            ],
            [
             0.1111111111111111,
             "#46039f"
            ],
            [
             0.2222222222222222,
             "#7201a8"
            ],
            [
             0.3333333333333333,
             "#9c179e"
            ],
            [
             0.4444444444444444,
             "#bd3786"
            ],
            [
             0.5555555555555556,
             "#d8576b"
            ],
            [
             0.6666666666666666,
             "#ed7953"
            ],
            [
             0.7777777777777778,
             "#fb9f3a"
            ],
            [
             0.8888888888888888,
             "#fdca26"
            ],
            [
             1,
             "#f0f921"
            ]
           ],
           "sequentialminus": [
            [
             0,
             "#0d0887"
            ],
            [
             0.1111111111111111,
             "#46039f"
            ],
            [
             0.2222222222222222,
             "#7201a8"
            ],
            [
             0.3333333333333333,
             "#9c179e"
            ],
            [
             0.4444444444444444,
             "#bd3786"
            ],
            [
             0.5555555555555556,
             "#d8576b"
            ],
            [
             0.6666666666666666,
             "#ed7953"
            ],
            [
             0.7777777777777778,
             "#fb9f3a"
            ],
            [
             0.8888888888888888,
             "#fdca26"
            ],
            [
             1,
             "#f0f921"
            ]
           ]
          },
          "colorway": [
           "#636efa",
           "#EF553B",
           "#00cc96",
           "#ab63fa",
           "#FFA15A",
           "#19d3f3",
           "#FF6692",
           "#B6E880",
           "#FF97FF",
           "#FECB52"
          ],
          "font": {
           "color": "#2a3f5f"
          },
          "geo": {
           "bgcolor": "white",
           "lakecolor": "white",
           "landcolor": "#E5ECF6",
           "showlakes": true,
           "showland": true,
           "subunitcolor": "white"
          },
          "hoverlabel": {
           "align": "left"
          },
          "hovermode": "closest",
          "mapbox": {
           "style": "light"
          },
          "paper_bgcolor": "white",
          "plot_bgcolor": "#E5ECF6",
          "polar": {
           "angularaxis": {
            "gridcolor": "white",
            "linecolor": "white",
            "ticks": ""
           },
           "bgcolor": "#E5ECF6",
           "radialaxis": {
            "gridcolor": "white",
            "linecolor": "white",
            "ticks": ""
           }
          },
          "scene": {
           "xaxis": {
            "backgroundcolor": "#E5ECF6",
            "gridcolor": "white",
            "gridwidth": 2,
            "linecolor": "white",
            "showbackground": true,
            "ticks": "",
            "zerolinecolor": "white"
           },
           "yaxis": {
            "backgroundcolor": "#E5ECF6",
            "gridcolor": "white",
            "gridwidth": 2,
            "linecolor": "white",
            "showbackground": true,
            "ticks": "",
            "zerolinecolor": "white"
           },
           "zaxis": {
            "backgroundcolor": "#E5ECF6",
            "gridcolor": "white",
            "gridwidth": 2,
            "linecolor": "white",
            "showbackground": true,
            "ticks": "",
            "zerolinecolor": "white"
           }
          },
          "shapedefaults": {
           "line": {
            "color": "#2a3f5f"
           }
          },
          "ternary": {
           "aaxis": {
            "gridcolor": "white",
            "linecolor": "white",
            "ticks": ""
           },
           "baxis": {
            "gridcolor": "white",
            "linecolor": "white",
            "ticks": ""
           },
           "bgcolor": "#E5ECF6",
           "caxis": {
            "gridcolor": "white",
            "linecolor": "white",
            "ticks": ""
           }
          },
          "title": {
           "x": 0.05
          },
          "xaxis": {
           "automargin": true,
           "gridcolor": "white",
           "linecolor": "white",
           "ticks": "",
           "title": {
            "standoff": 15
           },
           "zerolinecolor": "white",
           "zerolinewidth": 2
          },
          "yaxis": {
           "automargin": true,
           "gridcolor": "white",
           "linecolor": "white",
           "ticks": "",
           "title": {
            "standoff": 15
           },
           "zerolinecolor": "white",
           "zerolinewidth": 2
          }
         }
        },
        "title": {
         "text": "Average Runs Scored Per Over (ODIs)"
        },
        "xaxis": {
         "anchor": "y",
         "domain": [
          0,
          1
         ],
         "title": {
          "text": "Over Number"
         }
        },
        "yaxis": {
         "anchor": "x",
         "domain": [
          0,
          1
         ],
         "title": {
          "text": "Average Runs"
         }
        }
       }
      }
     },
     "metadata": {},
     "output_type": "display_data"
    }
   ],
   "source": [
    "avg_runs_per_over = (\n",
    "    odis_df.groupby('overs')['runs_total']\n",
    "    .mean()\n",
    "    .reset_index(name='average_runs')\n",
    "    .sort_values(by='overs')\n",
    ")\n",
    "\n",
    "# Step 2: Use Plotly Bar Chart (non-line version)\n",
    "fig = px.bar(\n",
    "    avg_runs_per_over,\n",
    "    x='overs',\n",
    "    y='average_runs',\n",
    "    color='average_runs',\n",
    "    color_continuous_scale='Viridis',\n",
    "    title='Average Runs Scored Per Over (ODIs)'\n",
    ")\n",
    "\n",
    "fig.update_layout(\n",
    "    xaxis_title='Over Number',\n",
    "    yaxis_title='Average Runs',\n",
    "    bargap=0.2\n",
    ")\n",
    "\n",
    "fig.show()"
   ]
  },
  {
   "cell_type": "markdown",
   "metadata": {},
   "source": [
    "####  3. Team-wise Total Runs Scored in ODIs\n",
    "- Insight: Compare team-wise batting performance based on total runs scored across all balls."
   ]
  },
  {
   "cell_type": "code",
   "execution_count": 35,
   "metadata": {},
   "outputs": [
    {
     "data": {
      "application/vnd.plotly.v1+json": {
       "config": {
        "plotlyServerURL": "https://plot.ly"
       },
       "data": [
        {
         "hovertemplate": "batting_team=%{x}<br>runs_total=%{marker.color}<extra></extra>",
         "legendgroup": "",
         "marker": {
          "color": {
           "bdata": "3z0CAL0ZAgAS8wEAMc8BAGbAAQACrwEAhqIBAIJxAQBpHgEAxOMAALWMAABPVwAABU4AAKBFAADIOQAARDMAADMwAAByLQAA0CwAALAnAADpGwAADAwAAEQHAABNBgAAuwQAAA==",
           "dtype": "i4"
          },
          "coloraxis": "coloraxis",
          "pattern": {
           "shape": ""
          }
         },
         "name": "",
         "orientation": "v",
         "showlegend": false,
         "textposition": "auto",
         "type": "bar",
         "x": [
          "India",
          "Australia",
          "England",
          "Sri Lanka",
          "South Africa",
          "Pakistan",
          "New Zealand",
          "West Indies",
          "Bangladesh",
          "Zimbabwe",
          "Ireland",
          "Scotland",
          "United Arab Emirates",
          "Netherlands",
          "United States of America",
          "Nepal",
          "Namibia",
          "Papua New Guinea",
          "Oman",
          "Canada",
          "Kenya",
          "Hong Kong",
          "Bermuda",
          "Thailand",
          "Africa XI"
         ],
         "xaxis": "x",
         "y": {
          "bdata": "3z0CAL0ZAgAS8wEAMc8BAGbAAQACrwEAhqIBAIJxAQBpHgEAxOMAALWMAABPVwAABU4AAKBFAADIOQAARDMAADMwAAByLQAA0CwAALAnAADpGwAADAwAAEQHAABNBgAAuwQAAA==",
          "dtype": "i4"
         },
         "yaxis": "y"
        }
       ],
       "layout": {
        "barmode": "relative",
        "coloraxis": {
         "colorbar": {
          "title": {
           "text": "runs_total"
          }
         },
         "colorscale": [
          [
           0,
           "#0d0887"
          ],
          [
           0.1111111111111111,
           "#46039f"
          ],
          [
           0.2222222222222222,
           "#7201a8"
          ],
          [
           0.3333333333333333,
           "#9c179e"
          ],
          [
           0.4444444444444444,
           "#bd3786"
          ],
          [
           0.5555555555555556,
           "#d8576b"
          ],
          [
           0.6666666666666666,
           "#ed7953"
          ],
          [
           0.7777777777777778,
           "#fb9f3a"
          ],
          [
           0.8888888888888888,
           "#fdca26"
          ],
          [
           1,
           "#f0f921"
          ]
         ]
        },
        "legend": {
         "tracegroupgap": 0
        },
        "template": {
         "data": {
          "bar": [
           {
            "error_x": {
             "color": "#2a3f5f"
            },
            "error_y": {
             "color": "#2a3f5f"
            },
            "marker": {
             "line": {
              "color": "#E5ECF6",
              "width": 0.5
             },
             "pattern": {
              "fillmode": "overlay",
              "size": 10,
              "solidity": 0.2
             }
            },
            "type": "bar"
           }
          ],
          "barpolar": [
           {
            "marker": {
             "line": {
              "color": "#E5ECF6",
              "width": 0.5
             },
             "pattern": {
              "fillmode": "overlay",
              "size": 10,
              "solidity": 0.2
             }
            },
            "type": "barpolar"
           }
          ],
          "carpet": [
           {
            "aaxis": {
             "endlinecolor": "#2a3f5f",
             "gridcolor": "white",
             "linecolor": "white",
             "minorgridcolor": "white",
             "startlinecolor": "#2a3f5f"
            },
            "baxis": {
             "endlinecolor": "#2a3f5f",
             "gridcolor": "white",
             "linecolor": "white",
             "minorgridcolor": "white",
             "startlinecolor": "#2a3f5f"
            },
            "type": "carpet"
           }
          ],
          "choropleth": [
           {
            "colorbar": {
             "outlinewidth": 0,
             "ticks": ""
            },
            "type": "choropleth"
           }
          ],
          "contour": [
           {
            "colorbar": {
             "outlinewidth": 0,
             "ticks": ""
            },
            "colorscale": [
             [
              0,
              "#0d0887"
             ],
             [
              0.1111111111111111,
              "#46039f"
             ],
             [
              0.2222222222222222,
              "#7201a8"
             ],
             [
              0.3333333333333333,
              "#9c179e"
             ],
             [
              0.4444444444444444,
              "#bd3786"
             ],
             [
              0.5555555555555556,
              "#d8576b"
             ],
             [
              0.6666666666666666,
              "#ed7953"
             ],
             [
              0.7777777777777778,
              "#fb9f3a"
             ],
             [
              0.8888888888888888,
              "#fdca26"
             ],
             [
              1,
              "#f0f921"
             ]
            ],
            "type": "contour"
           }
          ],
          "contourcarpet": [
           {
            "colorbar": {
             "outlinewidth": 0,
             "ticks": ""
            },
            "type": "contourcarpet"
           }
          ],
          "heatmap": [
           {
            "colorbar": {
             "outlinewidth": 0,
             "ticks": ""
            },
            "colorscale": [
             [
              0,
              "#0d0887"
             ],
             [
              0.1111111111111111,
              "#46039f"
             ],
             [
              0.2222222222222222,
              "#7201a8"
             ],
             [
              0.3333333333333333,
              "#9c179e"
             ],
             [
              0.4444444444444444,
              "#bd3786"
             ],
             [
              0.5555555555555556,
              "#d8576b"
             ],
             [
              0.6666666666666666,
              "#ed7953"
             ],
             [
              0.7777777777777778,
              "#fb9f3a"
             ],
             [
              0.8888888888888888,
              "#fdca26"
             ],
             [
              1,
              "#f0f921"
             ]
            ],
            "type": "heatmap"
           }
          ],
          "histogram": [
           {
            "marker": {
             "pattern": {
              "fillmode": "overlay",
              "size": 10,
              "solidity": 0.2
             }
            },
            "type": "histogram"
           }
          ],
          "histogram2d": [
           {
            "colorbar": {
             "outlinewidth": 0,
             "ticks": ""
            },
            "colorscale": [
             [
              0,
              "#0d0887"
             ],
             [
              0.1111111111111111,
              "#46039f"
             ],
             [
              0.2222222222222222,
              "#7201a8"
             ],
             [
              0.3333333333333333,
              "#9c179e"
             ],
             [
              0.4444444444444444,
              "#bd3786"
             ],
             [
              0.5555555555555556,
              "#d8576b"
             ],
             [
              0.6666666666666666,
              "#ed7953"
             ],
             [
              0.7777777777777778,
              "#fb9f3a"
             ],
             [
              0.8888888888888888,
              "#fdca26"
             ],
             [
              1,
              "#f0f921"
             ]
            ],
            "type": "histogram2d"
           }
          ],
          "histogram2dcontour": [
           {
            "colorbar": {
             "outlinewidth": 0,
             "ticks": ""
            },
            "colorscale": [
             [
              0,
              "#0d0887"
             ],
             [
              0.1111111111111111,
              "#46039f"
             ],
             [
              0.2222222222222222,
              "#7201a8"
             ],
             [
              0.3333333333333333,
              "#9c179e"
             ],
             [
              0.4444444444444444,
              "#bd3786"
             ],
             [
              0.5555555555555556,
              "#d8576b"
             ],
             [
              0.6666666666666666,
              "#ed7953"
             ],
             [
              0.7777777777777778,
              "#fb9f3a"
             ],
             [
              0.8888888888888888,
              "#fdca26"
             ],
             [
              1,
              "#f0f921"
             ]
            ],
            "type": "histogram2dcontour"
           }
          ],
          "mesh3d": [
           {
            "colorbar": {
             "outlinewidth": 0,
             "ticks": ""
            },
            "type": "mesh3d"
           }
          ],
          "parcoords": [
           {
            "line": {
             "colorbar": {
              "outlinewidth": 0,
              "ticks": ""
             }
            },
            "type": "parcoords"
           }
          ],
          "pie": [
           {
            "automargin": true,
            "type": "pie"
           }
          ],
          "scatter": [
           {
            "fillpattern": {
             "fillmode": "overlay",
             "size": 10,
             "solidity": 0.2
            },
            "type": "scatter"
           }
          ],
          "scatter3d": [
           {
            "line": {
             "colorbar": {
              "outlinewidth": 0,
              "ticks": ""
             }
            },
            "marker": {
             "colorbar": {
              "outlinewidth": 0,
              "ticks": ""
             }
            },
            "type": "scatter3d"
           }
          ],
          "scattercarpet": [
           {
            "marker": {
             "colorbar": {
              "outlinewidth": 0,
              "ticks": ""
             }
            },
            "type": "scattercarpet"
           }
          ],
          "scattergeo": [
           {
            "marker": {
             "colorbar": {
              "outlinewidth": 0,
              "ticks": ""
             }
            },
            "type": "scattergeo"
           }
          ],
          "scattergl": [
           {
            "marker": {
             "colorbar": {
              "outlinewidth": 0,
              "ticks": ""
             }
            },
            "type": "scattergl"
           }
          ],
          "scattermap": [
           {
            "marker": {
             "colorbar": {
              "outlinewidth": 0,
              "ticks": ""
             }
            },
            "type": "scattermap"
           }
          ],
          "scattermapbox": [
           {
            "marker": {
             "colorbar": {
              "outlinewidth": 0,
              "ticks": ""
             }
            },
            "type": "scattermapbox"
           }
          ],
          "scatterpolar": [
           {
            "marker": {
             "colorbar": {
              "outlinewidth": 0,
              "ticks": ""
             }
            },
            "type": "scatterpolar"
           }
          ],
          "scatterpolargl": [
           {
            "marker": {
             "colorbar": {
              "outlinewidth": 0,
              "ticks": ""
             }
            },
            "type": "scatterpolargl"
           }
          ],
          "scatterternary": [
           {
            "marker": {
             "colorbar": {
              "outlinewidth": 0,
              "ticks": ""
             }
            },
            "type": "scatterternary"
           }
          ],
          "surface": [
           {
            "colorbar": {
             "outlinewidth": 0,
             "ticks": ""
            },
            "colorscale": [
             [
              0,
              "#0d0887"
             ],
             [
              0.1111111111111111,
              "#46039f"
             ],
             [
              0.2222222222222222,
              "#7201a8"
             ],
             [
              0.3333333333333333,
              "#9c179e"
             ],
             [
              0.4444444444444444,
              "#bd3786"
             ],
             [
              0.5555555555555556,
              "#d8576b"
             ],
             [
              0.6666666666666666,
              "#ed7953"
             ],
             [
              0.7777777777777778,
              "#fb9f3a"
             ],
             [
              0.8888888888888888,
              "#fdca26"
             ],
             [
              1,
              "#f0f921"
             ]
            ],
            "type": "surface"
           }
          ],
          "table": [
           {
            "cells": {
             "fill": {
              "color": "#EBF0F8"
             },
             "line": {
              "color": "white"
             }
            },
            "header": {
             "fill": {
              "color": "#C8D4E3"
             },
             "line": {
              "color": "white"
             }
            },
            "type": "table"
           }
          ]
         },
         "layout": {
          "annotationdefaults": {
           "arrowcolor": "#2a3f5f",
           "arrowhead": 0,
           "arrowwidth": 1
          },
          "autotypenumbers": "strict",
          "coloraxis": {
           "colorbar": {
            "outlinewidth": 0,
            "ticks": ""
           }
          },
          "colorscale": {
           "diverging": [
            [
             0,
             "#8e0152"
            ],
            [
             0.1,
             "#c51b7d"
            ],
            [
             0.2,
             "#de77ae"
            ],
            [
             0.3,
             "#f1b6da"
            ],
            [
             0.4,
             "#fde0ef"
            ],
            [
             0.5,
             "#f7f7f7"
            ],
            [
             0.6,
             "#e6f5d0"
            ],
            [
             0.7,
             "#b8e186"
            ],
            [
             0.8,
             "#7fbc41"
            ],
            [
             0.9,
             "#4d9221"
            ],
            [
             1,
             "#276419"
            ]
           ],
           "sequential": [
            [
             0,
             "#0d0887"
            ],
            [
             0.1111111111111111,
             "#46039f"
            ],
            [
             0.2222222222222222,
             "#7201a8"
            ],
            [
             0.3333333333333333,
             "#9c179e"
            ],
            [
             0.4444444444444444,
             "#bd3786"
            ],
            [
             0.5555555555555556,
             "#d8576b"
            ],
            [
             0.6666666666666666,
             "#ed7953"
            ],
            [
             0.7777777777777778,
             "#fb9f3a"
            ],
            [
             0.8888888888888888,
             "#fdca26"
            ],
            [
             1,
             "#f0f921"
            ]
           ],
           "sequentialminus": [
            [
             0,
             "#0d0887"
            ],
            [
             0.1111111111111111,
             "#46039f"
            ],
            [
             0.2222222222222222,
             "#7201a8"
            ],
            [
             0.3333333333333333,
             "#9c179e"
            ],
            [
             0.4444444444444444,
             "#bd3786"
            ],
            [
             0.5555555555555556,
             "#d8576b"
            ],
            [
             0.6666666666666666,
             "#ed7953"
            ],
            [
             0.7777777777777778,
             "#fb9f3a"
            ],
            [
             0.8888888888888888,
             "#fdca26"
            ],
            [
             1,
             "#f0f921"
            ]
           ]
          },
          "colorway": [
           "#636efa",
           "#EF553B",
           "#00cc96",
           "#ab63fa",
           "#FFA15A",
           "#19d3f3",
           "#FF6692",
           "#B6E880",
           "#FF97FF",
           "#FECB52"
          ],
          "font": {
           "color": "#2a3f5f"
          },
          "geo": {
           "bgcolor": "white",
           "lakecolor": "white",
           "landcolor": "#E5ECF6",
           "showlakes": true,
           "showland": true,
           "subunitcolor": "white"
          },
          "hoverlabel": {
           "align": "left"
          },
          "hovermode": "closest",
          "mapbox": {
           "style": "light"
          },
          "paper_bgcolor": "white",
          "plot_bgcolor": "#E5ECF6",
          "polar": {
           "angularaxis": {
            "gridcolor": "white",
            "linecolor": "white",
            "ticks": ""
           },
           "bgcolor": "#E5ECF6",
           "radialaxis": {
            "gridcolor": "white",
            "linecolor": "white",
            "ticks": ""
           }
          },
          "scene": {
           "xaxis": {
            "backgroundcolor": "#E5ECF6",
            "gridcolor": "white",
            "gridwidth": 2,
            "linecolor": "white",
            "showbackground": true,
            "ticks": "",
            "zerolinecolor": "white"
           },
           "yaxis": {
            "backgroundcolor": "#E5ECF6",
            "gridcolor": "white",
            "gridwidth": 2,
            "linecolor": "white",
            "showbackground": true,
            "ticks": "",
            "zerolinecolor": "white"
           },
           "zaxis": {
            "backgroundcolor": "#E5ECF6",
            "gridcolor": "white",
            "gridwidth": 2,
            "linecolor": "white",
            "showbackground": true,
            "ticks": "",
            "zerolinecolor": "white"
           }
          },
          "shapedefaults": {
           "line": {
            "color": "#2a3f5f"
           }
          },
          "ternary": {
           "aaxis": {
            "gridcolor": "white",
            "linecolor": "white",
            "ticks": ""
           },
           "baxis": {
            "gridcolor": "white",
            "linecolor": "white",
            "ticks": ""
           },
           "bgcolor": "#E5ECF6",
           "caxis": {
            "gridcolor": "white",
            "linecolor": "white",
            "ticks": ""
           }
          },
          "title": {
           "x": 0.05
          },
          "xaxis": {
           "automargin": true,
           "gridcolor": "white",
           "linecolor": "white",
           "ticks": "",
           "title": {
            "standoff": 15
           },
           "zerolinecolor": "white",
           "zerolinewidth": 2
          },
          "yaxis": {
           "automargin": true,
           "gridcolor": "white",
           "linecolor": "white",
           "ticks": "",
           "title": {
            "standoff": 15
           },
           "zerolinecolor": "white",
           "zerolinewidth": 2
          }
         }
        },
        "title": {
         "text": "Total Runs Scored by Each Team (ODIs)"
        },
        "xaxis": {
         "anchor": "y",
         "categoryorder": "total descending",
         "domain": [
          0,
          1
         ],
         "title": {
          "text": "batting_team"
         }
        },
        "yaxis": {
         "anchor": "x",
         "domain": [
          0,
          1
         ],
         "title": {
          "text": "runs_total"
         }
        }
       }
      }
     },
     "metadata": {},
     "output_type": "display_data"
    }
   ],
   "source": [
    "\n",
    "\n",
    "team_runs = (\n",
    "    odis_df.groupby('batting_team')['runs_total']\n",
    "    .sum()\n",
    "    .reset_index()\n",
    "    .sort_values(by='runs_total', ascending=False)\n",
    "    .head(25)\n",
    ")\n",
    "\n",
    "fig = px.bar(\n",
    "    team_runs,\n",
    "    x='batting_team',\n",
    "    y='runs_total',\n",
    "    title='Total Runs Scored by Each Team (ODIs)',\n",
    "    color='runs_total'\n",
    ")\n",
    "fig.update_xaxes(categoryorder='total descending')\n",
    "fig.show()\n"
   ]
  },
  {
   "cell_type": "markdown",
   "metadata": {},
   "source": [
    "#### 3. Bowler Economy Rate Distribution – Histogram (Using Plotly)\n",
    "- Assuming overs column represents over number (will compute runs conceded per over):\n",
    " "
   ]
  },
  {
   "cell_type": "code",
   "execution_count": 39,
   "metadata": {},
   "outputs": [
    {
     "data": {
      "application/vnd.plotly.v1+json": {
       "config": {
        "plotlyServerURL": "https://plot.ly"
       },
       "data": [
        {
         "bingroup": "x",
         "hovertemplate": "economy=%{x}<br>count=%{y}<extra></extra>",
         "legendgroup": "",
         "marker": {
          "color": "#636efa",
          "pattern": {
           "shape": ""
          }
         },
         "name": "",
         "nbinsx": 100,
         "orientation": "v",
         "showlegend": false,
         "type": "histogram",
         "x": {
          "bdata": "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",
          "dtype": "f8"
         },
         "xaxis": "x",
         "yaxis": "y"
        }
       ],
       "layout": {
        "barmode": "relative",
        "legend": {
         "tracegroupgap": 0
        },
        "template": {
         "data": {
          "bar": [
           {
            "error_x": {
             "color": "#2a3f5f"
            },
            "error_y": {
             "color": "#2a3f5f"
            },
            "marker": {
             "line": {
              "color": "#E5ECF6",
              "width": 0.5
             },
             "pattern": {
              "fillmode": "overlay",
              "size": 10,
              "solidity": 0.2
             }
            },
            "type": "bar"
           }
          ],
          "barpolar": [
           {
            "marker": {
             "line": {
              "color": "#E5ECF6",
              "width": 0.5
             },
             "pattern": {
              "fillmode": "overlay",
              "size": 10,
              "solidity": 0.2
             }
            },
            "type": "barpolar"
           }
          ],
          "carpet": [
           {
            "aaxis": {
             "endlinecolor": "#2a3f5f",
             "gridcolor": "white",
             "linecolor": "white",
             "minorgridcolor": "white",
             "startlinecolor": "#2a3f5f"
            },
            "baxis": {
             "endlinecolor": "#2a3f5f",
             "gridcolor": "white",
             "linecolor": "white",
             "minorgridcolor": "white",
             "startlinecolor": "#2a3f5f"
            },
            "type": "carpet"
           }
          ],
          "choropleth": [
           {
            "colorbar": {
             "outlinewidth": 0,
             "ticks": ""
            },
            "type": "choropleth"
           }
          ],
          "contour": [
           {
            "colorbar": {
             "outlinewidth": 0,
             "ticks": ""
            },
            "colorscale": [
             [
              0,
              "#0d0887"
             ],
             [
              0.1111111111111111,
              "#46039f"
             ],
             [
              0.2222222222222222,
              "#7201a8"
             ],
             [
              0.3333333333333333,
              "#9c179e"
             ],
             [
              0.4444444444444444,
              "#bd3786"
             ],
             [
              0.5555555555555556,
              "#d8576b"
             ],
             [
              0.6666666666666666,
              "#ed7953"
             ],
             [
              0.7777777777777778,
              "#fb9f3a"
             ],
             [
              0.8888888888888888,
              "#fdca26"
             ],
             [
              1,
              "#f0f921"
             ]
            ],
            "type": "contour"
           }
          ],
          "contourcarpet": [
           {
            "colorbar": {
             "outlinewidth": 0,
             "ticks": ""
            },
            "type": "contourcarpet"
           }
          ],
          "heatmap": [
           {
            "colorbar": {
             "outlinewidth": 0,
             "ticks": ""
            },
            "colorscale": [
             [
              0,
              "#0d0887"
             ],
             [
              0.1111111111111111,
              "#46039f"
             ],
             [
              0.2222222222222222,
              "#7201a8"
             ],
             [
              0.3333333333333333,
              "#9c179e"
             ],
             [
              0.4444444444444444,
              "#bd3786"
             ],
             [
              0.5555555555555556,
              "#d8576b"
             ],
             [
              0.6666666666666666,
              "#ed7953"
             ],
             [
              0.7777777777777778,
              "#fb9f3a"
             ],
             [
              0.8888888888888888,
              "#fdca26"
             ],
             [
              1,
              "#f0f921"
             ]
            ],
            "type": "heatmap"
           }
          ],
          "histogram": [
           {
            "marker": {
             "pattern": {
              "fillmode": "overlay",
              "size": 10,
              "solidity": 0.2
             }
            },
            "type": "histogram"
           }
          ],
          "histogram2d": [
           {
            "colorbar": {
             "outlinewidth": 0,
             "ticks": ""
            },
            "colorscale": [
             [
              0,
              "#0d0887"
             ],
             [
              0.1111111111111111,
              "#46039f"
             ],
             [
              0.2222222222222222,
              "#7201a8"
             ],
             [
              0.3333333333333333,
              "#9c179e"
             ],
             [
              0.4444444444444444,
              "#bd3786"
             ],
             [
              0.5555555555555556,
              "#d8576b"
             ],
             [
              0.6666666666666666,
              "#ed7953"
             ],
             [
              0.7777777777777778,
              "#fb9f3a"
             ],
             [
              0.8888888888888888,
              "#fdca26"
             ],
             [
              1,
              "#f0f921"
             ]
            ],
            "type": "histogram2d"
           }
          ],
          "histogram2dcontour": [
           {
            "colorbar": {
             "outlinewidth": 0,
             "ticks": ""
            },
            "colorscale": [
             [
              0,
              "#0d0887"
             ],
             [
              0.1111111111111111,
              "#46039f"
             ],
             [
              0.2222222222222222,
              "#7201a8"
             ],
             [
              0.3333333333333333,
              "#9c179e"
             ],
             [
              0.4444444444444444,
              "#bd3786"
             ],
             [
              0.5555555555555556,
              "#d8576b"
             ],
             [
              0.6666666666666666,
              "#ed7953"
             ],
             [
              0.7777777777777778,
              "#fb9f3a"
             ],
             [
              0.8888888888888888,
              "#fdca26"
             ],
             [
              1,
              "#f0f921"
             ]
            ],
            "type": "histogram2dcontour"
           }
          ],
          "mesh3d": [
           {
            "colorbar": {
             "outlinewidth": 0,
             "ticks": ""
            },
            "type": "mesh3d"
           }
          ],
          "parcoords": [
           {
            "line": {
             "colorbar": {
              "outlinewidth": 0,
              "ticks": ""
             }
            },
            "type": "parcoords"
           }
          ],
          "pie": [
           {
            "automargin": true,
            "type": "pie"
           }
          ],
          "scatter": [
           {
            "fillpattern": {
             "fillmode": "overlay",
             "size": 10,
             "solidity": 0.2
            },
            "type": "scatter"
           }
          ],
          "scatter3d": [
           {
            "line": {
             "colorbar": {
              "outlinewidth": 0,
              "ticks": ""
             }
            },
            "marker": {
             "colorbar": {
              "outlinewidth": 0,
              "ticks": ""
             }
            },
            "type": "scatter3d"
           }
          ],
          "scattercarpet": [
           {
            "marker": {
             "colorbar": {
              "outlinewidth": 0,
              "ticks": ""
             }
            },
            "type": "scattercarpet"
           }
          ],
          "scattergeo": [
           {
            "marker": {
             "colorbar": {
              "outlinewidth": 0,
              "ticks": ""
             }
            },
            "type": "scattergeo"
           }
          ],
          "scattergl": [
           {
            "marker": {
             "colorbar": {
              "outlinewidth": 0,
              "ticks": ""
             }
            },
            "type": "scattergl"
           }
          ],
          "scattermap": [
           {
            "marker": {
             "colorbar": {
              "outlinewidth": 0,
              "ticks": ""
             }
            },
            "type": "scattermap"
           }
          ],
          "scattermapbox": [
           {
            "marker": {
             "colorbar": {
              "outlinewidth": 0,
              "ticks": ""
             }
            },
            "type": "scattermapbox"
           }
          ],
          "scatterpolar": [
           {
            "marker": {
             "colorbar": {
              "outlinewidth": 0,
              "ticks": ""
             }
            },
            "type": "scatterpolar"
           }
          ],
          "scatterpolargl": [
           {
            "marker": {
             "colorbar": {
              "outlinewidth": 0,
              "ticks": ""
             }
            },
            "type": "scatterpolargl"
           }
          ],
          "scatterternary": [
           {
            "marker": {
             "colorbar": {
              "outlinewidth": 0,
              "ticks": ""
             }
            },
            "type": "scatterternary"
           }
          ],
          "surface": [
           {
            "colorbar": {
             "outlinewidth": 0,
             "ticks": ""
            },
            "colorscale": [
             [
              0,
              "#0d0887"
             ],
             [
              0.1111111111111111,
              "#46039f"
             ],
             [
              0.2222222222222222,
              "#7201a8"
             ],
             [
              0.3333333333333333,
              "#9c179e"
             ],
             [
              0.4444444444444444,
              "#bd3786"
             ],
             [
              0.5555555555555556,
              "#d8576b"
             ],
             [
              0.6666666666666666,
              "#ed7953"
             ],
             [
              0.7777777777777778,
              "#fb9f3a"
             ],
             [
              0.8888888888888888,
              "#fdca26"
             ],
             [
              1,
              "#f0f921"
             ]
            ],
            "type": "surface"
           }
          ],
          "table": [
           {
            "cells": {
             "fill": {
              "color": "#EBF0F8"
             },
             "line": {
              "color": "white"
             }
            },
            "header": {
             "fill": {
              "color": "#C8D4E3"
             },
             "line": {
              "color": "white"
             }
            },
            "type": "table"
           }
          ]
         },
         "layout": {
          "annotationdefaults": {
           "arrowcolor": "#2a3f5f",
           "arrowhead": 0,
           "arrowwidth": 1
          },
          "autotypenumbers": "strict",
          "coloraxis": {
           "colorbar": {
            "outlinewidth": 0,
            "ticks": ""
           }
          },
          "colorscale": {
           "diverging": [
            [
             0,
             "#8e0152"
            ],
            [
             0.1,
             "#c51b7d"
            ],
            [
             0.2,
             "#de77ae"
            ],
            [
             0.3,
             "#f1b6da"
            ],
            [
             0.4,
             "#fde0ef"
            ],
            [
             0.5,
             "#f7f7f7"
            ],
            [
             0.6,
             "#e6f5d0"
            ],
            [
             0.7,
             "#b8e186"
            ],
            [
             0.8,
             "#7fbc41"
            ],
            [
             0.9,
             "#4d9221"
            ],
            [
             1,
             "#276419"
            ]
           ],
           "sequential": [
            [
             0,
             "#0d0887"
            ],
            [
             0.1111111111111111,
             "#46039f"
            ],
            [
             0.2222222222222222,
             "#7201a8"
            ],
            [
             0.3333333333333333,
             "#9c179e"
            ],
            [
             0.4444444444444444,
             "#bd3786"
            ],
            [
             0.5555555555555556,
             "#d8576b"
            ],
            [
             0.6666666666666666,
             "#ed7953"
            ],
            [
             0.7777777777777778,
             "#fb9f3a"
            ],
            [
             0.8888888888888888,
             "#fdca26"
            ],
            [
             1,
             "#f0f921"
            ]
           ],
           "sequentialminus": [
            [
             0,
             "#0d0887"
            ],
            [
             0.1111111111111111,
             "#46039f"
            ],
            [
             0.2222222222222222,
             "#7201a8"
            ],
            [
             0.3333333333333333,
             "#9c179e"
            ],
            [
             0.4444444444444444,
             "#bd3786"
            ],
            [
             0.5555555555555556,
             "#d8576b"
            ],
            [
             0.6666666666666666,
             "#ed7953"
            ],
            [
             0.7777777777777778,
             "#fb9f3a"
            ],
            [
             0.8888888888888888,
             "#fdca26"
            ],
            [
             1,
             "#f0f921"
            ]
           ]
          },
          "colorway": [
           "#636efa",
           "#EF553B",
           "#00cc96",
           "#ab63fa",
           "#FFA15A",
           "#19d3f3",
           "#FF6692",
           "#B6E880",
           "#FF97FF",
           "#FECB52"
          ],
          "font": {
           "color": "#2a3f5f"
          },
          "geo": {
           "bgcolor": "white",
           "lakecolor": "white",
           "landcolor": "#E5ECF6",
           "showlakes": true,
           "showland": true,
           "subunitcolor": "white"
          },
          "hoverlabel": {
           "align": "left"
          },
          "hovermode": "closest",
          "mapbox": {
           "style": "light"
          },
          "paper_bgcolor": "white",
          "plot_bgcolor": "#E5ECF6",
          "polar": {
           "angularaxis": {
            "gridcolor": "white",
            "linecolor": "white",
            "ticks": ""
           },
           "bgcolor": "#E5ECF6",
           "radialaxis": {
            "gridcolor": "white",
            "linecolor": "white",
            "ticks": ""
           }
          },
          "scene": {
           "xaxis": {
            "backgroundcolor": "#E5ECF6",
            "gridcolor": "white",
            "gridwidth": 2,
            "linecolor": "white",
            "showbackground": true,
            "ticks": "",
            "zerolinecolor": "white"
           },
           "yaxis": {
            "backgroundcolor": "#E5ECF6",
            "gridcolor": "white",
            "gridwidth": 2,
            "linecolor": "white",
            "showbackground": true,
            "ticks": "",
            "zerolinecolor": "white"
           },
           "zaxis": {
            "backgroundcolor": "#E5ECF6",
            "gridcolor": "white",
            "gridwidth": 2,
            "linecolor": "white",
            "showbackground": true,
            "ticks": "",
            "zerolinecolor": "white"
           }
          },
          "shapedefaults": {
           "line": {
            "color": "#2a3f5f"
           }
          },
          "ternary": {
           "aaxis": {
            "gridcolor": "white",
            "linecolor": "white",
            "ticks": ""
           },
           "baxis": {
            "gridcolor": "white",
            "linecolor": "white",
            "ticks": ""
           },
           "bgcolor": "#E5ECF6",
           "caxis": {
            "gridcolor": "white",
            "linecolor": "white",
            "ticks": ""
           }
          },
          "title": {
           "x": 0.05
          },
          "xaxis": {
           "automargin": true,
           "gridcolor": "white",
           "linecolor": "white",
           "ticks": "",
           "title": {
            "standoff": 15
           },
           "zerolinecolor": "white",
           "zerolinewidth": 2
          },
          "yaxis": {
           "automargin": true,
           "gridcolor": "white",
           "linecolor": "white",
           "ticks": "",
           "title": {
            "standoff": 15
           },
           "zerolinecolor": "white",
           "zerolinewidth": 2
          }
         }
        },
        "title": {
         "text": "Bowler Economy Rate Distribution (ODIs)"
        },
        "xaxis": {
         "anchor": "y",
         "domain": [
          0,
          1
         ],
         "title": {
          "text": "economy"
         }
        },
        "yaxis": {
         "anchor": "x",
         "domain": [
          0,
          1
         ],
         "title": {
          "text": "count"
         }
        }
       }
      }
     },
     "metadata": {},
     "output_type": "display_data"
    }
   ],
   "source": [
    "\n",
    "# Total runs conceded per bowler and total overs bowled\n",
    "bowler_stats = (\n",
    "    odis_df.groupby('bowler')\n",
    "    .agg({'runs_total': 'sum', 'overs': 'count'})  # count overs (balls bowled)\n",
    "    .reset_index()\n",
    ")\n",
    "\n",
    "# Convert balls to overs (1 over = 6 balls)\n",
    "bowler_stats['overs_bowled'] = bowler_stats['overs'] / 6\n",
    "bowler_stats['economy'] = bowler_stats['runs_total'] / bowler_stats['overs_bowled']\n",
    "\n",
    "fig = px.histogram(\n",
    "    bowler_stats,\n",
    "    x='economy',\n",
    "    nbins=100,\n",
    "    title='Bowler Economy Rate Distribution (ODIs)'\n",
    ")\n",
    "fig.show()"
   ]
  },
  {
   "cell_type": "markdown",
   "metadata": {},
   "source": [
    "#### 4. Death Over Kings\n",
    "- Identify batters who score the highest total runs during overs 40–50 in ODIs.\n"
   ]
  },
  {
   "cell_type": "code",
   "execution_count": null,
   "metadata": {},
   "outputs": [
    {
     "data": {
      "application/vnd.plotly.v1+json": {
       "config": {
        "plotlyServerURL": "https://plot.ly"
       },
       "data": [
        {
         "line": {
          "color": "gray",
          "width": 2
         },
         "marker": {
          "color": "crimson",
          "size": 10
         },
         "mode": "markers+lines",
         "name": "Avg Runs",
         "type": "scatter",
         "x": [
          "MS Dhoni",
          "AD Mathews",
          "JC Buttler",
          "Mahmudullah",
          "DA Miller",
          "MEK Hussey",
          "RA Jadeja",
          "JP Duminy",
          "V Kohli",
          "AB de Villiers"
         ],
         "y": {
          "bdata": "/Q42CG8HSgc5BxQHDgYGBgUGzwU=",
          "dtype": "i2"
         }
        }
       ],
       "layout": {
        "height": 500,
        "template": {
         "data": {
          "bar": [
           {
            "error_x": {
             "color": "#2a3f5f"
            },
            "error_y": {
             "color": "#2a3f5f"
            },
            "marker": {
             "line": {
              "color": "#E5ECF6",
              "width": 0.5
             },
             "pattern": {
              "fillmode": "overlay",
              "size": 10,
              "solidity": 0.2
             }
            },
            "type": "bar"
           }
          ],
          "barpolar": [
           {
            "marker": {
             "line": {
              "color": "#E5ECF6",
              "width": 0.5
             },
             "pattern": {
              "fillmode": "overlay",
              "size": 10,
              "solidity": 0.2
             }
            },
            "type": "barpolar"
           }
          ],
          "carpet": [
           {
            "aaxis": {
             "endlinecolor": "#2a3f5f",
             "gridcolor": "white",
             "linecolor": "white",
             "minorgridcolor": "white",
             "startlinecolor": "#2a3f5f"
            },
            "baxis": {
             "endlinecolor": "#2a3f5f",
             "gridcolor": "white",
             "linecolor": "white",
             "minorgridcolor": "white",
             "startlinecolor": "#2a3f5f"
            },
            "type": "carpet"
           }
          ],
          "choropleth": [
           {
            "colorbar": {
             "outlinewidth": 0,
             "ticks": ""
            },
            "type": "choropleth"
           }
          ],
          "contour": [
           {
            "colorbar": {
             "outlinewidth": 0,
             "ticks": ""
            },
            "colorscale": [
             [
              0,
              "#0d0887"
             ],
             [
              0.1111111111111111,
              "#46039f"
             ],
             [
              0.2222222222222222,
              "#7201a8"
             ],
             [
              0.3333333333333333,
              "#9c179e"
             ],
             [
              0.4444444444444444,
              "#bd3786"
             ],
             [
              0.5555555555555556,
              "#d8576b"
             ],
             [
              0.6666666666666666,
              "#ed7953"
             ],
             [
              0.7777777777777778,
              "#fb9f3a"
             ],
             [
              0.8888888888888888,
              "#fdca26"
             ],
             [
              1,
              "#f0f921"
             ]
            ],
            "type": "contour"
           }
          ],
          "contourcarpet": [
           {
            "colorbar": {
             "outlinewidth": 0,
             "ticks": ""
            },
            "type": "contourcarpet"
           }
          ],
          "heatmap": [
           {
            "colorbar": {
             "outlinewidth": 0,
             "ticks": ""
            },
            "colorscale": [
             [
              0,
              "#0d0887"
             ],
             [
              0.1111111111111111,
              "#46039f"
             ],
             [
              0.2222222222222222,
              "#7201a8"
             ],
             [
              0.3333333333333333,
              "#9c179e"
             ],
             [
              0.4444444444444444,
              "#bd3786"
             ],
             [
              0.5555555555555556,
              "#d8576b"
             ],
             [
              0.6666666666666666,
              "#ed7953"
             ],
             [
              0.7777777777777778,
              "#fb9f3a"
             ],
             [
              0.8888888888888888,
              "#fdca26"
             ],
             [
              1,
              "#f0f921"
             ]
            ],
            "type": "heatmap"
           }
          ],
          "histogram": [
           {
            "marker": {
             "pattern": {
              "fillmode": "overlay",
              "size": 10,
              "solidity": 0.2
             }
            },
            "type": "histogram"
           }
          ],
          "histogram2d": [
           {
            "colorbar": {
             "outlinewidth": 0,
             "ticks": ""
            },
            "colorscale": [
             [
              0,
              "#0d0887"
             ],
             [
              0.1111111111111111,
              "#46039f"
             ],
             [
              0.2222222222222222,
              "#7201a8"
             ],
             [
              0.3333333333333333,
              "#9c179e"
             ],
             [
              0.4444444444444444,
              "#bd3786"
             ],
             [
              0.5555555555555556,
              "#d8576b"
             ],
             [
              0.6666666666666666,
              "#ed7953"
             ],
             [
              0.7777777777777778,
              "#fb9f3a"
             ],
             [
              0.8888888888888888,
              "#fdca26"
             ],
             [
              1,
              "#f0f921"
             ]
            ],
            "type": "histogram2d"
           }
          ],
          "histogram2dcontour": [
           {
            "colorbar": {
             "outlinewidth": 0,
             "ticks": ""
            },
            "colorscale": [
             [
              0,
              "#0d0887"
             ],
             [
              0.1111111111111111,
              "#46039f"
             ],
             [
              0.2222222222222222,
              "#7201a8"
             ],
             [
              0.3333333333333333,
              "#9c179e"
             ],
             [
              0.4444444444444444,
              "#bd3786"
             ],
             [
              0.5555555555555556,
              "#d8576b"
             ],
             [
              0.6666666666666666,
              "#ed7953"
             ],
             [
              0.7777777777777778,
              "#fb9f3a"
             ],
             [
              0.8888888888888888,
              "#fdca26"
             ],
             [
              1,
              "#f0f921"
             ]
            ],
            "type": "histogram2dcontour"
           }
          ],
          "mesh3d": [
           {
            "colorbar": {
             "outlinewidth": 0,
             "ticks": ""
            },
            "type": "mesh3d"
           }
          ],
          "parcoords": [
           {
            "line": {
             "colorbar": {
              "outlinewidth": 0,
              "ticks": ""
             }
            },
            "type": "parcoords"
           }
          ],
          "pie": [
           {
            "automargin": true,
            "type": "pie"
           }
          ],
          "scatter": [
           {
            "fillpattern": {
             "fillmode": "overlay",
             "size": 10,
             "solidity": 0.2
            },
            "type": "scatter"
           }
          ],
          "scatter3d": [
           {
            "line": {
             "colorbar": {
              "outlinewidth": 0,
              "ticks": ""
             }
            },
            "marker": {
             "colorbar": {
              "outlinewidth": 0,
              "ticks": ""
             }
            },
            "type": "scatter3d"
           }
          ],
          "scattercarpet": [
           {
            "marker": {
             "colorbar": {
              "outlinewidth": 0,
              "ticks": ""
             }
            },
            "type": "scattercarpet"
           }
          ],
          "scattergeo": [
           {
            "marker": {
             "colorbar": {
              "outlinewidth": 0,
              "ticks": ""
             }
            },
            "type": "scattergeo"
           }
          ],
          "scattergl": [
           {
            "marker": {
             "colorbar": {
              "outlinewidth": 0,
              "ticks": ""
             }
            },
            "type": "scattergl"
           }
          ],
          "scattermap": [
           {
            "marker": {
             "colorbar": {
              "outlinewidth": 0,
              "ticks": ""
             }
            },
            "type": "scattermap"
           }
          ],
          "scattermapbox": [
           {
            "marker": {
             "colorbar": {
              "outlinewidth": 0,
              "ticks": ""
             }
            },
            "type": "scattermapbox"
           }
          ],
          "scatterpolar": [
           {
            "marker": {
             "colorbar": {
              "outlinewidth": 0,
              "ticks": ""
             }
            },
            "type": "scatterpolar"
           }
          ],
          "scatterpolargl": [
           {
            "marker": {
             "colorbar": {
              "outlinewidth": 0,
              "ticks": ""
             }
            },
            "type": "scatterpolargl"
           }
          ],
          "scatterternary": [
           {
            "marker": {
             "colorbar": {
              "outlinewidth": 0,
              "ticks": ""
             }
            },
            "type": "scatterternary"
           }
          ],
          "surface": [
           {
            "colorbar": {
             "outlinewidth": 0,
             "ticks": ""
            },
            "colorscale": [
             [
              0,
              "#0d0887"
             ],
             [
              0.1111111111111111,
              "#46039f"
             ],
             [
              0.2222222222222222,
              "#7201a8"
             ],
             [
              0.3333333333333333,
              "#9c179e"
             ],
             [
              0.4444444444444444,
              "#bd3786"
             ],
             [
              0.5555555555555556,
              "#d8576b"
             ],
             [
              0.6666666666666666,
              "#ed7953"
             ],
             [
              0.7777777777777778,
              "#fb9f3a"
             ],
             [
              0.8888888888888888,
              "#fdca26"
             ],
             [
              1,
              "#f0f921"
             ]
            ],
            "type": "surface"
           }
          ],
          "table": [
           {
            "cells": {
             "fill": {
              "color": "#EBF0F8"
             },
             "line": {
              "color": "white"
             }
            },
            "header": {
             "fill": {
              "color": "#C8D4E3"
             },
             "line": {
              "color": "white"
             }
            },
            "type": "table"
           }
          ]
         },
         "layout": {
          "annotationdefaults": {
           "arrowcolor": "#2a3f5f",
           "arrowhead": 0,
           "arrowwidth": 1
          },
          "autotypenumbers": "strict",
          "coloraxis": {
           "colorbar": {
            "outlinewidth": 0,
            "ticks": ""
           }
          },
          "colorscale": {
           "diverging": [
            [
             0,
             "#8e0152"
            ],
            [
             0.1,
             "#c51b7d"
            ],
            [
             0.2,
             "#de77ae"
            ],
            [
             0.3,
             "#f1b6da"
            ],
            [
             0.4,
             "#fde0ef"
            ],
            [
             0.5,
             "#f7f7f7"
            ],
            [
             0.6,
             "#e6f5d0"
            ],
            [
             0.7,
             "#b8e186"
            ],
            [
             0.8,
             "#7fbc41"
            ],
            [
             0.9,
             "#4d9221"
            ],
            [
             1,
             "#276419"
            ]
           ],
           "sequential": [
            [
             0,
             "#0d0887"
            ],
            [
             0.1111111111111111,
             "#46039f"
            ],
            [
             0.2222222222222222,
             "#7201a8"
            ],
            [
             0.3333333333333333,
             "#9c179e"
            ],
            [
             0.4444444444444444,
             "#bd3786"
            ],
            [
             0.5555555555555556,
             "#d8576b"
            ],
            [
             0.6666666666666666,
             "#ed7953"
            ],
            [
             0.7777777777777778,
             "#fb9f3a"
            ],
            [
             0.8888888888888888,
             "#fdca26"
            ],
            [
             1,
             "#f0f921"
            ]
           ],
           "sequentialminus": [
            [
             0,
             "#0d0887"
            ],
            [
             0.1111111111111111,
             "#46039f"
            ],
            [
             0.2222222222222222,
             "#7201a8"
            ],
            [
             0.3333333333333333,
             "#9c179e"
            ],
            [
             0.4444444444444444,
             "#bd3786"
            ],
            [
             0.5555555555555556,
             "#d8576b"
            ],
            [
             0.6666666666666666,
             "#ed7953"
            ],
            [
             0.7777777777777778,
             "#fb9f3a"
            ],
            [
             0.8888888888888888,
             "#fdca26"
            ],
            [
             1,
             "#f0f921"
            ]
           ]
          },
          "colorway": [
           "#636efa",
           "#EF553B",
           "#00cc96",
           "#ab63fa",
           "#FFA15A",
           "#19d3f3",
           "#FF6692",
           "#B6E880",
           "#FF97FF",
           "#FECB52"
          ],
          "font": {
           "color": "#2a3f5f"
          },
          "geo": {
           "bgcolor": "white",
           "lakecolor": "white",
           "landcolor": "#E5ECF6",
           "showlakes": true,
           "showland": true,
           "subunitcolor": "white"
          },
          "hoverlabel": {
           "align": "left"
          },
          "hovermode": "closest",
          "mapbox": {
           "style": "light"
          },
          "paper_bgcolor": "white",
          "plot_bgcolor": "#E5ECF6",
          "polar": {
           "angularaxis": {
            "gridcolor": "white",
            "linecolor": "white",
            "ticks": ""
           },
           "bgcolor": "#E5ECF6",
           "radialaxis": {
            "gridcolor": "white",
            "linecolor": "white",
            "ticks": ""
           }
          },
          "scene": {
           "xaxis": {
            "backgroundcolor": "#E5ECF6",
            "gridcolor": "white",
            "gridwidth": 2,
            "linecolor": "white",
            "showbackground": true,
            "ticks": "",
            "zerolinecolor": "white"
           },
           "yaxis": {
            "backgroundcolor": "#E5ECF6",
            "gridcolor": "white",
            "gridwidth": 2,
            "linecolor": "white",
            "showbackground": true,
            "ticks": "",
            "zerolinecolor": "white"
           },
           "zaxis": {
            "backgroundcolor": "#E5ECF6",
            "gridcolor": "white",
            "gridwidth": 2,
            "linecolor": "white",
            "showbackground": true,
            "ticks": "",
            "zerolinecolor": "white"
           }
          },
          "shapedefaults": {
           "line": {
            "color": "#2a3f5f"
           }
          },
          "ternary": {
           "aaxis": {
            "gridcolor": "white",
            "linecolor": "white",
            "ticks": ""
           },
           "baxis": {
            "gridcolor": "white",
            "linecolor": "white",
            "ticks": ""
           },
           "bgcolor": "#E5ECF6",
           "caxis": {
            "gridcolor": "white",
            "linecolor": "white",
            "ticks": ""
           }
          },
          "title": {
           "x": 0.05
          },
          "xaxis": {
           "automargin": true,
           "gridcolor": "white",
           "linecolor": "white",
           "ticks": "",
           "title": {
            "standoff": 15
           },
           "zerolinecolor": "white",
           "zerolinewidth": 2
          },
          "yaxis": {
           "automargin": true,
           "gridcolor": "white",
           "linecolor": "white",
           "ticks": "",
           "title": {
            "standoff": 15
           },
           "zerolinecolor": "white",
           "zerolinewidth": 2
          }
         }
        },
        "title": {
         "text": "Top 10 Batters in Death Overs (Avg Runs in Overs 40–50)"
        },
        "xaxis": {
         "title": {
          "text": "Batter"
         }
        },
        "yaxis": {
         "title": {
          "text": "Average Runs"
         }
        }
       }
      }
     },
     "metadata": {},
     "output_type": "display_data"
    }
   ],
   "source": [
    "# Filter for overs 40–50\n",
    "death_overs_df = odis_df[(odis_df['overs'] >= 40) & (odis_df['overs'] <= 50)]\n",
    "\n",
    "# Group by batter, calculate average runs in death overs\n",
    "death_batter_avg = (\n",
    "    death_overs_df.groupby('batter')['runs_batter']\n",
    "    .sum()\n",
    "    .reset_index(name='avg_runs_death_overs')\n",
    "    .sort_values(by='avg_runs_death_overs', ascending=False)\n",
    "    .head(10)\n",
    ")\n",
    "\n",
    "# Plot as lollipop using Plotly\n",
    "import plotly.graph_objects as go\n",
    "\n",
    "fig = go.Figure()\n",
    "\n",
    "fig.add_trace(go.Scatter(\n",
    "    x=death_batter_avg['batter'],\n",
    "    y= death_batter_avg['avg_runs_death_overs'],\n",
    "    mode='markers+lines',\n",
    "    marker=dict(size=10, color='crimson'),\n",
    "    line=dict(color='gray', width=2),\n",
    "    name='Avg Runs'\n",
    "))\n",
    "\n",
    "fig.update_layout(\n",
    "    title='Top 10 Batters in Death Overs (Avg Runs in Overs 40–50)',\n",
    "    xaxis_title='Batter',\n",
    "    yaxis_title='Average Runs',\n",
    "    height=500\n",
    ")\n",
    "\n",
    "fig.show()"
   ]
  },
  {
   "cell_type": "markdown",
   "metadata": {},
   "source": [
    "#### 5. Dot Ball Kings\n",
    "- Bowlers with highest dot ball percentage (dot = runs_batter == 0)\n"
   ]
  },
  {
   "cell_type": "code",
   "execution_count": 54,
   "metadata": {},
   "outputs": [
    {
     "data": {
      "application/vnd.plotly.v1+json": {
       "config": {
        "plotlyServerURL": "https://plot.ly"
       },
       "data": [
        {
         "fill": "toself",
         "marker": {
          "color": "blue"
         },
         "name": "Dot %",
         "r": {
          "bdata": "AAAAAAAAWUAAAAAAAABZQAAAAAAAAFlAAAAAAAAAWUAAAAAAAABZQAAAAAAAAFlA",
          "dtype": "f8"
         },
         "theta": [
          "XM Marshall",
          "SIR Dunkley",
          "Mohammad Yousuf",
          "M Terblanche",
          "RV Uthappa",
          "TG Gordon"
         ],
         "type": "scatterpolar"
        }
       ],
       "layout": {
        "polar": {
         "radialaxis": {
          "range": [
           0,
           100
          ],
          "visible": true
         }
        },
        "showlegend": false,
        "template": {
         "data": {
          "bar": [
           {
            "error_x": {
             "color": "#2a3f5f"
            },
            "error_y": {
             "color": "#2a3f5f"
            },
            "marker": {
             "line": {
              "color": "#E5ECF6",
              "width": 0.5
             },
             "pattern": {
              "fillmode": "overlay",
              "size": 10,
              "solidity": 0.2
             }
            },
            "type": "bar"
           }
          ],
          "barpolar": [
           {
            "marker": {
             "line": {
              "color": "#E5ECF6",
              "width": 0.5
             },
             "pattern": {
              "fillmode": "overlay",
              "size": 10,
              "solidity": 0.2
             }
            },
            "type": "barpolar"
           }
          ],
          "carpet": [
           {
            "aaxis": {
             "endlinecolor": "#2a3f5f",
             "gridcolor": "white",
             "linecolor": "white",
             "minorgridcolor": "white",
             "startlinecolor": "#2a3f5f"
            },
            "baxis": {
             "endlinecolor": "#2a3f5f",
             "gridcolor": "white",
             "linecolor": "white",
             "minorgridcolor": "white",
             "startlinecolor": "#2a3f5f"
            },
            "type": "carpet"
           }
          ],
          "choropleth": [
           {
            "colorbar": {
             "outlinewidth": 0,
             "ticks": ""
            },
            "type": "choropleth"
           }
          ],
          "contour": [
           {
            "colorbar": {
             "outlinewidth": 0,
             "ticks": ""
            },
            "colorscale": [
             [
              0,
              "#0d0887"
             ],
             [
              0.1111111111111111,
              "#46039f"
             ],
             [
              0.2222222222222222,
              "#7201a8"
             ],
             [
              0.3333333333333333,
              "#9c179e"
             ],
             [
              0.4444444444444444,
              "#bd3786"
             ],
             [
              0.5555555555555556,
              "#d8576b"
             ],
             [
              0.6666666666666666,
              "#ed7953"
             ],
             [
              0.7777777777777778,
              "#fb9f3a"
             ],
             [
              0.8888888888888888,
              "#fdca26"
             ],
             [
              1,
              "#f0f921"
             ]
            ],
            "type": "contour"
           }
          ],
          "contourcarpet": [
           {
            "colorbar": {
             "outlinewidth": 0,
             "ticks": ""
            },
            "type": "contourcarpet"
           }
          ],
          "heatmap": [
           {
            "colorbar": {
             "outlinewidth": 0,
             "ticks": ""
            },
            "colorscale": [
             [
              0,
              "#0d0887"
             ],
             [
              0.1111111111111111,
              "#46039f"
             ],
             [
              0.2222222222222222,
              "#7201a8"
             ],
             [
              0.3333333333333333,
              "#9c179e"
             ],
             [
              0.4444444444444444,
              "#bd3786"
             ],
             [
              0.5555555555555556,
              "#d8576b"
             ],
             [
              0.6666666666666666,
              "#ed7953"
             ],
             [
              0.7777777777777778,
              "#fb9f3a"
             ],
             [
              0.8888888888888888,
              "#fdca26"
             ],
             [
              1,
              "#f0f921"
             ]
            ],
            "type": "heatmap"
           }
          ],
          "histogram": [
           {
            "marker": {
             "pattern": {
              "fillmode": "overlay",
              "size": 10,
              "solidity": 0.2
             }
            },
            "type": "histogram"
           }
          ],
          "histogram2d": [
           {
            "colorbar": {
             "outlinewidth": 0,
             "ticks": ""
            },
            "colorscale": [
             [
              0,
              "#0d0887"
             ],
             [
              0.1111111111111111,
              "#46039f"
             ],
             [
              0.2222222222222222,
              "#7201a8"
             ],
             [
              0.3333333333333333,
              "#9c179e"
             ],
             [
              0.4444444444444444,
              "#bd3786"
             ],
             [
              0.5555555555555556,
              "#d8576b"
             ],
             [
              0.6666666666666666,
              "#ed7953"
             ],
             [
              0.7777777777777778,
              "#fb9f3a"
             ],
             [
              0.8888888888888888,
              "#fdca26"
             ],
             [
              1,
              "#f0f921"
             ]
            ],
            "type": "histogram2d"
           }
          ],
          "histogram2dcontour": [
           {
            "colorbar": {
             "outlinewidth": 0,
             "ticks": ""
            },
            "colorscale": [
             [
              0,
              "#0d0887"
             ],
             [
              0.1111111111111111,
              "#46039f"
             ],
             [
              0.2222222222222222,
              "#7201a8"
             ],
             [
              0.3333333333333333,
              "#9c179e"
             ],
             [
              0.4444444444444444,
              "#bd3786"
             ],
             [
              0.5555555555555556,
              "#d8576b"
             ],
             [
              0.6666666666666666,
              "#ed7953"
             ],
             [
              0.7777777777777778,
              "#fb9f3a"
             ],
             [
              0.8888888888888888,
              "#fdca26"
             ],
             [
              1,
              "#f0f921"
             ]
            ],
            "type": "histogram2dcontour"
           }
          ],
          "mesh3d": [
           {
            "colorbar": {
             "outlinewidth": 0,
             "ticks": ""
            },
            "type": "mesh3d"
           }
          ],
          "parcoords": [
           {
            "line": {
             "colorbar": {
              "outlinewidth": 0,
              "ticks": ""
             }
            },
            "type": "parcoords"
           }
          ],
          "pie": [
           {
            "automargin": true,
            "type": "pie"
           }
          ],
          "scatter": [
           {
            "fillpattern": {
             "fillmode": "overlay",
             "size": 10,
             "solidity": 0.2
            },
            "type": "scatter"
           }
          ],
          "scatter3d": [
           {
            "line": {
             "colorbar": {
              "outlinewidth": 0,
              "ticks": ""
             }
            },
            "marker": {
             "colorbar": {
              "outlinewidth": 0,
              "ticks": ""
             }
            },
            "type": "scatter3d"
           }
          ],
          "scattercarpet": [
           {
            "marker": {
             "colorbar": {
              "outlinewidth": 0,
              "ticks": ""
             }
            },
            "type": "scattercarpet"
           }
          ],
          "scattergeo": [
           {
            "marker": {
             "colorbar": {
              "outlinewidth": 0,
              "ticks": ""
             }
            },
            "type": "scattergeo"
           }
          ],
          "scattergl": [
           {
            "marker": {
             "colorbar": {
              "outlinewidth": 0,
              "ticks": ""
             }
            },
            "type": "scattergl"
           }
          ],
          "scattermap": [
           {
            "marker": {
             "colorbar": {
              "outlinewidth": 0,
              "ticks": ""
             }
            },
            "type": "scattermap"
           }
          ],
          "scattermapbox": [
           {
            "marker": {
             "colorbar": {
              "outlinewidth": 0,
              "ticks": ""
             }
            },
            "type": "scattermapbox"
           }
          ],
          "scatterpolar": [
           {
            "marker": {
             "colorbar": {
              "outlinewidth": 0,
              "ticks": ""
             }
            },
            "type": "scatterpolar"
           }
          ],
          "scatterpolargl": [
           {
            "marker": {
             "colorbar": {
              "outlinewidth": 0,
              "ticks": ""
             }
            },
            "type": "scatterpolargl"
           }
          ],
          "scatterternary": [
           {
            "marker": {
             "colorbar": {
              "outlinewidth": 0,
              "ticks": ""
             }
            },
            "type": "scatterternary"
           }
          ],
          "surface": [
           {
            "colorbar": {
             "outlinewidth": 0,
             "ticks": ""
            },
            "colorscale": [
             [
              0,
              "#0d0887"
             ],
             [
              0.1111111111111111,
              "#46039f"
             ],
             [
              0.2222222222222222,
              "#7201a8"
             ],
             [
              0.3333333333333333,
              "#9c179e"
             ],
             [
              0.4444444444444444,
              "#bd3786"
             ],
             [
              0.5555555555555556,
              "#d8576b"
             ],
             [
              0.6666666666666666,
              "#ed7953"
             ],
             [
              0.7777777777777778,
              "#fb9f3a"
             ],
             [
              0.8888888888888888,
              "#fdca26"
             ],
             [
              1,
              "#f0f921"
             ]
            ],
            "type": "surface"
           }
          ],
          "table": [
           {
            "cells": {
             "fill": {
              "color": "#EBF0F8"
             },
             "line": {
              "color": "white"
             }
            },
            "header": {
             "fill": {
              "color": "#C8D4E3"
             },
             "line": {
              "color": "white"
             }
            },
            "type": "table"
           }
          ]
         },
         "layout": {
          "annotationdefaults": {
           "arrowcolor": "#2a3f5f",
           "arrowhead": 0,
           "arrowwidth": 1
          },
          "autotypenumbers": "strict",
          "coloraxis": {
           "colorbar": {
            "outlinewidth": 0,
            "ticks": ""
           }
          },
          "colorscale": {
           "diverging": [
            [
             0,
             "#8e0152"
            ],
            [
             0.1,
             "#c51b7d"
            ],
            [
             0.2,
             "#de77ae"
            ],
            [
             0.3,
             "#f1b6da"
            ],
            [
             0.4,
             "#fde0ef"
            ],
            [
             0.5,
             "#f7f7f7"
            ],
            [
             0.6,
             "#e6f5d0"
            ],
            [
             0.7,
             "#b8e186"
            ],
            [
             0.8,
             "#7fbc41"
            ],
            [
             0.9,
             "#4d9221"
            ],
            [
             1,
             "#276419"
            ]
           ],
           "sequential": [
            [
             0,
             "#0d0887"
            ],
            [
             0.1111111111111111,
             "#46039f"
            ],
            [
             0.2222222222222222,
             "#7201a8"
            ],
            [
             0.3333333333333333,
             "#9c179e"
            ],
            [
             0.4444444444444444,
             "#bd3786"
            ],
            [
             0.5555555555555556,
             "#d8576b"
            ],
            [
             0.6666666666666666,
             "#ed7953"
            ],
            [
             0.7777777777777778,
             "#fb9f3a"
            ],
            [
             0.8888888888888888,
             "#fdca26"
            ],
            [
             1,
             "#f0f921"
            ]
           ],
           "sequentialminus": [
            [
             0,
             "#0d0887"
            ],
            [
             0.1111111111111111,
             "#46039f"
            ],
            [
             0.2222222222222222,
             "#7201a8"
            ],
            [
             0.3333333333333333,
             "#9c179e"
            ],
            [
             0.4444444444444444,
             "#bd3786"
            ],
            [
             0.5555555555555556,
             "#d8576b"
            ],
            [
             0.6666666666666666,
             "#ed7953"
            ],
            [
             0.7777777777777778,
             "#fb9f3a"
            ],
            [
             0.8888888888888888,
             "#fdca26"
            ],
            [
             1,
             "#f0f921"
            ]
           ]
          },
          "colorway": [
           "#636efa",
           "#EF553B",
           "#00cc96",
           "#ab63fa",
           "#FFA15A",
           "#19d3f3",
           "#FF6692",
           "#B6E880",
           "#FF97FF",
           "#FECB52"
          ],
          "font": {
           "color": "#2a3f5f"
          },
          "geo": {
           "bgcolor": "white",
           "lakecolor": "white",
           "landcolor": "#E5ECF6",
           "showlakes": true,
           "showland": true,
           "subunitcolor": "white"
          },
          "hoverlabel": {
           "align": "left"
          },
          "hovermode": "closest",
          "mapbox": {
           "style": "light"
          },
          "paper_bgcolor": "white",
          "plot_bgcolor": "#E5ECF6",
          "polar": {
           "angularaxis": {
            "gridcolor": "white",
            "linecolor": "white",
            "ticks": ""
           },
           "bgcolor": "#E5ECF6",
           "radialaxis": {
            "gridcolor": "white",
            "linecolor": "white",
            "ticks": ""
           }
          },
          "scene": {
           "xaxis": {
            "backgroundcolor": "#E5ECF6",
            "gridcolor": "white",
            "gridwidth": 2,
            "linecolor": "white",
            "showbackground": true,
            "ticks": "",
            "zerolinecolor": "white"
           },
           "yaxis": {
            "backgroundcolor": "#E5ECF6",
            "gridcolor": "white",
            "gridwidth": 2,
            "linecolor": "white",
            "showbackground": true,
            "ticks": "",
            "zerolinecolor": "white"
           },
           "zaxis": {
            "backgroundcolor": "#E5ECF6",
            "gridcolor": "white",
            "gridwidth": 2,
            "linecolor": "white",
            "showbackground": true,
            "ticks": "",
            "zerolinecolor": "white"
           }
          },
          "shapedefaults": {
           "line": {
            "color": "#2a3f5f"
           }
          },
          "ternary": {
           "aaxis": {
            "gridcolor": "white",
            "linecolor": "white",
            "ticks": ""
           },
           "baxis": {
            "gridcolor": "white",
            "linecolor": "white",
            "ticks": ""
           },
           "bgcolor": "#E5ECF6",
           "caxis": {
            "gridcolor": "white",
            "linecolor": "white",
            "ticks": ""
           }
          },
          "title": {
           "x": 0.05
          },
          "xaxis": {
           "automargin": true,
           "gridcolor": "white",
           "linecolor": "white",
           "ticks": "",
           "title": {
            "standoff": 15
           },
           "zerolinecolor": "white",
           "zerolinewidth": 2
          },
          "yaxis": {
           "automargin": true,
           "gridcolor": "white",
           "linecolor": "white",
           "ticks": "",
           "title": {
            "standoff": 15
           },
           "zerolinecolor": "white",
           "zerolinewidth": 2
          }
         }
        },
        "title": {
         "text": "🎯 Dot Ball Kings - Highest Dot % Bowlers"
        }
       }
      }
     },
     "metadata": {},
     "output_type": "display_data"
    }
   ],
   "source": [
    "\n",
    "# We'll go with a radar chart to display dot % across top 5–6 bowlers.\n",
    "\n",
    "\n",
    "# Total balls bowled per bowler\n",
    "total_balls = odis_df.groupby('bowler').size().reset_index(name='total_balls')\n",
    "\n",
    "# Dot balls per bowler\n",
    "dot_balls = (\n",
    "    odis_df[odis_df['runs_batter'] == 0]\n",
    "    .groupby('bowler')\n",
    "    .size()\n",
    "    .reset_index(name='dot_balls')\n",
    ")\n",
    "\n",
    "# Merge and calculate dot percentage\n",
    "dot_data = pd.merge(total_balls, dot_balls, on='bowler')\n",
    "dot_data['dot_percentage'] = (dot_data['dot_balls'] / dot_data['total_balls']) * 100\n",
    "\n",
    "# Top 6 dot ball bowlers\n",
    "top_dot = dot_data.sort_values(by='dot_percentage', ascending=False).head(6)\n",
    "\n",
    "# Radar chart (Plotly)\n",
    "fig = go.Figure()\n",
    "\n",
    "fig.add_trace(go.Scatterpolar(\n",
    "    r=top_dot['dot_percentage'],\n",
    "    theta=top_dot['bowler'],\n",
    "    fill='toself',\n",
    "    name='Dot %',\n",
    "    marker_color='blue'\n",
    "))\n",
    "\n",
    "fig.update_layout(\n",
    "    polar=dict(radialaxis=dict(visible=True, range=[0, 100])),\n",
    "    title=\"🎯 Dot Ball Kings - Highest Dot % Bowlers\",\n",
    "    showlegend=False\n",
    ")\n",
    "\n",
    "fig.show()"
   ]
  },
  {
   "cell_type": "code",
   "execution_count": 55,
   "metadata": {},
   "outputs": [
    {
     "data": {
      "application/vnd.plotly.v1+json": {
       "config": {
        "plotlyServerURL": "https://plot.ly"
       },
       "data": [
        {
         "hole": 0.5,
         "hoverinfo": "label+percent+value",
         "labels": [
          "XM Marshall",
          "SIR Dunkley",
          "Mohammad Yousuf",
          "M Terblanche",
          "RV Uthappa",
          "TG Gordon"
         ],
         "textinfo": "label+percent",
         "type": "pie",
         "values": {
          "bdata": "AAAAAAAAWUAAAAAAAABZQAAAAAAAAFlAAAAAAAAAWUAAAAAAAABZQAAAAAAAAFlA",
          "dtype": "f8"
         }
        }
       ],
       "layout": {
        "annotations": [
         {
          "font": {
           "size": 20
          },
          "showarrow": false,
          "text": "Dot %",
          "x": 0.5,
          "y": 0.5
         }
        ],
        "template": {
         "data": {
          "bar": [
           {
            "error_x": {
             "color": "#2a3f5f"
            },
            "error_y": {
             "color": "#2a3f5f"
            },
            "marker": {
             "line": {
              "color": "#E5ECF6",
              "width": 0.5
             },
             "pattern": {
              "fillmode": "overlay",
              "size": 10,
              "solidity": 0.2
             }
            },
            "type": "bar"
           }
          ],
          "barpolar": [
           {
            "marker": {
             "line": {
              "color": "#E5ECF6",
              "width": 0.5
             },
             "pattern": {
              "fillmode": "overlay",
              "size": 10,
              "solidity": 0.2
             }
            },
            "type": "barpolar"
           }
          ],
          "carpet": [
           {
            "aaxis": {
             "endlinecolor": "#2a3f5f",
             "gridcolor": "white",
             "linecolor": "white",
             "minorgridcolor": "white",
             "startlinecolor": "#2a3f5f"
            },
            "baxis": {
             "endlinecolor": "#2a3f5f",
             "gridcolor": "white",
             "linecolor": "white",
             "minorgridcolor": "white",
             "startlinecolor": "#2a3f5f"
            },
            "type": "carpet"
           }
          ],
          "choropleth": [
           {
            "colorbar": {
             "outlinewidth": 0,
             "ticks": ""
            },
            "type": "choropleth"
           }
          ],
          "contour": [
           {
            "colorbar": {
             "outlinewidth": 0,
             "ticks": ""
            },
            "colorscale": [
             [
              0,
              "#0d0887"
             ],
             [
              0.1111111111111111,
              "#46039f"
             ],
             [
              0.2222222222222222,
              "#7201a8"
             ],
             [
              0.3333333333333333,
              "#9c179e"
             ],
             [
              0.4444444444444444,
              "#bd3786"
             ],
             [
              0.5555555555555556,
              "#d8576b"
             ],
             [
              0.6666666666666666,
              "#ed7953"
             ],
             [
              0.7777777777777778,
              "#fb9f3a"
             ],
             [
              0.8888888888888888,
              "#fdca26"
             ],
             [
              1,
              "#f0f921"
             ]
            ],
            "type": "contour"
           }
          ],
          "contourcarpet": [
           {
            "colorbar": {
             "outlinewidth": 0,
             "ticks": ""
            },
            "type": "contourcarpet"
           }
          ],
          "heatmap": [
           {
            "colorbar": {
             "outlinewidth": 0,
             "ticks": ""
            },
            "colorscale": [
             [
              0,
              "#0d0887"
             ],
             [
              0.1111111111111111,
              "#46039f"
             ],
             [
              0.2222222222222222,
              "#7201a8"
             ],
             [
              0.3333333333333333,
              "#9c179e"
             ],
             [
              0.4444444444444444,
              "#bd3786"
             ],
             [
              0.5555555555555556,
              "#d8576b"
             ],
             [
              0.6666666666666666,
              "#ed7953"
             ],
             [
              0.7777777777777778,
              "#fb9f3a"
             ],
             [
              0.8888888888888888,
              "#fdca26"
             ],
             [
              1,
              "#f0f921"
             ]
            ],
            "type": "heatmap"
           }
          ],
          "histogram": [
           {
            "marker": {
             "pattern": {
              "fillmode": "overlay",
              "size": 10,
              "solidity": 0.2
             }
            },
            "type": "histogram"
           }
          ],
          "histogram2d": [
           {
            "colorbar": {
             "outlinewidth": 0,
             "ticks": ""
            },
            "colorscale": [
             [
              0,
              "#0d0887"
             ],
             [
              0.1111111111111111,
              "#46039f"
             ],
             [
              0.2222222222222222,
              "#7201a8"
             ],
             [
              0.3333333333333333,
              "#9c179e"
             ],
             [
              0.4444444444444444,
              "#bd3786"
             ],
             [
              0.5555555555555556,
              "#d8576b"
             ],
             [
              0.6666666666666666,
              "#ed7953"
             ],
             [
              0.7777777777777778,
              "#fb9f3a"
             ],
             [
              0.8888888888888888,
              "#fdca26"
             ],
             [
              1,
              "#f0f921"
             ]
            ],
            "type": "histogram2d"
           }
          ],
          "histogram2dcontour": [
           {
            "colorbar": {
             "outlinewidth": 0,
             "ticks": ""
            },
            "colorscale": [
             [
              0,
              "#0d0887"
             ],
             [
              0.1111111111111111,
              "#46039f"
             ],
             [
              0.2222222222222222,
              "#7201a8"
             ],
             [
              0.3333333333333333,
              "#9c179e"
             ],
             [
              0.4444444444444444,
              "#bd3786"
             ],
             [
              0.5555555555555556,
              "#d8576b"
             ],
             [
              0.6666666666666666,
              "#ed7953"
             ],
             [
              0.7777777777777778,
              "#fb9f3a"
             ],
             [
              0.8888888888888888,
              "#fdca26"
             ],
             [
              1,
              "#f0f921"
             ]
            ],
            "type": "histogram2dcontour"
           }
          ],
          "mesh3d": [
           {
            "colorbar": {
             "outlinewidth": 0,
             "ticks": ""
            },
            "type": "mesh3d"
           }
          ],
          "parcoords": [
           {
            "line": {
             "colorbar": {
              "outlinewidth": 0,
              "ticks": ""
             }
            },
            "type": "parcoords"
           }
          ],
          "pie": [
           {
            "automargin": true,
            "type": "pie"
           }
          ],
          "scatter": [
           {
            "fillpattern": {
             "fillmode": "overlay",
             "size": 10,
             "solidity": 0.2
            },
            "type": "scatter"
           }
          ],
          "scatter3d": [
           {
            "line": {
             "colorbar": {
              "outlinewidth": 0,
              "ticks": ""
             }
            },
            "marker": {
             "colorbar": {
              "outlinewidth": 0,
              "ticks": ""
             }
            },
            "type": "scatter3d"
           }
          ],
          "scattercarpet": [
           {
            "marker": {
             "colorbar": {
              "outlinewidth": 0,
              "ticks": ""
             }
            },
            "type": "scattercarpet"
           }
          ],
          "scattergeo": [
           {
            "marker": {
             "colorbar": {
              "outlinewidth": 0,
              "ticks": ""
             }
            },
            "type": "scattergeo"
           }
          ],
          "scattergl": [
           {
            "marker": {
             "colorbar": {
              "outlinewidth": 0,
              "ticks": ""
             }
            },
            "type": "scattergl"
           }
          ],
          "scattermap": [
           {
            "marker": {
             "colorbar": {
              "outlinewidth": 0,
              "ticks": ""
             }
            },
            "type": "scattermap"
           }
          ],
          "scattermapbox": [
           {
            "marker": {
             "colorbar": {
              "outlinewidth": 0,
              "ticks": ""
             }
            },
            "type": "scattermapbox"
           }
          ],
          "scatterpolar": [
           {
            "marker": {
             "colorbar": {
              "outlinewidth": 0,
              "ticks": ""
             }
            },
            "type": "scatterpolar"
           }
          ],
          "scatterpolargl": [
           {
            "marker": {
             "colorbar": {
              "outlinewidth": 0,
              "ticks": ""
             }
            },
            "type": "scatterpolargl"
           }
          ],
          "scatterternary": [
           {
            "marker": {
             "colorbar": {
              "outlinewidth": 0,
              "ticks": ""
             }
            },
            "type": "scatterternary"
           }
          ],
          "surface": [
           {
            "colorbar": {
             "outlinewidth": 0,
             "ticks": ""
            },
            "colorscale": [
             [
              0,
              "#0d0887"
             ],
             [
              0.1111111111111111,
              "#46039f"
             ],
             [
              0.2222222222222222,
              "#7201a8"
             ],
             [
              0.3333333333333333,
              "#9c179e"
             ],
             [
              0.4444444444444444,
              "#bd3786"
             ],
             [
              0.5555555555555556,
              "#d8576b"
             ],
             [
              0.6666666666666666,
              "#ed7953"
             ],
             [
              0.7777777777777778,
              "#fb9f3a"
             ],
             [
              0.8888888888888888,
              "#fdca26"
             ],
             [
              1,
              "#f0f921"
             ]
            ],
            "type": "surface"
           }
          ],
          "table": [
           {
            "cells": {
             "fill": {
              "color": "#EBF0F8"
             },
             "line": {
              "color": "white"
             }
            },
            "header": {
             "fill": {
              "color": "#C8D4E3"
             },
             "line": {
              "color": "white"
             }
            },
            "type": "table"
           }
          ]
         },
         "layout": {
          "annotationdefaults": {
           "arrowcolor": "#2a3f5f",
           "arrowhead": 0,
           "arrowwidth": 1
          },
          "autotypenumbers": "strict",
          "coloraxis": {
           "colorbar": {
            "outlinewidth": 0,
            "ticks": ""
           }
          },
          "colorscale": {
           "diverging": [
            [
             0,
             "#8e0152"
            ],
            [
             0.1,
             "#c51b7d"
            ],
            [
             0.2,
             "#de77ae"
            ],
            [
             0.3,
             "#f1b6da"
            ],
            [
             0.4,
             "#fde0ef"
            ],
            [
             0.5,
             "#f7f7f7"
            ],
            [
             0.6,
             "#e6f5d0"
            ],
            [
             0.7,
             "#b8e186"
            ],
            [
             0.8,
             "#7fbc41"
            ],
            [
             0.9,
             "#4d9221"
            ],
            [
             1,
             "#276419"
            ]
           ],
           "sequential": [
            [
             0,
             "#0d0887"
            ],
            [
             0.1111111111111111,
             "#46039f"
            ],
            [
             0.2222222222222222,
             "#7201a8"
            ],
            [
             0.3333333333333333,
             "#9c179e"
            ],
            [
             0.4444444444444444,
             "#bd3786"
            ],
            [
             0.5555555555555556,
             "#d8576b"
            ],
            [
             0.6666666666666666,
             "#ed7953"
            ],
            [
             0.7777777777777778,
             "#fb9f3a"
            ],
            [
             0.8888888888888888,
             "#fdca26"
            ],
            [
             1,
             "#f0f921"
            ]
           ],
           "sequentialminus": [
            [
             0,
             "#0d0887"
            ],
            [
             0.1111111111111111,
             "#46039f"
            ],
            [
             0.2222222222222222,
             "#7201a8"
            ],
            [
             0.3333333333333333,
             "#9c179e"
            ],
            [
             0.4444444444444444,
             "#bd3786"
            ],
            [
             0.5555555555555556,
             "#d8576b"
            ],
            [
             0.6666666666666666,
             "#ed7953"
            ],
            [
             0.7777777777777778,
             "#fb9f3a"
            ],
            [
             0.8888888888888888,
             "#fdca26"
            ],
            [
             1,
             "#f0f921"
            ]
           ]
          },
          "colorway": [
           "#636efa",
           "#EF553B",
           "#00cc96",
           "#ab63fa",
           "#FFA15A",
           "#19d3f3",
           "#FF6692",
           "#B6E880",
           "#FF97FF",
           "#FECB52"
          ],
          "font": {
           "color": "#2a3f5f"
          },
          "geo": {
           "bgcolor": "white",
           "lakecolor": "white",
           "landcolor": "#E5ECF6",
           "showlakes": true,
           "showland": true,
           "subunitcolor": "white"
          },
          "hoverlabel": {
           "align": "left"
          },
          "hovermode": "closest",
          "mapbox": {
           "style": "light"
          },
          "paper_bgcolor": "white",
          "plot_bgcolor": "#E5ECF6",
          "polar": {
           "angularaxis": {
            "gridcolor": "white",
            "linecolor": "white",
            "ticks": ""
           },
           "bgcolor": "#E5ECF6",
           "radialaxis": {
            "gridcolor": "white",
            "linecolor": "white",
            "ticks": ""
           }
          },
          "scene": {
           "xaxis": {
            "backgroundcolor": "#E5ECF6",
            "gridcolor": "white",
            "gridwidth": 2,
            "linecolor": "white",
            "showbackground": true,
            "ticks": "",
            "zerolinecolor": "white"
           },
           "yaxis": {
            "backgroundcolor": "#E5ECF6",
            "gridcolor": "white",
            "gridwidth": 2,
            "linecolor": "white",
            "showbackground": true,
            "ticks": "",
            "zerolinecolor": "white"
           },
           "zaxis": {
            "backgroundcolor": "#E5ECF6",
            "gridcolor": "white",
            "gridwidth": 2,
            "linecolor": "white",
            "showbackground": true,
            "ticks": "",
            "zerolinecolor": "white"
           }
          },
          "shapedefaults": {
           "line": {
            "color": "#2a3f5f"
           }
          },
          "ternary": {
           "aaxis": {
            "gridcolor": "white",
            "linecolor": "white",
            "ticks": ""
           },
           "baxis": {
            "gridcolor": "white",
            "linecolor": "white",
            "ticks": ""
           },
           "bgcolor": "#E5ECF6",
           "caxis": {
            "gridcolor": "white",
            "linecolor": "white",
            "ticks": ""
           }
          },
          "title": {
           "x": 0.05
          },
          "xaxis": {
           "automargin": true,
           "gridcolor": "white",
           "linecolor": "white",
           "ticks": "",
           "title": {
            "standoff": 15
           },
           "zerolinecolor": "white",
           "zerolinewidth": 2
          },
          "yaxis": {
           "automargin": true,
           "gridcolor": "white",
           "linecolor": "white",
           "ticks": "",
           "title": {
            "standoff": 15
           },
           "zerolinecolor": "white",
           "zerolinewidth": 2
          }
         }
        },
        "title": {
         "text": "🎯 Dot Ball Kings - Top Bowlers by Dot Ball %"
        }
       }
      }
     },
     "metadata": {},
     "output_type": "display_data"
    }
   ],
   "source": [
    "# Total balls bowled per bowler\n",
    "total_balls = odis_df.groupby('bowler').size().reset_index(name='total_balls')\n",
    "\n",
    "# Dot balls per bowler\n",
    "dot_balls = (\n",
    "    odis_df[odis_df['runs_batter'] == 0]\n",
    "    .groupby('bowler')\n",
    "    .size()\n",
    "    .reset_index(name='dot_balls')\n",
    ")\n",
    "\n",
    "# Merge and calculate dot percentage\n",
    "dot_data = pd.merge(total_balls, dot_balls, on='bowler')\n",
    "dot_data['dot_percentage'] = (dot_data['dot_balls'] / dot_data['total_balls']) * 100\n",
    "\n",
    "# Top 6 bowlers with highest dot %\n",
    "top_dot = dot_data.sort_values(by='dot_percentage', ascending=False).head(6)\n",
    "\n",
    "# Doughnut Chart\n",
    "import plotly.graph_objects as go\n",
    "\n",
    "fig = go.Figure(data=[go.Pie(\n",
    "    labels=top_dot['bowler'],\n",
    "    values=top_dot['dot_percentage'],\n",
    "    hole=0.5,\n",
    "    hoverinfo='label+percent+value',\n",
    "    textinfo='label+percent'\n",
    ")])\n",
    "\n",
    "fig.update_layout(\n",
    "    title=\"🎯 Dot Ball Kings - Top Bowlers by Dot Ball %\",\n",
    "    annotations=[dict(text='Dot %', x=0.5, y=0.5, font_size=20, showarrow=False)]\n",
    ")\n",
    "\n",
    "fig.show()\n"
   ]
  },
  {
   "cell_type": "markdown",
   "metadata": {},
   "source": [
    "### T20's Data Analysis"
   ]
  },
  {
   "cell_type": "code",
   "execution_count": null,
   "metadata": {},
   "outputs": [],
   "source": [
    "\n",
    "t20s_df = pd.read_csv(\"/Users/muralidharanv/Documents/GUVI /PROJECTS/Cricket Matchsheet Analysis/Output/t20s_df.csv\")\n",
    "t20_df = clean_df(t20s_df)"
   ]
  },
  {
   "cell_type": "markdown",
   "metadata": {},
   "source": [
    "#### 1. T20 Team Matchups and Wins Between Teams"
   ]
  },
  {
   "cell_type": "code",
   "execution_count": null,
   "metadata": {},
   "outputs": [
    {
     "data": {
      "application/vnd.plotly.v1+json": {
       "config": {
        "plotlyServerURL": "https://plot.ly"
       },
       "data": [
        {
         "alignmentgroup": "True",
         "hovertemplate": "winner=Australia<br>Team Matchup=%{x}<br>Wins=%{y}<extra></extra>",
         "legendgroup": "Australia",
         "marker": {
          "color": "#636efa",
          "pattern": {
           "shape": ""
          }
         },
         "name": "Australia",
         "offsetgroup": "Australia",
         "orientation": "v",
         "showlegend": true,
         "textposition": "auto",
         "type": "bar",
         "x": [
          "Australia vs England",
          "Australia vs India",
          "Australia vs New Zealand",
          "Australia vs Pakistan"
         ],
         "xaxis": "x",
         "y": {
          "bdata": "YRzxHPQcFhg=",
          "dtype": "i2"
         },
         "yaxis": "y"
        },
        {
         "alignmentgroup": "True",
         "hovertemplate": "winner=England<br>Team Matchup=%{x}<br>Wins=%{y}<extra></extra>",
         "legendgroup": "England",
         "marker": {
          "color": "#EF553B",
          "pattern": {
           "shape": ""
          }
         },
         "name": "England",
         "offsetgroup": "England",
         "orientation": "v",
         "showlegend": true,
         "textposition": "auto",
         "type": "bar",
         "x": [
          "Australia vs England",
          "England vs India",
          "England vs New Zealand",
          "England vs Pakistan",
          "England vs South Africa",
          "England vs West Indies"
         ],
         "xaxis": "x",
         "y": {
          "bdata": "NBd6HBwh3yFPGbAd",
          "dtype": "i2"
         },
         "yaxis": "y"
        },
        {
         "alignmentgroup": "True",
         "hovertemplate": "winner=No result<br>Team Matchup=%{x}<br>Wins=%{y}<extra></extra>",
         "legendgroup": "No result",
         "marker": {
          "color": "#00cc96",
          "pattern": {
           "shape": ""
          }
         },
         "name": "No result",
         "offsetgroup": "No result",
         "orientation": "v",
         "showlegend": true,
         "textposition": "auto",
         "type": "bar",
         "x": [
          "Australia vs England",
          "Australia vs India",
          "Australia vs New Zealand",
          "Australia vs Pakistan",
          "England vs New Zealand",
          "England vs Pakistan",
          "England vs South Africa",
          "England vs West Indies",
          "India vs South Africa",
          "India vs Sri Lanka",
          "India vs West Indies",
          "New Zealand vs Pakistan",
          "South Africa vs West Indies"
         ],
         "xaxis": "x",
         "y": {
          "bdata": "CALaARgBQgKaAGoB3wAeAPwANAGHAHgAjQA=",
          "dtype": "i2"
         },
         "yaxis": "y"
        },
        {
         "alignmentgroup": "True",
         "hovertemplate": "winner=India<br>Team Matchup=%{x}<br>Wins=%{y}<extra></extra>",
         "legendgroup": "India",
         "marker": {
          "color": "#ab63fa",
          "pattern": {
           "shape": ""
          }
         },
         "name": "India",
         "offsetgroup": "India",
         "orientation": "v",
         "showlegend": true,
         "textposition": "auto",
         "type": "bar",
         "x": [
          "Australia vs India",
          "England vs India",
          "India vs South Africa",
          "India vs Sri Lanka",
          "India vs West Indies"
         ],
         "xaxis": "x",
         "y": {
          "bdata": "xxYfFQoZ1h2uGw==",
          "dtype": "i2"
         },
         "yaxis": "y"
        },
        {
         "alignmentgroup": "True",
         "hovertemplate": "winner=New Zealand<br>Team Matchup=%{x}<br>Wins=%{y}<extra></extra>",
         "legendgroup": "New Zealand",
         "marker": {
          "color": "#FFA15A",
          "pattern": {
           "shape": ""
          }
         },
         "name": "New Zealand",
         "offsetgroup": "New Zealand",
         "orientation": "v",
         "showlegend": true,
         "textposition": "auto",
         "type": "bar",
         "x": [
          "Australia vs New Zealand",
          "England vs New Zealand",
          "New Zealand vs Pakistan"
         ],
         "xaxis": "x",
         "y": {
          "bdata": "/gnrC1Yb",
          "dtype": "i2"
         },
         "yaxis": "y"
        },
        {
         "alignmentgroup": "True",
         "hovertemplate": "winner=Pakistan<br>Team Matchup=%{x}<br>Wins=%{y}<extra></extra>",
         "legendgroup": "Pakistan",
         "marker": {
          "color": "#19d3f3",
          "pattern": {
           "shape": ""
          }
         },
         "name": "Pakistan",
         "offsetgroup": "Pakistan",
         "orientation": "v",
         "showlegend": true,
         "textposition": "auto",
         "type": "bar",
         "x": [
          "Australia vs Pakistan",
          "England vs Pakistan",
          "New Zealand vs Pakistan",
          "Pakistan vs South Africa"
         ],
         "xaxis": "x",
         "y": {
          "bdata": "MgtnCeQXNxU=",
          "dtype": "i2"
         },
         "yaxis": "y"
        },
        {
         "alignmentgroup": "True",
         "hovertemplate": "winner=South Africa<br>Team Matchup=%{x}<br>Wins=%{y}<extra></extra>",
         "legendgroup": "South Africa",
         "marker": {
          "color": "#FF6692",
          "pattern": {
           "shape": ""
          }
         },
         "name": "South Africa",
         "offsetgroup": "South Africa",
         "orientation": "v",
         "showlegend": true,
         "textposition": "auto",
         "type": "bar",
         "x": [
          "England vs South Africa",
          "India vs South Africa",
          "Pakistan vs South Africa",
          "South Africa vs West Indies"
         ],
         "xaxis": "x",
         "y": {
          "bdata": "Hw9tEIQSHxM=",
          "dtype": "i2"
         },
         "yaxis": "y"
        },
        {
         "alignmentgroup": "True",
         "hovertemplate": "winner=West Indies<br>Team Matchup=%{x}<br>Wins=%{y}<extra></extra>",
         "legendgroup": "West Indies",
         "marker": {
          "color": "#B6E880",
          "pattern": {
           "shape": ""
          }
         },
         "name": "West Indies",
         "offsetgroup": "West Indies",
         "orientation": "v",
         "showlegend": true,
         "textposition": "auto",
         "type": "bar",
         "x": [
          "England vs West Indies",
          "India vs West Indies",
          "South Africa vs West Indies"
         ],
         "xaxis": "x",
         "y": {
          "bdata": "ORRtCyYS",
          "dtype": "i2"
         },
         "yaxis": "y"
        },
        {
         "alignmentgroup": "True",
         "hovertemplate": "winner=Sri Lanka<br>Team Matchup=%{x}<br>Wins=%{y}<extra></extra>",
         "legendgroup": "Sri Lanka",
         "marker": {
          "color": "#FF97FF",
          "pattern": {
           "shape": ""
          }
         },
         "name": "Sri Lanka",
         "offsetgroup": "Sri Lanka",
         "orientation": "v",
         "showlegend": true,
         "textposition": "auto",
         "type": "bar",
         "x": [
          "India vs Sri Lanka"
         ],
         "xaxis": "x",
         "y": {
          "bdata": "Pws=",
          "dtype": "i2"
         },
         "yaxis": "y"
        }
       ],
       "layout": {
        "barmode": "group",
        "height": 600,
        "legend": {
         "title": {
          "text": "winner"
         },
         "tracegroupgap": 0
        },
        "template": {
         "data": {
          "bar": [
           {
            "error_x": {
             "color": "#2a3f5f"
            },
            "error_y": {
             "color": "#2a3f5f"
            },
            "marker": {
             "line": {
              "color": "#E5ECF6",
              "width": 0.5
             },
             "pattern": {
              "fillmode": "overlay",
              "size": 10,
              "solidity": 0.2
             }
            },
            "type": "bar"
           }
          ],
          "barpolar": [
           {
            "marker": {
             "line": {
              "color": "#E5ECF6",
              "width": 0.5
             },
             "pattern": {
              "fillmode": "overlay",
              "size": 10,
              "solidity": 0.2
             }
            },
            "type": "barpolar"
           }
          ],
          "carpet": [
           {
            "aaxis": {
             "endlinecolor": "#2a3f5f",
             "gridcolor": "white",
             "linecolor": "white",
             "minorgridcolor": "white",
             "startlinecolor": "#2a3f5f"
            },
            "baxis": {
             "endlinecolor": "#2a3f5f",
             "gridcolor": "white",
             "linecolor": "white",
             "minorgridcolor": "white",
             "startlinecolor": "#2a3f5f"
            },
            "type": "carpet"
           }
          ],
          "choropleth": [
           {
            "colorbar": {
             "outlinewidth": 0,
             "ticks": ""
            },
            "type": "choropleth"
           }
          ],
          "contour": [
           {
            "colorbar": {
             "outlinewidth": 0,
             "ticks": ""
            },
            "colorscale": [
             [
              0,
              "#0d0887"
             ],
             [
              0.1111111111111111,
              "#46039f"
             ],
             [
              0.2222222222222222,
              "#7201a8"
             ],
             [
              0.3333333333333333,
              "#9c179e"
             ],
             [
              0.4444444444444444,
              "#bd3786"
             ],
             [
              0.5555555555555556,
              "#d8576b"
             ],
             [
              0.6666666666666666,
              "#ed7953"
             ],
             [
              0.7777777777777778,
              "#fb9f3a"
             ],
             [
              0.8888888888888888,
              "#fdca26"
             ],
             [
              1,
              "#f0f921"
             ]
            ],
            "type": "contour"
           }
          ],
          "contourcarpet": [
           {
            "colorbar": {
             "outlinewidth": 0,
             "ticks": ""
            },
            "type": "contourcarpet"
           }
          ],
          "heatmap": [
           {
            "colorbar": {
             "outlinewidth": 0,
             "ticks": ""
            },
            "colorscale": [
             [
              0,
              "#0d0887"
             ],
             [
              0.1111111111111111,
              "#46039f"
             ],
             [
              0.2222222222222222,
              "#7201a8"
             ],
             [
              0.3333333333333333,
              "#9c179e"
             ],
             [
              0.4444444444444444,
              "#bd3786"
             ],
             [
              0.5555555555555556,
              "#d8576b"
             ],
             [
              0.6666666666666666,
              "#ed7953"
             ],
             [
              0.7777777777777778,
              "#fb9f3a"
             ],
             [
              0.8888888888888888,
              "#fdca26"
             ],
             [
              1,
              "#f0f921"
             ]
            ],
            "type": "heatmap"
           }
          ],
          "histogram": [
           {
            "marker": {
             "pattern": {
              "fillmode": "overlay",
              "size": 10,
              "solidity": 0.2
             }
            },
            "type": "histogram"
           }
          ],
          "histogram2d": [
           {
            "colorbar": {
             "outlinewidth": 0,
             "ticks": ""
            },
            "colorscale": [
             [
              0,
              "#0d0887"
             ],
             [
              0.1111111111111111,
              "#46039f"
             ],
             [
              0.2222222222222222,
              "#7201a8"
             ],
             [
              0.3333333333333333,
              "#9c179e"
             ],
             [
              0.4444444444444444,
              "#bd3786"
             ],
             [
              0.5555555555555556,
              "#d8576b"
             ],
             [
              0.6666666666666666,
              "#ed7953"
             ],
             [
              0.7777777777777778,
              "#fb9f3a"
             ],
             [
              0.8888888888888888,
              "#fdca26"
             ],
             [
              1,
              "#f0f921"
             ]
            ],
            "type": "histogram2d"
           }
          ],
          "histogram2dcontour": [
           {
            "colorbar": {
             "outlinewidth": 0,
             "ticks": ""
            },
            "colorscale": [
             [
              0,
              "#0d0887"
             ],
             [
              0.1111111111111111,
              "#46039f"
             ],
             [
              0.2222222222222222,
              "#7201a8"
             ],
             [
              0.3333333333333333,
              "#9c179e"
             ],
             [
              0.4444444444444444,
              "#bd3786"
             ],
             [
              0.5555555555555556,
              "#d8576b"
             ],
             [
              0.6666666666666666,
              "#ed7953"
             ],
             [
              0.7777777777777778,
              "#fb9f3a"
             ],
             [
              0.8888888888888888,
              "#fdca26"
             ],
             [
              1,
              "#f0f921"
             ]
            ],
            "type": "histogram2dcontour"
           }
          ],
          "mesh3d": [
           {
            "colorbar": {
             "outlinewidth": 0,
             "ticks": ""
            },
            "type": "mesh3d"
           }
          ],
          "parcoords": [
           {
            "line": {
             "colorbar": {
              "outlinewidth": 0,
              "ticks": ""
             }
            },
            "type": "parcoords"
           }
          ],
          "pie": [
           {
            "automargin": true,
            "type": "pie"
           }
          ],
          "scatter": [
           {
            "fillpattern": {
             "fillmode": "overlay",
             "size": 10,
             "solidity": 0.2
            },
            "type": "scatter"
           }
          ],
          "scatter3d": [
           {
            "line": {
             "colorbar": {
              "outlinewidth": 0,
              "ticks": ""
             }
            },
            "marker": {
             "colorbar": {
              "outlinewidth": 0,
              "ticks": ""
             }
            },
            "type": "scatter3d"
           }
          ],
          "scattercarpet": [
           {
            "marker": {
             "colorbar": {
              "outlinewidth": 0,
              "ticks": ""
             }
            },
            "type": "scattercarpet"
           }
          ],
          "scattergeo": [
           {
            "marker": {
             "colorbar": {
              "outlinewidth": 0,
              "ticks": ""
             }
            },
            "type": "scattergeo"
           }
          ],
          "scattergl": [
           {
            "marker": {
             "colorbar": {
              "outlinewidth": 0,
              "ticks": ""
             }
            },
            "type": "scattergl"
           }
          ],
          "scattermap": [
           {
            "marker": {
             "colorbar": {
              "outlinewidth": 0,
              "ticks": ""
             }
            },
            "type": "scattermap"
           }
          ],
          "scattermapbox": [
           {
            "marker": {
             "colorbar": {
              "outlinewidth": 0,
              "ticks": ""
             }
            },
            "type": "scattermapbox"
           }
          ],
          "scatterpolar": [
           {
            "marker": {
             "colorbar": {
              "outlinewidth": 0,
              "ticks": ""
             }
            },
            "type": "scatterpolar"
           }
          ],
          "scatterpolargl": [
           {
            "marker": {
             "colorbar": {
              "outlinewidth": 0,
              "ticks": ""
             }
            },
            "type": "scatterpolargl"
           }
          ],
          "scatterternary": [
           {
            "marker": {
             "colorbar": {
              "outlinewidth": 0,
              "ticks": ""
             }
            },
            "type": "scatterternary"
           }
          ],
          "surface": [
           {
            "colorbar": {
             "outlinewidth": 0,
             "ticks": ""
            },
            "colorscale": [
             [
              0,
              "#0d0887"
             ],
             [
              0.1111111111111111,
              "#46039f"
             ],
             [
              0.2222222222222222,
              "#7201a8"
             ],
             [
              0.3333333333333333,
              "#9c179e"
             ],
             [
              0.4444444444444444,
              "#bd3786"
             ],
             [
              0.5555555555555556,
              "#d8576b"
             ],
             [
              0.6666666666666666,
              "#ed7953"
             ],
             [
              0.7777777777777778,
              "#fb9f3a"
             ],
             [
              0.8888888888888888,
              "#fdca26"
             ],
             [
              1,
              "#f0f921"
             ]
            ],
            "type": "surface"
           }
          ],
          "table": [
           {
            "cells": {
             "fill": {
              "color": "#EBF0F8"
             },
             "line": {
              "color": "white"
             }
            },
            "header": {
             "fill": {
              "color": "#C8D4E3"
             },
             "line": {
              "color": "white"
             }
            },
            "type": "table"
           }
          ]
         },
         "layout": {
          "annotationdefaults": {
           "arrowcolor": "#2a3f5f",
           "arrowhead": 0,
           "arrowwidth": 1
          },
          "autotypenumbers": "strict",
          "coloraxis": {
           "colorbar": {
            "outlinewidth": 0,
            "ticks": ""
           }
          },
          "colorscale": {
           "diverging": [
            [
             0,
             "#8e0152"
            ],
            [
             0.1,
             "#c51b7d"
            ],
            [
             0.2,
             "#de77ae"
            ],
            [
             0.3,
             "#f1b6da"
            ],
            [
             0.4,
             "#fde0ef"
            ],
            [
             0.5,
             "#f7f7f7"
            ],
            [
             0.6,
             "#e6f5d0"
            ],
            [
             0.7,
             "#b8e186"
            ],
            [
             0.8,
             "#7fbc41"
            ],
            [
             0.9,
             "#4d9221"
            ],
            [
             1,
             "#276419"
            ]
           ],
           "sequential": [
            [
             0,
             "#0d0887"
            ],
            [
             0.1111111111111111,
             "#46039f"
            ],
            [
             0.2222222222222222,
             "#7201a8"
            ],
            [
             0.3333333333333333,
             "#9c179e"
            ],
            [
             0.4444444444444444,
             "#bd3786"
            ],
            [
             0.5555555555555556,
             "#d8576b"
            ],
            [
             0.6666666666666666,
             "#ed7953"
            ],
            [
             0.7777777777777778,
             "#fb9f3a"
            ],
            [
             0.8888888888888888,
             "#fdca26"
            ],
            [
             1,
             "#f0f921"
            ]
           ],
           "sequentialminus": [
            [
             0,
             "#0d0887"
            ],
            [
             0.1111111111111111,
             "#46039f"
            ],
            [
             0.2222222222222222,
             "#7201a8"
            ],
            [
             0.3333333333333333,
             "#9c179e"
            ],
            [
             0.4444444444444444,
             "#bd3786"
            ],
            [
             0.5555555555555556,
             "#d8576b"
            ],
            [
             0.6666666666666666,
             "#ed7953"
            ],
            [
             0.7777777777777778,
             "#fb9f3a"
            ],
            [
             0.8888888888888888,
             "#fdca26"
            ],
            [
             1,
             "#f0f921"
            ]
           ]
          },
          "colorway": [
           "#636efa",
           "#EF553B",
           "#00cc96",
           "#ab63fa",
           "#FFA15A",
           "#19d3f3",
           "#FF6692",
           "#B6E880",
           "#FF97FF",
           "#FECB52"
          ],
          "font": {
           "color": "#2a3f5f"
          },
          "geo": {
           "bgcolor": "white",
           "lakecolor": "white",
           "landcolor": "#E5ECF6",
           "showlakes": true,
           "showland": true,
           "subunitcolor": "white"
          },
          "hoverlabel": {
           "align": "left"
          },
          "hovermode": "closest",
          "mapbox": {
           "style": "light"
          },
          "paper_bgcolor": "white",
          "plot_bgcolor": "#E5ECF6",
          "polar": {
           "angularaxis": {
            "gridcolor": "white",
            "linecolor": "white",
            "ticks": ""
           },
           "bgcolor": "#E5ECF6",
           "radialaxis": {
            "gridcolor": "white",
            "linecolor": "white",
            "ticks": ""
           }
          },
          "scene": {
           "xaxis": {
            "backgroundcolor": "#E5ECF6",
            "gridcolor": "white",
            "gridwidth": 2,
            "linecolor": "white",
            "showbackground": true,
            "ticks": "",
            "zerolinecolor": "white"
           },
           "yaxis": {
            "backgroundcolor": "#E5ECF6",
            "gridcolor": "white",
            "gridwidth": 2,
            "linecolor": "white",
            "showbackground": true,
            "ticks": "",
            "zerolinecolor": "white"
           },
           "zaxis": {
            "backgroundcolor": "#E5ECF6",
            "gridcolor": "white",
            "gridwidth": 2,
            "linecolor": "white",
            "showbackground": true,
            "ticks": "",
            "zerolinecolor": "white"
           }
          },
          "shapedefaults": {
           "line": {
            "color": "#2a3f5f"
           }
          },
          "ternary": {
           "aaxis": {
            "gridcolor": "white",
            "linecolor": "white",
            "ticks": ""
           },
           "baxis": {
            "gridcolor": "white",
            "linecolor": "white",
            "ticks": ""
           },
           "bgcolor": "#E5ECF6",
           "caxis": {
            "gridcolor": "white",
            "linecolor": "white",
            "ticks": ""
           }
          },
          "title": {
           "x": 0.05
          },
          "xaxis": {
           "automargin": true,
           "gridcolor": "white",
           "linecolor": "white",
           "ticks": "",
           "title": {
            "standoff": 15
           },
           "zerolinecolor": "white",
           "zerolinewidth": 2
          },
          "yaxis": {
           "automargin": true,
           "gridcolor": "white",
           "linecolor": "white",
           "ticks": "",
           "title": {
            "standoff": 15
           },
           "zerolinecolor": "white",
           "zerolinewidth": 2
          }
         }
        },
        "title": {
         "text": "Top 25 Most Frequent Team Matchups & Wins"
        },
        "xaxis": {
         "anchor": "y",
         "domain": [
          0,
          1
         ],
         "tickangle": 45,
         "title": {
          "text": "Team Matchup"
         }
        },
        "yaxis": {
         "anchor": "x",
         "domain": [
          0,
          1
         ],
         "title": {
          "text": "Wins"
         }
        }
       }
      }
     },
     "metadata": {},
     "output_type": "display_data"
    }
   ],
   "source": [
    "# Step 1: Create a new column for matchup pair (sorted alphabetically to treat both orders the same)\n",
    "t20s_df['matchup'] = t20s_df.apply(lambda x: ' vs '.join(sorted([x['team1'], x['team2']])), axis=1)\n",
    "\n",
    "# Step 2: Count total matches and wins per team in each matchup\n",
    "matchup_summary = t20s_df.groupby(['matchup', 'winner']).size().reset_index(name='match_count')\n",
    "\n",
    "# Step 3: Get top 25 most frequent matchups\n",
    "top_matchups = (\n",
    "    t20s_df['matchup'].value_counts()\n",
    "    .head(15)\n",
    "    .reset_index()\n",
    "    .rename(columns={'total_matches': 'matchup', 'count': 'wins'})\n",
    ")\n",
    "\n",
    "# Step 4: Filter matchup_summary to include only those top 25\n",
    "matchup_summary_top = matchup_summary[matchup_summary['matchup'].isin(top_matchups['matchup'])]\n",
    "\n",
    "# Step 5: Plot grouped bar chart using Plotly\n",
    "fig = px.bar(\n",
    "    matchup_summary_top,\n",
    "    x='matchup',\n",
    "    y='match_count',\n",
    "    color='winner',\n",
    "    title='Top 15 Most Frequent Team Matchups & Wins',\n",
    "    labels={'matchup': 'Team Matchup', 'match_count': 'Wins'},\n",
    "    barmode='group'\n",
    ")\n",
    "\n",
    "fig.update_layout(xaxis_tickangle=45, height=600)\n",
    "fig.show()"
   ]
  },
  {
   "cell_type": "markdown",
   "metadata": {},
   "source": [
    "#### 2. Death Over Finishers (Overs 16–20)"
   ]
  },
  {
   "cell_type": "code",
   "execution_count": 61,
   "metadata": {},
   "outputs": [
    {
     "data": {
      "application/vnd.plotly.v1+json": {
       "config": {
        "plotlyServerURL": "https://plot.ly"
       },
       "data": [
        {
         "hole": 0.3,
         "labels": [
          "DA Miller",
          "HH Pandya",
          "MS Dhoni",
          "Shoaib Malik",
          "Mahmudullah",
          "V Kohli",
          "MD Shanaka",
          "DS Airee",
          "KA Pollard",
          "EJG Morgan"
         ],
         "type": "pie",
         "values": {
          "bdata": "swNdA0YD3wLWAtMCtQJyAkMCNAI=",
          "dtype": "i2"
         }
        }
       ],
       "layout": {
        "template": {
         "data": {
          "bar": [
           {
            "error_x": {
             "color": "#2a3f5f"
            },
            "error_y": {
             "color": "#2a3f5f"
            },
            "marker": {
             "line": {
              "color": "#E5ECF6",
              "width": 0.5
             },
             "pattern": {
              "fillmode": "overlay",
              "size": 10,
              "solidity": 0.2
             }
            },
            "type": "bar"
           }
          ],
          "barpolar": [
           {
            "marker": {
             "line": {
              "color": "#E5ECF6",
              "width": 0.5
             },
             "pattern": {
              "fillmode": "overlay",
              "size": 10,
              "solidity": 0.2
             }
            },
            "type": "barpolar"
           }
          ],
          "carpet": [
           {
            "aaxis": {
             "endlinecolor": "#2a3f5f",
             "gridcolor": "white",
             "linecolor": "white",
             "minorgridcolor": "white",
             "startlinecolor": "#2a3f5f"
            },
            "baxis": {
             "endlinecolor": "#2a3f5f",
             "gridcolor": "white",
             "linecolor": "white",
             "minorgridcolor": "white",
             "startlinecolor": "#2a3f5f"
            },
            "type": "carpet"
           }
          ],
          "choropleth": [
           {
            "colorbar": {
             "outlinewidth": 0,
             "ticks": ""
            },
            "type": "choropleth"
           }
          ],
          "contour": [
           {
            "colorbar": {
             "outlinewidth": 0,
             "ticks": ""
            },
            "colorscale": [
             [
              0,
              "#0d0887"
             ],
             [
              0.1111111111111111,
              "#46039f"
             ],
             [
              0.2222222222222222,
              "#7201a8"
             ],
             [
              0.3333333333333333,
              "#9c179e"
             ],
             [
              0.4444444444444444,
              "#bd3786"
             ],
             [
              0.5555555555555556,
              "#d8576b"
             ],
             [
              0.6666666666666666,
              "#ed7953"
             ],
             [
              0.7777777777777778,
              "#fb9f3a"
             ],
             [
              0.8888888888888888,
              "#fdca26"
             ],
             [
              1,
              "#f0f921"
             ]
            ],
            "type": "contour"
           }
          ],
          "contourcarpet": [
           {
            "colorbar": {
             "outlinewidth": 0,
             "ticks": ""
            },
            "type": "contourcarpet"
           }
          ],
          "heatmap": [
           {
            "colorbar": {
             "outlinewidth": 0,
             "ticks": ""
            },
            "colorscale": [
             [
              0,
              "#0d0887"
             ],
             [
              0.1111111111111111,
              "#46039f"
             ],
             [
              0.2222222222222222,
              "#7201a8"
             ],
             [
              0.3333333333333333,
              "#9c179e"
             ],
             [
              0.4444444444444444,
              "#bd3786"
             ],
             [
              0.5555555555555556,
              "#d8576b"
             ],
             [
              0.6666666666666666,
              "#ed7953"
             ],
             [
              0.7777777777777778,
              "#fb9f3a"
             ],
             [
              0.8888888888888888,
              "#fdca26"
             ],
             [
              1,
              "#f0f921"
             ]
            ],
            "type": "heatmap"
           }
          ],
          "histogram": [
           {
            "marker": {
             "pattern": {
              "fillmode": "overlay",
              "size": 10,
              "solidity": 0.2
             }
            },
            "type": "histogram"
           }
          ],
          "histogram2d": [
           {
            "colorbar": {
             "outlinewidth": 0,
             "ticks": ""
            },
            "colorscale": [
             [
              0,
              "#0d0887"
             ],
             [
              0.1111111111111111,
              "#46039f"
             ],
             [
              0.2222222222222222,
              "#7201a8"
             ],
             [
              0.3333333333333333,
              "#9c179e"
             ],
             [
              0.4444444444444444,
              "#bd3786"
             ],
             [
              0.5555555555555556,
              "#d8576b"
             ],
             [
              0.6666666666666666,
              "#ed7953"
             ],
             [
              0.7777777777777778,
              "#fb9f3a"
             ],
             [
              0.8888888888888888,
              "#fdca26"
             ],
             [
              1,
              "#f0f921"
             ]
            ],
            "type": "histogram2d"
           }
          ],
          "histogram2dcontour": [
           {
            "colorbar": {
             "outlinewidth": 0,
             "ticks": ""
            },
            "colorscale": [
             [
              0,
              "#0d0887"
             ],
             [
              0.1111111111111111,
              "#46039f"
             ],
             [
              0.2222222222222222,
              "#7201a8"
             ],
             [
              0.3333333333333333,
              "#9c179e"
             ],
             [
              0.4444444444444444,
              "#bd3786"
             ],
             [
              0.5555555555555556,
              "#d8576b"
             ],
             [
              0.6666666666666666,
              "#ed7953"
             ],
             [
              0.7777777777777778,
              "#fb9f3a"
             ],
             [
              0.8888888888888888,
              "#fdca26"
             ],
             [
              1,
              "#f0f921"
             ]
            ],
            "type": "histogram2dcontour"
           }
          ],
          "mesh3d": [
           {
            "colorbar": {
             "outlinewidth": 0,
             "ticks": ""
            },
            "type": "mesh3d"
           }
          ],
          "parcoords": [
           {
            "line": {
             "colorbar": {
              "outlinewidth": 0,
              "ticks": ""
             }
            },
            "type": "parcoords"
           }
          ],
          "pie": [
           {
            "automargin": true,
            "type": "pie"
           }
          ],
          "scatter": [
           {
            "fillpattern": {
             "fillmode": "overlay",
             "size": 10,
             "solidity": 0.2
            },
            "type": "scatter"
           }
          ],
          "scatter3d": [
           {
            "line": {
             "colorbar": {
              "outlinewidth": 0,
              "ticks": ""
             }
            },
            "marker": {
             "colorbar": {
              "outlinewidth": 0,
              "ticks": ""
             }
            },
            "type": "scatter3d"
           }
          ],
          "scattercarpet": [
           {
            "marker": {
             "colorbar": {
              "outlinewidth": 0,
              "ticks": ""
             }
            },
            "type": "scattercarpet"
           }
          ],
          "scattergeo": [
           {
            "marker": {
             "colorbar": {
              "outlinewidth": 0,
              "ticks": ""
             }
            },
            "type": "scattergeo"
           }
          ],
          "scattergl": [
           {
            "marker": {
             "colorbar": {
              "outlinewidth": 0,
              "ticks": ""
             }
            },
            "type": "scattergl"
           }
          ],
          "scattermap": [
           {
            "marker": {
             "colorbar": {
              "outlinewidth": 0,
              "ticks": ""
             }
            },
            "type": "scattermap"
           }
          ],
          "scattermapbox": [
           {
            "marker": {
             "colorbar": {
              "outlinewidth": 0,
              "ticks": ""
             }
            },
            "type": "scattermapbox"
           }
          ],
          "scatterpolar": [
           {
            "marker": {
             "colorbar": {
              "outlinewidth": 0,
              "ticks": ""
             }
            },
            "type": "scatterpolar"
           }
          ],
          "scatterpolargl": [
           {
            "marker": {
             "colorbar": {
              "outlinewidth": 0,
              "ticks": ""
             }
            },
            "type": "scatterpolargl"
           }
          ],
          "scatterternary": [
           {
            "marker": {
             "colorbar": {
              "outlinewidth": 0,
              "ticks": ""
             }
            },
            "type": "scatterternary"
           }
          ],
          "surface": [
           {
            "colorbar": {
             "outlinewidth": 0,
             "ticks": ""
            },
            "colorscale": [
             [
              0,
              "#0d0887"
             ],
             [
              0.1111111111111111,
              "#46039f"
             ],
             [
              0.2222222222222222,
              "#7201a8"
             ],
             [
              0.3333333333333333,
              "#9c179e"
             ],
             [
              0.4444444444444444,
              "#bd3786"
             ],
             [
              0.5555555555555556,
              "#d8576b"
             ],
             [
              0.6666666666666666,
              "#ed7953"
             ],
             [
              0.7777777777777778,
              "#fb9f3a"
             ],
             [
              0.8888888888888888,
              "#fdca26"
             ],
             [
              1,
              "#f0f921"
             ]
            ],
            "type": "surface"
           }
          ],
          "table": [
           {
            "cells": {
             "fill": {
              "color": "#EBF0F8"
             },
             "line": {
              "color": "white"
             }
            },
            "header": {
             "fill": {
              "color": "#C8D4E3"
             },
             "line": {
              "color": "white"
             }
            },
            "type": "table"
           }
          ]
         },
         "layout": {
          "annotationdefaults": {
           "arrowcolor": "#2a3f5f",
           "arrowhead": 0,
           "arrowwidth": 1
          },
          "autotypenumbers": "strict",
          "coloraxis": {
           "colorbar": {
            "outlinewidth": 0,
            "ticks": ""
           }
          },
          "colorscale": {
           "diverging": [
            [
             0,
             "#8e0152"
            ],
            [
             0.1,
             "#c51b7d"
            ],
            [
             0.2,
             "#de77ae"
            ],
            [
             0.3,
             "#f1b6da"
            ],
            [
             0.4,
             "#fde0ef"
            ],
            [
             0.5,
             "#f7f7f7"
            ],
            [
             0.6,
             "#e6f5d0"
            ],
            [
             0.7,
             "#b8e186"
            ],
            [
             0.8,
             "#7fbc41"
            ],
            [
             0.9,
             "#4d9221"
            ],
            [
             1,
             "#276419"
            ]
           ],
           "sequential": [
            [
             0,
             "#0d0887"
            ],
            [
             0.1111111111111111,
             "#46039f"
            ],
            [
             0.2222222222222222,
             "#7201a8"
            ],
            [
             0.3333333333333333,
             "#9c179e"
            ],
            [
             0.4444444444444444,
             "#bd3786"
            ],
            [
             0.5555555555555556,
             "#d8576b"
            ],
            [
             0.6666666666666666,
             "#ed7953"
            ],
            [
             0.7777777777777778,
             "#fb9f3a"
            ],
            [
             0.8888888888888888,
             "#fdca26"
            ],
            [
             1,
             "#f0f921"
            ]
           ],
           "sequentialminus": [
            [
             0,
             "#0d0887"
            ],
            [
             0.1111111111111111,
             "#46039f"
            ],
            [
             0.2222222222222222,
             "#7201a8"
            ],
            [
             0.3333333333333333,
             "#9c179e"
            ],
            [
             0.4444444444444444,
             "#bd3786"
            ],
            [
             0.5555555555555556,
             "#d8576b"
            ],
            [
             0.6666666666666666,
             "#ed7953"
            ],
            [
             0.7777777777777778,
             "#fb9f3a"
            ],
            [
             0.8888888888888888,
             "#fdca26"
            ],
            [
             1,
             "#f0f921"
            ]
           ]
          },
          "colorway": [
           "#636efa",
           "#EF553B",
           "#00cc96",
           "#ab63fa",
           "#FFA15A",
           "#19d3f3",
           "#FF6692",
           "#B6E880",
           "#FF97FF",
           "#FECB52"
          ],
          "font": {
           "color": "#2a3f5f"
          },
          "geo": {
           "bgcolor": "white",
           "lakecolor": "white",
           "landcolor": "#E5ECF6",
           "showlakes": true,
           "showland": true,
           "subunitcolor": "white"
          },
          "hoverlabel": {
           "align": "left"
          },
          "hovermode": "closest",
          "mapbox": {
           "style": "light"
          },
          "paper_bgcolor": "white",
          "plot_bgcolor": "#E5ECF6",
          "polar": {
           "angularaxis": {
            "gridcolor": "white",
            "linecolor": "white",
            "ticks": ""
           },
           "bgcolor": "#E5ECF6",
           "radialaxis": {
            "gridcolor": "white",
            "linecolor": "white",
            "ticks": ""
           }
          },
          "scene": {
           "xaxis": {
            "backgroundcolor": "#E5ECF6",
            "gridcolor": "white",
            "gridwidth": 2,
            "linecolor": "white",
            "showbackground": true,
            "ticks": "",
            "zerolinecolor": "white"
           },
           "yaxis": {
            "backgroundcolor": "#E5ECF6",
            "gridcolor": "white",
            "gridwidth": 2,
            "linecolor": "white",
            "showbackground": true,
            "ticks": "",
            "zerolinecolor": "white"
           },
           "zaxis": {
            "backgroundcolor": "#E5ECF6",
            "gridcolor": "white",
            "gridwidth": 2,
            "linecolor": "white",
            "showbackground": true,
            "ticks": "",
            "zerolinecolor": "white"
           }
          },
          "shapedefaults": {
           "line": {
            "color": "#2a3f5f"
           }
          },
          "ternary": {
           "aaxis": {
            "gridcolor": "white",
            "linecolor": "white",
            "ticks": ""
           },
           "baxis": {
            "gridcolor": "white",
            "linecolor": "white",
            "ticks": ""
           },
           "bgcolor": "#E5ECF6",
           "caxis": {
            "gridcolor": "white",
            "linecolor": "white",
            "ticks": ""
           }
          },
          "title": {
           "x": 0.05
          },
          "xaxis": {
           "automargin": true,
           "gridcolor": "white",
           "linecolor": "white",
           "ticks": "",
           "title": {
            "standoff": 15
           },
           "zerolinecolor": "white",
           "zerolinewidth": 2
          },
          "yaxis": {
           "automargin": true,
           "gridcolor": "white",
           "linecolor": "white",
           "ticks": "",
           "title": {
            "standoff": 15
           },
           "zerolinecolor": "white",
           "zerolinewidth": 2
          }
         }
        },
        "title": {
         "text": "Top Finishers in Death Overs (16–20)"
        }
       }
      }
     },
     "metadata": {},
     "output_type": "display_data"
    }
   ],
   "source": [
    "death_overs_df = t20_df[(t20_df['over'] >= 16) & (t20_df['over'] <= 20)]\n",
    "death_batters = death_overs_df.groupby('batter')['runs_batter'].sum().reset_index()\n",
    "death_batters = death_batters.sort_values(by='runs_batter', ascending=False).head(10)\n",
    "\n",
    "fig2 = go.Figure(data=[go.Pie(\n",
    "    labels=death_batters['batter'],\n",
    "    values=death_batters['runs_batter'],\n",
    "    hole=0.3,\n",
    ")])\n",
    "fig2.update_layout(title=\"Top Finishers in Death Overs (16–20)\")\n",
    "fig2.show()"
   ]
  },
  {
   "cell_type": "markdown",
   "metadata": {},
   "source": [
    "#### 3. Bowlers With Most Wickets in Powerplay"
   ]
  },
  {
   "cell_type": "code",
   "execution_count": 65,
   "metadata": {},
   "outputs": [
    {
     "data": {
      "application/vnd.plotly.v1+json": {
       "config": {
        "plotlyServerURL": "https://plot.ly"
       },
       "data": [
        {
         "hovertemplate": "wickets=%{x}<br>bowler=%{y}<extra></extra>",
         "legendgroup": "",
         "marker": {
          "color": "#636efa"
         },
         "name": "",
         "orientation": "h",
         "showlegend": false,
         "type": "funnel",
         "x": {
          "bdata": "Rzs4NzMwLy8uLQ==",
          "dtype": "i1"
         },
         "xaxis": "x",
         "y": [
          "TG Southee",
          "Pavandeep Singh",
          "C Sutthiruang",
          "ML Schutt",
          "Bilal Khan",
          "KH Brunt",
          "DB Sharma",
          "S Ismail",
          "Shakib Al Hasan",
          "N Boochatham"
         ],
         "yaxis": "y"
        }
       ],
       "layout": {
        "legend": {
         "tracegroupgap": 0
        },
        "template": {
         "data": {
          "bar": [
           {
            "error_x": {
             "color": "#2a3f5f"
            },
            "error_y": {
             "color": "#2a3f5f"
            },
            "marker": {
             "line": {
              "color": "#E5ECF6",
              "width": 0.5
             },
             "pattern": {
              "fillmode": "overlay",
              "size": 10,
              "solidity": 0.2
             }
            },
            "type": "bar"
           }
          ],
          "barpolar": [
           {
            "marker": {
             "line": {
              "color": "#E5ECF6",
              "width": 0.5
             },
             "pattern": {
              "fillmode": "overlay",
              "size": 10,
              "solidity": 0.2
             }
            },
            "type": "barpolar"
           }
          ],
          "carpet": [
           {
            "aaxis": {
             "endlinecolor": "#2a3f5f",
             "gridcolor": "white",
             "linecolor": "white",
             "minorgridcolor": "white",
             "startlinecolor": "#2a3f5f"
            },
            "baxis": {
             "endlinecolor": "#2a3f5f",
             "gridcolor": "white",
             "linecolor": "white",
             "minorgridcolor": "white",
             "startlinecolor": "#2a3f5f"
            },
            "type": "carpet"
           }
          ],
          "choropleth": [
           {
            "colorbar": {
             "outlinewidth": 0,
             "ticks": ""
            },
            "type": "choropleth"
           }
          ],
          "contour": [
           {
            "colorbar": {
             "outlinewidth": 0,
             "ticks": ""
            },
            "colorscale": [
             [
              0,
              "#0d0887"
             ],
             [
              0.1111111111111111,
              "#46039f"
             ],
             [
              0.2222222222222222,
              "#7201a8"
             ],
             [
              0.3333333333333333,
              "#9c179e"
             ],
             [
              0.4444444444444444,
              "#bd3786"
             ],
             [
              0.5555555555555556,
              "#d8576b"
             ],
             [
              0.6666666666666666,
              "#ed7953"
             ],
             [
              0.7777777777777778,
              "#fb9f3a"
             ],
             [
              0.8888888888888888,
              "#fdca26"
             ],
             [
              1,
              "#f0f921"
             ]
            ],
            "type": "contour"
           }
          ],
          "contourcarpet": [
           {
            "colorbar": {
             "outlinewidth": 0,
             "ticks": ""
            },
            "type": "contourcarpet"
           }
          ],
          "heatmap": [
           {
            "colorbar": {
             "outlinewidth": 0,
             "ticks": ""
            },
            "colorscale": [
             [
              0,
              "#0d0887"
             ],
             [
              0.1111111111111111,
              "#46039f"
             ],
             [
              0.2222222222222222,
              "#7201a8"
             ],
             [
              0.3333333333333333,
              "#9c179e"
             ],
             [
              0.4444444444444444,
              "#bd3786"
             ],
             [
              0.5555555555555556,
              "#d8576b"
             ],
             [
              0.6666666666666666,
              "#ed7953"
             ],
             [
              0.7777777777777778,
              "#fb9f3a"
             ],
             [
              0.8888888888888888,
              "#fdca26"
             ],
             [
              1,
              "#f0f921"
             ]
            ],
            "type": "heatmap"
           }
          ],
          "histogram": [
           {
            "marker": {
             "pattern": {
              "fillmode": "overlay",
              "size": 10,
              "solidity": 0.2
             }
            },
            "type": "histogram"
           }
          ],
          "histogram2d": [
           {
            "colorbar": {
             "outlinewidth": 0,
             "ticks": ""
            },
            "colorscale": [
             [
              0,
              "#0d0887"
             ],
             [
              0.1111111111111111,
              "#46039f"
             ],
             [
              0.2222222222222222,
              "#7201a8"
             ],
             [
              0.3333333333333333,
              "#9c179e"
             ],
             [
              0.4444444444444444,
              "#bd3786"
             ],
             [
              0.5555555555555556,
              "#d8576b"
             ],
             [
              0.6666666666666666,
              "#ed7953"
             ],
             [
              0.7777777777777778,
              "#fb9f3a"
             ],
             [
              0.8888888888888888,
              "#fdca26"
             ],
             [
              1,
              "#f0f921"
             ]
            ],
            "type": "histogram2d"
           }
          ],
          "histogram2dcontour": [
           {
            "colorbar": {
             "outlinewidth": 0,
             "ticks": ""
            },
            "colorscale": [
             [
              0,
              "#0d0887"
             ],
             [
              0.1111111111111111,
              "#46039f"
             ],
             [
              0.2222222222222222,
              "#7201a8"
             ],
             [
              0.3333333333333333,
              "#9c179e"
             ],
             [
              0.4444444444444444,
              "#bd3786"
             ],
             [
              0.5555555555555556,
              "#d8576b"
             ],
             [
              0.6666666666666666,
              "#ed7953"
             ],
             [
              0.7777777777777778,
              "#fb9f3a"
             ],
             [
              0.8888888888888888,
              "#fdca26"
             ],
             [
              1,
              "#f0f921"
             ]
            ],
            "type": "histogram2dcontour"
           }
          ],
          "mesh3d": [
           {
            "colorbar": {
             "outlinewidth": 0,
             "ticks": ""
            },
            "type": "mesh3d"
           }
          ],
          "parcoords": [
           {
            "line": {
             "colorbar": {
              "outlinewidth": 0,
              "ticks": ""
             }
            },
            "type": "parcoords"
           }
          ],
          "pie": [
           {
            "automargin": true,
            "type": "pie"
           }
          ],
          "scatter": [
           {
            "fillpattern": {
             "fillmode": "overlay",
             "size": 10,
             "solidity": 0.2
            },
            "type": "scatter"
           }
          ],
          "scatter3d": [
           {
            "line": {
             "colorbar": {
              "outlinewidth": 0,
              "ticks": ""
             }
            },
            "marker": {
             "colorbar": {
              "outlinewidth": 0,
              "ticks": ""
             }
            },
            "type": "scatter3d"
           }
          ],
          "scattercarpet": [
           {
            "marker": {
             "colorbar": {
              "outlinewidth": 0,
              "ticks": ""
             }
            },
            "type": "scattercarpet"
           }
          ],
          "scattergeo": [
           {
            "marker": {
             "colorbar": {
              "outlinewidth": 0,
              "ticks": ""
             }
            },
            "type": "scattergeo"
           }
          ],
          "scattergl": [
           {
            "marker": {
             "colorbar": {
              "outlinewidth": 0,
              "ticks": ""
             }
            },
            "type": "scattergl"
           }
          ],
          "scattermap": [
           {
            "marker": {
             "colorbar": {
              "outlinewidth": 0,
              "ticks": ""
             }
            },
            "type": "scattermap"
           }
          ],
          "scattermapbox": [
           {
            "marker": {
             "colorbar": {
              "outlinewidth": 0,
              "ticks": ""
             }
            },
            "type": "scattermapbox"
           }
          ],
          "scatterpolar": [
           {
            "marker": {
             "colorbar": {
              "outlinewidth": 0,
              "ticks": ""
             }
            },
            "type": "scatterpolar"
           }
          ],
          "scatterpolargl": [
           {
            "marker": {
             "colorbar": {
              "outlinewidth": 0,
              "ticks": ""
             }
            },
            "type": "scatterpolargl"
           }
          ],
          "scatterternary": [
           {
            "marker": {
             "colorbar": {
              "outlinewidth": 0,
              "ticks": ""
             }
            },
            "type": "scatterternary"
           }
          ],
          "surface": [
           {
            "colorbar": {
             "outlinewidth": 0,
             "ticks": ""
            },
            "colorscale": [
             [
              0,
              "#0d0887"
             ],
             [
              0.1111111111111111,
              "#46039f"
             ],
             [
              0.2222222222222222,
              "#7201a8"
             ],
             [
              0.3333333333333333,
              "#9c179e"
             ],
             [
              0.4444444444444444,
              "#bd3786"
             ],
             [
              0.5555555555555556,
              "#d8576b"
             ],
             [
              0.6666666666666666,
              "#ed7953"
             ],
             [
              0.7777777777777778,
              "#fb9f3a"
             ],
             [
              0.8888888888888888,
              "#fdca26"
             ],
             [
              1,
              "#f0f921"
             ]
            ],
            "type": "surface"
           }
          ],
          "table": [
           {
            "cells": {
             "fill": {
              "color": "#EBF0F8"
             },
             "line": {
              "color": "white"
             }
            },
            "header": {
             "fill": {
              "color": "#C8D4E3"
             },
             "line": {
              "color": "white"
             }
            },
            "type": "table"
           }
          ]
         },
         "layout": {
          "annotationdefaults": {
           "arrowcolor": "#2a3f5f",
           "arrowhead": 0,
           "arrowwidth": 1
          },
          "autotypenumbers": "strict",
          "coloraxis": {
           "colorbar": {
            "outlinewidth": 0,
            "ticks": ""
           }
          },
          "colorscale": {
           "diverging": [
            [
             0,
             "#8e0152"
            ],
            [
             0.1,
             "#c51b7d"
            ],
            [
             0.2,
             "#de77ae"
            ],
            [
             0.3,
             "#f1b6da"
            ],
            [
             0.4,
             "#fde0ef"
            ],
            [
             0.5,
             "#f7f7f7"
            ],
            [
             0.6,
             "#e6f5d0"
            ],
            [
             0.7,
             "#b8e186"
            ],
            [
             0.8,
             "#7fbc41"
            ],
            [
             0.9,
             "#4d9221"
            ],
            [
             1,
             "#276419"
            ]
           ],
           "sequential": [
            [
             0,
             "#0d0887"
            ],
            [
             0.1111111111111111,
             "#46039f"
            ],
            [
             0.2222222222222222,
             "#7201a8"
            ],
            [
             0.3333333333333333,
             "#9c179e"
            ],
            [
             0.4444444444444444,
             "#bd3786"
            ],
            [
             0.5555555555555556,
             "#d8576b"
            ],
            [
             0.6666666666666666,
             "#ed7953"
            ],
            [
             0.7777777777777778,
             "#fb9f3a"
            ],
            [
             0.8888888888888888,
             "#fdca26"
            ],
            [
             1,
             "#f0f921"
            ]
           ],
           "sequentialminus": [
            [
             0,
             "#0d0887"
            ],
            [
             0.1111111111111111,
             "#46039f"
            ],
            [
             0.2222222222222222,
             "#7201a8"
            ],
            [
             0.3333333333333333,
             "#9c179e"
            ],
            [
             0.4444444444444444,
             "#bd3786"
            ],
            [
             0.5555555555555556,
             "#d8576b"
            ],
            [
             0.6666666666666666,
             "#ed7953"
            ],
            [
             0.7777777777777778,
             "#fb9f3a"
            ],
            [
             0.8888888888888888,
             "#fdca26"
            ],
            [
             1,
             "#f0f921"
            ]
           ]
          },
          "colorway": [
           "#636efa",
           "#EF553B",
           "#00cc96",
           "#ab63fa",
           "#FFA15A",
           "#19d3f3",
           "#FF6692",
           "#B6E880",
           "#FF97FF",
           "#FECB52"
          ],
          "font": {
           "color": "#2a3f5f"
          },
          "geo": {
           "bgcolor": "white",
           "lakecolor": "white",
           "landcolor": "#E5ECF6",
           "showlakes": true,
           "showland": true,
           "subunitcolor": "white"
          },
          "hoverlabel": {
           "align": "left"
          },
          "hovermode": "closest",
          "mapbox": {
           "style": "light"
          },
          "paper_bgcolor": "white",
          "plot_bgcolor": "#E5ECF6",
          "polar": {
           "angularaxis": {
            "gridcolor": "white",
            "linecolor": "white",
            "ticks": ""
           },
           "bgcolor": "#E5ECF6",
           "radialaxis": {
            "gridcolor": "white",
            "linecolor": "white",
            "ticks": ""
           }
          },
          "scene": {
           "xaxis": {
            "backgroundcolor": "#E5ECF6",
            "gridcolor": "white",
            "gridwidth": 2,
            "linecolor": "white",
            "showbackground": true,
            "ticks": "",
            "zerolinecolor": "white"
           },
           "yaxis": {
            "backgroundcolor": "#E5ECF6",
            "gridcolor": "white",
            "gridwidth": 2,
            "linecolor": "white",
            "showbackground": true,
            "ticks": "",
            "zerolinecolor": "white"
           },
           "zaxis": {
            "backgroundcolor": "#E5ECF6",
            "gridcolor": "white",
            "gridwidth": 2,
            "linecolor": "white",
            "showbackground": true,
            "ticks": "",
            "zerolinecolor": "white"
           }
          },
          "shapedefaults": {
           "line": {
            "color": "#2a3f5f"
           }
          },
          "ternary": {
           "aaxis": {
            "gridcolor": "white",
            "linecolor": "white",
            "ticks": ""
           },
           "baxis": {
            "gridcolor": "white",
            "linecolor": "white",
            "ticks": ""
           },
           "bgcolor": "#E5ECF6",
           "caxis": {
            "gridcolor": "white",
            "linecolor": "white",
            "ticks": ""
           }
          },
          "title": {
           "x": 0.05
          },
          "xaxis": {
           "automargin": true,
           "gridcolor": "white",
           "linecolor": "white",
           "ticks": "",
           "title": {
            "standoff": 15
           },
           "zerolinecolor": "white",
           "zerolinewidth": 2
          },
          "yaxis": {
           "automargin": true,
           "gridcolor": "white",
           "linecolor": "white",
           "ticks": "",
           "title": {
            "standoff": 15
           },
           "zerolinecolor": "white",
           "zerolinewidth": 2
          }
         }
        },
        "title": {
         "text": "Top 10 Powerplay Wicket Takers"
        },
        "xaxis": {
         "anchor": "y",
         "domain": [
          0,
          1
         ],
         "title": {
          "text": "wickets"
         }
        },
        "yaxis": {
         "anchor": "x",
         "domain": [
          0,
          1
         ],
         "title": {
          "text": "bowler"
         }
        }
       }
      }
     },
     "metadata": {},
     "output_type": "display_data"
    }
   ],
   "source": [
    "powerplay_df = t20_df[t20_df['over'] <= 6]\n",
    "pp_wickets = powerplay_df[powerplay_df['wicket_type'] != 'No Wicket']\n",
    "bowler_wickets = pp_wickets.groupby('bowler').size().reset_index(name='wickets')\n",
    "bowler_wickets = bowler_wickets.sort_values(by='wickets', ascending=False).head(10)\n",
    "\n",
    "fig3 = px.funnel(bowler_wickets, x='wickets', y='bowler', title=\"Top 10 Powerplay Wicket Takers\")\n",
    "fig3.show()"
   ]
  },
  {
   "cell_type": "markdown",
   "metadata": {},
   "source": [
    "#### 4. Batters With Highest Strike Rate (min 100 balls)"
   ]
  },
  {
   "cell_type": "code",
   "execution_count": 66,
   "metadata": {},
   "outputs": [
    {
     "data": {
      "application/vnd.plotly.v1+json": {
       "config": {
        "plotlyServerURL": "https://plot.ly"
       },
       "data": [
        {
         "hovertemplate": "<b>%{hovertext}</b><br><br>batter=Sahil Chauhan<br>runs_batter=%{x}<br>strike_rate=%{y}<br>balls_faced=%{marker.size}<extra></extra>",
         "hovertext": [
          "Sahil Chauhan"
         ],
         "legendgroup": "Sahil Chauhan",
         "marker": {
          "color": "#636efa",
          "size": {
           "bdata": "xgA=",
           "dtype": "i2"
          },
          "sizemode": "area",
          "sizeref": 0.9725,
          "symbol": "circle"
         },
         "mode": "markers",
         "name": "Sahil Chauhan",
         "orientation": "v",
         "showlegend": true,
         "type": "scatter",
         "x": {
          "bdata": "fgE=",
          "dtype": "i2"
         },
         "xaxis": "x",
         "y": {
          "bdata": "83aGxLwdaEA=",
          "dtype": "f8"
         },
         "yaxis": "y"
        },
        {
         "hovertemplate": "<b>%{hovertext}</b><br><br>batter=D Visser<br>runs_batter=%{x}<br>strike_rate=%{y}<br>balls_faced=%{marker.size}<extra></extra>",
         "hovertext": [
          "D Visser"
         ],
         "legendgroup": "D Visser",
         "marker": {
          "color": "#EF553B",
          "size": {
           "bdata": "igA=",
           "dtype": "i2"
          },
          "sizemode": "area",
          "sizeref": 0.9725,
          "symbol": "circle"
         },
         "mode": "markers",
         "name": "D Visser",
         "orientation": "v",
         "showlegend": true,
         "type": "scatter",
         "x": {
          "bdata": "CQE=",
          "dtype": "i2"
         },
         "xaxis": "x",
         "y": {
          "bdata": "zLUDc+0AaEA=",
          "dtype": "f8"
         },
         "yaxis": "y"
        },
        {
         "hovertemplate": "<b>%{hovertext}</b><br><br>batter=Abhishek Sharma<br>runs_batter=%{x}<br>strike_rate=%{y}<br>balls_faced=%{marker.size}<extra></extra>",
         "hovertext": [
          "Abhishek Sharma"
         ],
         "legendgroup": "Abhishek Sharma",
         "marker": {
          "color": "#00cc96",
          "size": {
           "bdata": "IQE=",
           "dtype": "i2"
          },
          "sizemode": "area",
          "sizeref": 0.9725,
          "symbol": "circle"
         },
         "mode": "markers",
         "name": "Abhishek Sharma",
         "orientation": "v",
         "showlegend": true,
         "type": "scatter",
         "x": {
          "bdata": "FwI=",
          "dtype": "i2"
         },
         "xaxis": "x",
         "y": {
          "bdata": "0ZRYHOAjZ0A=",
          "dtype": "f8"
         },
         "yaxis": "y"
        },
        {
         "hovertemplate": "<b>%{hovertext}</b><br><br>batter=Sayed Monib<br>runs_batter=%{x}<br>strike_rate=%{y}<br>balls_faced=%{marker.size}<extra></extra>",
         "hovertext": [
          "Sayed Monib"
         ],
         "legendgroup": "Sayed Monib",
         "marker": {
          "color": "#ab63fa",
          "size": {
           "bdata": "kAA=",
           "dtype": "i2"
          },
          "sizemode": "area",
          "sizeref": 0.9725,
          "symbol": "circle"
         },
         "mode": "markers",
         "name": "Sayed Monib",
         "orientation": "v",
         "showlegend": true,
         "type": "scatter",
         "x": {
          "bdata": "/QA=",
          "dtype": "i2"
         },
         "xaxis": "x",
         "y": {
          "bdata": "4ziO4zj2ZUA=",
          "dtype": "f8"
         },
         "yaxis": "y"
        },
        {
         "hovertemplate": "<b>%{hovertext}</b><br><br>batter=Choudry Share Ali<br>runs_batter=%{x}<br>strike_rate=%{y}<br>balls_faced=%{marker.size}<extra></extra>",
         "hovertext": [
          "Choudry Share Ali"
         ],
         "legendgroup": "Choudry Share Ali",
         "marker": {
          "color": "#FFA15A",
          "size": {
           "bdata": "Zg==",
           "dtype": "i1"
          },
          "sizemode": "area",
          "sizeref": 0.9725,
          "symbol": "circle"
         },
         "mode": "markers",
         "name": "Choudry Share Ali",
         "orientation": "v",
         "showlegend": true,
         "type": "scatter",
         "x": {
          "bdata": "sAA=",
          "dtype": "i2"
         },
         "xaxis": "x",
         "y": {
          "bdata": "kpGRkZGRZUA=",
          "dtype": "f8"
         },
         "yaxis": "y"
        },
        {
         "hovertemplate": "<b>%{hovertext}</b><br><br>batter=Kamran Ahmadzai<br>runs_batter=%{x}<br>strike_rate=%{y}<br>balls_faced=%{marker.size}<extra></extra>",
         "hovertext": [
          "Kamran Ahmadzai"
         ],
         "legendgroup": "Kamran Ahmadzai",
         "marker": {
          "color": "#19d3f3",
          "size": {
           "bdata": "dw==",
           "dtype": "i1"
          },
          "sizemode": "area",
          "sizeref": 0.9725,
          "symbol": "circle"
         },
         "mode": "markers",
         "name": "Kamran Ahmadzai",
         "orientation": "v",
         "showlegend": true,
         "type": "scatter",
         "x": {
          "bdata": "ywA=",
          "dtype": "i2"
         },
         "xaxis": "x",
         "y": {
          "bdata": "09LS0tJSZUA=",
          "dtype": "f8"
         },
         "yaxis": "y"
        },
        {
         "hovertemplate": "<b>%{hovertext}</b><br><br>batter=KJ Stagno<br>runs_batter=%{x}<br>strike_rate=%{y}<br>balls_faced=%{marker.size}<extra></extra>",
         "hovertext": [
          "KJ Stagno"
         ],
         "legendgroup": "KJ Stagno",
         "marker": {
          "color": "#FF6692",
          "size": {
           "bdata": "hQE=",
           "dtype": "i2"
          },
          "sizemode": "area",
          "sizeref": 0.9725,
          "symbol": "circle"
         },
         "mode": "markers",
         "name": "KJ Stagno",
         "orientation": "v",
         "showlegend": true,
         "type": "scatter",
         "x": {
          "bdata": "kAI=",
          "dtype": "i2"
         },
         "xaxis": "x",
         "y": {
          "bdata": "NwnKqWYUZUA=",
          "dtype": "f8"
         },
         "yaxis": "y"
        },
        {
         "hovertemplate": "<b>%{hovertext}</b><br><br>batter=Rafiullah<br>runs_batter=%{x}<br>strike_rate=%{y}<br>balls_faced=%{marker.size}<extra></extra>",
         "hovertext": [
          "Rafiullah"
         ],
         "legendgroup": "Rafiullah",
         "marker": {
          "color": "#B6E880",
          "size": {
           "bdata": "oAA=",
           "dtype": "i2"
          },
          "sizemode": "area",
          "sizeref": 0.9725,
          "symbol": "circle"
         },
         "mode": "markers",
         "name": "Rafiullah",
         "orientation": "v",
         "showlegend": true,
         "type": "scatter",
         "x": {
          "bdata": "CQE=",
          "dtype": "i2"
         },
         "xaxis": "x",
         "y": {
          "bdata": "AAAAAAC0ZEA=",
          "dtype": "f8"
         },
         "yaxis": "y"
        },
        {
         "hovertemplate": "<b>%{hovertext}</b><br><br>batter=A Symonds<br>runs_batter=%{x}<br>strike_rate=%{y}<br>balls_faced=%{marker.size}<extra></extra>",
         "hovertext": [
          "A Symonds"
         ],
         "legendgroup": "A Symonds",
         "marker": {
          "color": "#FF97FF",
          "size": {
           "bdata": "zAA=",
           "dtype": "i2"
          },
          "sizemode": "area",
          "sizeref": 0.9725,
          "symbol": "circle"
         },
         "mode": "markers",
         "name": "A Symonds",
         "orientation": "v",
         "showlegend": true,
         "type": "scatter",
         "x": {
          "bdata": "UQE=",
          "dtype": "i2"
         },
         "xaxis": "x",
         "y": {
          "bdata": "RkZGRkamZEA=",
          "dtype": "f8"
         },
         "yaxis": "y"
        },
        {
         "hovertemplate": "<b>%{hovertext}</b><br><br>batter=Sheikh Rasik<br>runs_batter=%{x}<br>strike_rate=%{y}<br>balls_faced=%{marker.size}<extra></extra>",
         "hovertext": [
          "Sheikh Rasik"
         ],
         "legendgroup": "Sheikh Rasik",
         "marker": {
          "color": "#FECB52",
          "size": {
           "bdata": "0QA=",
           "dtype": "i2"
          },
          "sizemode": "area",
          "sizeref": 0.9725,
          "symbol": "circle"
         },
         "mode": "markers",
         "name": "Sheikh Rasik",
         "orientation": "v",
         "showlegend": true,
         "type": "scatter",
         "x": {
          "bdata": "WAE=",
          "dtype": "i2"
         },
         "xaxis": "x",
         "y": {
          "bdata": "u7dKU/ySZEA=",
          "dtype": "f8"
         },
         "yaxis": "y"
        }
       ],
       "layout": {
        "legend": {
         "itemsizing": "constant",
         "title": {
          "text": "batter"
         },
         "tracegroupgap": 0
        },
        "template": {
         "data": {
          "bar": [
           {
            "error_x": {
             "color": "#2a3f5f"
            },
            "error_y": {
             "color": "#2a3f5f"
            },
            "marker": {
             "line": {
              "color": "#E5ECF6",
              "width": 0.5
             },
             "pattern": {
              "fillmode": "overlay",
              "size": 10,
              "solidity": 0.2
             }
            },
            "type": "bar"
           }
          ],
          "barpolar": [
           {
            "marker": {
             "line": {
              "color": "#E5ECF6",
              "width": 0.5
             },
             "pattern": {
              "fillmode": "overlay",
              "size": 10,
              "solidity": 0.2
             }
            },
            "type": "barpolar"
           }
          ],
          "carpet": [
           {
            "aaxis": {
             "endlinecolor": "#2a3f5f",
             "gridcolor": "white",
             "linecolor": "white",
             "minorgridcolor": "white",
             "startlinecolor": "#2a3f5f"
            },
            "baxis": {
             "endlinecolor": "#2a3f5f",
             "gridcolor": "white",
             "linecolor": "white",
             "minorgridcolor": "white",
             "startlinecolor": "#2a3f5f"
            },
            "type": "carpet"
           }
          ],
          "choropleth": [
           {
            "colorbar": {
             "outlinewidth": 0,
             "ticks": ""
            },
            "type": "choropleth"
           }
          ],
          "contour": [
           {
            "colorbar": {
             "outlinewidth": 0,
             "ticks": ""
            },
            "colorscale": [
             [
              0,
              "#0d0887"
             ],
             [
              0.1111111111111111,
              "#46039f"
             ],
             [
              0.2222222222222222,
              "#7201a8"
             ],
             [
              0.3333333333333333,
              "#9c179e"
             ],
             [
              0.4444444444444444,
              "#bd3786"
             ],
             [
              0.5555555555555556,
              "#d8576b"
             ],
             [
              0.6666666666666666,
              "#ed7953"
             ],
             [
              0.7777777777777778,
              "#fb9f3a"
             ],
             [
              0.8888888888888888,
              "#fdca26"
             ],
             [
              1,
              "#f0f921"
             ]
            ],
            "type": "contour"
           }
          ],
          "contourcarpet": [
           {
            "colorbar": {
             "outlinewidth": 0,
             "ticks": ""
            },
            "type": "contourcarpet"
           }
          ],
          "heatmap": [
           {
            "colorbar": {
             "outlinewidth": 0,
             "ticks": ""
            },
            "colorscale": [
             [
              0,
              "#0d0887"
             ],
             [
              0.1111111111111111,
              "#46039f"
             ],
             [
              0.2222222222222222,
              "#7201a8"
             ],
             [
              0.3333333333333333,
              "#9c179e"
             ],
             [
              0.4444444444444444,
              "#bd3786"
             ],
             [
              0.5555555555555556,
              "#d8576b"
             ],
             [
              0.6666666666666666,
              "#ed7953"
             ],
             [
              0.7777777777777778,
              "#fb9f3a"
             ],
             [
              0.8888888888888888,
              "#fdca26"
             ],
             [
              1,
              "#f0f921"
             ]
            ],
            "type": "heatmap"
           }
          ],
          "histogram": [
           {
            "marker": {
             "pattern": {
              "fillmode": "overlay",
              "size": 10,
              "solidity": 0.2
             }
            },
            "type": "histogram"
           }
          ],
          "histogram2d": [
           {
            "colorbar": {
             "outlinewidth": 0,
             "ticks": ""
            },
            "colorscale": [
             [
              0,
              "#0d0887"
             ],
             [
              0.1111111111111111,
              "#46039f"
             ],
             [
              0.2222222222222222,
              "#7201a8"
             ],
             [
              0.3333333333333333,
              "#9c179e"
             ],
             [
              0.4444444444444444,
              "#bd3786"
             ],
             [
              0.5555555555555556,
              "#d8576b"
             ],
             [
              0.6666666666666666,
              "#ed7953"
             ],
             [
              0.7777777777777778,
              "#fb9f3a"
             ],
             [
              0.8888888888888888,
              "#fdca26"
             ],
             [
              1,
              "#f0f921"
             ]
            ],
            "type": "histogram2d"
           }
          ],
          "histogram2dcontour": [
           {
            "colorbar": {
             "outlinewidth": 0,
             "ticks": ""
            },
            "colorscale": [
             [
              0,
              "#0d0887"
             ],
             [
              0.1111111111111111,
              "#46039f"
             ],
             [
              0.2222222222222222,
              "#7201a8"
             ],
             [
              0.3333333333333333,
              "#9c179e"
             ],
             [
              0.4444444444444444,
              "#bd3786"
             ],
             [
              0.5555555555555556,
              "#d8576b"
             ],
             [
              0.6666666666666666,
              "#ed7953"
             ],
             [
              0.7777777777777778,
              "#fb9f3a"
             ],
             [
              0.8888888888888888,
              "#fdca26"
             ],
             [
              1,
              "#f0f921"
             ]
            ],
            "type": "histogram2dcontour"
           }
          ],
          "mesh3d": [
           {
            "colorbar": {
             "outlinewidth": 0,
             "ticks": ""
            },
            "type": "mesh3d"
           }
          ],
          "parcoords": [
           {
            "line": {
             "colorbar": {
              "outlinewidth": 0,
              "ticks": ""
             }
            },
            "type": "parcoords"
           }
          ],
          "pie": [
           {
            "automargin": true,
            "type": "pie"
           }
          ],
          "scatter": [
           {
            "fillpattern": {
             "fillmode": "overlay",
             "size": 10,
             "solidity": 0.2
            },
            "type": "scatter"
           }
          ],
          "scatter3d": [
           {
            "line": {
             "colorbar": {
              "outlinewidth": 0,
              "ticks": ""
             }
            },
            "marker": {
             "colorbar": {
              "outlinewidth": 0,
              "ticks": ""
             }
            },
            "type": "scatter3d"
           }
          ],
          "scattercarpet": [
           {
            "marker": {
             "colorbar": {
              "outlinewidth": 0,
              "ticks": ""
             }
            },
            "type": "scattercarpet"
           }
          ],
          "scattergeo": [
           {
            "marker": {
             "colorbar": {
              "outlinewidth": 0,
              "ticks": ""
             }
            },
            "type": "scattergeo"
           }
          ],
          "scattergl": [
           {
            "marker": {
             "colorbar": {
              "outlinewidth": 0,
              "ticks": ""
             }
            },
            "type": "scattergl"
           }
          ],
          "scattermap": [
           {
            "marker": {
             "colorbar": {
              "outlinewidth": 0,
              "ticks": ""
             }
            },
            "type": "scattermap"
           }
          ],
          "scattermapbox": [
           {
            "marker": {
             "colorbar": {
              "outlinewidth": 0,
              "ticks": ""
             }
            },
            "type": "scattermapbox"
           }
          ],
          "scatterpolar": [
           {
            "marker": {
             "colorbar": {
              "outlinewidth": 0,
              "ticks": ""
             }
            },
            "type": "scatterpolar"
           }
          ],
          "scatterpolargl": [
           {
            "marker": {
             "colorbar": {
              "outlinewidth": 0,
              "ticks": ""
             }
            },
            "type": "scatterpolargl"
           }
          ],
          "scatterternary": [
           {
            "marker": {
             "colorbar": {
              "outlinewidth": 0,
              "ticks": ""
             }
            },
            "type": "scatterternary"
           }
          ],
          "surface": [
           {
            "colorbar": {
             "outlinewidth": 0,
             "ticks": ""
            },
            "colorscale": [
             [
              0,
              "#0d0887"
             ],
             [
              0.1111111111111111,
              "#46039f"
             ],
             [
              0.2222222222222222,
              "#7201a8"
             ],
             [
              0.3333333333333333,
              "#9c179e"
             ],
             [
              0.4444444444444444,
              "#bd3786"
             ],
             [
              0.5555555555555556,
              "#d8576b"
             ],
             [
              0.6666666666666666,
              "#ed7953"
             ],
             [
              0.7777777777777778,
              "#fb9f3a"
             ],
             [
              0.8888888888888888,
              "#fdca26"
             ],
             [
              1,
              "#f0f921"
             ]
            ],
            "type": "surface"
           }
          ],
          "table": [
           {
            "cells": {
             "fill": {
              "color": "#EBF0F8"
             },
             "line": {
              "color": "white"
             }
            },
            "header": {
             "fill": {
              "color": "#C8D4E3"
             },
             "line": {
              "color": "white"
             }
            },
            "type": "table"
           }
          ]
         },
         "layout": {
          "annotationdefaults": {
           "arrowcolor": "#2a3f5f",
           "arrowhead": 0,
           "arrowwidth": 1
          },
          "autotypenumbers": "strict",
          "coloraxis": {
           "colorbar": {
            "outlinewidth": 0,
            "ticks": ""
           }
          },
          "colorscale": {
           "diverging": [
            [
             0,
             "#8e0152"
            ],
            [
             0.1,
             "#c51b7d"
            ],
            [
             0.2,
             "#de77ae"
            ],
            [
             0.3,
             "#f1b6da"
            ],
            [
             0.4,
             "#fde0ef"
            ],
            [
             0.5,
             "#f7f7f7"
            ],
            [
             0.6,
             "#e6f5d0"
            ],
            [
             0.7,
             "#b8e186"
            ],
            [
             0.8,
             "#7fbc41"
            ],
            [
             0.9,
             "#4d9221"
            ],
            [
             1,
             "#276419"
            ]
           ],
           "sequential": [
            [
             0,
             "#0d0887"
            ],
            [
             0.1111111111111111,
             "#46039f"
            ],
            [
             0.2222222222222222,
             "#7201a8"
            ],
            [
             0.3333333333333333,
             "#9c179e"
            ],
            [
             0.4444444444444444,
             "#bd3786"
            ],
            [
             0.5555555555555556,
             "#d8576b"
            ],
            [
             0.6666666666666666,
             "#ed7953"
            ],
            [
             0.7777777777777778,
             "#fb9f3a"
            ],
            [
             0.8888888888888888,
             "#fdca26"
            ],
            [
             1,
             "#f0f921"
            ]
           ],
           "sequentialminus": [
            [
             0,
             "#0d0887"
            ],
            [
             0.1111111111111111,
             "#46039f"
            ],
            [
             0.2222222222222222,
             "#7201a8"
            ],
            [
             0.3333333333333333,
             "#9c179e"
            ],
            [
             0.4444444444444444,
             "#bd3786"
            ],
            [
             0.5555555555555556,
             "#d8576b"
            ],
            [
             0.6666666666666666,
             "#ed7953"
            ],
            [
             0.7777777777777778,
             "#fb9f3a"
            ],
            [
             0.8888888888888888,
             "#fdca26"
            ],
            [
             1,
             "#f0f921"
            ]
           ]
          },
          "colorway": [
           "#636efa",
           "#EF553B",
           "#00cc96",
           "#ab63fa",
           "#FFA15A",
           "#19d3f3",
           "#FF6692",
           "#B6E880",
           "#FF97FF",
           "#FECB52"
          ],
          "font": {
           "color": "#2a3f5f"
          },
          "geo": {
           "bgcolor": "white",
           "lakecolor": "white",
           "landcolor": "#E5ECF6",
           "showlakes": true,
           "showland": true,
           "subunitcolor": "white"
          },
          "hoverlabel": {
           "align": "left"
          },
          "hovermode": "closest",
          "mapbox": {
           "style": "light"
          },
          "paper_bgcolor": "white",
          "plot_bgcolor": "#E5ECF6",
          "polar": {
           "angularaxis": {
            "gridcolor": "white",
            "linecolor": "white",
            "ticks": ""
           },
           "bgcolor": "#E5ECF6",
           "radialaxis": {
            "gridcolor": "white",
            "linecolor": "white",
            "ticks": ""
           }
          },
          "scene": {
           "xaxis": {
            "backgroundcolor": "#E5ECF6",
            "gridcolor": "white",
            "gridwidth": 2,
            "linecolor": "white",
            "showbackground": true,
            "ticks": "",
            "zerolinecolor": "white"
           },
           "yaxis": {
            "backgroundcolor": "#E5ECF6",
            "gridcolor": "white",
            "gridwidth": 2,
            "linecolor": "white",
            "showbackground": true,
            "ticks": "",
            "zerolinecolor": "white"
           },
           "zaxis": {
            "backgroundcolor": "#E5ECF6",
            "gridcolor": "white",
            "gridwidth": 2,
            "linecolor": "white",
            "showbackground": true,
            "ticks": "",
            "zerolinecolor": "white"
           }
          },
          "shapedefaults": {
           "line": {
            "color": "#2a3f5f"
           }
          },
          "ternary": {
           "aaxis": {
            "gridcolor": "white",
            "linecolor": "white",
            "ticks": ""
           },
           "baxis": {
            "gridcolor": "white",
            "linecolor": "white",
            "ticks": ""
           },
           "bgcolor": "#E5ECF6",
           "caxis": {
            "gridcolor": "white",
            "linecolor": "white",
            "ticks": ""
           }
          },
          "title": {
           "x": 0.05
          },
          "xaxis": {
           "automargin": true,
           "gridcolor": "white",
           "linecolor": "white",
           "ticks": "",
           "title": {
            "standoff": 15
           },
           "zerolinecolor": "white",
           "zerolinewidth": 2
          },
          "yaxis": {
           "automargin": true,
           "gridcolor": "white",
           "linecolor": "white",
           "ticks": "",
           "title": {
            "standoff": 15
           },
           "zerolinecolor": "white",
           "zerolinewidth": 2
          }
         }
        },
        "title": {
         "text": "Top Strike Rates (Min 100 Balls Faced)"
        },
        "xaxis": {
         "anchor": "y",
         "domain": [
          0,
          1
         ],
         "title": {
          "text": "runs_batter"
         }
        },
        "yaxis": {
         "anchor": "x",
         "domain": [
          0,
          1
         ],
         "title": {
          "text": "strike_rate"
         }
        }
       }
      }
     },
     "metadata": {},
     "output_type": "display_data"
    }
   ],
   "source": [
    "batter_stats = t20_df.groupby('batter').agg({\n",
    "    'runs_batter': 'sum',\n",
    "    'batter': 'count'\n",
    "}).rename(columns={'batter': 'balls_faced'}).reset_index()\n",
    "batter_stats['strike_rate'] = (batter_stats['runs_batter'] / batter_stats['balls_faced']) * 100\n",
    "batter_stats = batter_stats[batter_stats['balls_faced'] >= 100]\n",
    "top_sr = batter_stats.sort_values(by='strike_rate', ascending=False).head(10)\n",
    "\n",
    "fig4 = px.scatter(\n",
    "    top_sr,\n",
    "    x='runs_batter',\n",
    "    y='strike_rate',\n",
    "    size='balls_faced',\n",
    "    color='batter',\n",
    "    hover_name='batter',\n",
    "    title='Top Strike Rates (Min 100 Balls Faced)'\n",
    ")\n",
    "fig4.show()"
   ]
  },
  {
   "cell_type": "code",
   "execution_count": 70,
   "metadata": {},
   "outputs": [
    {
     "data": {
      "application/vnd.plotly.v1+json": {
       "config": {
        "plotlyServerURL": "https://plot.ly"
       },
       "data": [
        {
         "bingroup": "x",
         "histfunc": "sum",
         "hovertemplate": "economy=1.2475247524752475<br>bowler=%{x}<br>sum of economy=%{y}<extra></extra>",
         "legendgroup": "1.2475247524752475",
         "marker": {
          "color": "#636efa",
          "line": {
           "width": 1
          },
          "pattern": {
           "shape": ""
          }
         },
         "name": "1.2475247524752475",
         "orientation": "v",
         "showlegend": true,
         "type": "histogram",
         "x": [
          "NKD Murtiari"
         ],
         "xaxis": "x",
         "y": {
          "bdata": "k07Ng9z18z8=",
          "dtype": "f8"
         },
         "yaxis": "y"
        },
        {
         "bingroup": "x",
         "histfunc": "sum",
         "hovertemplate": "economy=1.4634146341463414<br>bowler=%{x}<br>sum of economy=%{y}<extra></extra>",
         "legendgroup": "1.4634146341463414",
         "marker": {
          "color": "#EF553B",
          "line": {
           "width": 1
          },
          "pattern": {
           "shape": ""
          }
         },
         "name": "1.4634146341463414",
         "orientation": "v",
         "showlegend": true,
         "type": "histogram",
         "x": [
          "NKDP Putri"
         ],
         "xaxis": "x",
         "y": {
          "bdata": "aleidiVq9z8=",
          "dtype": "f8"
         },
         "yaxis": "y"
        },
        {
         "bingroup": "x",
         "histfunc": "sum",
         "hovertemplate": "economy=1.5<br>bowler=%{x}<br>sum of economy=%{y}<extra></extra>",
         "legendgroup": "1.5",
         "marker": {
          "color": "#00cc96",
          "line": {
           "width": 1
          },
          "pattern": {
           "shape": ""
          }
         },
         "name": "1.5",
         "orientation": "v",
         "showlegend": true,
         "type": "histogram",
         "x": [
          "Hilva Noor"
         ],
         "xaxis": "x",
         "y": {
          "bdata": "AAAAAAAA+D8=",
          "dtype": "f8"
         },
         "yaxis": "y"
        },
        {
         "bingroup": "x",
         "histfunc": "sum",
         "hovertemplate": "economy=1.651006711409396<br>bowler=%{x}<br>sum of economy=%{y}<extra></extra>",
         "legendgroup": "1.651006711409396",
         "marker": {
          "color": "#ab63fa",
          "line": {
           "width": 1
          },
          "pattern": {
           "shape": ""
          }
         },
         "name": "1.651006711409396",
         "orientation": "v",
         "showlegend": true,
         "type": "histogram",
         "x": [
          "SI Bara"
         ],
         "xaxis": "x",
         "y": {
          "bdata": "iK1vA4Zq+j8=",
          "dtype": "f8"
         },
         "yaxis": "y"
        },
        {
         "bingroup": "x",
         "histfunc": "sum",
         "hovertemplate": "economy=2.2857142857142856<br>bowler=%{x}<br>sum of economy=%{y}<extra></extra>",
         "legendgroup": "2.2857142857142856",
         "marker": {
          "color": "#FFA15A",
          "line": {
           "width": 1
          },
          "pattern": {
           "shape": ""
          }
         },
         "name": "2.2857142857142856",
         "orientation": "v",
         "showlegend": true,
         "type": "histogram",
         "x": [
          "S Namusha"
         ],
         "xaxis": "x",
         "y": {
          "bdata": "kiRJkiRJAkA=",
          "dtype": "f8"
         },
         "yaxis": "y"
        },
        {
         "bingroup": "x",
         "histfunc": "sum",
         "hovertemplate": "economy=2.480769230769231<br>bowler=%{x}<br>sum of economy=%{y}<extra></extra>",
         "legendgroup": "2.480769230769231",
         "marker": {
          "color": "#19d3f3",
          "line": {
           "width": 1
          },
          "pattern": {
           "shape": ""
          }
         },
         "name": "2.480769230769231",
         "orientation": "v",
         "showlegend": true,
         "type": "histogram",
         "x": [
          "N Caruana"
         ],
         "xaxis": "x",
         "y": {
          "bdata": "ip3YiZ3YA0A=",
          "dtype": "f8"
         },
         "yaxis": "y"
        },
        {
         "bingroup": "x",
         "histfunc": "sum",
         "hovertemplate": "economy=2.5054945054945055<br>bowler=%{x}<br>sum of economy=%{y}<extra></extra>",
         "legendgroup": "2.5054945054945055",
         "marker": {
          "color": "#FF6692",
          "line": {
           "width": 1
          },
          "pattern": {
           "shape": ""
          }
         },
         "name": "2.5054945054945055",
         "orientation": "v",
         "showlegend": true,
         "type": "histogram",
         "x": [
          "DAL Paramitha"
         ],
         "xaxis": "x",
         "y": {
          "bdata": "tEALtEALBEA=",
          "dtype": "f8"
         },
         "yaxis": "y"
        },
        {
         "bingroup": "x",
         "histfunc": "sum",
         "hovertemplate": "economy=2.514705882352941<br>bowler=%{x}<br>sum of economy=%{y}<extra></extra>",
         "legendgroup": "2.514705882352941",
         "marker": {
          "color": "#B6E880",
          "line": {
           "width": 1
          },
          "pattern": {
           "shape": ""
          }
         },
         "name": "2.514705882352941",
         "orientation": "v",
         "showlegend": true,
         "type": "histogram",
         "x": [
          "I Chathurani"
         ],
         "xaxis": "x",
         "y": {
          "bdata": "Hh4eHh4eBEA=",
          "dtype": "f8"
         },
         "yaxis": "y"
        },
        {
         "bingroup": "x",
         "histfunc": "sum",
         "hovertemplate": "economy=2.5631067961165046<br>bowler=%{x}<br>sum of economy=%{y}<extra></extra>",
         "legendgroup": "2.5631067961165046",
         "marker": {
          "color": "#FF97FF",
          "line": {
           "width": 1
          },
          "pattern": {
           "shape": ""
          }
         },
         "name": "2.5631067961165046",
         "orientation": "v",
         "showlegend": true,
         "type": "histogram",
         "x": [
          "T Granger"
         ],
         "xaxis": "x",
         "y": {
          "bdata": "Ss7LIj6BBEA=",
          "dtype": "f8"
         },
         "yaxis": "y"
        },
        {
         "bingroup": "x",
         "histfunc": "sum",
         "hovertemplate": "economy=2.676923076923077<br>bowler=%{x}<br>sum of economy=%{y}<extra></extra>",
         "legendgroup": "2.676923076923077",
         "marker": {
          "color": "#FECB52",
          "line": {
           "width": 1
          },
          "pattern": {
           "shape": ""
          }
         },
         "name": "2.676923076923077",
         "orientation": "v",
         "showlegend": true,
         "type": "histogram",
         "x": [
          "M Corazon"
         ],
         "xaxis": "x",
         "y": {
          "bdata": "plZqpVZqBUA=",
          "dtype": "f8"
         },
         "yaxis": "y"
        }
       ],
       "layout": {
        "barmode": "relative",
        "legend": {
         "title": {
          "text": "economy"
         },
         "tracegroupgap": 0
        },
        "template": {
         "data": {
          "bar": [
           {
            "error_x": {
             "color": "#2a3f5f"
            },
            "error_y": {
             "color": "#2a3f5f"
            },
            "marker": {
             "line": {
              "color": "#E5ECF6",
              "width": 0.5
             },
             "pattern": {
              "fillmode": "overlay",
              "size": 10,
              "solidity": 0.2
             }
            },
            "type": "bar"
           }
          ],
          "barpolar": [
           {
            "marker": {
             "line": {
              "color": "#E5ECF6",
              "width": 0.5
             },
             "pattern": {
              "fillmode": "overlay",
              "size": 10,
              "solidity": 0.2
             }
            },
            "type": "barpolar"
           }
          ],
          "carpet": [
           {
            "aaxis": {
             "endlinecolor": "#2a3f5f",
             "gridcolor": "white",
             "linecolor": "white",
             "minorgridcolor": "white",
             "startlinecolor": "#2a3f5f"
            },
            "baxis": {
             "endlinecolor": "#2a3f5f",
             "gridcolor": "white",
             "linecolor": "white",
             "minorgridcolor": "white",
             "startlinecolor": "#2a3f5f"
            },
            "type": "carpet"
           }
          ],
          "choropleth": [
           {
            "colorbar": {
             "outlinewidth": 0,
             "ticks": ""
            },
            "type": "choropleth"
           }
          ],
          "contour": [
           {
            "colorbar": {
             "outlinewidth": 0,
             "ticks": ""
            },
            "colorscale": [
             [
              0,
              "#0d0887"
             ],
             [
              0.1111111111111111,
              "#46039f"
             ],
             [
              0.2222222222222222,
              "#7201a8"
             ],
             [
              0.3333333333333333,
              "#9c179e"
             ],
             [
              0.4444444444444444,
              "#bd3786"
             ],
             [
              0.5555555555555556,
              "#d8576b"
             ],
             [
              0.6666666666666666,
              "#ed7953"
             ],
             [
              0.7777777777777778,
              "#fb9f3a"
             ],
             [
              0.8888888888888888,
              "#fdca26"
             ],
             [
              1,
              "#f0f921"
             ]
            ],
            "type": "contour"
           }
          ],
          "contourcarpet": [
           {
            "colorbar": {
             "outlinewidth": 0,
             "ticks": ""
            },
            "type": "contourcarpet"
           }
          ],
          "heatmap": [
           {
            "colorbar": {
             "outlinewidth": 0,
             "ticks": ""
            },
            "colorscale": [
             [
              0,
              "#0d0887"
             ],
             [
              0.1111111111111111,
              "#46039f"
             ],
             [
              0.2222222222222222,
              "#7201a8"
             ],
             [
              0.3333333333333333,
              "#9c179e"
             ],
             [
              0.4444444444444444,
              "#bd3786"
             ],
             [
              0.5555555555555556,
              "#d8576b"
             ],
             [
              0.6666666666666666,
              "#ed7953"
             ],
             [
              0.7777777777777778,
              "#fb9f3a"
             ],
             [
              0.8888888888888888,
              "#fdca26"
             ],
             [
              1,
              "#f0f921"
             ]
            ],
            "type": "heatmap"
           }
          ],
          "histogram": [
           {
            "marker": {
             "pattern": {
              "fillmode": "overlay",
              "size": 10,
              "solidity": 0.2
             }
            },
            "type": "histogram"
           }
          ],
          "histogram2d": [
           {
            "colorbar": {
             "outlinewidth": 0,
             "ticks": ""
            },
            "colorscale": [
             [
              0,
              "#0d0887"
             ],
             [
              0.1111111111111111,
              "#46039f"
             ],
             [
              0.2222222222222222,
              "#7201a8"
             ],
             [
              0.3333333333333333,
              "#9c179e"
             ],
             [
              0.4444444444444444,
              "#bd3786"
             ],
             [
              0.5555555555555556,
              "#d8576b"
             ],
             [
              0.6666666666666666,
              "#ed7953"
             ],
             [
              0.7777777777777778,
              "#fb9f3a"
             ],
             [
              0.8888888888888888,
              "#fdca26"
             ],
             [
              1,
              "#f0f921"
             ]
            ],
            "type": "histogram2d"
           }
          ],
          "histogram2dcontour": [
           {
            "colorbar": {
             "outlinewidth": 0,
             "ticks": ""
            },
            "colorscale": [
             [
              0,
              "#0d0887"
             ],
             [
              0.1111111111111111,
              "#46039f"
             ],
             [
              0.2222222222222222,
              "#7201a8"
             ],
             [
              0.3333333333333333,
              "#9c179e"
             ],
             [
              0.4444444444444444,
              "#bd3786"
             ],
             [
              0.5555555555555556,
              "#d8576b"
             ],
             [
              0.6666666666666666,
              "#ed7953"
             ],
             [
              0.7777777777777778,
              "#fb9f3a"
             ],
             [
              0.8888888888888888,
              "#fdca26"
             ],
             [
              1,
              "#f0f921"
             ]
            ],
            "type": "histogram2dcontour"
           }
          ],
          "mesh3d": [
           {
            "colorbar": {
             "outlinewidth": 0,
             "ticks": ""
            },
            "type": "mesh3d"
           }
          ],
          "parcoords": [
           {
            "line": {
             "colorbar": {
              "outlinewidth": 0,
              "ticks": ""
             }
            },
            "type": "parcoords"
           }
          ],
          "pie": [
           {
            "automargin": true,
            "type": "pie"
           }
          ],
          "scatter": [
           {
            "fillpattern": {
             "fillmode": "overlay",
             "size": 10,
             "solidity": 0.2
            },
            "type": "scatter"
           }
          ],
          "scatter3d": [
           {
            "line": {
             "colorbar": {
              "outlinewidth": 0,
              "ticks": ""
             }
            },
            "marker": {
             "colorbar": {
              "outlinewidth": 0,
              "ticks": ""
             }
            },
            "type": "scatter3d"
           }
          ],
          "scattercarpet": [
           {
            "marker": {
             "colorbar": {
              "outlinewidth": 0,
              "ticks": ""
             }
            },
            "type": "scattercarpet"
           }
          ],
          "scattergeo": [
           {
            "marker": {
             "colorbar": {
              "outlinewidth": 0,
              "ticks": ""
             }
            },
            "type": "scattergeo"
           }
          ],
          "scattergl": [
           {
            "marker": {
             "colorbar": {
              "outlinewidth": 0,
              "ticks": ""
             }
            },
            "type": "scattergl"
           }
          ],
          "scattermap": [
           {
            "marker": {
             "colorbar": {
              "outlinewidth": 0,
              "ticks": ""
             }
            },
            "type": "scattermap"
           }
          ],
          "scattermapbox": [
           {
            "marker": {
             "colorbar": {
              "outlinewidth": 0,
              "ticks": ""
             }
            },
            "type": "scattermapbox"
           }
          ],
          "scatterpolar": [
           {
            "marker": {
             "colorbar": {
              "outlinewidth": 0,
              "ticks": ""
             }
            },
            "type": "scatterpolar"
           }
          ],
          "scatterpolargl": [
           {
            "marker": {
             "colorbar": {
              "outlinewidth": 0,
              "ticks": ""
             }
            },
            "type": "scatterpolargl"
           }
          ],
          "scatterternary": [
           {
            "marker": {
             "colorbar": {
              "outlinewidth": 0,
              "ticks": ""
             }
            },
            "type": "scatterternary"
           }
          ],
          "surface": [
           {
            "colorbar": {
             "outlinewidth": 0,
             "ticks": ""
            },
            "colorscale": [
             [
              0,
              "#0d0887"
             ],
             [
              0.1111111111111111,
              "#46039f"
             ],
             [
              0.2222222222222222,
              "#7201a8"
             ],
             [
              0.3333333333333333,
              "#9c179e"
             ],
             [
              0.4444444444444444,
              "#bd3786"
             ],
             [
              0.5555555555555556,
              "#d8576b"
             ],
             [
              0.6666666666666666,
              "#ed7953"
             ],
             [
              0.7777777777777778,
              "#fb9f3a"
             ],
             [
              0.8888888888888888,
              "#fdca26"
             ],
             [
              1,
              "#f0f921"
             ]
            ],
            "type": "surface"
           }
          ],
          "table": [
           {
            "cells": {
             "fill": {
              "color": "#EBF0F8"
             },
             "line": {
              "color": "white"
             }
            },
            "header": {
             "fill": {
              "color": "#C8D4E3"
             },
             "line": {
              "color": "white"
             }
            },
            "type": "table"
           }
          ]
         },
         "layout": {
          "annotationdefaults": {
           "arrowcolor": "#2a3f5f",
           "arrowhead": 0,
           "arrowwidth": 1
          },
          "autotypenumbers": "strict",
          "coloraxis": {
           "colorbar": {
            "outlinewidth": 0,
            "ticks": ""
           }
          },
          "colorscale": {
           "diverging": [
            [
             0,
             "#8e0152"
            ],
            [
             0.1,
             "#c51b7d"
            ],
            [
             0.2,
             "#de77ae"
            ],
            [
             0.3,
             "#f1b6da"
            ],
            [
             0.4,
             "#fde0ef"
            ],
            [
             0.5,
             "#f7f7f7"
            ],
            [
             0.6,
             "#e6f5d0"
            ],
            [
             0.7,
             "#b8e186"
            ],
            [
             0.8,
             "#7fbc41"
            ],
            [
             0.9,
             "#4d9221"
            ],
            [
             1,
             "#276419"
            ]
           ],
           "sequential": [
            [
             0,
             "#0d0887"
            ],
            [
             0.1111111111111111,
             "#46039f"
            ],
            [
             0.2222222222222222,
             "#7201a8"
            ],
            [
             0.3333333333333333,
             "#9c179e"
            ],
            [
             0.4444444444444444,
             "#bd3786"
            ],
            [
             0.5555555555555556,
             "#d8576b"
            ],
            [
             0.6666666666666666,
             "#ed7953"
            ],
            [
             0.7777777777777778,
             "#fb9f3a"
            ],
            [
             0.8888888888888888,
             "#fdca26"
            ],
            [
             1,
             "#f0f921"
            ]
           ],
           "sequentialminus": [
            [
             0,
             "#0d0887"
            ],
            [
             0.1111111111111111,
             "#46039f"
            ],
            [
             0.2222222222222222,
             "#7201a8"
            ],
            [
             0.3333333333333333,
             "#9c179e"
            ],
            [
             0.4444444444444444,
             "#bd3786"
            ],
            [
             0.5555555555555556,
             "#d8576b"
            ],
            [
             0.6666666666666666,
             "#ed7953"
            ],
            [
             0.7777777777777778,
             "#fb9f3a"
            ],
            [
             0.8888888888888888,
             "#fdca26"
            ],
            [
             1,
             "#f0f921"
            ]
           ]
          },
          "colorway": [
           "#636efa",
           "#EF553B",
           "#00cc96",
           "#ab63fa",
           "#FFA15A",
           "#19d3f3",
           "#FF6692",
           "#B6E880",
           "#FF97FF",
           "#FECB52"
          ],
          "font": {
           "color": "#2a3f5f"
          },
          "geo": {
           "bgcolor": "white",
           "lakecolor": "white",
           "landcolor": "#E5ECF6",
           "showlakes": true,
           "showland": true,
           "subunitcolor": "white"
          },
          "hoverlabel": {
           "align": "left"
          },
          "hovermode": "closest",
          "mapbox": {
           "style": "light"
          },
          "paper_bgcolor": "white",
          "plot_bgcolor": "#E5ECF6",
          "polar": {
           "angularaxis": {
            "gridcolor": "white",
            "linecolor": "white",
            "ticks": ""
           },
           "bgcolor": "#E5ECF6",
           "radialaxis": {
            "gridcolor": "white",
            "linecolor": "white",
            "ticks": ""
           }
          },
          "scene": {
           "xaxis": {
            "backgroundcolor": "#E5ECF6",
            "gridcolor": "white",
            "gridwidth": 2,
            "linecolor": "white",
            "showbackground": true,
            "ticks": "",
            "zerolinecolor": "white"
           },
           "yaxis": {
            "backgroundcolor": "#E5ECF6",
            "gridcolor": "white",
            "gridwidth": 2,
            "linecolor": "white",
            "showbackground": true,
            "ticks": "",
            "zerolinecolor": "white"
           },
           "zaxis": {
            "backgroundcolor": "#E5ECF6",
            "gridcolor": "white",
            "gridwidth": 2,
            "linecolor": "white",
            "showbackground": true,
            "ticks": "",
            "zerolinecolor": "white"
           }
          },
          "shapedefaults": {
           "line": {
            "color": "#2a3f5f"
           }
          },
          "ternary": {
           "aaxis": {
            "gridcolor": "white",
            "linecolor": "white",
            "ticks": ""
           },
           "baxis": {
            "gridcolor": "white",
            "linecolor": "white",
            "ticks": ""
           },
           "bgcolor": "#E5ECF6",
           "caxis": {
            "gridcolor": "white",
            "linecolor": "white",
            "ticks": ""
           }
          },
          "title": {
           "x": 0.05
          },
          "xaxis": {
           "automargin": true,
           "gridcolor": "white",
           "linecolor": "white",
           "ticks": "",
           "title": {
            "standoff": 15
           },
           "zerolinecolor": "white",
           "zerolinewidth": 2
          },
          "yaxis": {
           "automargin": true,
           "gridcolor": "white",
           "linecolor": "white",
           "ticks": "",
           "title": {
            "standoff": 15
           },
           "zerolinecolor": "white",
           "zerolinewidth": 2
          }
         }
        },
        "title": {
         "text": "Top 10 Bowlers with Best Economy (Min 50 Balls)"
        },
        "xaxis": {
         "anchor": "y",
         "domain": [
          0,
          1
         ],
         "title": {
          "text": "bowler"
         }
        },
        "yaxis": {
         "anchor": "x",
         "categoryarray": [
          2.676923076923077,
          2.5631067961165046,
          2.514705882352941,
          2.5054945054945055,
          2.480769230769231,
          2.2857142857142856,
          1.651006711409396,
          1.5,
          1.4634146341463414,
          1.2475247524752475
         ],
         "categoryorder": "array",
         "domain": [
          0,
          1
         ],
         "title": {
          "text": "sum of economy"
         }
        }
       }
      }
     },
     "metadata": {},
     "output_type": "display_data"
    }
   ],
   "source": [
    "\n",
    "# 5. Economy Kings (Min 50 Balls Bowled)\n",
    "bowler_stats = t20_df.groupby('bowler').agg({\n",
    "    'runs_total': 'sum',\n",
    "    'bowler': 'count'\n",
    "}).rename(columns={'bowler': 'balls_bowled'}).reset_index()\n",
    "bowler_stats = bowler_stats[bowler_stats['balls_bowled'] >= 50]\n",
    "bowler_stats['economy'] = (bowler_stats['runs_total'] / bowler_stats['balls_bowled']) * 6\n",
    "economy_kings = bowler_stats.sort_values(by='economy').head(10)\n",
    "\n",
    "fig5 = px.histogram(\n",
    "    economy_kings,\n",
    "    x='bowler',\n",
    "    y='economy',\n",
    "    color='economy',\n",
    "    title=\"Top 10 Bowlers with Best Economy (Min 50 Balls)\"\n",
    ")\n",
    "fig5.update_traces(marker_line_width=1)\n",
    "fig5.show()"
   ]
  },
  {
   "cell_type": "markdown",
   "metadata": {},
   "source": [
    "#### 6. Powerplay Blasters: Avg Runs in First 6 Overs (T20)"
   ]
  },
  {
   "cell_type": "code",
   "execution_count": null,
   "metadata": {},
   "outputs": [
    {
     "data": {
      "application/vnd.plotly.v1+json": {
       "config": {
        "plotlyServerURL": "https://plot.ly"
       },
       "data": [
        {
         "hovertemplate": "team=%{x}<br>avg_powerplay_runs=%{marker.color}<extra></extra>",
         "legendgroup": "",
         "marker": {
          "color": {
           "bdata": "AAAAAACKbEAAAAAAADxmQAAAAAAAIGZAAAAAAADwZEAAAAAAAJBkQDw8PDw8HGRAMzMzMzMjY0Acx3Ecx6FiQC1kIQtZyF9A2Ymd2IndXUDNzMzMzIxdQGZmZmZmRl1A27Zt27YtXEBu27Zt2xZcQG7btm3btlpAbtu2bdu2WkDbtm3bti1aQAAAAAAAwFVAVVVVVVX1U0A5juM4jqNTQKuqqqqqalFAAAAAAABAUUBVVVVVVVVOQAAAAAAAAExAAAAAAACAQEA=",
           "dtype": "f8"
          },
          "coloraxis": "coloraxis",
          "pattern": {
           "shape": ""
          }
         },
         "name": "",
         "orientation": "v",
         "showlegend": false,
         "textposition": "auto",
         "type": "bar",
         "x": [
          "Bahrain",
          "Czech Republic",
          "Belgium",
          "Cook Islands",
          "Cyprus",
          "Botswana",
          "Bulgaria",
          "Australia",
          "Canada",
          "Bhutan",
          "Argentina",
          "Bangladesh",
          "Cambodia",
          "Austria",
          "Bermuda",
          "Cayman Islands",
          "Croatia",
          "Barbados",
          "Bahamas",
          "Cameroon",
          "Brazil",
          "Costa Rica",
          "China",
          "Belize",
          "Chile"
         ],
         "xaxis": "x",
         "y": {
          "bdata": "AAAAAACKbEAAAAAAADxmQAAAAAAAIGZAAAAAAADwZEAAAAAAAJBkQDw8PDw8HGRAMzMzMzMjY0Acx3Ecx6FiQC1kIQtZyF9A2Ymd2IndXUDNzMzMzIxdQGZmZmZmRl1A27Zt27YtXEBu27Zt2xZcQG7btm3btlpAbtu2bdu2WkDbtm3bti1aQAAAAAAAwFVAVVVVVVX1U0A5juM4jqNTQKuqqqqqalFAAAAAAABAUUBVVVVVVVVOQAAAAAAAAExAAAAAAACAQEA=",
          "dtype": "f8"
         },
         "yaxis": "y"
        }
       ],
       "layout": {
        "barmode": "relative",
        "coloraxis": {
         "colorbar": {
          "title": {
           "text": "avg_powerplay_runs"
          }
         },
         "colorscale": [
          [
           0,
           "rgb(255,255,204)"
          ],
          [
           0.125,
           "rgb(255,237,160)"
          ],
          [
           0.25,
           "rgb(254,217,118)"
          ],
          [
           0.375,
           "rgb(254,178,76)"
          ],
          [
           0.5,
           "rgb(253,141,60)"
          ],
          [
           0.625,
           "rgb(252,78,42)"
          ],
          [
           0.75,
           "rgb(227,26,28)"
          ],
          [
           0.875,
           "rgb(189,0,38)"
          ],
          [
           1,
           "rgb(128,0,38)"
          ]
         ]
        },
        "height": 500,
        "legend": {
         "tracegroupgap": 0
        },
        "template": {
         "data": {
          "bar": [
           {
            "error_x": {
             "color": "#2a3f5f"
            },
            "error_y": {
             "color": "#2a3f5f"
            },
            "marker": {
             "line": {
              "color": "#E5ECF6",
              "width": 0.5
             },
             "pattern": {
              "fillmode": "overlay",
              "size": 10,
              "solidity": 0.2
             }
            },
            "type": "bar"
           }
          ],
          "barpolar": [
           {
            "marker": {
             "line": {
              "color": "#E5ECF6",
              "width": 0.5
             },
             "pattern": {
              "fillmode": "overlay",
              "size": 10,
              "solidity": 0.2
             }
            },
            "type": "barpolar"
           }
          ],
          "carpet": [
           {
            "aaxis": {
             "endlinecolor": "#2a3f5f",
             "gridcolor": "white",
             "linecolor": "white",
             "minorgridcolor": "white",
             "startlinecolor": "#2a3f5f"
            },
            "baxis": {
             "endlinecolor": "#2a3f5f",
             "gridcolor": "white",
             "linecolor": "white",
             "minorgridcolor": "white",
             "startlinecolor": "#2a3f5f"
            },
            "type": "carpet"
           }
          ],
          "choropleth": [
           {
            "colorbar": {
             "outlinewidth": 0,
             "ticks": ""
            },
            "type": "choropleth"
           }
          ],
          "contour": [
           {
            "colorbar": {
             "outlinewidth": 0,
             "ticks": ""
            },
            "colorscale": [
             [
              0,
              "#0d0887"
             ],
             [
              0.1111111111111111,
              "#46039f"
             ],
             [
              0.2222222222222222,
              "#7201a8"
             ],
             [
              0.3333333333333333,
              "#9c179e"
             ],
             [
              0.4444444444444444,
              "#bd3786"
             ],
             [
              0.5555555555555556,
              "#d8576b"
             ],
             [
              0.6666666666666666,
              "#ed7953"
             ],
             [
              0.7777777777777778,
              "#fb9f3a"
             ],
             [
              0.8888888888888888,
              "#fdca26"
             ],
             [
              1,
              "#f0f921"
             ]
            ],
            "type": "contour"
           }
          ],
          "contourcarpet": [
           {
            "colorbar": {
             "outlinewidth": 0,
             "ticks": ""
            },
            "type": "contourcarpet"
           }
          ],
          "heatmap": [
           {
            "colorbar": {
             "outlinewidth": 0,
             "ticks": ""
            },
            "colorscale": [
             [
              0,
              "#0d0887"
             ],
             [
              0.1111111111111111,
              "#46039f"
             ],
             [
              0.2222222222222222,
              "#7201a8"
             ],
             [
              0.3333333333333333,
              "#9c179e"
             ],
             [
              0.4444444444444444,
              "#bd3786"
             ],
             [
              0.5555555555555556,
              "#d8576b"
             ],
             [
              0.6666666666666666,
              "#ed7953"
             ],
             [
              0.7777777777777778,
              "#fb9f3a"
             ],
             [
              0.8888888888888888,
              "#fdca26"
             ],
             [
              1,
              "#f0f921"
             ]
            ],
            "type": "heatmap"
           }
          ],
          "histogram": [
           {
            "marker": {
             "pattern": {
              "fillmode": "overlay",
              "size": 10,
              "solidity": 0.2
             }
            },
            "type": "histogram"
           }
          ],
          "histogram2d": [
           {
            "colorbar": {
             "outlinewidth": 0,
             "ticks": ""
            },
            "colorscale": [
             [
              0,
              "#0d0887"
             ],
             [
              0.1111111111111111,
              "#46039f"
             ],
             [
              0.2222222222222222,
              "#7201a8"
             ],
             [
              0.3333333333333333,
              "#9c179e"
             ],
             [
              0.4444444444444444,
              "#bd3786"
             ],
             [
              0.5555555555555556,
              "#d8576b"
             ],
             [
              0.6666666666666666,
              "#ed7953"
             ],
             [
              0.7777777777777778,
              "#fb9f3a"
             ],
             [
              0.8888888888888888,
              "#fdca26"
             ],
             [
              1,
              "#f0f921"
             ]
            ],
            "type": "histogram2d"
           }
          ],
          "histogram2dcontour": [
           {
            "colorbar": {
             "outlinewidth": 0,
             "ticks": ""
            },
            "colorscale": [
             [
              0,
              "#0d0887"
             ],
             [
              0.1111111111111111,
              "#46039f"
             ],
             [
              0.2222222222222222,
              "#7201a8"
             ],
             [
              0.3333333333333333,
              "#9c179e"
             ],
             [
              0.4444444444444444,
              "#bd3786"
             ],
             [
              0.5555555555555556,
              "#d8576b"
             ],
             [
              0.6666666666666666,
              "#ed7953"
             ],
             [
              0.7777777777777778,
              "#fb9f3a"
             ],
             [
              0.8888888888888888,
              "#fdca26"
             ],
             [
              1,
              "#f0f921"
             ]
            ],
            "type": "histogram2dcontour"
           }
          ],
          "mesh3d": [
           {
            "colorbar": {
             "outlinewidth": 0,
             "ticks": ""
            },
            "type": "mesh3d"
           }
          ],
          "parcoords": [
           {
            "line": {
             "colorbar": {
              "outlinewidth": 0,
              "ticks": ""
             }
            },
            "type": "parcoords"
           }
          ],
          "pie": [
           {
            "automargin": true,
            "type": "pie"
           }
          ],
          "scatter": [
           {
            "fillpattern": {
             "fillmode": "overlay",
             "size": 10,
             "solidity": 0.2
            },
            "type": "scatter"
           }
          ],
          "scatter3d": [
           {
            "line": {
             "colorbar": {
              "outlinewidth": 0,
              "ticks": ""
             }
            },
            "marker": {
             "colorbar": {
              "outlinewidth": 0,
              "ticks": ""
             }
            },
            "type": "scatter3d"
           }
          ],
          "scattercarpet": [
           {
            "marker": {
             "colorbar": {
              "outlinewidth": 0,
              "ticks": ""
             }
            },
            "type": "scattercarpet"
           }
          ],
          "scattergeo": [
           {
            "marker": {
             "colorbar": {
              "outlinewidth": 0,
              "ticks": ""
             }
            },
            "type": "scattergeo"
           }
          ],
          "scattergl": [
           {
            "marker": {
             "colorbar": {
              "outlinewidth": 0,
              "ticks": ""
             }
            },
            "type": "scattergl"
           }
          ],
          "scattermap": [
           {
            "marker": {
             "colorbar": {
              "outlinewidth": 0,
              "ticks": ""
             }
            },
            "type": "scattermap"
           }
          ],
          "scattermapbox": [
           {
            "marker": {
             "colorbar": {
              "outlinewidth": 0,
              "ticks": ""
             }
            },
            "type": "scattermapbox"
           }
          ],
          "scatterpolar": [
           {
            "marker": {
             "colorbar": {
              "outlinewidth": 0,
              "ticks": ""
             }
            },
            "type": "scatterpolar"
           }
          ],
          "scatterpolargl": [
           {
            "marker": {
             "colorbar": {
              "outlinewidth": 0,
              "ticks": ""
             }
            },
            "type": "scatterpolargl"
           }
          ],
          "scatterternary": [
           {
            "marker": {
             "colorbar": {
              "outlinewidth": 0,
              "ticks": ""
             }
            },
            "type": "scatterternary"
           }
          ],
          "surface": [
           {
            "colorbar": {
             "outlinewidth": 0,
             "ticks": ""
            },
            "colorscale": [
             [
              0,
              "#0d0887"
             ],
             [
              0.1111111111111111,
              "#46039f"
             ],
             [
              0.2222222222222222,
              "#7201a8"
             ],
             [
              0.3333333333333333,
              "#9c179e"
             ],
             [
              0.4444444444444444,
              "#bd3786"
             ],
             [
              0.5555555555555556,
              "#d8576b"
             ],
             [
              0.6666666666666666,
              "#ed7953"
             ],
             [
              0.7777777777777778,
              "#fb9f3a"
             ],
             [
              0.8888888888888888,
              "#fdca26"
             ],
             [
              1,
              "#f0f921"
             ]
            ],
            "type": "surface"
           }
          ],
          "table": [
           {
            "cells": {
             "fill": {
              "color": "#EBF0F8"
             },
             "line": {
              "color": "white"
             }
            },
            "header": {
             "fill": {
              "color": "#C8D4E3"
             },
             "line": {
              "color": "white"
             }
            },
            "type": "table"
           }
          ]
         },
         "layout": {
          "annotationdefaults": {
           "arrowcolor": "#2a3f5f",
           "arrowhead": 0,
           "arrowwidth": 1
          },
          "autotypenumbers": "strict",
          "coloraxis": {
           "colorbar": {
            "outlinewidth": 0,
            "ticks": ""
           }
          },
          "colorscale": {
           "diverging": [
            [
             0,
             "#8e0152"
            ],
            [
             0.1,
             "#c51b7d"
            ],
            [
             0.2,
             "#de77ae"
            ],
            [
             0.3,
             "#f1b6da"
            ],
            [
             0.4,
             "#fde0ef"
            ],
            [
             0.5,
             "#f7f7f7"
            ],
            [
             0.6,
             "#e6f5d0"
            ],
            [
             0.7,
             "#b8e186"
            ],
            [
             0.8,
             "#7fbc41"
            ],
            [
             0.9,
             "#4d9221"
            ],
            [
             1,
             "#276419"
            ]
           ],
           "sequential": [
            [
             0,
             "#0d0887"
            ],
            [
             0.1111111111111111,
             "#46039f"
            ],
            [
             0.2222222222222222,
             "#7201a8"
            ],
            [
             0.3333333333333333,
             "#9c179e"
            ],
            [
             0.4444444444444444,
             "#bd3786"
            ],
            [
             0.5555555555555556,
             "#d8576b"
            ],
            [
             0.6666666666666666,
             "#ed7953"
            ],
            [
             0.7777777777777778,
             "#fb9f3a"
            ],
            [
             0.8888888888888888,
             "#fdca26"
            ],
            [
             1,
             "#f0f921"
            ]
           ],
           "sequentialminus": [
            [
             0,
             "#0d0887"
            ],
            [
             0.1111111111111111,
             "#46039f"
            ],
            [
             0.2222222222222222,
             "#7201a8"
            ],
            [
             0.3333333333333333,
             "#9c179e"
            ],
            [
             0.4444444444444444,
             "#bd3786"
            ],
            [
             0.5555555555555556,
             "#d8576b"
            ],
            [
             0.6666666666666666,
             "#ed7953"
            ],
            [
             0.7777777777777778,
             "#fb9f3a"
            ],
            [
             0.8888888888888888,
             "#fdca26"
            ],
            [
             1,
             "#f0f921"
            ]
           ]
          },
          "colorway": [
           "#636efa",
           "#EF553B",
           "#00cc96",
           "#ab63fa",
           "#FFA15A",
           "#19d3f3",
           "#FF6692",
           "#B6E880",
           "#FF97FF",
           "#FECB52"
          ],
          "font": {
           "color": "#2a3f5f"
          },
          "geo": {
           "bgcolor": "white",
           "lakecolor": "white",
           "landcolor": "#E5ECF6",
           "showlakes": true,
           "showland": true,
           "subunitcolor": "white"
          },
          "hoverlabel": {
           "align": "left"
          },
          "hovermode": "closest",
          "mapbox": {
           "style": "light"
          },
          "paper_bgcolor": "white",
          "plot_bgcolor": "#E5ECF6",
          "polar": {
           "angularaxis": {
            "gridcolor": "white",
            "linecolor": "white",
            "ticks": ""
           },
           "bgcolor": "#E5ECF6",
           "radialaxis": {
            "gridcolor": "white",
            "linecolor": "white",
            "ticks": ""
           }
          },
          "scene": {
           "xaxis": {
            "backgroundcolor": "#E5ECF6",
            "gridcolor": "white",
            "gridwidth": 2,
            "linecolor": "white",
            "showbackground": true,
            "ticks": "",
            "zerolinecolor": "white"
           },
           "yaxis": {
            "backgroundcolor": "#E5ECF6",
            "gridcolor": "white",
            "gridwidth": 2,
            "linecolor": "white",
            "showbackground": true,
            "ticks": "",
            "zerolinecolor": "white"
           },
           "zaxis": {
            "backgroundcolor": "#E5ECF6",
            "gridcolor": "white",
            "gridwidth": 2,
            "linecolor": "white",
            "showbackground": true,
            "ticks": "",
            "zerolinecolor": "white"
           }
          },
          "shapedefaults": {
           "line": {
            "color": "#2a3f5f"
           }
          },
          "ternary": {
           "aaxis": {
            "gridcolor": "white",
            "linecolor": "white",
            "ticks": ""
           },
           "baxis": {
            "gridcolor": "white",
            "linecolor": "white",
            "ticks": ""
           },
           "bgcolor": "#E5ECF6",
           "caxis": {
            "gridcolor": "white",
            "linecolor": "white",
            "ticks": ""
           }
          },
          "title": {
           "x": 0.05
          },
          "xaxis": {
           "automargin": true,
           "gridcolor": "white",
           "linecolor": "white",
           "ticks": "",
           "title": {
            "standoff": 15
           },
           "zerolinecolor": "white",
           "zerolinewidth": 2
          },
          "yaxis": {
           "automargin": true,
           "gridcolor": "white",
           "linecolor": "white",
           "ticks": "",
           "title": {
            "standoff": 15
           },
           "zerolinecolor": "white",
           "zerolinewidth": 2
          }
         }
        },
        "title": {
         "text": "💥 Powerplay Blasters: Avg Runs in First 6 Overs (T20)"
        },
        "xaxis": {
         "anchor": "y",
         "domain": [
          0,
          1
         ],
         "title": {
          "text": "Team"
         }
        },
        "yaxis": {
         "anchor": "x",
         "domain": [
          0,
          1
         ],
         "title": {
          "text": "Avg Powerplay Runs"
         }
        }
       }
      }
     },
     "metadata": {},
     "output_type": "display_data"
    }
   ],
   "source": [
    "\n",
    "\n",
    "# Filter for Powerplay overs (0 to 5)\n",
    "powerplay_df = t20_df[t20_df['over'] < 6]\n",
    "\n",
    "# Total runs by team in powerplay across matches\n",
    "powerplay_runs = powerplay_df.groupby(['venue', 'batting_team'])['runs_total'].sum().reset_index()\n",
    "\n",
    "# Average runs in powerplay\n",
    "avg_powerplay = powerplay_runs.groupby('batting_team')['runs_total'].mean().reset_index().head(25)\n",
    "avg_powerplay.columns = ['team', 'avg_powerplay_runs']\n",
    "\n",
    "# Plot the bar chart\n",
    "fig = px.bar(\n",
    "    avg_powerplay.sort_values(by='avg_powerplay_runs', ascending=False),\n",
    "    x='team',\n",
    "    y='avg_powerplay_runs',\n",
    "    title='Powerplay Blasters: Avg Runs in First 6 Overs (T20)',\n",
    "    color='avg_powerplay_runs',\n",
    "    color_continuous_scale='YlOrRd',\n",
    ")\n",
    "\n",
    "fig.update_layout(xaxis_title='Team', yaxis_title='Avg Powerplay Runs', height=500)\n",
    "fig.show()\n"
   ]
  },
  {
   "cell_type": "markdown",
   "metadata": {},
   "source": [
    "### TEST Mathces Analysis"
   ]
  },
  {
   "cell_type": "markdown",
   "metadata": {},
   "source": [
    "#### 1. Longest Individual Innings (By Balls Faced)\n",
    "- Insight: Identify batters who have faced the most balls in a single match — a measure of grit and concentration."
   ]
  },
  {
   "cell_type": "code",
   "execution_count": null,
   "metadata": {},
   "outputs": [
    {
     "data": {
      "application/vnd.plotly.v1+json": {
       "config": {
        "plotlyServerURL": "https://plot.ly"
       },
       "data": [
        {
         "hovertemplate": "balls_faced=%{x}<br>batter=%{y}<extra></extra>",
         "legendgroup": "",
         "marker": {
          "color": "#636efa"
         },
         "name": "",
         "orientation": "h",
         "showlegend": false,
         "type": "funnel",
         "x": {
          "bdata": "thDXDzEOZA0FC5oKmQqICkUKKAo=",
          "dtype": "i2"
         },
         "xaxis": "x",
         "y": [
          "AD Mathews",
          "AN Cook",
          "FDM Karunaratne",
          "LD Chandimal",
          "DPMD Jayawardene",
          "HM Amla",
          "JH Kallis",
          "Azhar Ali",
          "Azhar Ali",
          "AN Cook"
         ],
         "yaxis": "y"
        }
       ],
       "layout": {
        "legend": {
         "tracegroupgap": 0
        },
        "template": {
         "data": {
          "bar": [
           {
            "error_x": {
             "color": "#2a3f5f"
            },
            "error_y": {
             "color": "#2a3f5f"
            },
            "marker": {
             "line": {
              "color": "#E5ECF6",
              "width": 0.5
             },
             "pattern": {
              "fillmode": "overlay",
              "size": 10,
              "solidity": 0.2
             }
            },
            "type": "bar"
           }
          ],
          "barpolar": [
           {
            "marker": {
             "line": {
              "color": "#E5ECF6",
              "width": 0.5
             },
             "pattern": {
              "fillmode": "overlay",
              "size": 10,
              "solidity": 0.2
             }
            },
            "type": "barpolar"
           }
          ],
          "carpet": [
           {
            "aaxis": {
             "endlinecolor": "#2a3f5f",
             "gridcolor": "white",
             "linecolor": "white",
             "minorgridcolor": "white",
             "startlinecolor": "#2a3f5f"
            },
            "baxis": {
             "endlinecolor": "#2a3f5f",
             "gridcolor": "white",
             "linecolor": "white",
             "minorgridcolor": "white",
             "startlinecolor": "#2a3f5f"
            },
            "type": "carpet"
           }
          ],
          "choropleth": [
           {
            "colorbar": {
             "outlinewidth": 0,
             "ticks": ""
            },
            "type": "choropleth"
           }
          ],
          "contour": [
           {
            "colorbar": {
             "outlinewidth": 0,
             "ticks": ""
            },
            "colorscale": [
             [
              0,
              "#0d0887"
             ],
             [
              0.1111111111111111,
              "#46039f"
             ],
             [
              0.2222222222222222,
              "#7201a8"
             ],
             [
              0.3333333333333333,
              "#9c179e"
             ],
             [
              0.4444444444444444,
              "#bd3786"
             ],
             [
              0.5555555555555556,
              "#d8576b"
             ],
             [
              0.6666666666666666,
              "#ed7953"
             ],
             [
              0.7777777777777778,
              "#fb9f3a"
             ],
             [
              0.8888888888888888,
              "#fdca26"
             ],
             [
              1,
              "#f0f921"
             ]
            ],
            "type": "contour"
           }
          ],
          "contourcarpet": [
           {
            "colorbar": {
             "outlinewidth": 0,
             "ticks": ""
            },
            "type": "contourcarpet"
           }
          ],
          "heatmap": [
           {
            "colorbar": {
             "outlinewidth": 0,
             "ticks": ""
            },
            "colorscale": [
             [
              0,
              "#0d0887"
             ],
             [
              0.1111111111111111,
              "#46039f"
             ],
             [
              0.2222222222222222,
              "#7201a8"
             ],
             [
              0.3333333333333333,
              "#9c179e"
             ],
             [
              0.4444444444444444,
              "#bd3786"
             ],
             [
              0.5555555555555556,
              "#d8576b"
             ],
             [
              0.6666666666666666,
              "#ed7953"
             ],
             [
              0.7777777777777778,
              "#fb9f3a"
             ],
             [
              0.8888888888888888,
              "#fdca26"
             ],
             [
              1,
              "#f0f921"
             ]
            ],
            "type": "heatmap"
           }
          ],
          "histogram": [
           {
            "marker": {
             "pattern": {
              "fillmode": "overlay",
              "size": 10,
              "solidity": 0.2
             }
            },
            "type": "histogram"
           }
          ],
          "histogram2d": [
           {
            "colorbar": {
             "outlinewidth": 0,
             "ticks": ""
            },
            "colorscale": [
             [
              0,
              "#0d0887"
             ],
             [
              0.1111111111111111,
              "#46039f"
             ],
             [
              0.2222222222222222,
              "#7201a8"
             ],
             [
              0.3333333333333333,
              "#9c179e"
             ],
             [
              0.4444444444444444,
              "#bd3786"
             ],
             [
              0.5555555555555556,
              "#d8576b"
             ],
             [
              0.6666666666666666,
              "#ed7953"
             ],
             [
              0.7777777777777778,
              "#fb9f3a"
             ],
             [
              0.8888888888888888,
              "#fdca26"
             ],
             [
              1,
              "#f0f921"
             ]
            ],
            "type": "histogram2d"
           }
          ],
          "histogram2dcontour": [
           {
            "colorbar": {
             "outlinewidth": 0,
             "ticks": ""
            },
            "colorscale": [
             [
              0,
              "#0d0887"
             ],
             [
              0.1111111111111111,
              "#46039f"
             ],
             [
              0.2222222222222222,
              "#7201a8"
             ],
             [
              0.3333333333333333,
              "#9c179e"
             ],
             [
              0.4444444444444444,
              "#bd3786"
             ],
             [
              0.5555555555555556,
              "#d8576b"
             ],
             [
              0.6666666666666666,
              "#ed7953"
             ],
             [
              0.7777777777777778,
              "#fb9f3a"
             ],
             [
              0.8888888888888888,
              "#fdca26"
             ],
             [
              1,
              "#f0f921"
             ]
            ],
            "type": "histogram2dcontour"
           }
          ],
          "mesh3d": [
           {
            "colorbar": {
             "outlinewidth": 0,
             "ticks": ""
            },
            "type": "mesh3d"
           }
          ],
          "parcoords": [
           {
            "line": {
             "colorbar": {
              "outlinewidth": 0,
              "ticks": ""
             }
            },
            "type": "parcoords"
           }
          ],
          "pie": [
           {
            "automargin": true,
            "type": "pie"
           }
          ],
          "scatter": [
           {
            "fillpattern": {
             "fillmode": "overlay",
             "size": 10,
             "solidity": 0.2
            },
            "type": "scatter"
           }
          ],
          "scatter3d": [
           {
            "line": {
             "colorbar": {
              "outlinewidth": 0,
              "ticks": ""
             }
            },
            "marker": {
             "colorbar": {
              "outlinewidth": 0,
              "ticks": ""
             }
            },
            "type": "scatter3d"
           }
          ],
          "scattercarpet": [
           {
            "marker": {
             "colorbar": {
              "outlinewidth": 0,
              "ticks": ""
             }
            },
            "type": "scattercarpet"
           }
          ],
          "scattergeo": [
           {
            "marker": {
             "colorbar": {
              "outlinewidth": 0,
              "ticks": ""
             }
            },
            "type": "scattergeo"
           }
          ],
          "scattergl": [
           {
            "marker": {
             "colorbar": {
              "outlinewidth": 0,
              "ticks": ""
             }
            },
            "type": "scattergl"
           }
          ],
          "scattermap": [
           {
            "marker": {
             "colorbar": {
              "outlinewidth": 0,
              "ticks": ""
             }
            },
            "type": "scattermap"
           }
          ],
          "scattermapbox": [
           {
            "marker": {
             "colorbar": {
              "outlinewidth": 0,
              "ticks": ""
             }
            },
            "type": "scattermapbox"
           }
          ],
          "scatterpolar": [
           {
            "marker": {
             "colorbar": {
              "outlinewidth": 0,
              "ticks": ""
             }
            },
            "type": "scatterpolar"
           }
          ],
          "scatterpolargl": [
           {
            "marker": {
             "colorbar": {
              "outlinewidth": 0,
              "ticks": ""
             }
            },
            "type": "scatterpolargl"
           }
          ],
          "scatterternary": [
           {
            "marker": {
             "colorbar": {
              "outlinewidth": 0,
              "ticks": ""
             }
            },
            "type": "scatterternary"
           }
          ],
          "surface": [
           {
            "colorbar": {
             "outlinewidth": 0,
             "ticks": ""
            },
            "colorscale": [
             [
              0,
              "#0d0887"
             ],
             [
              0.1111111111111111,
              "#46039f"
             ],
             [
              0.2222222222222222,
              "#7201a8"
             ],
             [
              0.3333333333333333,
              "#9c179e"
             ],
             [
              0.4444444444444444,
              "#bd3786"
             ],
             [
              0.5555555555555556,
              "#d8576b"
             ],
             [
              0.6666666666666666,
              "#ed7953"
             ],
             [
              0.7777777777777778,
              "#fb9f3a"
             ],
             [
              0.8888888888888888,
              "#fdca26"
             ],
             [
              1,
              "#f0f921"
             ]
            ],
            "type": "surface"
           }
          ],
          "table": [
           {
            "cells": {
             "fill": {
              "color": "#EBF0F8"
             },
             "line": {
              "color": "white"
             }
            },
            "header": {
             "fill": {
              "color": "#C8D4E3"
             },
             "line": {
              "color": "white"
             }
            },
            "type": "table"
           }
          ]
         },
         "layout": {
          "annotationdefaults": {
           "arrowcolor": "#2a3f5f",
           "arrowhead": 0,
           "arrowwidth": 1
          },
          "autotypenumbers": "strict",
          "coloraxis": {
           "colorbar": {
            "outlinewidth": 0,
            "ticks": ""
           }
          },
          "colorscale": {
           "diverging": [
            [
             0,
             "#8e0152"
            ],
            [
             0.1,
             "#c51b7d"
            ],
            [
             0.2,
             "#de77ae"
            ],
            [
             0.3,
             "#f1b6da"
            ],
            [
             0.4,
             "#fde0ef"
            ],
            [
             0.5,
             "#f7f7f7"
            ],
            [
             0.6,
             "#e6f5d0"
            ],
            [
             0.7,
             "#b8e186"
            ],
            [
             0.8,
             "#7fbc41"
            ],
            [
             0.9,
             "#4d9221"
            ],
            [
             1,
             "#276419"
            ]
           ],
           "sequential": [
            [
             0,
             "#0d0887"
            ],
            [
             0.1111111111111111,
             "#46039f"
            ],
            [
             0.2222222222222222,
             "#7201a8"
            ],
            [
             0.3333333333333333,
             "#9c179e"
            ],
            [
             0.4444444444444444,
             "#bd3786"
            ],
            [
             0.5555555555555556,
             "#d8576b"
            ],
            [
             0.6666666666666666,
             "#ed7953"
            ],
            [
             0.7777777777777778,
             "#fb9f3a"
            ],
            [
             0.8888888888888888,
             "#fdca26"
            ],
            [
             1,
             "#f0f921"
            ]
           ],
           "sequentialminus": [
            [
             0,
             "#0d0887"
            ],
            [
             0.1111111111111111,
             "#46039f"
            ],
            [
             0.2222222222222222,
             "#7201a8"
            ],
            [
             0.3333333333333333,
             "#9c179e"
            ],
            [
             0.4444444444444444,
             "#bd3786"
            ],
            [
             0.5555555555555556,
             "#d8576b"
            ],
            [
             0.6666666666666666,
             "#ed7953"
            ],
            [
             0.7777777777777778,
             "#fb9f3a"
            ],
            [
             0.8888888888888888,
             "#fdca26"
            ],
            [
             1,
             "#f0f921"
            ]
           ]
          },
          "colorway": [
           "#636efa",
           "#EF553B",
           "#00cc96",
           "#ab63fa",
           "#FFA15A",
           "#19d3f3",
           "#FF6692",
           "#B6E880",
           "#FF97FF",
           "#FECB52"
          ],
          "font": {
           "color": "#2a3f5f"
          },
          "geo": {
           "bgcolor": "white",
           "lakecolor": "white",
           "landcolor": "#E5ECF6",
           "showlakes": true,
           "showland": true,
           "subunitcolor": "white"
          },
          "hoverlabel": {
           "align": "left"
          },
          "hovermode": "closest",
          "mapbox": {
           "style": "light"
          },
          "paper_bgcolor": "white",
          "plot_bgcolor": "#E5ECF6",
          "polar": {
           "angularaxis": {
            "gridcolor": "white",
            "linecolor": "white",
            "ticks": ""
           },
           "bgcolor": "#E5ECF6",
           "radialaxis": {
            "gridcolor": "white",
            "linecolor": "white",
            "ticks": ""
           }
          },
          "scene": {
           "xaxis": {
            "backgroundcolor": "#E5ECF6",
            "gridcolor": "white",
            "gridwidth": 2,
            "linecolor": "white",
            "showbackground": true,
            "ticks": "",
            "zerolinecolor": "white"
           },
           "yaxis": {
            "backgroundcolor": "#E5ECF6",
            "gridcolor": "white",
            "gridwidth": 2,
            "linecolor": "white",
            "showbackground": true,
            "ticks": "",
            "zerolinecolor": "white"
           },
           "zaxis": {
            "backgroundcolor": "#E5ECF6",
            "gridcolor": "white",
            "gridwidth": 2,
            "linecolor": "white",
            "showbackground": true,
            "ticks": "",
            "zerolinecolor": "white"
           }
          },
          "shapedefaults": {
           "line": {
            "color": "#2a3f5f"
           }
          },
          "ternary": {
           "aaxis": {
            "gridcolor": "white",
            "linecolor": "white",
            "ticks": ""
           },
           "baxis": {
            "gridcolor": "white",
            "linecolor": "white",
            "ticks": ""
           },
           "bgcolor": "#E5ECF6",
           "caxis": {
            "gridcolor": "white",
            "linecolor": "white",
            "ticks": ""
           }
          },
          "title": {
           "x": 0.05
          },
          "xaxis": {
           "automargin": true,
           "gridcolor": "white",
           "linecolor": "white",
           "ticks": "",
           "title": {
            "standoff": 15
           },
           "zerolinecolor": "white",
           "zerolinewidth": 2
          },
          "yaxis": {
           "automargin": true,
           "gridcolor": "white",
           "linecolor": "white",
           "ticks": "",
           "title": {
            "standoff": 15
           },
           "zerolinecolor": "white",
           "zerolinewidth": 2
          }
         }
        },
        "title": {
         "text": "Longest Individual Innings by Balls Faced (Top 10)"
        },
        "xaxis": {
         "anchor": "y",
         "domain": [
          0,
          1
         ],
         "title": {
          "text": "balls_faced"
         }
        },
        "yaxis": {
         "anchor": "x",
         "domain": [
          0,
          1
         ],
         "title": {
          "text": "batter"
         }
        }
       }
      }
     },
     "metadata": {},
     "output_type": "display_data"
    }
   ],
   "source": [
    "long_innings = (\n",
    "    test_df[test_df['runs_batter'].notna()]\n",
    "    .groupby(['venue', 'batter'])['runs_batter']\n",
    "    .count()\n",
    "    .reset_index(name='balls_faced')\n",
    "    .sort_values(by='balls_faced', ascending=False)\n",
    "    .head(10)\n",
    ")\n",
    "\n",
    "fig1 = px.funnel(\n",
    "    long_innings,\n",
    "    x='balls_faced',\n",
    "    y='batter',\n",
    "    title='Longest Individual Innings by Balls Faced (Top 10)'\n",
    ")\n",
    "fig1.show()"
   ]
  },
  {
   "cell_type": "markdown",
   "metadata": {},
   "source": [
    "#### 2. Bowling Consistency: Most Maiden Overs\n",
    "- Insight: Bowlers who consistently applied pressure by conceding no runs in an over."
   ]
  },
  {
   "cell_type": "code",
   "execution_count": 101,
   "metadata": {},
   "outputs": [
    {
     "data": {
      "application/vnd.plotly.v1+json": {
       "config": {
        "plotlyServerURL": "https://plot.ly"
       },
       "data": [
        {
         "domain": {
          "x": [
           0,
           1
          ],
          "y": [
           0,
           1
          ]
         },
         "hole": 0.3,
         "hovertemplate": "bowler=%{label}<br>maiden_overs=%{value}<extra></extra>",
         "labels": [
          "JM Anderson",
          "R Ashwin",
          "RA Jadeja",
          "SCJ Broad",
          "NM Lyon",
          "I Sharma",
          "JO Holder",
          "KAJ Roach",
          "TG Southee",
          "DL Vettori"
         ],
         "legendgroup": "",
         "name": "",
         "showlegend": true,
         "type": "pie",
         "values": {
          "bdata": "6gHXAbgBtAFuAV0BSAE7AS4BLAE=",
          "dtype": "i2"
         }
        }
       ],
       "layout": {
        "legend": {
         "tracegroupgap": 0
        },
        "template": {
         "data": {
          "bar": [
           {
            "error_x": {
             "color": "#2a3f5f"
            },
            "error_y": {
             "color": "#2a3f5f"
            },
            "marker": {
             "line": {
              "color": "#E5ECF6",
              "width": 0.5
             },
             "pattern": {
              "fillmode": "overlay",
              "size": 10,
              "solidity": 0.2
             }
            },
            "type": "bar"
           }
          ],
          "barpolar": [
           {
            "marker": {
             "line": {
              "color": "#E5ECF6",
              "width": 0.5
             },
             "pattern": {
              "fillmode": "overlay",
              "size": 10,
              "solidity": 0.2
             }
            },
            "type": "barpolar"
           }
          ],
          "carpet": [
           {
            "aaxis": {
             "endlinecolor": "#2a3f5f",
             "gridcolor": "white",
             "linecolor": "white",
             "minorgridcolor": "white",
             "startlinecolor": "#2a3f5f"
            },
            "baxis": {
             "endlinecolor": "#2a3f5f",
             "gridcolor": "white",
             "linecolor": "white",
             "minorgridcolor": "white",
             "startlinecolor": "#2a3f5f"
            },
            "type": "carpet"
           }
          ],
          "choropleth": [
           {
            "colorbar": {
             "outlinewidth": 0,
             "ticks": ""
            },
            "type": "choropleth"
           }
          ],
          "contour": [
           {
            "colorbar": {
             "outlinewidth": 0,
             "ticks": ""
            },
            "colorscale": [
             [
              0,
              "#0d0887"
             ],
             [
              0.1111111111111111,
              "#46039f"
             ],
             [
              0.2222222222222222,
              "#7201a8"
             ],
             [
              0.3333333333333333,
              "#9c179e"
             ],
             [
              0.4444444444444444,
              "#bd3786"
             ],
             [
              0.5555555555555556,
              "#d8576b"
             ],
             [
              0.6666666666666666,
              "#ed7953"
             ],
             [
              0.7777777777777778,
              "#fb9f3a"
             ],
             [
              0.8888888888888888,
              "#fdca26"
             ],
             [
              1,
              "#f0f921"
             ]
            ],
            "type": "contour"
           }
          ],
          "contourcarpet": [
           {
            "colorbar": {
             "outlinewidth": 0,
             "ticks": ""
            },
            "type": "contourcarpet"
           }
          ],
          "heatmap": [
           {
            "colorbar": {
             "outlinewidth": 0,
             "ticks": ""
            },
            "colorscale": [
             [
              0,
              "#0d0887"
             ],
             [
              0.1111111111111111,
              "#46039f"
             ],
             [
              0.2222222222222222,
              "#7201a8"
             ],
             [
              0.3333333333333333,
              "#9c179e"
             ],
             [
              0.4444444444444444,
              "#bd3786"
             ],
             [
              0.5555555555555556,
              "#d8576b"
             ],
             [
              0.6666666666666666,
              "#ed7953"
             ],
             [
              0.7777777777777778,
              "#fb9f3a"
             ],
             [
              0.8888888888888888,
              "#fdca26"
             ],
             [
              1,
              "#f0f921"
             ]
            ],
            "type": "heatmap"
           }
          ],
          "histogram": [
           {
            "marker": {
             "pattern": {
              "fillmode": "overlay",
              "size": 10,
              "solidity": 0.2
             }
            },
            "type": "histogram"
           }
          ],
          "histogram2d": [
           {
            "colorbar": {
             "outlinewidth": 0,
             "ticks": ""
            },
            "colorscale": [
             [
              0,
              "#0d0887"
             ],
             [
              0.1111111111111111,
              "#46039f"
             ],
             [
              0.2222222222222222,
              "#7201a8"
             ],
             [
              0.3333333333333333,
              "#9c179e"
             ],
             [
              0.4444444444444444,
              "#bd3786"
             ],
             [
              0.5555555555555556,
              "#d8576b"
             ],
             [
              0.6666666666666666,
              "#ed7953"
             ],
             [
              0.7777777777777778,
              "#fb9f3a"
             ],
             [
              0.8888888888888888,
              "#fdca26"
             ],
             [
              1,
              "#f0f921"
             ]
            ],
            "type": "histogram2d"
           }
          ],
          "histogram2dcontour": [
           {
            "colorbar": {
             "outlinewidth": 0,
             "ticks": ""
            },
            "colorscale": [
             [
              0,
              "#0d0887"
             ],
             [
              0.1111111111111111,
              "#46039f"
             ],
             [
              0.2222222222222222,
              "#7201a8"
             ],
             [
              0.3333333333333333,
              "#9c179e"
             ],
             [
              0.4444444444444444,
              "#bd3786"
             ],
             [
              0.5555555555555556,
              "#d8576b"
             ],
             [
              0.6666666666666666,
              "#ed7953"
             ],
             [
              0.7777777777777778,
              "#fb9f3a"
             ],
             [
              0.8888888888888888,
              "#fdca26"
             ],
             [
              1,
              "#f0f921"
             ]
            ],
            "type": "histogram2dcontour"
           }
          ],
          "mesh3d": [
           {
            "colorbar": {
             "outlinewidth": 0,
             "ticks": ""
            },
            "type": "mesh3d"
           }
          ],
          "parcoords": [
           {
            "line": {
             "colorbar": {
              "outlinewidth": 0,
              "ticks": ""
             }
            },
            "type": "parcoords"
           }
          ],
          "pie": [
           {
            "automargin": true,
            "type": "pie"
           }
          ],
          "scatter": [
           {
            "fillpattern": {
             "fillmode": "overlay",
             "size": 10,
             "solidity": 0.2
            },
            "type": "scatter"
           }
          ],
          "scatter3d": [
           {
            "line": {
             "colorbar": {
              "outlinewidth": 0,
              "ticks": ""
             }
            },
            "marker": {
             "colorbar": {
              "outlinewidth": 0,
              "ticks": ""
             }
            },
            "type": "scatter3d"
           }
          ],
          "scattercarpet": [
           {
            "marker": {
             "colorbar": {
              "outlinewidth": 0,
              "ticks": ""
             }
            },
            "type": "scattercarpet"
           }
          ],
          "scattergeo": [
           {
            "marker": {
             "colorbar": {
              "outlinewidth": 0,
              "ticks": ""
             }
            },
            "type": "scattergeo"
           }
          ],
          "scattergl": [
           {
            "marker": {
             "colorbar": {
              "outlinewidth": 0,
              "ticks": ""
             }
            },
            "type": "scattergl"
           }
          ],
          "scattermap": [
           {
            "marker": {
             "colorbar": {
              "outlinewidth": 0,
              "ticks": ""
             }
            },
            "type": "scattermap"
           }
          ],
          "scattermapbox": [
           {
            "marker": {
             "colorbar": {
              "outlinewidth": 0,
              "ticks": ""
             }
            },
            "type": "scattermapbox"
           }
          ],
          "scatterpolar": [
           {
            "marker": {
             "colorbar": {
              "outlinewidth": 0,
              "ticks": ""
             }
            },
            "type": "scatterpolar"
           }
          ],
          "scatterpolargl": [
           {
            "marker": {
             "colorbar": {
              "outlinewidth": 0,
              "ticks": ""
             }
            },
            "type": "scatterpolargl"
           }
          ],
          "scatterternary": [
           {
            "marker": {
             "colorbar": {
              "outlinewidth": 0,
              "ticks": ""
             }
            },
            "type": "scatterternary"
           }
          ],
          "surface": [
           {
            "colorbar": {
             "outlinewidth": 0,
             "ticks": ""
            },
            "colorscale": [
             [
              0,
              "#0d0887"
             ],
             [
              0.1111111111111111,
              "#46039f"
             ],
             [
              0.2222222222222222,
              "#7201a8"
             ],
             [
              0.3333333333333333,
              "#9c179e"
             ],
             [
              0.4444444444444444,
              "#bd3786"
             ],
             [
              0.5555555555555556,
              "#d8576b"
             ],
             [
              0.6666666666666666,
              "#ed7953"
             ],
             [
              0.7777777777777778,
              "#fb9f3a"
             ],
             [
              0.8888888888888888,
              "#fdca26"
             ],
             [
              1,
              "#f0f921"
             ]
            ],
            "type": "surface"
           }
          ],
          "table": [
           {
            "cells": {
             "fill": {
              "color": "#EBF0F8"
             },
             "line": {
              "color": "white"
             }
            },
            "header": {
             "fill": {
              "color": "#C8D4E3"
             },
             "line": {
              "color": "white"
             }
            },
            "type": "table"
           }
          ]
         },
         "layout": {
          "annotationdefaults": {
           "arrowcolor": "#2a3f5f",
           "arrowhead": 0,
           "arrowwidth": 1
          },
          "autotypenumbers": "strict",
          "coloraxis": {
           "colorbar": {
            "outlinewidth": 0,
            "ticks": ""
           }
          },
          "colorscale": {
           "diverging": [
            [
             0,
             "#8e0152"
            ],
            [
             0.1,
             "#c51b7d"
            ],
            [
             0.2,
             "#de77ae"
            ],
            [
             0.3,
             "#f1b6da"
            ],
            [
             0.4,
             "#fde0ef"
            ],
            [
             0.5,
             "#f7f7f7"
            ],
            [
             0.6,
             "#e6f5d0"
            ],
            [
             0.7,
             "#b8e186"
            ],
            [
             0.8,
             "#7fbc41"
            ],
            [
             0.9,
             "#4d9221"
            ],
            [
             1,
             "#276419"
            ]
           ],
           "sequential": [
            [
             0,
             "#0d0887"
            ],
            [
             0.1111111111111111,
             "#46039f"
            ],
            [
             0.2222222222222222,
             "#7201a8"
            ],
            [
             0.3333333333333333,
             "#9c179e"
            ],
            [
             0.4444444444444444,
             "#bd3786"
            ],
            [
             0.5555555555555556,
             "#d8576b"
            ],
            [
             0.6666666666666666,
             "#ed7953"
            ],
            [
             0.7777777777777778,
             "#fb9f3a"
            ],
            [
             0.8888888888888888,
             "#fdca26"
            ],
            [
             1,
             "#f0f921"
            ]
           ],
           "sequentialminus": [
            [
             0,
             "#0d0887"
            ],
            [
             0.1111111111111111,
             "#46039f"
            ],
            [
             0.2222222222222222,
             "#7201a8"
            ],
            [
             0.3333333333333333,
             "#9c179e"
            ],
            [
             0.4444444444444444,
             "#bd3786"
            ],
            [
             0.5555555555555556,
             "#d8576b"
            ],
            [
             0.6666666666666666,
             "#ed7953"
            ],
            [
             0.7777777777777778,
             "#fb9f3a"
            ],
            [
             0.8888888888888888,
             "#fdca26"
            ],
            [
             1,
             "#f0f921"
            ]
           ]
          },
          "colorway": [
           "#636efa",
           "#EF553B",
           "#00cc96",
           "#ab63fa",
           "#FFA15A",
           "#19d3f3",
           "#FF6692",
           "#B6E880",
           "#FF97FF",
           "#FECB52"
          ],
          "font": {
           "color": "#2a3f5f"
          },
          "geo": {
           "bgcolor": "white",
           "lakecolor": "white",
           "landcolor": "#E5ECF6",
           "showlakes": true,
           "showland": true,
           "subunitcolor": "white"
          },
          "hoverlabel": {
           "align": "left"
          },
          "hovermode": "closest",
          "mapbox": {
           "style": "light"
          },
          "paper_bgcolor": "white",
          "plot_bgcolor": "#E5ECF6",
          "polar": {
           "angularaxis": {
            "gridcolor": "white",
            "linecolor": "white",
            "ticks": ""
           },
           "bgcolor": "#E5ECF6",
           "radialaxis": {
            "gridcolor": "white",
            "linecolor": "white",
            "ticks": ""
           }
          },
          "scene": {
           "xaxis": {
            "backgroundcolor": "#E5ECF6",
            "gridcolor": "white",
            "gridwidth": 2,
            "linecolor": "white",
            "showbackground": true,
            "ticks": "",
            "zerolinecolor": "white"
           },
           "yaxis": {
            "backgroundcolor": "#E5ECF6",
            "gridcolor": "white",
            "gridwidth": 2,
            "linecolor": "white",
            "showbackground": true,
            "ticks": "",
            "zerolinecolor": "white"
           },
           "zaxis": {
            "backgroundcolor": "#E5ECF6",
            "gridcolor": "white",
            "gridwidth": 2,
            "linecolor": "white",
            "showbackground": true,
            "ticks": "",
            "zerolinecolor": "white"
           }
          },
          "shapedefaults": {
           "line": {
            "color": "#2a3f5f"
           }
          },
          "ternary": {
           "aaxis": {
            "gridcolor": "white",
            "linecolor": "white",
            "ticks": ""
           },
           "baxis": {
            "gridcolor": "white",
            "linecolor": "white",
            "ticks": ""
           },
           "bgcolor": "#E5ECF6",
           "caxis": {
            "gridcolor": "white",
            "linecolor": "white",
            "ticks": ""
           }
          },
          "title": {
           "x": 0.05
          },
          "xaxis": {
           "automargin": true,
           "gridcolor": "white",
           "linecolor": "white",
           "ticks": "",
           "title": {
            "standoff": 15
           },
           "zerolinecolor": "white",
           "zerolinewidth": 2
          },
          "yaxis": {
           "automargin": true,
           "gridcolor": "white",
           "linecolor": "white",
           "ticks": "",
           "title": {
            "standoff": 15
           },
           "zerolinecolor": "white",
           "zerolinewidth": 2
          }
         }
        },
        "title": {
         "text": "Top 10 Bowlers with Most Maiden Overs"
        }
       }
      }
     },
     "metadata": {},
     "output_type": "display_data"
    }
   ],
   "source": [
    "# Filter for dot balls\n",
    "dot_balls = test_df[test_df['runs_total'] == 0]\n",
    "\n",
    "# Count dot balls per over\n",
    "maiden_overs = (\n",
    "    dot_balls.groupby(['venue', 'bowler', 'over']).size()\n",
    "    .reset_index(name='dot_count')\n",
    "    .query('dot_count == 6')  # Maiden = 6 dot balls\n",
    ")\n",
    "\n",
    "maiden_count = maiden_overs.groupby('bowler').size().reset_index(name='maiden_overs')\n",
    "maiden_count = maiden_count.sort_values(by='maiden_overs', ascending=False).head(10)\n",
    "\n",
    "fig2 = px.pie(\n",
    "    maiden_count,\n",
    "    names='bowler',\n",
    "    values='maiden_overs',\n",
    "    title='Top 10 Bowlers with Most Maiden Overs',\n",
    "    hole=0.3\n",
    ")\n",
    "fig2.show()"
   ]
  },
  {
   "cell_type": "markdown",
   "metadata": {},
   "source": [
    "#### 4. Multi-Day Match Duration Trends\n",
    "- Insight: Duration of matches by number of days played."
   ]
  },
  {
   "cell_type": "code",
   "execution_count": 103,
   "metadata": {},
   "outputs": [
    {
     "data": {
      "application/vnd.plotly.v1+json": {
       "config": {
        "plotlyServerURL": "https://plot.ly"
       },
       "data": [
        {
         "alignmentgroup": "True",
         "hovertemplate": "match_duration_days=%{y}<extra></extra>",
         "legendgroup": "",
         "marker": {
          "color": "#636efa"
         },
         "name": "",
         "notched": false,
         "offsetgroup": "",
         "orientation": "v",
         "showlegend": false,
         "type": "box",
         "x0": " ",
         "xaxis": "x",
         "y": {
          "bdata": "BgYFBQUFBQUFBQUFBQUFBQUFBQUFBQUFBQUFBQUFBQUFBQUFBQUFBQUFBQUFBQUFBQUFBQUFBQUFBQUFBQUFBQUFBQUFBQUFBQUFBQUFBQUFBQUFBQUFBQUFBQUFBQUFBQUFBQUFBQUFBQUFBQUFBQUFBQUFBQUFBQUFBQQEBAQEBAQEBAQEBAQEBAQEBAQEBAQEBAQEBAQEBAQEBAQEBAQEBAQEBAQEBAQEBAQEBAQEBAQEBAQEBAQEBAQEBAQEBAQEBAQEBAQEBAQEBAQEBAQEBAQEBAQEBAQEBAQEBAQEBAQEBAQEBAQEBAQEBAQEBAQDAwMDAwMDAwMDAwMDAwMDAwMDAwMDAwMDAwMDAwMDAwMDAwMDAwMDAwMDAwMDAwMDAwMDAwMDAwMDAwMDAwMDAwMDAwMDAwMDAwMDAwMDAwICAgICAg==",
          "dtype": "i1"
         },
         "y0": " ",
         "yaxis": "y"
        }
       ],
       "layout": {
        "boxmode": "group",
        "legend": {
         "tracegroupgap": 0
        },
        "template": {
         "data": {
          "bar": [
           {
            "error_x": {
             "color": "#2a3f5f"
            },
            "error_y": {
             "color": "#2a3f5f"
            },
            "marker": {
             "line": {
              "color": "#E5ECF6",
              "width": 0.5
             },
             "pattern": {
              "fillmode": "overlay",
              "size": 10,
              "solidity": 0.2
             }
            },
            "type": "bar"
           }
          ],
          "barpolar": [
           {
            "marker": {
             "line": {
              "color": "#E5ECF6",
              "width": 0.5
             },
             "pattern": {
              "fillmode": "overlay",
              "size": 10,
              "solidity": 0.2
             }
            },
            "type": "barpolar"
           }
          ],
          "carpet": [
           {
            "aaxis": {
             "endlinecolor": "#2a3f5f",
             "gridcolor": "white",
             "linecolor": "white",
             "minorgridcolor": "white",
             "startlinecolor": "#2a3f5f"
            },
            "baxis": {
             "endlinecolor": "#2a3f5f",
             "gridcolor": "white",
             "linecolor": "white",
             "minorgridcolor": "white",
             "startlinecolor": "#2a3f5f"
            },
            "type": "carpet"
           }
          ],
          "choropleth": [
           {
            "colorbar": {
             "outlinewidth": 0,
             "ticks": ""
            },
            "type": "choropleth"
           }
          ],
          "contour": [
           {
            "colorbar": {
             "outlinewidth": 0,
             "ticks": ""
            },
            "colorscale": [
             [
              0,
              "#0d0887"
             ],
             [
              0.1111111111111111,
              "#46039f"
             ],
             [
              0.2222222222222222,
              "#7201a8"
             ],
             [
              0.3333333333333333,
              "#9c179e"
             ],
             [
              0.4444444444444444,
              "#bd3786"
             ],
             [
              0.5555555555555556,
              "#d8576b"
             ],
             [
              0.6666666666666666,
              "#ed7953"
             ],
             [
              0.7777777777777778,
              "#fb9f3a"
             ],
             [
              0.8888888888888888,
              "#fdca26"
             ],
             [
              1,
              "#f0f921"
             ]
            ],
            "type": "contour"
           }
          ],
          "contourcarpet": [
           {
            "colorbar": {
             "outlinewidth": 0,
             "ticks": ""
            },
            "type": "contourcarpet"
           }
          ],
          "heatmap": [
           {
            "colorbar": {
             "outlinewidth": 0,
             "ticks": ""
            },
            "colorscale": [
             [
              0,
              "#0d0887"
             ],
             [
              0.1111111111111111,
              "#46039f"
             ],
             [
              0.2222222222222222,
              "#7201a8"
             ],
             [
              0.3333333333333333,
              "#9c179e"
             ],
             [
              0.4444444444444444,
              "#bd3786"
             ],
             [
              0.5555555555555556,
              "#d8576b"
             ],
             [
              0.6666666666666666,
              "#ed7953"
             ],
             [
              0.7777777777777778,
              "#fb9f3a"
             ],
             [
              0.8888888888888888,
              "#fdca26"
             ],
             [
              1,
              "#f0f921"
             ]
            ],
            "type": "heatmap"
           }
          ],
          "histogram": [
           {
            "marker": {
             "pattern": {
              "fillmode": "overlay",
              "size": 10,
              "solidity": 0.2
             }
            },
            "type": "histogram"
           }
          ],
          "histogram2d": [
           {
            "colorbar": {
             "outlinewidth": 0,
             "ticks": ""
            },
            "colorscale": [
             [
              0,
              "#0d0887"
             ],
             [
              0.1111111111111111,
              "#46039f"
             ],
             [
              0.2222222222222222,
              "#7201a8"
             ],
             [
              0.3333333333333333,
              "#9c179e"
             ],
             [
              0.4444444444444444,
              "#bd3786"
             ],
             [
              0.5555555555555556,
              "#d8576b"
             ],
             [
              0.6666666666666666,
              "#ed7953"
             ],
             [
              0.7777777777777778,
              "#fb9f3a"
             ],
             [
              0.8888888888888888,
              "#fdca26"
             ],
             [
              1,
              "#f0f921"
             ]
            ],
            "type": "histogram2d"
           }
          ],
          "histogram2dcontour": [
           {
            "colorbar": {
             "outlinewidth": 0,
             "ticks": ""
            },
            "colorscale": [
             [
              0,
              "#0d0887"
             ],
             [
              0.1111111111111111,
              "#46039f"
             ],
             [
              0.2222222222222222,
              "#7201a8"
             ],
             [
              0.3333333333333333,
              "#9c179e"
             ],
             [
              0.4444444444444444,
              "#bd3786"
             ],
             [
              0.5555555555555556,
              "#d8576b"
             ],
             [
              0.6666666666666666,
              "#ed7953"
             ],
             [
              0.7777777777777778,
              "#fb9f3a"
             ],
             [
              0.8888888888888888,
              "#fdca26"
             ],
             [
              1,
              "#f0f921"
             ]
            ],
            "type": "histogram2dcontour"
           }
          ],
          "mesh3d": [
           {
            "colorbar": {
             "outlinewidth": 0,
             "ticks": ""
            },
            "type": "mesh3d"
           }
          ],
          "parcoords": [
           {
            "line": {
             "colorbar": {
              "outlinewidth": 0,
              "ticks": ""
             }
            },
            "type": "parcoords"
           }
          ],
          "pie": [
           {
            "automargin": true,
            "type": "pie"
           }
          ],
          "scatter": [
           {
            "fillpattern": {
             "fillmode": "overlay",
             "size": 10,
             "solidity": 0.2
            },
            "type": "scatter"
           }
          ],
          "scatter3d": [
           {
            "line": {
             "colorbar": {
              "outlinewidth": 0,
              "ticks": ""
             }
            },
            "marker": {
             "colorbar": {
              "outlinewidth": 0,
              "ticks": ""
             }
            },
            "type": "scatter3d"
           }
          ],
          "scattercarpet": [
           {
            "marker": {
             "colorbar": {
              "outlinewidth": 0,
              "ticks": ""
             }
            },
            "type": "scattercarpet"
           }
          ],
          "scattergeo": [
           {
            "marker": {
             "colorbar": {
              "outlinewidth": 0,
              "ticks": ""
             }
            },
            "type": "scattergeo"
           }
          ],
          "scattergl": [
           {
            "marker": {
             "colorbar": {
              "outlinewidth": 0,
              "ticks": ""
             }
            },
            "type": "scattergl"
           }
          ],
          "scattermap": [
           {
            "marker": {
             "colorbar": {
              "outlinewidth": 0,
              "ticks": ""
             }
            },
            "type": "scattermap"
           }
          ],
          "scattermapbox": [
           {
            "marker": {
             "colorbar": {
              "outlinewidth": 0,
              "ticks": ""
             }
            },
            "type": "scattermapbox"
           }
          ],
          "scatterpolar": [
           {
            "marker": {
             "colorbar": {
              "outlinewidth": 0,
              "ticks": ""
             }
            },
            "type": "scatterpolar"
           }
          ],
          "scatterpolargl": [
           {
            "marker": {
             "colorbar": {
              "outlinewidth": 0,
              "ticks": ""
             }
            },
            "type": "scatterpolargl"
           }
          ],
          "scatterternary": [
           {
            "marker": {
             "colorbar": {
              "outlinewidth": 0,
              "ticks": ""
             }
            },
            "type": "scatterternary"
           }
          ],
          "surface": [
           {
            "colorbar": {
             "outlinewidth": 0,
             "ticks": ""
            },
            "colorscale": [
             [
              0,
              "#0d0887"
             ],
             [
              0.1111111111111111,
              "#46039f"
             ],
             [
              0.2222222222222222,
              "#7201a8"
             ],
             [
              0.3333333333333333,
              "#9c179e"
             ],
             [
              0.4444444444444444,
              "#bd3786"
             ],
             [
              0.5555555555555556,
              "#d8576b"
             ],
             [
              0.6666666666666666,
              "#ed7953"
             ],
             [
              0.7777777777777778,
              "#fb9f3a"
             ],
             [
              0.8888888888888888,
              "#fdca26"
             ],
             [
              1,
              "#f0f921"
             ]
            ],
            "type": "surface"
           }
          ],
          "table": [
           {
            "cells": {
             "fill": {
              "color": "#EBF0F8"
             },
             "line": {
              "color": "white"
             }
            },
            "header": {
             "fill": {
              "color": "#C8D4E3"
             },
             "line": {
              "color": "white"
             }
            },
            "type": "table"
           }
          ]
         },
         "layout": {
          "annotationdefaults": {
           "arrowcolor": "#2a3f5f",
           "arrowhead": 0,
           "arrowwidth": 1
          },
          "autotypenumbers": "strict",
          "coloraxis": {
           "colorbar": {
            "outlinewidth": 0,
            "ticks": ""
           }
          },
          "colorscale": {
           "diverging": [
            [
             0,
             "#8e0152"
            ],
            [
             0.1,
             "#c51b7d"
            ],
            [
             0.2,
             "#de77ae"
            ],
            [
             0.3,
             "#f1b6da"
            ],
            [
             0.4,
             "#fde0ef"
            ],
            [
             0.5,
             "#f7f7f7"
            ],
            [
             0.6,
             "#e6f5d0"
            ],
            [
             0.7,
             "#b8e186"
            ],
            [
             0.8,
             "#7fbc41"
            ],
            [
             0.9,
             "#4d9221"
            ],
            [
             1,
             "#276419"
            ]
           ],
           "sequential": [
            [
             0,
             "#0d0887"
            ],
            [
             0.1111111111111111,
             "#46039f"
            ],
            [
             0.2222222222222222,
             "#7201a8"
            ],
            [
             0.3333333333333333,
             "#9c179e"
            ],
            [
             0.4444444444444444,
             "#bd3786"
            ],
            [
             0.5555555555555556,
             "#d8576b"
            ],
            [
             0.6666666666666666,
             "#ed7953"
            ],
            [
             0.7777777777777778,
             "#fb9f3a"
            ],
            [
             0.8888888888888888,
             "#fdca26"
            ],
            [
             1,
             "#f0f921"
            ]
           ],
           "sequentialminus": [
            [
             0,
             "#0d0887"
            ],
            [
             0.1111111111111111,
             "#46039f"
            ],
            [
             0.2222222222222222,
             "#7201a8"
            ],
            [
             0.3333333333333333,
             "#9c179e"
            ],
            [
             0.4444444444444444,
             "#bd3786"
            ],
            [
             0.5555555555555556,
             "#d8576b"
            ],
            [
             0.6666666666666666,
             "#ed7953"
            ],
            [
             0.7777777777777778,
             "#fb9f3a"
            ],
            [
             0.8888888888888888,
             "#fdca26"
            ],
            [
             1,
             "#f0f921"
            ]
           ]
          },
          "colorway": [
           "#636efa",
           "#EF553B",
           "#00cc96",
           "#ab63fa",
           "#FFA15A",
           "#19d3f3",
           "#FF6692",
           "#B6E880",
           "#FF97FF",
           "#FECB52"
          ],
          "font": {
           "color": "#2a3f5f"
          },
          "geo": {
           "bgcolor": "white",
           "lakecolor": "white",
           "landcolor": "#E5ECF6",
           "showlakes": true,
           "showland": true,
           "subunitcolor": "white"
          },
          "hoverlabel": {
           "align": "left"
          },
          "hovermode": "closest",
          "mapbox": {
           "style": "light"
          },
          "paper_bgcolor": "white",
          "plot_bgcolor": "#E5ECF6",
          "polar": {
           "angularaxis": {
            "gridcolor": "white",
            "linecolor": "white",
            "ticks": ""
           },
           "bgcolor": "#E5ECF6",
           "radialaxis": {
            "gridcolor": "white",
            "linecolor": "white",
            "ticks": ""
           }
          },
          "scene": {
           "xaxis": {
            "backgroundcolor": "#E5ECF6",
            "gridcolor": "white",
            "gridwidth": 2,
            "linecolor": "white",
            "showbackground": true,
            "ticks": "",
            "zerolinecolor": "white"
           },
           "yaxis": {
            "backgroundcolor": "#E5ECF6",
            "gridcolor": "white",
            "gridwidth": 2,
            "linecolor": "white",
            "showbackground": true,
            "ticks": "",
            "zerolinecolor": "white"
           },
           "zaxis": {
            "backgroundcolor": "#E5ECF6",
            "gridcolor": "white",
            "gridwidth": 2,
            "linecolor": "white",
            "showbackground": true,
            "ticks": "",
            "zerolinecolor": "white"
           }
          },
          "shapedefaults": {
           "line": {
            "color": "#2a3f5f"
           }
          },
          "ternary": {
           "aaxis": {
            "gridcolor": "white",
            "linecolor": "white",
            "ticks": ""
           },
           "baxis": {
            "gridcolor": "white",
            "linecolor": "white",
            "ticks": ""
           },
           "bgcolor": "#E5ECF6",
           "caxis": {
            "gridcolor": "white",
            "linecolor": "white",
            "ticks": ""
           }
          },
          "title": {
           "x": 0.05
          },
          "xaxis": {
           "automargin": true,
           "gridcolor": "white",
           "linecolor": "white",
           "ticks": "",
           "title": {
            "standoff": 15
           },
           "zerolinecolor": "white",
           "zerolinewidth": 2
          },
          "yaxis": {
           "automargin": true,
           "gridcolor": "white",
           "linecolor": "white",
           "ticks": "",
           "title": {
            "standoff": 15
           },
           "zerolinecolor": "white",
           "zerolinewidth": 2
          }
         }
        },
        "title": {
         "text": "Distribution of Test Match Durations (in Days)"
        },
        "xaxis": {
         "anchor": "y",
         "domain": [
          0,
          1
         ]
        },
        "yaxis": {
         "anchor": "x",
         "domain": [
          0,
          1
         ],
         "title": {
          "text": "match_duration_days"
         }
        }
       }
      }
     },
     "metadata": {},
     "output_type": "display_data"
    }
   ],
   "source": [
    "\n",
    "\n",
    "\n",
    "test_df['match_start_date'] = pd.to_datetime(test_df['match_start_date'])\n",
    "test_df['match_end_date'] = pd.to_datetime(test_df['match_end_date'])\n",
    "test_df['match_duration_days'] = (test_df['match_end_date'] - test_df['match_start_date']).dt.days + 1\n",
    "\n",
    "match_durations = (\n",
    "    test_df[['venue', 'match_duration_days']]\n",
    "    .drop_duplicates()\n",
    "    .sort_values(by='match_duration_days', ascending=False)\n",
    ")\n",
    "\n",
    "fig4 = px.box(\n",
    "    match_durations,\n",
    "    y='match_duration_days',\n",
    "    title='Distribution of Test Match Durations (in Days)'\n",
    ")\n",
    "fig4.show()"
   ]
  },
  {
   "cell_type": "markdown",
   "metadata": {},
   "source": [
    "#### Overs with 2+ Wickets\n",
    "> Insight: Overs where teams lost momentum — losing 2 or more wickets in an over.\n"
   ]
  },
  {
   "cell_type": "code",
   "execution_count": 106,
   "metadata": {},
   "outputs": [
    {
     "data": {
      "application/vnd.plotly.v1+json": {
       "config": {
        "plotlyServerURL": "https://plot.ly"
       },
       "data": [
        {
         "bingroup": "x",
         "hovertemplate": "wickets_in_over=%{x}<br>count=%{y}<extra></extra>",
         "legendgroup": "",
         "marker": {
          "color": "#636efa",
          "pattern": {
           "shape": ""
          }
         },
         "name": "",
         "nbinsx": 5,
         "orientation": "v",
         "showlegend": false,
         "type": "histogram",
         "x": {
          "bdata": "AgMCAgICAgICBAYCBwcHCQUHBwYHBgcICAcLAwYDCwsICAcIBAQFAggIBAcGBgQEBAgJBgMFAwUCBgYGCAUFBwYHCQIHBwMHBAMJBAQEAwYDBgMCBQgFAgUCBQQKBQMOBgQJAgUHBAMCAgQEBAUDAgMDAwMCAwMDAwMCAgIDAgICAwICAgICAgICAwICAgICAgICAgICAgICAgICAgICAgICAgICAgICAwICAgICAgIEAgICAgICAgICAgIDAgICAgICAwIDBQIDAgICAgIDAwIEAgMCAgIDAgIDAgMCAgICAgMCAgICAgMCAgICAgcJBwcHDAcIBAsHBgYJBggGBgMHBgUFBAkDAwgGCQsHCQ4HBgkGAwUIBgUHBggMBgUEBQUJCQUGCwMECQYGAgQDBgkHAwICBgIEBgMFBwQHBQUFBAUEBQUCAgYDAgIFAwIGBQICAgICAgICAwICAgIEAgMCAwIFBgQEAgMEAwICAwICAgMCBAQCAgMCAgQCAgMCAgIDBAMDAgIDAwMDAgQCAwICAgICAgIDAwMCAgIEAgICAwIDAwIDAgIDAgICAgICAwICAgICAgICAgICAgICAgIDBAICBQQDAgIDAgQGBQYCBAICBAICAgICAgIDAwMGAgIFAgIDBgIDAgUDAgIDAgQDBAICAgICAgICAgIDAgMCAgICAwICAgIDAgICAgICAgICAgMDBgQFCAYEBgMKAgIFAwICBQMFBAMEAwQDBQUHCQUCAwgCAgQFBQQFBQIDBAQFAwMEBAUGAwUEAgMFBAYDBAIEAgMDBQMFBAIGAwYGAwICBQICAwICAgICBAICAwMCAgIDBAIDAgICAgQFBAUDAwUCAwQCAwICAgICAwICAgMDAwMEAwMDAgICAgICAgMCAgICAgICAgICAgICAgMDAgICAgICAgICAwICAgIDAgICAwIDAgICAgICAwICAgICAwICAgIDAgICAgMCBQQCAgMDBAICAgICAgICAgICAgMCAgICAwICAgICBAICAgICAgICAgICAgICAgICBAMGAwUDBAUFBQIDBgQEAgQDAwcCBQUIBAcCBQMHBAYGAgQEAwQCAwIFAgICAwMCAgIGBAIDAgUEAgUEAwQDAwIDAwMHAwIFAgMEBQMFBQMCAwMEAgQDBAIEAgMDAgICAwMEAgQDAgIEAgMCAgQCBQQDAgQEBwICBgQEAwIDAwMDBQYDAwUDBAIEAwQDBAQDAgICAgUEBQcCAwIEAwICAgYFAgQDBQMCAwIDAgMCAgMCAwQCAgIEAwQCAgUCAwMCBAMCAwQDAgIDAgMCAgICAgIDAgUCAwICAgICAgICAgICAgIEAwIFAgcFAgMLAgMEBAMHBgMFBQQFAwUHAwUFAwMEDQUDBAMDBAQJCAUDBQQEBAMFBAcGBQUEAwMFAwIDAwMFAwQEAwIEAgQDBAICAgMDAgMCAgQDAwICAgIDAwIDAwICBQIEBAMCAwUEAwMDAwIEAgMCAgQCAwICAgMCAgICAwICAgICAgICAgMDAwICAgMGAgICAgICBAICAgMCAwICAgICAgICAgICAgMCAgIDAgICAgICAgIDAgIDAgICExUSEBAQDw4JCw8PDQYREA8GDwsUEQwRDAwNDAcNDA0PCAsLDggIEQsICwsKCQ0KDgwQBwwMFwwKCwsMDA4JBwoJBgcNCAgLCg0GBwsGDgYJDAgJCgUJBQQHCA0GBQcJBAYECAMEBAYHBQIDBAMFBQUGAwIDAwMCAwYCBAICAgQEAwQEAwICAgIEAgMCAwICAgIDAgMCAgICAwICAgICAwMCAwMCAgICAgMCAwICAgICAgIDAgIDBQQFAwMDBAIEAgcCBQUDAgQDAgIFBQQJBAMDAwQDBQMDAwMDAwIEAwICBAMCAgICAwICAgQCAgMDAgIDAwICAgMEBQIDAgIDAgUDAwUCAgIDBAIDAgQFBQMDAgIDAwQCAgICAgQCBAMCAwICAgMCAgICAgICAgICAgMCAgICAgUFBwQIBAUGBgQGBAMDAwMEAwkEAwICCAoHAgIHBgQDBgMFBAUCBQQFBgUDBQYFAwQDCQQHAgMEBAQDAgIFBAQCAgQCAgQGAgQFAgMGBgMDBQQDBAMEAwQDAgQCAwUDAwMEAwIDAwMCAwMCAgMCAgICAwMHBAUHAwMEAwMDAwcHCAQDBgsEBwQJBwYHCQQGAwcHBwQDBgcDAwIKAwQGAwMDBgQCAgQDAwYGBAICBAMEAwMDAgUCAgYEAgICAgQDCQICAgQEAwICBQIDAwMDAgICAwQCBQIEAwIDAwIDAgICAgIDAgIDAgIEAgMCAgMDAwICAgMCAgMCAgICAgICAgICAwICAgICAgMCAgICAgICAwICAgICAgICAgICAgICAwICAgICAwICAgICAgIGBQUFBQUEAgQEBAgDBAUGCQoFAgIFBQIHCAQGBgcIAwUGBQYEAwYDAwICAwYEBQMGBAMCBAIDAgMECQYFBAIFAgQCBAICBwgDBgMDBQcFAgcGAgIFAwUKBAIFAwUDAwMCBAICAgQDAwIDAgIFAgMDAwMCAwICBAQFAgUCBAICAwIGAgQDAgMDAgQCAwMDAgMFBgICBAMDAwICAwIDAgICAgICAgMDAgICAwICAgMFCQUMAwgEBQMFAgUCBAgDBQMDAgIFAgMEAwIEBgYFAgUCBAMDAgQGBAIDBAQDAwUCBQIDAwMDAwICAwMCAwICBwIDAgMCAgMDBAIEAgQCAwMCAgMCAgMCAwIFAwQCAgMHBAUIBwUEBQQFBwgEAgMCAgQFBQUIBAIEBQYGBQQDBgIEAwQEBAgCBAQDBQIEAgYDBQYCAwMGAwQGBQICAgQFAwcEBQIFAwMFBAICBAIEAgICAwMDBAICAgMCAgMEAgICAgICAgIDAwICAgQEAgICBggLCwsMDgkKEA4IFA0RDAgCDgYGBwsPDwUMBwoECA4LBwgMDgUKBwUGCw4KCAUGBAMJAgULBwcGBwsKAwoKCwQICQgDAwUEBQUKBwsFCgcICQoHBQsIBwQKCQcIBAoJCAMIBggDAwUEBgIDAwMFAwQFAgIEAwIDBAICBQICAwICAgQCAgQDBwUDBQIFAgQDAgQDBQIEAwUEAgQDAgUCAwUEAgYGAwMCBAYDAwMCAgQCBgMDAgICAwMEAwICAgIEAwMDAwUDAwIEBAICAwIDAgICAgMCAgMDBQICAgICAgMDAgMCAgMCAgQEAwICAgICAgICAgICAwICAgICAgICAgICAgICAgICAgMCAgICAgIDAgMCAwMCAwIDAgMCAgICAgICAwMCAgICAwICAwICAgMCAgICAgMCAgICAgICAgMCAgICAgIDAgICAgICAgICAgICAgICAwIDAgICAgICAwICAgMCAgICAgICAgICAgICAgICAgICAgMCAgICAgIDAgICAgIDAgICAwMCAgUCAwICAgIDAgICAwIGCgQEBwYIBgQEBwsIBAwJCAQICQcFCQUICAkDBQQCBQcLCQQGCQcFCwUHBwcKCgcFBwUGBQUHCAIIBQMICgoHBwYKCQcGCQkGCQUDBAUFBAIJAwYFBAYFBgcCAgQEBAYCAwQCBQMCAgQEAgUEAgIDAgICBAICBAICAgIDBQUFAwQEAwgCBgQGAgUDAwQEBAIFBAUDAgQCAwcCAwMCAgIGAwUHAwQCAgIDBQQCAwIGBQMDAgMDAgIEAwICAgQDAgQCAgICAgIDAgMCAgICAwIDAgICAgICAgIDAgICAgICAgIDAgYCBAIFAgICAwMFAgMCAgMCAgICAgMCAgIDBAIDAgMCAwIDAgICAgIDAwIEAgICBAIDAgICAgMCAgICAgMCAgICAgMCBQMEAgIEAgICAgMDAwMCBAYEAgIEBAMFBAMCAgQDBAYEAwIEBAICAgMCAgICAwMDAwIFAgICAgMEAwICAgMDAgMCBAICAgICAgICAgkECQcKCQcKBQoHDwcLAwcKCwUHCAkIBgsHAwQLBQYKBgQEBgYFCAcHCAsHBwUFCAUCCQgIBAYGBAQCBQUFCQgFBAcIBAYJBgQEBAUCBQYGBwUHAwUEAgQCBQIEBAQCBQIDAwgDAgICAwIDAwIEAwIDAgIDAwMEAgMCAgQCAgICAwMDAgQCBAIDBAMDAwIDBQICAgICAgICAgICAgICAgICAgsFAgUEBQYDAwUEBAUJAwMEAgQDBQgIBgMDBAMDBQQFBgUEAwYGBwQHBAMEAwIEBQUCBwMDBAIDAwQCBwQFAwMCAwUEBAMDAwMDAgQDAwIDAgICAwICAwICAgIDAgICAgIDAgMCAwICAgICAgQCAgICAwMCCgMIBgUDBgcHCAUFBAIGAwMEBAcFBAIDBAIFAwICBQMGBQMEAgQFBQcEAgMCAwcEAgICBAgEBAMDBQMFAgUFAgICBAcGAwMGAwICBgMEAgMDBQMDBAIDAwICBAUCAgICAgIDAgMIAwUDAwgDAwMCAgMCAgICBAIEBQICBAIEAwIDAgMDAwICBQMDBQICAgMCAgQEAwQDAgYEAwIEAgMDBAIDAgMCAgQCAgICBAIDAwIDBAICAwMDAwMDAgMCAwIDAwICAgUEAwIDAgICAwMEAwIDAgQCAgMCAwQCAgICAgIDAgMCAgMCAgICAgICAgICAwICAgIDAgIDAgICAgQEAgYDAgMCAwIDAgMDAgMDAgQCBQMCAgMCAgQCAwQCAgICAgICBQICAgQCBAIEAwIDAwUCBAMCAwMCBAIDAgYCBAIDBAIEAgMCAgIDAgMCAgUDAgICAwICAgICAgMCBQIDBgIDAwUDBAIDAgMDAgMCBAQDAgMDAgMCBAQDAgICAwMEAgIEBwICAgQCAgIEBAICAgQCAwMDAgMDAgICAgICAgIDAgIDAwICAwICAwQFAgIEBAICAwICAgMCAwMCAgICAgIEAwICAgICAgICAgMCAgICAgICAgMCAgICAwICAgIDAgQCAwICAgIEAwMCAgICAwIDAwICAgIEAwMCAwYDBAIDBAMEAgMCAgICAwICBAMCAgIDAwUCBQMEBQMDAwMDAgMDBwMDAgICBAICAgIDAwQDAwMEAgMCAgICAgICAgICAgMCAwQCAgICAwIFAwMCAwICAwICAwIEAgMCAgMDAgICAwICAgICAwIDAgICAwICAwICBwUJBwMEAgUGAwgGBAQDAgQGBAUDAwIFBwUEAwUHAgQCBQcCBQMFBwMGBgICAwMCAgQDBgMGBQIFAwMFAgQEAgMCAwICAwICAwICAgIDAgIEAgICAgIEAgICAgIDBAIDAgICAgUCAwMCAgQCAgICAwICAgMCAgICAgICAgIEAgIDAwIDAgICAgMCAgICAgICAgMCAgMCAgICAgICAgIGBwIEBwUFBgYDAwIGAwIEAgIEAwcICAUHBAMHBAkKBQUFBAYIAgIFAwMCBAIDBgQDAwYGBAUEAwUECAUEBQUFAgMDAwMEAwIDAgUCAwMHBgQCAwQDAgQDAgMCAgMCAgMCAgMCAgICAgICAwICAgICAgICAwICAgICBAICAgQCAwQCAgICAgQCAgMCAwUDAwICAgICAgICAgICAgUDAwIEAwIDAgIDAgICAgICAgICAgICAgICAgICAgMGBwQHAwQDAgUFAgcDAgMKCgMHCAQCBAIEBwIEAggFAwQFBgUDBAQFAwUFBQkDBAUFAgMDAgMEAgMCAwUDAgYDAgMHBQIDBQIDAwICBAIDAgMCAgIDAgMEAgMCAgIDAwICAgICAgICAgYDCQYPAgYGBQUECgQIBQQEAgMHBwMDAwIEBgkDBwIFAgQHCAYEBQUCBgQHBAIHAgQEBAQFBAQFBgQCBAYEBQMCAwMEBAQCBAQCBgIDAgICAgICAgQCAgICAwwGBwgGCggGCAcGBwYEBQQGAwcGAwYFBQkFBwIHCAQCBAMEAwQFAwIGAgQGBAICBAQGAgYDAwQGAwUDAgUCBQMDAgICAgICAgQCAgQCAgUGAgoFBgMCCwIICQIFBAQEAwcGBgIGBAUFAgQECAQFBwUDBAcCBQcCAgoFAgQDAwQEAwYEAgIIAwIDAwMCBAQCAgUFBgIDAgQCBQIHBQUHBwIEBAMDAwQCAwMCAwICAgIDBQMCAwUEBAMCAgICAgICAgICAgICAgICAgMCAgIDAwIDAgICAgQFAgMCAwICAgMCAgICAgIEAwICAgICAwQCAgICAgICAgICAgQCAgICAwICAwMCAgIDAgUCAwICAgMCBAICAgIEAgIGAgICAgICAgICAgICAgMCBAMCAwICAgIDAgICAgICBAUCBgUHAgQDAgQDBAMDBAMCAgMDAgUGBAICAwUCAwgDBgICAgIEAwQCAwICAwUCAwIEBQMFAgICAgIFAwQCAgICAgMDAgMCAgICAgMCAgMCAgICBAMCAgMDAwMDAgIDAgIDAggJCQsMBgUHBQkDBAYDBwUEBAIFAwgFCQMCCQsGAgoGCggIBQcECAUFBAkJCgkGAwMHAwIGBwMIBwcDAwUCBAMEAgYDAwIDAgMHBQIDAwMCAwIGAwMCAgICBAQCBgICAgMCAgMDAwMCAwICAgMCAgMCAgMCBAMCAwIDAgIGAgICAwUFAgQDAwICAwICAgoLCAwFCwYIBwkGBwUHBgQFBQUGCgoJAgkGBQUFBgYOCQgIAwMGBQgHCAQNBQUIBgoJBwIGCAYECwIJBAIGAgIHCAYHDAIFBAcGAwYGBAYHBAgKBwQHCQUEBAIGAwUDAwUDBAYDAwMEBgIEBAMDAgMCAgICAgICAgICAgMCAgICAgMCAgIDAwMFAgMCAgIDAgICAgMDAgMCAwMCAgMCBAICAgICBAIDBAIHAgIEAgIDAgICAgMCAwICAgMCAgIDAgcDBAMCAgICAgMCBAICAgQDAgICAgMCAwUHBwQCBQMEAwQEAwMCAwQEAgQDBAcFAgUHBQICBAcFBQMFAwUIBwUHBAMCBAICAwICBAUEAgUFBwMCBgQIAgUEAwIIAwMCBQQCAwQCAgICAwMCAgICAwICAgICAgMCAgUDAwkFBAUDBwMGBQMFAwMHAwQCBAUKBQMGBQUEAwcCBAcDBQYCBAMEBwUFBgQDAgMDBQMGBwIDAgIEBQMDAgMCCAICBAMCBAUCAgUDAgMDBQMCAgICAgMCAgQDAgMCBAQFAgMDAgMCAgMDAwICBAMDAwQCAgIDAgMDAgICAgICAwMDAgQDAgICAwICAgICAgMEBAIEAgQCBAMDAgICAwIDAgICAwICAgICAgMCBAICAwIEAwIEBQICAgIFAgUFAgQDAgIDAgICAgMCAgICAgMCAgICAgICAgICAgUCBQMCAgIEAgQCAwIDBAMDAgMCBQIDAgUDAwICAgMCAgICAgICAgICAgIEAgICAgICAgICAgICAgMDAwICAwIDAgICAgMCBAICAgIDBQMCAgMCAgMCAgICBQMCAgICBAMCBAIEAwICAgICAgICAgICAgIDBQICAwMDAgMCAwQEAgICAgICAgMCAgICAgIDAgICAgQCAgICAgICAgMCBAUDAwQCAwMCBgIECAIEAgIDBQUFBQIFAgMDBAQCAgIEAgQGAwIHBQICAgIFAgUHAwkDAgUDCAIEBAMFAgUGAwICAggCBQIEAgQCBAICAgMCAgICAgICAgICAgIEAgMFBAMCAgMCBAIDAwMEAwMDAgMCAgIDAgMCAwICBAIEAgMCAwIDAwMCAggGBQIGBAICAwYFBgIHCAgGAgcEAwYEBAIGBAUJAwIDBQMDAggCAwQHAwMEBQQFAwcCBQcEBAsDBQMFAwMCAwMCBgUGBgMCBAIDCAMFBAYCAwMCAwIDAgIDAgMCAgICBAMCAgIDAwUDAwMCAgICAgQDAgIEAwQDAgICAgICAwQCAgICAgICAgI=",
          "dtype": "i1"
         },
         "xaxis": "x",
         "yaxis": "y"
        }
       ],
       "layout": {
        "barmode": "relative",
        "legend": {
         "tracegroupgap": 0
        },
        "template": {
         "data": {
          "bar": [
           {
            "error_x": {
             "color": "#2a3f5f"
            },
            "error_y": {
             "color": "#2a3f5f"
            },
            "marker": {
             "line": {
              "color": "#E5ECF6",
              "width": 0.5
             },
             "pattern": {
              "fillmode": "overlay",
              "size": 10,
              "solidity": 0.2
             }
            },
            "type": "bar"
           }
          ],
          "barpolar": [
           {
            "marker": {
             "line": {
              "color": "#E5ECF6",
              "width": 0.5
             },
             "pattern": {
              "fillmode": "overlay",
              "size": 10,
              "solidity": 0.2
             }
            },
            "type": "barpolar"
           }
          ],
          "carpet": [
           {
            "aaxis": {
             "endlinecolor": "#2a3f5f",
             "gridcolor": "white",
             "linecolor": "white",
             "minorgridcolor": "white",
             "startlinecolor": "#2a3f5f"
            },
            "baxis": {
             "endlinecolor": "#2a3f5f",
             "gridcolor": "white",
             "linecolor": "white",
             "minorgridcolor": "white",
             "startlinecolor": "#2a3f5f"
            },
            "type": "carpet"
           }
          ],
          "choropleth": [
           {
            "colorbar": {
             "outlinewidth": 0,
             "ticks": ""
            },
            "type": "choropleth"
           }
          ],
          "contour": [
           {
            "colorbar": {
             "outlinewidth": 0,
             "ticks": ""
            },
            "colorscale": [
             [
              0,
              "#0d0887"
             ],
             [
              0.1111111111111111,
              "#46039f"
             ],
             [
              0.2222222222222222,
              "#7201a8"
             ],
             [
              0.3333333333333333,
              "#9c179e"
             ],
             [
              0.4444444444444444,
              "#bd3786"
             ],
             [
              0.5555555555555556,
              "#d8576b"
             ],
             [
              0.6666666666666666,
              "#ed7953"
             ],
             [
              0.7777777777777778,
              "#fb9f3a"
             ],
             [
              0.8888888888888888,
              "#fdca26"
             ],
             [
              1,
              "#f0f921"
             ]
            ],
            "type": "contour"
           }
          ],
          "contourcarpet": [
           {
            "colorbar": {
             "outlinewidth": 0,
             "ticks": ""
            },
            "type": "contourcarpet"
           }
          ],
          "heatmap": [
           {
            "colorbar": {
             "outlinewidth": 0,
             "ticks": ""
            },
            "colorscale": [
             [
              0,
              "#0d0887"
             ],
             [
              0.1111111111111111,
              "#46039f"
             ],
             [
              0.2222222222222222,
              "#7201a8"
             ],
             [
              0.3333333333333333,
              "#9c179e"
             ],
             [
              0.4444444444444444,
              "#bd3786"
             ],
             [
              0.5555555555555556,
              "#d8576b"
             ],
             [
              0.6666666666666666,
              "#ed7953"
             ],
             [
              0.7777777777777778,
              "#fb9f3a"
             ],
             [
              0.8888888888888888,
              "#fdca26"
             ],
             [
              1,
              "#f0f921"
             ]
            ],
            "type": "heatmap"
           }
          ],
          "histogram": [
           {
            "marker": {
             "pattern": {
              "fillmode": "overlay",
              "size": 10,
              "solidity": 0.2
             }
            },
            "type": "histogram"
           }
          ],
          "histogram2d": [
           {
            "colorbar": {
             "outlinewidth": 0,
             "ticks": ""
            },
            "colorscale": [
             [
              0,
              "#0d0887"
             ],
             [
              0.1111111111111111,
              "#46039f"
             ],
             [
              0.2222222222222222,
              "#7201a8"
             ],
             [
              0.3333333333333333,
              "#9c179e"
             ],
             [
              0.4444444444444444,
              "#bd3786"
             ],
             [
              0.5555555555555556,
              "#d8576b"
             ],
             [
              0.6666666666666666,
              "#ed7953"
             ],
             [
              0.7777777777777778,
              "#fb9f3a"
             ],
             [
              0.8888888888888888,
              "#fdca26"
             ],
             [
              1,
              "#f0f921"
             ]
            ],
            "type": "histogram2d"
           }
          ],
          "histogram2dcontour": [
           {
            "colorbar": {
             "outlinewidth": 0,
             "ticks": ""
            },
            "colorscale": [
             [
              0,
              "#0d0887"
             ],
             [
              0.1111111111111111,
              "#46039f"
             ],
             [
              0.2222222222222222,
              "#7201a8"
             ],
             [
              0.3333333333333333,
              "#9c179e"
             ],
             [
              0.4444444444444444,
              "#bd3786"
             ],
             [
              0.5555555555555556,
              "#d8576b"
             ],
             [
              0.6666666666666666,
              "#ed7953"
             ],
             [
              0.7777777777777778,
              "#fb9f3a"
             ],
             [
              0.8888888888888888,
              "#fdca26"
             ],
             [
              1,
              "#f0f921"
             ]
            ],
            "type": "histogram2dcontour"
           }
          ],
          "mesh3d": [
           {
            "colorbar": {
             "outlinewidth": 0,
             "ticks": ""
            },
            "type": "mesh3d"
           }
          ],
          "parcoords": [
           {
            "line": {
             "colorbar": {
              "outlinewidth": 0,
              "ticks": ""
             }
            },
            "type": "parcoords"
           }
          ],
          "pie": [
           {
            "automargin": true,
            "type": "pie"
           }
          ],
          "scatter": [
           {
            "fillpattern": {
             "fillmode": "overlay",
             "size": 10,
             "solidity": 0.2
            },
            "type": "scatter"
           }
          ],
          "scatter3d": [
           {
            "line": {
             "colorbar": {
              "outlinewidth": 0,
              "ticks": ""
             }
            },
            "marker": {
             "colorbar": {
              "outlinewidth": 0,
              "ticks": ""
             }
            },
            "type": "scatter3d"
           }
          ],
          "scattercarpet": [
           {
            "marker": {
             "colorbar": {
              "outlinewidth": 0,
              "ticks": ""
             }
            },
            "type": "scattercarpet"
           }
          ],
          "scattergeo": [
           {
            "marker": {
             "colorbar": {
              "outlinewidth": 0,
              "ticks": ""
             }
            },
            "type": "scattergeo"
           }
          ],
          "scattergl": [
           {
            "marker": {
             "colorbar": {
              "outlinewidth": 0,
              "ticks": ""
             }
            },
            "type": "scattergl"
           }
          ],
          "scattermap": [
           {
            "marker": {
             "colorbar": {
              "outlinewidth": 0,
              "ticks": ""
             }
            },
            "type": "scattermap"
           }
          ],
          "scattermapbox": [
           {
            "marker": {
             "colorbar": {
              "outlinewidth": 0,
              "ticks": ""
             }
            },
            "type": "scattermapbox"
           }
          ],
          "scatterpolar": [
           {
            "marker": {
             "colorbar": {
              "outlinewidth": 0,
              "ticks": ""
             }
            },
            "type": "scatterpolar"
           }
          ],
          "scatterpolargl": [
           {
            "marker": {
             "colorbar": {
              "outlinewidth": 0,
              "ticks": ""
             }
            },
            "type": "scatterpolargl"
           }
          ],
          "scatterternary": [
           {
            "marker": {
             "colorbar": {
              "outlinewidth": 0,
              "ticks": ""
             }
            },
            "type": "scatterternary"
           }
          ],
          "surface": [
           {
            "colorbar": {
             "outlinewidth": 0,
             "ticks": ""
            },
            "colorscale": [
             [
              0,
              "#0d0887"
             ],
             [
              0.1111111111111111,
              "#46039f"
             ],
             [
              0.2222222222222222,
              "#7201a8"
             ],
             [
              0.3333333333333333,
              "#9c179e"
             ],
             [
              0.4444444444444444,
              "#bd3786"
             ],
             [
              0.5555555555555556,
              "#d8576b"
             ],
             [
              0.6666666666666666,
              "#ed7953"
             ],
             [
              0.7777777777777778,
              "#fb9f3a"
             ],
             [
              0.8888888888888888,
              "#fdca26"
             ],
             [
              1,
              "#f0f921"
             ]
            ],
            "type": "surface"
           }
          ],
          "table": [
           {
            "cells": {
             "fill": {
              "color": "#EBF0F8"
             },
             "line": {
              "color": "white"
             }
            },
            "header": {
             "fill": {
              "color": "#C8D4E3"
             },
             "line": {
              "color": "white"
             }
            },
            "type": "table"
           }
          ]
         },
         "layout": {
          "annotationdefaults": {
           "arrowcolor": "#2a3f5f",
           "arrowhead": 0,
           "arrowwidth": 1
          },
          "autotypenumbers": "strict",
          "coloraxis": {
           "colorbar": {
            "outlinewidth": 0,
            "ticks": ""
           }
          },
          "colorscale": {
           "diverging": [
            [
             0,
             "#8e0152"
            ],
            [
             0.1,
             "#c51b7d"
            ],
            [
             0.2,
             "#de77ae"
            ],
            [
             0.3,
             "#f1b6da"
            ],
            [
             0.4,
             "#fde0ef"
            ],
            [
             0.5,
             "#f7f7f7"
            ],
            [
             0.6,
             "#e6f5d0"
            ],
            [
             0.7,
             "#b8e186"
            ],
            [
             0.8,
             "#7fbc41"
            ],
            [
             0.9,
             "#4d9221"
            ],
            [
             1,
             "#276419"
            ]
           ],
           "sequential": [
            [
             0,
             "#0d0887"
            ],
            [
             0.1111111111111111,
             "#46039f"
            ],
            [
             0.2222222222222222,
             "#7201a8"
            ],
            [
             0.3333333333333333,
             "#9c179e"
            ],
            [
             0.4444444444444444,
             "#bd3786"
            ],
            [
             0.5555555555555556,
             "#d8576b"
            ],
            [
             0.6666666666666666,
             "#ed7953"
            ],
            [
             0.7777777777777778,
             "#fb9f3a"
            ],
            [
             0.8888888888888888,
             "#fdca26"
            ],
            [
             1,
             "#f0f921"
            ]
           ],
           "sequentialminus": [
            [
             0,
             "#0d0887"
            ],
            [
             0.1111111111111111,
             "#46039f"
            ],
            [
             0.2222222222222222,
             "#7201a8"
            ],
            [
             0.3333333333333333,
             "#9c179e"
            ],
            [
             0.4444444444444444,
             "#bd3786"
            ],
            [
             0.5555555555555556,
             "#d8576b"
            ],
            [
             0.6666666666666666,
             "#ed7953"
            ],
            [
             0.7777777777777778,
             "#fb9f3a"
            ],
            [
             0.8888888888888888,
             "#fdca26"
            ],
            [
             1,
             "#f0f921"
            ]
           ]
          },
          "colorway": [
           "#636efa",
           "#EF553B",
           "#00cc96",
           "#ab63fa",
           "#FFA15A",
           "#19d3f3",
           "#FF6692",
           "#B6E880",
           "#FF97FF",
           "#FECB52"
          ],
          "font": {
           "color": "#2a3f5f"
          },
          "geo": {
           "bgcolor": "white",
           "lakecolor": "white",
           "landcolor": "#E5ECF6",
           "showlakes": true,
           "showland": true,
           "subunitcolor": "white"
          },
          "hoverlabel": {
           "align": "left"
          },
          "hovermode": "closest",
          "mapbox": {
           "style": "light"
          },
          "paper_bgcolor": "white",
          "plot_bgcolor": "#E5ECF6",
          "polar": {
           "angularaxis": {
            "gridcolor": "white",
            "linecolor": "white",
            "ticks": ""
           },
           "bgcolor": "#E5ECF6",
           "radialaxis": {
            "gridcolor": "white",
            "linecolor": "white",
            "ticks": ""
           }
          },
          "scene": {
           "xaxis": {
            "backgroundcolor": "#E5ECF6",
            "gridcolor": "white",
            "gridwidth": 2,
            "linecolor": "white",
            "showbackground": true,
            "ticks": "",
            "zerolinecolor": "white"
           },
           "yaxis": {
            "backgroundcolor": "#E5ECF6",
            "gridcolor": "white",
            "gridwidth": 2,
            "linecolor": "white",
            "showbackground": true,
            "ticks": "",
            "zerolinecolor": "white"
           },
           "zaxis": {
            "backgroundcolor": "#E5ECF6",
            "gridcolor": "white",
            "gridwidth": 2,
            "linecolor": "white",
            "showbackground": true,
            "ticks": "",
            "zerolinecolor": "white"
           }
          },
          "shapedefaults": {
           "line": {
            "color": "#2a3f5f"
           }
          },
          "ternary": {
           "aaxis": {
            "gridcolor": "white",
            "linecolor": "white",
            "ticks": ""
           },
           "baxis": {
            "gridcolor": "white",
            "linecolor": "white",
            "ticks": ""
           },
           "bgcolor": "#E5ECF6",
           "caxis": {
            "gridcolor": "white",
            "linecolor": "white",
            "ticks": ""
           }
          },
          "title": {
           "x": 0.05
          },
          "xaxis": {
           "automargin": true,
           "gridcolor": "white",
           "linecolor": "white",
           "ticks": "",
           "title": {
            "standoff": 15
           },
           "zerolinecolor": "white",
           "zerolinewidth": 2
          },
          "yaxis": {
           "automargin": true,
           "gridcolor": "white",
           "linecolor": "white",
           "ticks": "",
           "title": {
            "standoff": 15
           },
           "zerolinecolor": "white",
           "zerolinewidth": 2
          }
         }
        },
        "title": {
         "text": "Frequency of Overs with Multiple Wickets"
        },
        "xaxis": {
         "anchor": "y",
         "domain": [
          0,
          1
         ],
         "title": {
          "text": "wickets_in_over"
         }
        },
        "yaxis": {
         "anchor": "x",
         "domain": [
          0,
          1
         ],
         "title": {
          "text": "count"
         }
        }
       }
      }
     },
     "metadata": {},
     "output_type": "display_data"
    }
   ],
   "source": [
    "\n",
    "wicket_overs = (\n",
    "    test_df[test_df['wicket_type'] != 'No Wicket']\n",
    "    .groupby(['venue', 'over'])['player_out']\n",
    "    .count()\n",
    "    .reset_index(name='wickets_in_over')\n",
    "    .query('wickets_in_over >= 2')\n",
    ")\n",
    "\n",
    "fig5 = px.histogram(\n",
    "    wicket_overs,\n",
    "    x='wickets_in_over',\n",
    "    nbins=5,\n",
    "    title='Frequency of Overs with Multiple Wickets'\n",
    ")\n",
    "fig5.show()"
   ]
  },
  {
   "cell_type": "code",
   "execution_count": 109,
   "metadata": {},
   "outputs": [
    {
     "data": {
      "application/vnd.plotly.v1+json": {
       "config": {
        "plotlyServerURL": "https://plot.ly"
       },
       "data": [
        {
         "hovertemplate": "<b>%{hovertext}</b><br><br>batter=JE Root<br>runs_batter=%{x}<br>balls_faced=%{marker.size}<extra></extra>",
         "hovertext": [
          "JE Root"
         ],
         "legendgroup": "JE Root",
         "marker": {
          "color": "#636efa",
          "size": {
           "bdata": "UVg=",
           "dtype": "i2"
          },
          "sizemode": "area",
          "sizeref": 66.545,
          "symbol": "circle"
         },
         "mode": "markers",
         "name": "JE Root",
         "orientation": "v",
         "showlegend": true,
         "type": "scatter",
         "x": {
          "bdata": "rDI=",
          "dtype": "i2"
         },
         "xaxis": "x",
         "y": {
          "bdata": "UVg=",
          "dtype": "i2"
         },
         "yaxis": "y"
        },
        {
         "hovertemplate": "<b>%{hovertext}</b><br><br>batter=AN Cook<br>runs_batter=%{x}<br>balls_faced=%{marker.size}<extra></extra>",
         "hovertext": [
          "AN Cook"
         ],
         "legendgroup": "AN Cook",
         "marker": {
          "color": "#EF553B",
          "size": {
           "bdata": "+mc=",
           "dtype": "i2"
          },
          "sizemode": "area",
          "sizeref": 66.545,
          "symbol": "circle"
         },
         "mode": "markers",
         "name": "AN Cook",
         "orientation": "v",
         "showlegend": true,
         "type": "scatter",
         "x": {
          "bdata": "uDA=",
          "dtype": "i2"
         },
         "xaxis": "x",
         "y": {
          "bdata": "+mc=",
          "dtype": "i2"
         },
         "yaxis": "y"
        },
        {
         "hovertemplate": "<b>%{hovertext}</b><br><br>batter=SPD Smith<br>runs_batter=%{x}<br>balls_faced=%{marker.size}<extra></extra>",
         "hovertext": [
          "SPD Smith"
         ],
         "legendgroup": "SPD Smith",
         "marker": {
          "color": "#00cc96",
          "size": {
           "bdata": "JUs=",
           "dtype": "i2"
          },
          "sizemode": "area",
          "sizeref": 66.545,
          "symbol": "circle"
         },
         "mode": "markers",
         "name": "SPD Smith",
         "orientation": "v",
         "showlegend": true,
         "type": "scatter",
         "x": {
          "bdata": "Hyg=",
          "dtype": "i2"
         },
         "xaxis": "x",
         "y": {
          "bdata": "JUs=",
          "dtype": "i2"
         },
         "yaxis": "y"
        },
        {
         "hovertemplate": "<b>%{hovertext}</b><br><br>batter=KS Williamson<br>runs_batter=%{x}<br>balls_faced=%{marker.size}<extra></extra>",
         "hovertext": [
          "KS Williamson"
         ],
         "legendgroup": "KS Williamson",
         "marker": {
          "color": "#ab63fa",
          "size": {
           "bdata": "G0Y=",
           "dtype": "i2"
          },
          "sizemode": "area",
          "sizeref": 66.545,
          "symbol": "circle"
         },
         "mode": "markers",
         "name": "KS Williamson",
         "orientation": "v",
         "showlegend": true,
         "type": "scatter",
         "x": {
          "bdata": "PCQ=",
          "dtype": "i2"
         },
         "xaxis": "x",
         "y": {
          "bdata": "G0Y=",
          "dtype": "i2"
         },
         "yaxis": "y"
        },
        {
         "hovertemplate": "<b>%{hovertext}</b><br><br>batter=V Kohli<br>runs_batter=%{x}<br>balls_faced=%{marker.size}<extra></extra>",
         "hovertext": [
          "V Kohli"
         ],
         "legendgroup": "V Kohli",
         "marker": {
          "color": "#FFA15A",
          "size": {
           "bdata": "D0E=",
           "dtype": "i2"
          },
          "sizemode": "area",
          "sizeref": 66.545,
          "symbol": "circle"
         },
         "mode": "markers",
         "name": "V Kohli",
         "orientation": "v",
         "showlegend": true,
         "type": "scatter",
         "x": {
          "bdata": "DiQ=",
          "dtype": "i2"
         },
         "xaxis": "x",
         "y": {
          "bdata": "D0E=",
          "dtype": "i2"
         },
         "yaxis": "y"
        },
        {
         "hovertemplate": "<b>%{hovertext}</b><br><br>batter=HM Amla<br>runs_batter=%{x}<br>balls_faced=%{marker.size}<extra></extra>",
         "hovertext": [
          "HM Amla"
         ],
         "legendgroup": "HM Amla",
         "marker": {
          "color": "#19d3f3",
          "size": {
           "bdata": "Ykc=",
           "dtype": "i2"
          },
          "sizemode": "area",
          "sizeref": 66.545,
          "symbol": "circle"
         },
         "mode": "markers",
         "name": "HM Amla",
         "orientation": "v",
         "showlegend": true,
         "type": "scatter",
         "x": {
          "bdata": "uiM=",
          "dtype": "i2"
         },
         "xaxis": "x",
         "y": {
          "bdata": "Ykc=",
          "dtype": "i2"
         },
         "yaxis": "y"
        },
        {
         "hovertemplate": "<b>%{hovertext}</b><br><br>batter=DA Warner<br>runs_batter=%{x}<br>balls_faced=%{marker.size}<extra></extra>",
         "hovertext": [
          "DA Warner"
         ],
         "legendgroup": "DA Warner",
         "marker": {
          "color": "#FF6692",
          "size": {
           "bdata": "ADE=",
           "dtype": "i2"
          },
          "sizemode": "area",
          "sizeref": 66.545,
          "symbol": "circle"
         },
         "mode": "markers",
         "name": "DA Warner",
         "orientation": "v",
         "showlegend": true,
         "type": "scatter",
         "x": {
          "bdata": "UiI=",
          "dtype": "i2"
         },
         "xaxis": "x",
         "y": {
          "bdata": "ADE=",
          "dtype": "i2"
         },
         "yaxis": "y"
        },
        {
         "hovertemplate": "<b>%{hovertext}</b><br><br>batter=KC Sangakkara<br>runs_batter=%{x}<br>balls_faced=%{marker.size}<extra></extra>",
         "hovertext": [
          "KC Sangakkara"
         ],
         "legendgroup": "KC Sangakkara",
         "marker": {
          "color": "#B6E880",
          "size": {
           "bdata": "Mj0=",
           "dtype": "i2"
          },
          "sizemode": "area",
          "sizeref": 66.545,
          "symbol": "circle"
         },
         "mode": "markers",
         "name": "KC Sangakkara",
         "orientation": "v",
         "showlegend": true,
         "type": "scatter",
         "x": {
          "bdata": "KSE=",
          "dtype": "i2"
         },
         "xaxis": "x",
         "y": {
          "bdata": "Mj0=",
          "dtype": "i2"
         },
         "yaxis": "y"
        },
        {
         "hovertemplate": "<b>%{hovertext}</b><br><br>batter=AB de Villiers<br>runs_batter=%{x}<br>balls_faced=%{marker.size}<extra></extra>",
         "hovertext": [
          "AB de Villiers"
         ],
         "legendgroup": "AB de Villiers",
         "marker": {
          "color": "#FF97FF",
          "size": {
           "bdata": "ezo=",
           "dtype": "i2"
          },
          "sizemode": "area",
          "sizeref": 66.545,
          "symbol": "circle"
         },
         "mode": "markers",
         "name": "AB de Villiers",
         "orientation": "v",
         "showlegend": true,
         "type": "scatter",
         "x": {
          "bdata": "9h8=",
          "dtype": "i2"
         },
         "xaxis": "x",
         "y": {
          "bdata": "ezo=",
          "dtype": "i2"
         },
         "yaxis": "y"
        },
        {
         "hovertemplate": "<b>%{hovertext}</b><br><br>batter=AD Mathews<br>runs_batter=%{x}<br>balls_faced=%{marker.size}<extra></extra>",
         "hovertext": [
          "AD Mathews"
         ],
         "legendgroup": "AD Mathews",
         "marker": {
          "color": "#FECB52",
          "size": {
           "bdata": "9UA=",
           "dtype": "i2"
          },
          "sizemode": "area",
          "sizeref": 66.545,
          "symbol": "circle"
         },
         "mode": "markers",
         "name": "AD Mathews",
         "orientation": "v",
         "showlegend": true,
         "type": "scatter",
         "x": {
          "bdata": "Wh8=",
          "dtype": "i2"
         },
         "xaxis": "x",
         "y": {
          "bdata": "9UA=",
          "dtype": "i2"
         },
         "yaxis": "y"
        }
       ],
       "layout": {
        "legend": {
         "itemsizing": "constant",
         "title": {
          "text": "batter"
         },
         "tracegroupgap": 0
        },
        "template": {
         "data": {
          "bar": [
           {
            "error_x": {
             "color": "#2a3f5f"
            },
            "error_y": {
             "color": "#2a3f5f"
            },
            "marker": {
             "line": {
              "color": "#E5ECF6",
              "width": 0.5
             },
             "pattern": {
              "fillmode": "overlay",
              "size": 10,
              "solidity": 0.2
             }
            },
            "type": "bar"
           }
          ],
          "barpolar": [
           {
            "marker": {
             "line": {
              "color": "#E5ECF6",
              "width": 0.5
             },
             "pattern": {
              "fillmode": "overlay",
              "size": 10,
              "solidity": 0.2
             }
            },
            "type": "barpolar"
           }
          ],
          "carpet": [
           {
            "aaxis": {
             "endlinecolor": "#2a3f5f",
             "gridcolor": "white",
             "linecolor": "white",
             "minorgridcolor": "white",
             "startlinecolor": "#2a3f5f"
            },
            "baxis": {
             "endlinecolor": "#2a3f5f",
             "gridcolor": "white",
             "linecolor": "white",
             "minorgridcolor": "white",
             "startlinecolor": "#2a3f5f"
            },
            "type": "carpet"
           }
          ],
          "choropleth": [
           {
            "colorbar": {
             "outlinewidth": 0,
             "ticks": ""
            },
            "type": "choropleth"
           }
          ],
          "contour": [
           {
            "colorbar": {
             "outlinewidth": 0,
             "ticks": ""
            },
            "colorscale": [
             [
              0,
              "#0d0887"
             ],
             [
              0.1111111111111111,
              "#46039f"
             ],
             [
              0.2222222222222222,
              "#7201a8"
             ],
             [
              0.3333333333333333,
              "#9c179e"
             ],
             [
              0.4444444444444444,
              "#bd3786"
             ],
             [
              0.5555555555555556,
              "#d8576b"
             ],
             [
              0.6666666666666666,
              "#ed7953"
             ],
             [
              0.7777777777777778,
              "#fb9f3a"
             ],
             [
              0.8888888888888888,
              "#fdca26"
             ],
             [
              1,
              "#f0f921"
             ]
            ],
            "type": "contour"
           }
          ],
          "contourcarpet": [
           {
            "colorbar": {
             "outlinewidth": 0,
             "ticks": ""
            },
            "type": "contourcarpet"
           }
          ],
          "heatmap": [
           {
            "colorbar": {
             "outlinewidth": 0,
             "ticks": ""
            },
            "colorscale": [
             [
              0,
              "#0d0887"
             ],
             [
              0.1111111111111111,
              "#46039f"
             ],
             [
              0.2222222222222222,
              "#7201a8"
             ],
             [
              0.3333333333333333,
              "#9c179e"
             ],
             [
              0.4444444444444444,
              "#bd3786"
             ],
             [
              0.5555555555555556,
              "#d8576b"
             ],
             [
              0.6666666666666666,
              "#ed7953"
             ],
             [
              0.7777777777777778,
              "#fb9f3a"
             ],
             [
              0.8888888888888888,
              "#fdca26"
             ],
             [
              1,
              "#f0f921"
             ]
            ],
            "type": "heatmap"
           }
          ],
          "histogram": [
           {
            "marker": {
             "pattern": {
              "fillmode": "overlay",
              "size": 10,
              "solidity": 0.2
             }
            },
            "type": "histogram"
           }
          ],
          "histogram2d": [
           {
            "colorbar": {
             "outlinewidth": 0,
             "ticks": ""
            },
            "colorscale": [
             [
              0,
              "#0d0887"
             ],
             [
              0.1111111111111111,
              "#46039f"
             ],
             [
              0.2222222222222222,
              "#7201a8"
             ],
             [
              0.3333333333333333,
              "#9c179e"
             ],
             [
              0.4444444444444444,
              "#bd3786"
             ],
             [
              0.5555555555555556,
              "#d8576b"
             ],
             [
              0.6666666666666666,
              "#ed7953"
             ],
             [
              0.7777777777777778,
              "#fb9f3a"
             ],
             [
              0.8888888888888888,
              "#fdca26"
             ],
             [
              1,
              "#f0f921"
             ]
            ],
            "type": "histogram2d"
           }
          ],
          "histogram2dcontour": [
           {
            "colorbar": {
             "outlinewidth": 0,
             "ticks": ""
            },
            "colorscale": [
             [
              0,
              "#0d0887"
             ],
             [
              0.1111111111111111,
              "#46039f"
             ],
             [
              0.2222222222222222,
              "#7201a8"
             ],
             [
              0.3333333333333333,
              "#9c179e"
             ],
             [
              0.4444444444444444,
              "#bd3786"
             ],
             [
              0.5555555555555556,
              "#d8576b"
             ],
             [
              0.6666666666666666,
              "#ed7953"
             ],
             [
              0.7777777777777778,
              "#fb9f3a"
             ],
             [
              0.8888888888888888,
              "#fdca26"
             ],
             [
              1,
              "#f0f921"
             ]
            ],
            "type": "histogram2dcontour"
           }
          ],
          "mesh3d": [
           {
            "colorbar": {
             "outlinewidth": 0,
             "ticks": ""
            },
            "type": "mesh3d"
           }
          ],
          "parcoords": [
           {
            "line": {
             "colorbar": {
              "outlinewidth": 0,
              "ticks": ""
             }
            },
            "type": "parcoords"
           }
          ],
          "pie": [
           {
            "automargin": true,
            "type": "pie"
           }
          ],
          "scatter": [
           {
            "fillpattern": {
             "fillmode": "overlay",
             "size": 10,
             "solidity": 0.2
            },
            "type": "scatter"
           }
          ],
          "scatter3d": [
           {
            "line": {
             "colorbar": {
              "outlinewidth": 0,
              "ticks": ""
             }
            },
            "marker": {
             "colorbar": {
              "outlinewidth": 0,
              "ticks": ""
             }
            },
            "type": "scatter3d"
           }
          ],
          "scattercarpet": [
           {
            "marker": {
             "colorbar": {
              "outlinewidth": 0,
              "ticks": ""
             }
            },
            "type": "scattercarpet"
           }
          ],
          "scattergeo": [
           {
            "marker": {
             "colorbar": {
              "outlinewidth": 0,
              "ticks": ""
             }
            },
            "type": "scattergeo"
           }
          ],
          "scattergl": [
           {
            "marker": {
             "colorbar": {
              "outlinewidth": 0,
              "ticks": ""
             }
            },
            "type": "scattergl"
           }
          ],
          "scattermap": [
           {
            "marker": {
             "colorbar": {
              "outlinewidth": 0,
              "ticks": ""
             }
            },
            "type": "scattermap"
           }
          ],
          "scattermapbox": [
           {
            "marker": {
             "colorbar": {
              "outlinewidth": 0,
              "ticks": ""
             }
            },
            "type": "scattermapbox"
           }
          ],
          "scatterpolar": [
           {
            "marker": {
             "colorbar": {
              "outlinewidth": 0,
              "ticks": ""
             }
            },
            "type": "scatterpolar"
           }
          ],
          "scatterpolargl": [
           {
            "marker": {
             "colorbar": {
              "outlinewidth": 0,
              "ticks": ""
             }
            },
            "type": "scatterpolargl"
           }
          ],
          "scatterternary": [
           {
            "marker": {
             "colorbar": {
              "outlinewidth": 0,
              "ticks": ""
             }
            },
            "type": "scatterternary"
           }
          ],
          "surface": [
           {
            "colorbar": {
             "outlinewidth": 0,
             "ticks": ""
            },
            "colorscale": [
             [
              0,
              "#0d0887"
             ],
             [
              0.1111111111111111,
              "#46039f"
             ],
             [
              0.2222222222222222,
              "#7201a8"
             ],
             [
              0.3333333333333333,
              "#9c179e"
             ],
             [
              0.4444444444444444,
              "#bd3786"
             ],
             [
              0.5555555555555556,
              "#d8576b"
             ],
             [
              0.6666666666666666,
              "#ed7953"
             ],
             [
              0.7777777777777778,
              "#fb9f3a"
             ],
             [
              0.8888888888888888,
              "#fdca26"
             ],
             [
              1,
              "#f0f921"
             ]
            ],
            "type": "surface"
           }
          ],
          "table": [
           {
            "cells": {
             "fill": {
              "color": "#EBF0F8"
             },
             "line": {
              "color": "white"
             }
            },
            "header": {
             "fill": {
              "color": "#C8D4E3"
             },
             "line": {
              "color": "white"
             }
            },
            "type": "table"
           }
          ]
         },
         "layout": {
          "annotationdefaults": {
           "arrowcolor": "#2a3f5f",
           "arrowhead": 0,
           "arrowwidth": 1
          },
          "autotypenumbers": "strict",
          "coloraxis": {
           "colorbar": {
            "outlinewidth": 0,
            "ticks": ""
           }
          },
          "colorscale": {
           "diverging": [
            [
             0,
             "#8e0152"
            ],
            [
             0.1,
             "#c51b7d"
            ],
            [
             0.2,
             "#de77ae"
            ],
            [
             0.3,
             "#f1b6da"
            ],
            [
             0.4,
             "#fde0ef"
            ],
            [
             0.5,
             "#f7f7f7"
            ],
            [
             0.6,
             "#e6f5d0"
            ],
            [
             0.7,
             "#b8e186"
            ],
            [
             0.8,
             "#7fbc41"
            ],
            [
             0.9,
             "#4d9221"
            ],
            [
             1,
             "#276419"
            ]
           ],
           "sequential": [
            [
             0,
             "#0d0887"
            ],
            [
             0.1111111111111111,
             "#46039f"
            ],
            [
             0.2222222222222222,
             "#7201a8"
            ],
            [
             0.3333333333333333,
             "#9c179e"
            ],
            [
             0.4444444444444444,
             "#bd3786"
            ],
            [
             0.5555555555555556,
             "#d8576b"
            ],
            [
             0.6666666666666666,
             "#ed7953"
            ],
            [
             0.7777777777777778,
             "#fb9f3a"
            ],
            [
             0.8888888888888888,
             "#fdca26"
            ],
            [
             1,
             "#f0f921"
            ]
           ],
           "sequentialminus": [
            [
             0,
             "#0d0887"
            ],
            [
             0.1111111111111111,
             "#46039f"
            ],
            [
             0.2222222222222222,
             "#7201a8"
            ],
            [
             0.3333333333333333,
             "#9c179e"
            ],
            [
             0.4444444444444444,
             "#bd3786"
            ],
            [
             0.5555555555555556,
             "#d8576b"
            ],
            [
             0.6666666666666666,
             "#ed7953"
            ],
            [
             0.7777777777777778,
             "#fb9f3a"
            ],
            [
             0.8888888888888888,
             "#fdca26"
            ],
            [
             1,
             "#f0f921"
            ]
           ]
          },
          "colorway": [
           "#636efa",
           "#EF553B",
           "#00cc96",
           "#ab63fa",
           "#FFA15A",
           "#19d3f3",
           "#FF6692",
           "#B6E880",
           "#FF97FF",
           "#FECB52"
          ],
          "font": {
           "color": "#2a3f5f"
          },
          "geo": {
           "bgcolor": "white",
           "lakecolor": "white",
           "landcolor": "#E5ECF6",
           "showlakes": true,
           "showland": true,
           "subunitcolor": "white"
          },
          "hoverlabel": {
           "align": "left"
          },
          "hovermode": "closest",
          "mapbox": {
           "style": "light"
          },
          "paper_bgcolor": "white",
          "plot_bgcolor": "#E5ECF6",
          "polar": {
           "angularaxis": {
            "gridcolor": "white",
            "linecolor": "white",
            "ticks": ""
           },
           "bgcolor": "#E5ECF6",
           "radialaxis": {
            "gridcolor": "white",
            "linecolor": "white",
            "ticks": ""
           }
          },
          "scene": {
           "xaxis": {
            "backgroundcolor": "#E5ECF6",
            "gridcolor": "white",
            "gridwidth": 2,
            "linecolor": "white",
            "showbackground": true,
            "ticks": "",
            "zerolinecolor": "white"
           },
           "yaxis": {
            "backgroundcolor": "#E5ECF6",
            "gridcolor": "white",
            "gridwidth": 2,
            "linecolor": "white",
            "showbackground": true,
            "ticks": "",
            "zerolinecolor": "white"
           },
           "zaxis": {
            "backgroundcolor": "#E5ECF6",
            "gridcolor": "white",
            "gridwidth": 2,
            "linecolor": "white",
            "showbackground": true,
            "ticks": "",
            "zerolinecolor": "white"
           }
          },
          "shapedefaults": {
           "line": {
            "color": "#2a3f5f"
           }
          },
          "ternary": {
           "aaxis": {
            "gridcolor": "white",
            "linecolor": "white",
            "ticks": ""
           },
           "baxis": {
            "gridcolor": "white",
            "linecolor": "white",
            "ticks": ""
           },
           "bgcolor": "#E5ECF6",
           "caxis": {
            "gridcolor": "white",
            "linecolor": "white",
            "ticks": ""
           }
          },
          "title": {
           "x": 0.05
          },
          "xaxis": {
           "automargin": true,
           "gridcolor": "white",
           "linecolor": "white",
           "ticks": "",
           "title": {
            "standoff": 15
           },
           "zerolinecolor": "white",
           "zerolinewidth": 2
          },
          "yaxis": {
           "automargin": true,
           "gridcolor": "white",
           "linecolor": "white",
           "ticks": "",
           "title": {
            "standoff": 15
           },
           "zerolinecolor": "white",
           "zerolinewidth": 2
          }
         }
        },
        "title": {
         "text": "Top Test Batters by Runs and Balls Faced"
        },
        "xaxis": {
         "anchor": "y",
         "domain": [
          0,
          1
         ],
         "title": {
          "text": "runs_batter"
         }
        },
        "yaxis": {
         "anchor": "x",
         "domain": [
          0,
          1
         ],
         "title": {
          "text": "balls_faced"
         }
        }
       }
      }
     },
     "metadata": {},
     "output_type": "display_data"
    }
   ],
   "source": [
    "## who is the batter who has faced most overs and scored most runs in test matches\n",
    "batter_stats = (\n",
    "    test_df.groupby('batter')\n",
    "    .agg({'runs_batter': 'sum', 'batter': 'count'})\n",
    "    .rename(columns={'batter': 'balls_faced'})\n",
    "    .reset_index()\n",
    "    .sort_values(by=['runs_batter', 'balls_faced'], ascending=False)\n",
    "    .head(10)\n",
    ")\n",
    "fig6 = px.scatter(\n",
    "    batter_stats,\n",
    "    x='runs_batter',\n",
    "    y='balls_faced',\n",
    "    size='balls_faced',\n",
    "    color='batter',\n",
    "    hover_name='batter',\n",
    "    title='Top Test Batters by Runs and Balls Faced'\n",
    ")\n",
    "fig6.show()\n"
   ]
  },
  {
   "cell_type": "code",
   "execution_count": null,
   "metadata": {},
   "outputs": [],
   "source": []
  },
  {
   "cell_type": "code",
   "execution_count": null,
   "metadata": {},
   "outputs": [],
   "source": []
  },
  {
   "cell_type": "code",
   "execution_count": null,
   "metadata": {},
   "outputs": [],
   "source": []
  },
  {
   "cell_type": "code",
   "execution_count": null,
   "metadata": {},
   "outputs": [],
   "source": []
  },
  {
   "cell_type": "code",
   "execution_count": null,
   "metadata": {},
   "outputs": [],
   "source": []
  },
  {
   "cell_type": "code",
   "execution_count": null,
   "metadata": {},
   "outputs": [],
   "source": []
  },
  {
   "cell_type": "code",
   "execution_count": null,
   "metadata": {},
   "outputs": [],
   "source": []
  },
  {
   "cell_type": "code",
   "execution_count": null,
   "metadata": {},
   "outputs": [],
   "source": []
  },
  {
   "cell_type": "code",
   "execution_count": null,
   "metadata": {},
   "outputs": [],
   "source": []
  }
 ],
 "metadata": {
  "kernelspec": {
   "display_name": "Python 3",
   "language": "python",
   "name": "python3"
  },
  "language_info": {
   "codemirror_mode": {
    "name": "ipython",
    "version": 3
   },
   "file_extension": ".py",
   "mimetype": "text/x-python",
   "name": "python",
   "nbconvert_exporter": "python",
   "pygments_lexer": "ipython3",
   "version": "3.9.6"
  }
 },
 "nbformat": 4,
 "nbformat_minor": 2
}
